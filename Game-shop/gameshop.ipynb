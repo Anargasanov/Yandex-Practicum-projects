{
 "cells": [
  {
   "cell_type": "markdown",
   "metadata": {},
   "source": [
    "# Анализ данных интернет-магазина видеоигр"
   ]
  },
  {
   "cell_type": "markdown",
   "metadata": {},
   "source": [
    "Из открытых источников получены исторические данные о продажах игр, оценки пользователей и экспертов, жанры и платформы (например, Xbox или PlayStation). Цель исследования - выявить определяющие успешность игры закономерности, что позволит сделать ставку на потенциально популярный продукт и спланировать рекламные кампании.\n",
    "\n",
    "*В наборе данных попадается аббревиатура ESRB (Entertainment Software Rating Board) — это ассоциация, определяющая возрастной рейтинг компьютерных игр. ESRB оценивает игровой контент и присваивает ему подходящую возрастную категорию, например, «Для взрослых», «Для детей младшего возраста» или «Для подростков».*"
   ]
  },
  {
   "cell_type": "markdown",
   "metadata": {},
   "source": [
    "Путь к исходному датасету: /datasets/games.csv/"
   ]
  },
  {
   "cell_type": "markdown",
   "metadata": {},
   "source": [
    "Описание данных\n",
    "* Name — название игры\n",
    "* Platform — платформа\n",
    "* Year_of_Release — год выпуска\n",
    "* Genre — жанр игры\n",
    "* NA_sales — продажи в Северной Америке (миллионы проданных копий)\n",
    "* EU_sales — продажи в Европе (миллионы проданных копий)\n",
    "* JP_sales — продажи в Японии (миллионы проданных копий)\n",
    "* Other_sales — продажи в других странах (миллионы проданных копий)\n",
    "* Critic_Score — оценка критиков (максимум 100)\n",
    "* User_Score — оценка пользователей (максимум 10)\n",
    "* Rating — рейтинг от организации ESRB (англ. Entertainment Software Rating Board). Эта ассоциация определяет рейтинг компьютерных игр и присваивает им подходящую возрастную категорию."
   ]
  },
  {
   "cell_type": "code",
   "execution_count": 1,
   "metadata": {},
   "outputs": [],
   "source": [
    "# импорт библиотек для работы\n",
    "import pandas as pd\n",
    "import numpy as np\n",
    "\n",
    "# построение графиков\n",
    "import matplotlib.pyplot as plt\n",
    "import seaborn as sns\n",
    "\n",
    "# статистика\n",
    "from scipy import stats as st"
   ]
  },
  {
   "cell_type": "markdown",
   "metadata": {},
   "source": [
    "## Общая информация о датасете"
   ]
  },
  {
   "cell_type": "code",
   "execution_count": 2,
   "metadata": {},
   "outputs": [
    {
     "data": {
      "text/html": [
       "<div>\n",
       "<style scoped>\n",
       "    .dataframe tbody tr th:only-of-type {\n",
       "        vertical-align: middle;\n",
       "    }\n",
       "\n",
       "    .dataframe tbody tr th {\n",
       "        vertical-align: top;\n",
       "    }\n",
       "\n",
       "    .dataframe thead th {\n",
       "        text-align: right;\n",
       "    }\n",
       "</style>\n",
       "<table border=\"1\" class=\"dataframe\">\n",
       "  <thead>\n",
       "    <tr style=\"text-align: right;\">\n",
       "      <th></th>\n",
       "      <th>Name</th>\n",
       "      <th>Platform</th>\n",
       "      <th>Year_of_Release</th>\n",
       "      <th>Genre</th>\n",
       "      <th>NA_sales</th>\n",
       "      <th>EU_sales</th>\n",
       "      <th>JP_sales</th>\n",
       "      <th>Other_sales</th>\n",
       "      <th>Critic_Score</th>\n",
       "      <th>User_Score</th>\n",
       "      <th>Rating</th>\n",
       "    </tr>\n",
       "  </thead>\n",
       "  <tbody>\n",
       "    <tr>\n",
       "      <td>12070</td>\n",
       "      <td>Target: Terror</td>\n",
       "      <td>Wii</td>\n",
       "      <td>2008.0</td>\n",
       "      <td>Shooter</td>\n",
       "      <td>0.06</td>\n",
       "      <td>0.00</td>\n",
       "      <td>0.00</td>\n",
       "      <td>0.01</td>\n",
       "      <td>33.0</td>\n",
       "      <td>2.7</td>\n",
       "      <td>M</td>\n",
       "    </tr>\n",
       "    <tr>\n",
       "      <td>2748</td>\n",
       "      <td>Band Hero</td>\n",
       "      <td>PS3</td>\n",
       "      <td>2009.0</td>\n",
       "      <td>Misc</td>\n",
       "      <td>0.41</td>\n",
       "      <td>0.23</td>\n",
       "      <td>0.00</td>\n",
       "      <td>0.11</td>\n",
       "      <td>76.0</td>\n",
       "      <td>5.7</td>\n",
       "      <td>E10+</td>\n",
       "    </tr>\n",
       "    <tr>\n",
       "      <td>5458</td>\n",
       "      <td>Hulk</td>\n",
       "      <td>XB</td>\n",
       "      <td>2003.0</td>\n",
       "      <td>Action</td>\n",
       "      <td>0.25</td>\n",
       "      <td>0.07</td>\n",
       "      <td>0.00</td>\n",
       "      <td>0.01</td>\n",
       "      <td>69.0</td>\n",
       "      <td>7.7</td>\n",
       "      <td>T</td>\n",
       "    </tr>\n",
       "    <tr>\n",
       "      <td>5485</td>\n",
       "      <td>Classic NES Series: Castlevania</td>\n",
       "      <td>GBA</td>\n",
       "      <td>2004.0</td>\n",
       "      <td>Platform</td>\n",
       "      <td>0.17</td>\n",
       "      <td>0.06</td>\n",
       "      <td>0.09</td>\n",
       "      <td>0.01</td>\n",
       "      <td>74.0</td>\n",
       "      <td>8.6</td>\n",
       "      <td>E</td>\n",
       "    </tr>\n",
       "    <tr>\n",
       "      <td>15954</td>\n",
       "      <td>Post Mortem</td>\n",
       "      <td>PC</td>\n",
       "      <td>2003.0</td>\n",
       "      <td>Adventure</td>\n",
       "      <td>0.00</td>\n",
       "      <td>0.01</td>\n",
       "      <td>0.00</td>\n",
       "      <td>0.00</td>\n",
       "      <td>71.0</td>\n",
       "      <td>8</td>\n",
       "      <td>M</td>\n",
       "    </tr>\n",
       "  </tbody>\n",
       "</table>\n",
       "</div>"
      ],
      "text/plain": [
       "                                  Name Platform  Year_of_Release      Genre  \\\n",
       "12070                   Target: Terror      Wii           2008.0    Shooter   \n",
       "2748                         Band Hero      PS3           2009.0       Misc   \n",
       "5458                              Hulk       XB           2003.0     Action   \n",
       "5485   Classic NES Series: Castlevania      GBA           2004.0   Platform   \n",
       "15954                      Post Mortem       PC           2003.0  Adventure   \n",
       "\n",
       "       NA_sales  EU_sales  JP_sales  Other_sales  Critic_Score User_Score  \\\n",
       "12070      0.06      0.00      0.00         0.01          33.0        2.7   \n",
       "2748       0.41      0.23      0.00         0.11          76.0        5.7   \n",
       "5458       0.25      0.07      0.00         0.01          69.0        7.7   \n",
       "5485       0.17      0.06      0.09         0.01          74.0        8.6   \n",
       "15954      0.00      0.01      0.00         0.00          71.0          8   \n",
       "\n",
       "      Rating  \n",
       "12070      M  \n",
       "2748    E10+  \n",
       "5458       T  \n",
       "5485       E  \n",
       "15954      M  "
      ]
     },
     "execution_count": 2,
     "metadata": {},
     "output_type": "execute_result"
    }
   ],
   "source": [
    "# чтение файла\n",
    "try:\n",
    "    df = pd.read_csv('/datasets/games.csv')\n",
    "except FileNotFoundError:\n",
    "    df = pd.read_csv('games.csv')\n",
    "    \n",
    "df.sample(5)"
   ]
  },
  {
   "cell_type": "markdown",
   "metadata": {},
   "source": [
    "Названия столбцов необходимо будет привести к нижнему регистру, рассмотрим типы данных в датасете и уникальные значения в категориальных переменных"
   ]
  },
  {
   "cell_type": "code",
   "execution_count": 3,
   "metadata": {},
   "outputs": [
    {
     "name": "stdout",
     "output_type": "stream",
     "text": [
      "<class 'pandas.core.frame.DataFrame'>\n",
      "RangeIndex: 16715 entries, 0 to 16714\n",
      "Data columns (total 11 columns):\n",
      "Name               16713 non-null object\n",
      "Platform           16715 non-null object\n",
      "Year_of_Release    16446 non-null float64\n",
      "Genre              16713 non-null object\n",
      "NA_sales           16715 non-null float64\n",
      "EU_sales           16715 non-null float64\n",
      "JP_sales           16715 non-null float64\n",
      "Other_sales        16715 non-null float64\n",
      "Critic_Score       8137 non-null float64\n",
      "User_Score         10014 non-null object\n",
      "Rating             9949 non-null object\n",
      "dtypes: float64(6), object(5)\n",
      "memory usage: 1.4+ MB\n"
     ]
    }
   ],
   "source": [
    "df.info()"
   ]
  },
  {
   "cell_type": "markdown",
   "metadata": {},
   "source": [
    "В датасете 16715 строк, основные пропуски в столбцах critic_score, user_score, rating. От строк с пропусками в Year_of_release, Genre, Name - избавимся, так как их общее количество слишком небольшое для того, чтобы повлиять на статистические данные и итоговые показатели."
   ]
  },
  {
   "cell_type": "markdown",
   "metadata": {},
   "source": [
    "Пользовательский рейтинг и рейтинг критиков имеют большое количество NaN значений, поэтому оставим во float формате. Пропуски могут быть связаны с отсутствием достаточного количества оценок для формирования средней, либо игра слишком устаревшая и в интернете отсутствует оцифрованная критика по старым играм.\n",
    "\n",
    "Год релиза можно перевести в формат даты, либо числовой int, так как день и месяц отсутствуют - переведем столбец к int формату.\n",
    "\n",
    "Информация о продажах представлена в миллионах копий, возможно в дальнейшем потребуется перевести данные в тысячи, но на данном этапе оставим их в миллионах копий в формате float."
   ]
  },
  {
   "cell_type": "code",
   "execution_count": 4,
   "metadata": {},
   "outputs": [
    {
     "data": {
      "text/plain": [
       "array(['Wii', 'NES', 'GB', 'DS', 'X360', 'PS3', 'PS2', 'SNES', 'GBA',\n",
       "       'PS4', '3DS', 'N64', 'PS', 'XB', 'PC', '2600', 'PSP', 'XOne',\n",
       "       'WiiU', 'GC', 'GEN', 'DC', 'PSV', 'SAT', 'SCD', 'WS', 'NG', 'TG16',\n",
       "       '3DO', 'GG', 'PCFX'], dtype=object)"
      ]
     },
     "execution_count": 4,
     "metadata": {},
     "output_type": "execute_result"
    }
   ],
   "source": [
    "# значения в столбце platform\n",
    "\n",
    "df['Platform'].unique()"
   ]
  },
  {
   "cell_type": "markdown",
   "metadata": {},
   "source": [
    "В датасете представлены данные для консолей разных поколений и типов, а также PC. Неявных дубликатов среди списка значений нет."
   ]
  },
  {
   "cell_type": "code",
   "execution_count": 5,
   "metadata": {},
   "outputs": [
    {
     "data": {
      "text/plain": [
       "array(['Sports', 'Platform', 'Racing', 'Role-Playing', 'Puzzle', 'Misc',\n",
       "       'Shooter', 'Simulation', 'Action', 'Fighting', 'Adventure',\n",
       "       'Strategy', nan], dtype=object)"
      ]
     },
     "execution_count": 5,
     "metadata": {},
     "output_type": "execute_result"
    }
   ],
   "source": [
    "# значения в столбце Genre\n",
    "\n",
    "df['Genre'].unique()"
   ]
  },
  {
   "cell_type": "markdown",
   "metadata": {},
   "source": [
    "Среди жанров также нет дубликатов: спортивные игры, платформеры, гонки, ролевые игры, пазлы, прочие (невошедшие в другие жанры), шутеры, симуляторы, экшн, файтинг, адвентуры, стратегии."
   ]
  },
  {
   "cell_type": "code",
   "execution_count": 6,
   "metadata": {},
   "outputs": [
    {
     "data": {
      "text/plain": [
       "array(['E', nan, 'M', 'T', 'E10+', 'K-A', 'AO', 'EC', 'RP'], dtype=object)"
      ]
     },
     "execution_count": 6,
     "metadata": {},
     "output_type": "execute_result"
    }
   ],
   "source": [
    "# значения в столбце Raiting\n",
    "\n",
    "df['Rating'].unique()"
   ]
  },
  {
   "cell_type": "markdown",
   "metadata": {},
   "source": [
    "Среди значений:\n",
    "- EC (Early childhood) - \"для детей младшего возраста (от 3 лет)\"\n",
    "- E (Everyone) - \"для всех (от 6 лет)\"\n",
    "- E10+ (Everyone 10 and older) - \"для всех от 10 лет и старше\"\n",
    "- T (Teen) - \"для подростков (от 13 лет)\"\n",
    "- M (Mature) - \"для взрослых (от 17 лет)\"\n",
    "- AO (Adults only) - \"только для взрослых (от 18 лет)\"\n",
    "- RP (Rating Pending) - \"рейтинг ожидается\" (ожидает присвоения рейтинга)\n",
    "\n",
    "Категория K-A (kids to adults) - ранее использовалась вместо рейтинга E (Everyone), поэтому можно будет заменить рейтинг в играх с K-A на E."
   ]
  },
  {
   "cell_type": "code",
   "execution_count": 7,
   "metadata": {},
   "outputs": [
    {
     "data": {
      "text/plain": [
       "tbd    2424\n",
       "7.8     324\n",
       "8       290\n",
       "8.2     282\n",
       "8.3     254\n",
       "       ... \n",
       "0.6       2\n",
       "1.5       2\n",
       "1.3       2\n",
       "0         1\n",
       "9.7       1\n",
       "Name: User_Score, Length: 96, dtype: int64"
      ]
     },
     "execution_count": 7,
     "metadata": {},
     "output_type": "execute_result"
    }
   ],
   "source": [
    "# значения в столбце user_score\n",
    "\n",
    "df['User_Score'].value_counts()"
   ]
  },
  {
   "cell_type": "markdown",
   "metadata": {},
   "source": [
    "Среди значений пользовательских оценок, помимо пропусков и численных значений, большое количество \"tbd\", что означает to be decided - \"будет определено\", так как у нас нет информации об оценках в указанных строках, значения tbd заменим на nan, чтобы преобразовать значения столбца к численному формату."
   ]
  },
  {
   "cell_type": "markdown",
   "metadata": {},
   "source": [
    "**Вывод**\n",
    "\n",
    "Таким образом, мы дали первичную оценку данным в датасете и определили цели предобработки, заполнять столбцы с наибольшим количеством пропусков - рейтинг критиков, рейтинг игроков, возрастной рейтинг - мы не будем, так как заполнив пропуски средними или медианными значениями мы значительно исказим результаты корреляционного анализа и статистических тестов в дальнейшем.\n",
    "\n",
    "Перейдем к предобработке данных."
   ]
  },
  {
   "cell_type": "markdown",
   "metadata": {},
   "source": [
    "## Предобработка данных"
   ]
  },
  {
   "cell_type": "markdown",
   "metadata": {},
   "source": [
    "Для получения качественных данных необходимо осуществить следующие этапы предобработки, в соответствии с полученными ранее выводами:\n",
    "- привести столбцы датасета к нижнему регистру;\n",
    "- удалить строки с пропусками в столбцах year_of_release, genre, name;\n",
    "- проверить датасет на наличие явных и неявных дубликатов и удалить дубликаты;\n",
    "- привести типы данных в столбцах к соответствующим смыслу данных типам;\n",
    "- расчитать общие продажи игр (сумма столбцов eu, na, jp, other sales)."
   ]
  },
  {
   "cell_type": "markdown",
   "metadata": {},
   "source": [
    "Для начала приведем названия столбцов к нижнему регистру:"
   ]
  },
  {
   "cell_type": "code",
   "execution_count": 8,
   "metadata": {},
   "outputs": [],
   "source": [
    "# приведение названий столбцов к нижнему регистру\n",
    "\n",
    "df.columns = [x.lower() for x in df.columns]"
   ]
  },
  {
   "cell_type": "markdown",
   "metadata": {},
   "source": [
    "Удалим строки с пропусками в столбцах year_of_release, genre, name"
   ]
  },
  {
   "cell_type": "code",
   "execution_count": 9,
   "metadata": {},
   "outputs": [
    {
     "name": "stdout",
     "output_type": "stream",
     "text": [
      "Строк всего до: 16713\n",
      "Строк всего после: 16444\n"
     ]
    }
   ],
   "source": [
    "print('Строк всего до:', df['name'].count())\n",
    "\n",
    "# удаление пропусков\n",
    "\n",
    "df = df.dropna(subset=['year_of_release', 'name', 'genre'])\n",
    "\n",
    "print('Строк всего после:', df['name'].count())"
   ]
  },
  {
   "cell_type": "markdown",
   "metadata": {},
   "source": [
    "Проверим датасет на дубликаты и удалим их в случае наличия"
   ]
  },
  {
   "cell_type": "code",
   "execution_count": 10,
   "metadata": {},
   "outputs": [
    {
     "name": "stdout",
     "output_type": "stream",
     "text": [
      "Дубликаты: 0\n"
     ]
    }
   ],
   "source": [
    "# проверка на дубликаты\n",
    "\n",
    "print('Дубликаты:', df.duplicated().sum())"
   ]
  },
  {
   "cell_type": "markdown",
   "metadata": {},
   "source": [
    "Приступим к корректировке типов данных по столбцам"
   ]
  },
  {
   "cell_type": "code",
   "execution_count": 11,
   "metadata": {},
   "outputs": [],
   "source": [
    "# изменение типа данных year_of_release\n",
    "\n",
    "df['year_of_release'] = df['year_of_release'].astype(int)"
   ]
  },
  {
   "cell_type": "markdown",
   "metadata": {},
   "source": [
    "Заменим tbd в столбце user_score на nan и преобразуем столбец к численному типу"
   ]
  },
  {
   "cell_type": "code",
   "execution_count": 12,
   "metadata": {},
   "outputs": [],
   "source": [
    "# изменение tbd на nan\n",
    "\n",
    "df['user_score'] = df['user_score'].replace('tbd', np.nan)\n",
    "\n",
    "# преобразование типа данных\n",
    "\n",
    "df['user_score'] = pd.to_numeric(df['user_score'])"
   ]
  },
  {
   "cell_type": "markdown",
   "metadata": {},
   "source": [
    "Заменим рейтинг K-A в столбце rating на E:"
   ]
  },
  {
   "cell_type": "code",
   "execution_count": 13,
   "metadata": {},
   "outputs": [
    {
     "name": "stdout",
     "output_type": "stream",
     "text": [
      "Количество K-A до: 3\n",
      "Количество K-A после: 0\n"
     ]
    }
   ],
   "source": [
    "# замена дубликата возврастного рейтинга\n",
    "\n",
    "print('Количество K-A до:', df[df['rating'] == 'K-A']['rating'].count())\n",
    "df['rating'] = df['rating'].replace('K-A', 'E')\n",
    "print('Количество K-A после:', df[df['rating'] == 'K-A']['rating'].count())"
   ]
  },
  {
   "cell_type": "markdown",
   "metadata": {},
   "source": [
    "Изменив типы данных и удалив часть пропусков мы можем посчитать суммарные продажи игр во всех регионах в новый столбец total_sales"
   ]
  },
  {
   "cell_type": "code",
   "execution_count": 14,
   "metadata": {},
   "outputs": [],
   "source": [
    "# расчет общих продаж\n",
    "\n",
    "df['total_sales'] = df['eu_sales'] + df['jp_sales'] + df['na_sales'] + df['other_sales']"
   ]
  },
  {
   "cell_type": "markdown",
   "metadata": {},
   "source": [
    "Взглянем на полученный датасет перед проведением исследований"
   ]
  },
  {
   "cell_type": "code",
   "execution_count": 15,
   "metadata": {},
   "outputs": [
    {
     "data": {
      "text/html": [
       "<div>\n",
       "<style scoped>\n",
       "    .dataframe tbody tr th:only-of-type {\n",
       "        vertical-align: middle;\n",
       "    }\n",
       "\n",
       "    .dataframe tbody tr th {\n",
       "        vertical-align: top;\n",
       "    }\n",
       "\n",
       "    .dataframe thead th {\n",
       "        text-align: right;\n",
       "    }\n",
       "</style>\n",
       "<table border=\"1\" class=\"dataframe\">\n",
       "  <thead>\n",
       "    <tr style=\"text-align: right;\">\n",
       "      <th></th>\n",
       "      <th>name</th>\n",
       "      <th>platform</th>\n",
       "      <th>year_of_release</th>\n",
       "      <th>genre</th>\n",
       "      <th>na_sales</th>\n",
       "      <th>eu_sales</th>\n",
       "      <th>jp_sales</th>\n",
       "      <th>other_sales</th>\n",
       "      <th>critic_score</th>\n",
       "      <th>user_score</th>\n",
       "      <th>rating</th>\n",
       "      <th>total_sales</th>\n",
       "    </tr>\n",
       "  </thead>\n",
       "  <tbody>\n",
       "    <tr>\n",
       "      <td>11385</td>\n",
       "      <td>Midnight Play! Pack</td>\n",
       "      <td>DS</td>\n",
       "      <td>2008</td>\n",
       "      <td>Misc</td>\n",
       "      <td>0.08</td>\n",
       "      <td>0.00</td>\n",
       "      <td>0.00</td>\n",
       "      <td>0.01</td>\n",
       "      <td>NaN</td>\n",
       "      <td>NaN</td>\n",
       "      <td>NaN</td>\n",
       "      <td>0.09</td>\n",
       "    </tr>\n",
       "    <tr>\n",
       "      <td>5694</td>\n",
       "      <td>F1 Race Stars</td>\n",
       "      <td>PS3</td>\n",
       "      <td>2012</td>\n",
       "      <td>Racing</td>\n",
       "      <td>0.06</td>\n",
       "      <td>0.19</td>\n",
       "      <td>0.00</td>\n",
       "      <td>0.06</td>\n",
       "      <td>61.0</td>\n",
       "      <td>5.6</td>\n",
       "      <td>E</td>\n",
       "      <td>0.31</td>\n",
       "    </tr>\n",
       "    <tr>\n",
       "      <td>5867</td>\n",
       "      <td>Looney Tunes: Duck Amuck</td>\n",
       "      <td>DS</td>\n",
       "      <td>2007</td>\n",
       "      <td>Action</td>\n",
       "      <td>0.28</td>\n",
       "      <td>0.00</td>\n",
       "      <td>0.00</td>\n",
       "      <td>0.02</td>\n",
       "      <td>66.0</td>\n",
       "      <td>NaN</td>\n",
       "      <td>E</td>\n",
       "      <td>0.30</td>\n",
       "    </tr>\n",
       "    <tr>\n",
       "      <td>14326</td>\n",
       "      <td>Call of Juarez: Bound in Blood</td>\n",
       "      <td>PC</td>\n",
       "      <td>2009</td>\n",
       "      <td>Shooter</td>\n",
       "      <td>0.00</td>\n",
       "      <td>0.03</td>\n",
       "      <td>0.00</td>\n",
       "      <td>0.00</td>\n",
       "      <td>78.0</td>\n",
       "      <td>8.0</td>\n",
       "      <td>M</td>\n",
       "      <td>0.03</td>\n",
       "    </tr>\n",
       "    <tr>\n",
       "      <td>2102</td>\n",
       "      <td>Tetris 2</td>\n",
       "      <td>NES</td>\n",
       "      <td>1993</td>\n",
       "      <td>Puzzle</td>\n",
       "      <td>0.62</td>\n",
       "      <td>0.13</td>\n",
       "      <td>0.21</td>\n",
       "      <td>0.02</td>\n",
       "      <td>NaN</td>\n",
       "      <td>NaN</td>\n",
       "      <td>NaN</td>\n",
       "      <td>0.98</td>\n",
       "    </tr>\n",
       "    <tr>\n",
       "      <td>14646</td>\n",
       "      <td>Mahjong Kakutou Club: Zenkoku Taisenban</td>\n",
       "      <td>PS3</td>\n",
       "      <td>2006</td>\n",
       "      <td>Misc</td>\n",
       "      <td>0.00</td>\n",
       "      <td>0.00</td>\n",
       "      <td>0.03</td>\n",
       "      <td>0.00</td>\n",
       "      <td>NaN</td>\n",
       "      <td>NaN</td>\n",
       "      <td>NaN</td>\n",
       "      <td>0.03</td>\n",
       "    </tr>\n",
       "    <tr>\n",
       "      <td>5476</td>\n",
       "      <td>World Stadium 3</td>\n",
       "      <td>PS</td>\n",
       "      <td>1999</td>\n",
       "      <td>Sports</td>\n",
       "      <td>0.00</td>\n",
       "      <td>0.00</td>\n",
       "      <td>0.31</td>\n",
       "      <td>0.02</td>\n",
       "      <td>NaN</td>\n",
       "      <td>NaN</td>\n",
       "      <td>NaN</td>\n",
       "      <td>0.33</td>\n",
       "    </tr>\n",
       "    <tr>\n",
       "      <td>1396</td>\n",
       "      <td>LEGO Batman 2: DC Super Heroes</td>\n",
       "      <td>Wii</td>\n",
       "      <td>2012</td>\n",
       "      <td>Action</td>\n",
       "      <td>0.90</td>\n",
       "      <td>0.37</td>\n",
       "      <td>0.00</td>\n",
       "      <td>0.11</td>\n",
       "      <td>NaN</td>\n",
       "      <td>7.1</td>\n",
       "      <td>E10+</td>\n",
       "      <td>1.38</td>\n",
       "    </tr>\n",
       "    <tr>\n",
       "      <td>8731</td>\n",
       "      <td>NCAA Football 2004</td>\n",
       "      <td>GC</td>\n",
       "      <td>2003</td>\n",
       "      <td>Sports</td>\n",
       "      <td>0.12</td>\n",
       "      <td>0.03</td>\n",
       "      <td>0.00</td>\n",
       "      <td>0.00</td>\n",
       "      <td>89.0</td>\n",
       "      <td>7.5</td>\n",
       "      <td>E</td>\n",
       "      <td>0.15</td>\n",
       "    </tr>\n",
       "    <tr>\n",
       "      <td>15589</td>\n",
       "      <td>Elven Legacy</td>\n",
       "      <td>PC</td>\n",
       "      <td>2009</td>\n",
       "      <td>Strategy</td>\n",
       "      <td>0.02</td>\n",
       "      <td>0.00</td>\n",
       "      <td>0.00</td>\n",
       "      <td>0.00</td>\n",
       "      <td>71.0</td>\n",
       "      <td>7.1</td>\n",
       "      <td>T</td>\n",
       "      <td>0.02</td>\n",
       "    </tr>\n",
       "  </tbody>\n",
       "</table>\n",
       "</div>"
      ],
      "text/plain": [
       "                                          name platform  year_of_release  \\\n",
       "11385                      Midnight Play! Pack       DS             2008   \n",
       "5694                             F1 Race Stars      PS3             2012   \n",
       "5867                  Looney Tunes: Duck Amuck       DS             2007   \n",
       "14326           Call of Juarez: Bound in Blood       PC             2009   \n",
       "2102                                  Tetris 2      NES             1993   \n",
       "14646  Mahjong Kakutou Club: Zenkoku Taisenban      PS3             2006   \n",
       "5476                           World Stadium 3       PS             1999   \n",
       "1396            LEGO Batman 2: DC Super Heroes      Wii             2012   \n",
       "8731                        NCAA Football 2004       GC             2003   \n",
       "15589                             Elven Legacy       PC             2009   \n",
       "\n",
       "          genre  na_sales  eu_sales  jp_sales  other_sales  critic_score  \\\n",
       "11385      Misc      0.08      0.00      0.00         0.01           NaN   \n",
       "5694     Racing      0.06      0.19      0.00         0.06          61.0   \n",
       "5867     Action      0.28      0.00      0.00         0.02          66.0   \n",
       "14326   Shooter      0.00      0.03      0.00         0.00          78.0   \n",
       "2102     Puzzle      0.62      0.13      0.21         0.02           NaN   \n",
       "14646      Misc      0.00      0.00      0.03         0.00           NaN   \n",
       "5476     Sports      0.00      0.00      0.31         0.02           NaN   \n",
       "1396     Action      0.90      0.37      0.00         0.11           NaN   \n",
       "8731     Sports      0.12      0.03      0.00         0.00          89.0   \n",
       "15589  Strategy      0.02      0.00      0.00         0.00          71.0   \n",
       "\n",
       "       user_score rating  total_sales  \n",
       "11385         NaN    NaN         0.09  \n",
       "5694          5.6      E         0.31  \n",
       "5867          NaN      E         0.30  \n",
       "14326         8.0      M         0.03  \n",
       "2102          NaN    NaN         0.98  \n",
       "14646         NaN    NaN         0.03  \n",
       "5476          NaN    NaN         0.33  \n",
       "1396          7.1   E10+         1.38  \n",
       "8731          7.5      E         0.15  \n",
       "15589         7.1      T         0.02  "
      ]
     },
     "execution_count": 15,
     "metadata": {},
     "output_type": "execute_result"
    }
   ],
   "source": [
    "df.sample(10)"
   ]
  },
  {
   "cell_type": "markdown",
   "metadata": {},
   "source": [
    "**Вывод**\n",
    "\n",
    "Датасет готов к дальнейшему анализу, мы изменили тип данных года релиза, рейтинга пользователей. Заменили пропуск в виде 'tba' в столбце `user_score` на NaN, заменили неявный дубликат в столбце `rating`, удалили строки с пропусками в столбцах `genre`, `year_of_release`, `name`.\n",
    "\n",
    "Пропуски в столбцах с рейтингом мы решили оставить неизменными, так как они могут быть получены в связи с отсутствием или недостаточным количеством оценок на сайте-агрегаторе для расчета средней оценки игры.\n",
    "\n",
    "Столбцы с количеством проданных копий оставили в предложенных единицах измерения (млн.копий), суммировали региональные продажи в общий столбец - `total_sales`."
   ]
  },
  {
   "cell_type": "markdown",
   "metadata": {},
   "source": [
    "## Исследовательский анализ данных видеоигр"
   ]
  },
  {
   "cell_type": "markdown",
   "metadata": {},
   "source": [
    "Проведите исследовательский анализ данных\n",
    "- Посмотрим, сколько игр выпускалось в разные годы. Важны ли данные за все периоды?\n",
    "- Посмотрим, как менялись продажи по платформам. Определим платформы с наибольшими суммарными продажами и построим распределение по годам. За какой характерный срок появляются новые и исчезают старые платформы?\n",
    "- Возьмем данные за соответствующий актуальный период. Актуальный период определим в результате исследования предыдущих вопросов. Основной фактор — эти данные помогут построить прогноз на 2017 год.\n",
    "- Какие платформы лидируют по продажам, растут или падают? Выберем несколько потенциально прибыльных платформ.\n",
    "- Построим график «ящик с усами» по глобальным продажам игр в разбивке по платформам.\n",
    "- Посмотрим, как влияют на продажи внутри одной популярной платформы отзывы пользователей и критиков. Построим диаграмму рассеяния и посчитаем корреляцию между отзывами и продажами.\n",
    "- Соотнесем выводы с продажами игр на других платформах.\n",
    "- Изучим общее распределение игр по жанрам."
   ]
  },
  {
   "cell_type": "markdown",
   "metadata": {},
   "source": [
    "Рассмотрим, сколько игр выходило по годам и их количество в исходном датасете"
   ]
  },
  {
   "cell_type": "code",
   "execution_count": 16,
   "metadata": {},
   "outputs": [
    {
     "data": {
      "image/png": "[encoded data removed]",
      "text/plain": [
       "<Figure size 936x360 with 1 Axes>"
      ]
     },
     "metadata": {
      "needs_background": "light"
     },
     "output_type": "display_data"
    }
   ],
   "source": [
    "# количество выпущенных игр по годам\n",
    "\n",
    "games_per_year = df.groupby('year_of_release')['name'].count()\n",
    "games_per_year.plot(kind='bar', figsize=(13,5))\n",
    "plt.xlabel('Год выпуска')\n",
    "plt.ylabel('Количество вышедших игр')\n",
    "plt.show()"
   ]
  },
  {
   "cell_type": "markdown",
   "metadata": {},
   "source": [
    "Можно сделать вывод, что до 1994 года игр в год выходило меньше ста, начиная с 1994 года мы видим ежегодный прирост количества выпускаемых игр и резкий скачок в 2002 году. Далее график идет вниз и с 2005 года снова набирает тенденцию к увеличению вплоть до 2008 года. В 2008 и 2009 годах количество выпущенных игр самое высокое за весь рассматриваемый период, далее идет снижение числа вышедших в год игр и их резкое снижение в 2012 году. После 2012 года количество выпущенных игр +/- одинаковое.\n",
    "\n",
    "Для планирования рекламных кампаний и выявления факторов успешности игр, нам необходимо выделить актуальные данные, которые можно соотнести с будущим периодом. Игры, вышедшие до двухтысячных годов выпускались на уже давно устаревшие платформы, такие как сега, геймбой, NES, dreamcast, ps1 и т.п. Учитывать продажи игр на устаревших консолях не имеет смысла. \n",
    "\n",
    "Чтобы определить, какие платформы являются актуальными, рассмотрим изменение общего количества проданных игр на разные платформы по годам и определим средний срок жизни платформ. Помимо списка актуальных платформ, средний срок жизни поможет определить актуальный период для построения дальнейших прогнозов на 2017 год."
   ]
  },
  {
   "cell_type": "code",
   "execution_count": 17,
   "metadata": {},
   "outputs": [
    {
     "data": {
      "image/png": "[encoded data removed]",
      "text/plain": [
       "<Figure size 720x720 with 1 Axes>"
      ]
     },
     "metadata": {
      "needs_background": "light"
     },
     "output_type": "display_data"
    }
   ],
   "source": [
    "overal_sales_per_platform = df.groupby('platform').agg({'total_sales':'sum'})\n",
    "\n",
    "overal_sales_per_platform.plot(kind='barh', figsize=(10,10), grid=True, width=0.7)\n",
    "plt.xlabel('Количество проданных игр всего (млн.)')\n",
    "plt.ylabel('Платформа')\n",
    "plt.show()"
   ]
  },
  {
   "cell_type": "markdown",
   "metadata": {},
   "source": [
    "Самые большие продажи у игр на PS2. Среди консолей следующего поколения, высокие и соразмерные продажи у лидеров рынка - X360, PS3, Wii. На диаграмме видно, что есть консоли, у которых слишком незначительный объем продаж игр, либо небольшое количество зафиксированной информации о продажах - к таким платформам относятся WS, TG16, SCD, PCFX, NG, GG, 3DO."
   ]
  },
  {
   "cell_type": "markdown",
   "metadata": {},
   "source": [
    "______"
   ]
  },
  {
   "cell_type": "markdown",
   "metadata": {},
   "source": [
    "Рассмотрим платформы с наибольшим количеством проданных копий игр и изучим, как менялись продажи по годам."
   ]
  },
  {
   "cell_type": "code",
   "execution_count": 18,
   "metadata": {},
   "outputs": [
    {
     "data": {
      "text/plain": [
       "Index(['PS2', 'X360', 'PS3', 'Wii', 'DS', 'PS', 'PS4', 'GBA', 'PSP', '3DS'], dtype='object', name='platform')"
      ]
     },
     "execution_count": 18,
     "metadata": {},
     "output_type": "execute_result"
    }
   ],
   "source": [
    "# создание списка топ-10 платформ с наибольшими продажами\n",
    "\n",
    "top_10_platforms = overal_sales_per_platform.sort_values(by='total_sales', ascending=False).head(10).index\n",
    "top_10_platforms"
   ]
  },
  {
   "cell_type": "code",
   "execution_count": 19,
   "metadata": {},
   "outputs": [],
   "source": [
    "# сводная таблица по топ-платформам и продажам по годам\n",
    "\n",
    "df_sales_per_year = (df\n",
    "    .query('platform in @top_10_platforms')\n",
    "    .pivot_table(index='year_of_release', columns='platform', values='total_sales', aggfunc='sum')\n",
    ")"
   ]
  },
  {
   "cell_type": "code",
   "execution_count": 20,
   "metadata": {},
   "outputs": [
    {
     "data": {
      "image/png": "[encoded data removed]",
      "text/plain": [
       "<Figure size 1296x360 with 1 Axes>"
      ]
     },
     "metadata": {
      "needs_background": "light"
     },
     "output_type": "display_data"
    }
   ],
   "source": [
    "df_sales_per_year.plot(figsize=(18,5), grid=True, style='.-')\n",
    "plt.xlim(1993,2017)\n",
    "plt.xlabel('Год')\n",
    "plt.ylabel('Количество проданных игр (млн. копий)')\n",
    "\n",
    "plt.show()"
   ]
  },
  {
   "cell_type": "markdown",
   "metadata": {},
   "source": [
    "Графики жизненного цикла платформ похожи на \"горы\", после релиза консоли, через 1-2 года наблюдается рост продаж игр на нее и после пика в середине жизненного цикла идет спад до полного отсутствия продаж примерно через 6-10 лет после выхода платформы. Закономерность не прослеживается только у персональных компьютеров, что логично, так как в наших данных нет различий PC по поколениям процессоров/видеокарт.\n",
    "\n",
    "Также, по графикам можно заметить, что новые платформы появляются во время спада продаж платформ предыдущего поколения, так например график, относящийся к PS2, обрел тенденцию к спаду в 2004 году, в 2006 году, где продажи стали меньше пикового значения более чем в 2 раза, появляется PS3 - консоль нового поколения.\n",
    "\n",
    "Определим среднюю продолжительность \"жизни\" платформ. Для этого отберем только те платформы, где общие продажи игр превышали 5 миллионов копий, чтобы исключить платформы с слишком низкими продажами в определенный год, либо с отсутствующей статистикой по продажам."
   ]
  },
  {
   "cell_type": "code",
   "execution_count": 21,
   "metadata": {},
   "outputs": [
    {
     "name": "stdout",
     "output_type": "stream",
     "text": [
      "Средняя продолжительность жизненного цикла платформы: 6.916666666666667\n"
     ]
    }
   ],
   "source": [
    "# отбор платформ с 5 млн. и более проданными копиями игр в год\n",
    "\n",
    "platform_lifetime = df.groupby(['platform', 'year_of_release']).agg({'total_sales':'sum'}).query('total_sales > 5')\n",
    "\n",
    "# расчет продолжительности среднего жизненного цикла по платформам\n",
    "\n",
    "platform_lifetime = platform_lifetime.reset_index().groupby('platform').agg({'year_of_release':'nunique'}).mean()\n",
    "print('Средняя продолжительность жизненного цикла платформы:', platform_lifetime['year_of_release'])"
   ]
  },
  {
   "cell_type": "markdown",
   "metadata": {},
   "source": [
    "Таким образом, средняя продолжительность жизни платформы - 7 лет, при этом, новое поколение платформ появляется уже на 5-6 год жизненного цикла платформы.\n",
    "\n",
    "Актуальными данными будем считать те, которые соответствуют 7 годам до 2017 (прогнозного) года. В таком случае мы захватим и предыдущее поколение, продажи которого снижаются, и новые актуальные платформы, продажи по которым только набирают темпы роста."
   ]
  },
  {
   "cell_type": "code",
   "execution_count": 22,
   "metadata": {},
   "outputs": [
    {
     "name": "stdout",
     "output_type": "stream",
     "text": [
      "<class 'pandas.core.frame.DataFrame'>\n",
      "Int64Index: 5277 entries, 14 to 16714\n",
      "Data columns (total 12 columns):\n",
      "name               5277 non-null object\n",
      "platform           5277 non-null object\n",
      "year_of_release    5277 non-null int64\n",
      "genre              5277 non-null object\n",
      "na_sales           5277 non-null float64\n",
      "eu_sales           5277 non-null float64\n",
      "jp_sales           5277 non-null float64\n",
      "other_sales        5277 non-null float64\n",
      "critic_score       2312 non-null float64\n",
      "user_score         2499 non-null float64\n",
      "rating             3113 non-null object\n",
      "total_sales        5277 non-null float64\n",
      "dtypes: float64(7), int64(1), object(4)\n",
      "memory usage: 535.9+ KB\n"
     ]
    }
   ],
   "source": [
    "# срез актуальных данных\n",
    "\n",
    "df_new = df.query('year_of_release >= 2010')\n",
    "df_new.info()"
   ]
  },
  {
   "cell_type": "markdown",
   "metadata": {},
   "source": [
    "В актуальном датасете осталось 5277 строк, рассмотрим, какие платформы лидируют по продажам, в каких наблюдается рост и спад."
   ]
  },
  {
   "cell_type": "code",
   "execution_count": 23,
   "metadata": {},
   "outputs": [
    {
     "data": {
      "text/html": [
       "<div>\n",
       "<style scoped>\n",
       "    .dataframe tbody tr th:only-of-type {\n",
       "        vertical-align: middle;\n",
       "    }\n",
       "\n",
       "    .dataframe tbody tr th {\n",
       "        vertical-align: top;\n",
       "    }\n",
       "\n",
       "    .dataframe thead th {\n",
       "        text-align: right;\n",
       "    }\n",
       "</style>\n",
       "<table border=\"1\" class=\"dataframe\">\n",
       "  <thead>\n",
       "    <tr style=\"text-align: right;\">\n",
       "      <th>platform</th>\n",
       "      <th>3DS</th>\n",
       "      <th>DS</th>\n",
       "      <th>PC</th>\n",
       "      <th>PS2</th>\n",
       "      <th>PS3</th>\n",
       "      <th>PS4</th>\n",
       "      <th>PSP</th>\n",
       "      <th>PSV</th>\n",
       "      <th>Wii</th>\n",
       "      <th>WiiU</th>\n",
       "      <th>X360</th>\n",
       "      <th>XOne</th>\n",
       "    </tr>\n",
       "    <tr>\n",
       "      <th>year_of_release</th>\n",
       "      <th></th>\n",
       "      <th></th>\n",
       "      <th></th>\n",
       "      <th></th>\n",
       "      <th></th>\n",
       "      <th></th>\n",
       "      <th></th>\n",
       "      <th></th>\n",
       "      <th></th>\n",
       "      <th></th>\n",
       "      <th></th>\n",
       "      <th></th>\n",
       "    </tr>\n",
       "  </thead>\n",
       "  <tbody>\n",
       "    <tr>\n",
       "      <td>2010</td>\n",
       "      <td>NaN</td>\n",
       "      <td>85.02</td>\n",
       "      <td>24.28</td>\n",
       "      <td>5.64</td>\n",
       "      <td>142.17</td>\n",
       "      <td>NaN</td>\n",
       "      <td>35.04</td>\n",
       "      <td>NaN</td>\n",
       "      <td>127.95</td>\n",
       "      <td>NaN</td>\n",
       "      <td>170.03</td>\n",
       "      <td>NaN</td>\n",
       "    </tr>\n",
       "    <tr>\n",
       "      <td>2011</td>\n",
       "      <td>63.20</td>\n",
       "      <td>26.18</td>\n",
       "      <td>35.03</td>\n",
       "      <td>0.45</td>\n",
       "      <td>156.78</td>\n",
       "      <td>NaN</td>\n",
       "      <td>17.82</td>\n",
       "      <td>4.63</td>\n",
       "      <td>59.65</td>\n",
       "      <td>NaN</td>\n",
       "      <td>143.84</td>\n",
       "      <td>NaN</td>\n",
       "    </tr>\n",
       "    <tr>\n",
       "      <td>2012</td>\n",
       "      <td>51.36</td>\n",
       "      <td>11.01</td>\n",
       "      <td>23.22</td>\n",
       "      <td>NaN</td>\n",
       "      <td>107.36</td>\n",
       "      <td>NaN</td>\n",
       "      <td>7.69</td>\n",
       "      <td>16.19</td>\n",
       "      <td>21.71</td>\n",
       "      <td>17.56</td>\n",
       "      <td>99.74</td>\n",
       "      <td>NaN</td>\n",
       "    </tr>\n",
       "    <tr>\n",
       "      <td>2013</td>\n",
       "      <td>56.57</td>\n",
       "      <td>1.54</td>\n",
       "      <td>12.38</td>\n",
       "      <td>NaN</td>\n",
       "      <td>113.25</td>\n",
       "      <td>25.99</td>\n",
       "      <td>3.14</td>\n",
       "      <td>10.59</td>\n",
       "      <td>8.59</td>\n",
       "      <td>21.65</td>\n",
       "      <td>88.58</td>\n",
       "      <td>18.96</td>\n",
       "    </tr>\n",
       "    <tr>\n",
       "      <td>2014</td>\n",
       "      <td>43.76</td>\n",
       "      <td>NaN</td>\n",
       "      <td>13.28</td>\n",
       "      <td>NaN</td>\n",
       "      <td>47.76</td>\n",
       "      <td>100.00</td>\n",
       "      <td>0.24</td>\n",
       "      <td>11.90</td>\n",
       "      <td>3.75</td>\n",
       "      <td>22.03</td>\n",
       "      <td>34.74</td>\n",
       "      <td>54.07</td>\n",
       "    </tr>\n",
       "    <tr>\n",
       "      <td>2015</td>\n",
       "      <td>27.78</td>\n",
       "      <td>NaN</td>\n",
       "      <td>8.52</td>\n",
       "      <td>NaN</td>\n",
       "      <td>16.82</td>\n",
       "      <td>118.90</td>\n",
       "      <td>0.12</td>\n",
       "      <td>6.25</td>\n",
       "      <td>1.14</td>\n",
       "      <td>16.35</td>\n",
       "      <td>11.96</td>\n",
       "      <td>60.14</td>\n",
       "    </tr>\n",
       "    <tr>\n",
       "      <td>2016</td>\n",
       "      <td>15.14</td>\n",
       "      <td>NaN</td>\n",
       "      <td>5.25</td>\n",
       "      <td>NaN</td>\n",
       "      <td>3.60</td>\n",
       "      <td>69.25</td>\n",
       "      <td>NaN</td>\n",
       "      <td>4.25</td>\n",
       "      <td>0.18</td>\n",
       "      <td>4.60</td>\n",
       "      <td>1.52</td>\n",
       "      <td>26.15</td>\n",
       "    </tr>\n",
       "  </tbody>\n",
       "</table>\n",
       "</div>"
      ],
      "text/plain": [
       "platform           3DS     DS     PC   PS2     PS3     PS4    PSP    PSV  \\\n",
       "year_of_release                                                            \n",
       "2010               NaN  85.02  24.28  5.64  142.17     NaN  35.04    NaN   \n",
       "2011             63.20  26.18  35.03  0.45  156.78     NaN  17.82   4.63   \n",
       "2012             51.36  11.01  23.22   NaN  107.36     NaN   7.69  16.19   \n",
       "2013             56.57   1.54  12.38   NaN  113.25   25.99   3.14  10.59   \n",
       "2014             43.76    NaN  13.28   NaN   47.76  100.00   0.24  11.90   \n",
       "2015             27.78    NaN   8.52   NaN   16.82  118.90   0.12   6.25   \n",
       "2016             15.14    NaN   5.25   NaN    3.60   69.25    NaN   4.25   \n",
       "\n",
       "platform            Wii   WiiU    X360   XOne  \n",
       "year_of_release                                \n",
       "2010             127.95    NaN  170.03    NaN  \n",
       "2011              59.65    NaN  143.84    NaN  \n",
       "2012              21.71  17.56   99.74    NaN  \n",
       "2013               8.59  21.65   88.58  18.96  \n",
       "2014               3.75  22.03   34.74  54.07  \n",
       "2015               1.14  16.35   11.96  60.14  \n",
       "2016               0.18   4.60    1.52  26.15  "
      ]
     },
     "execution_count": 23,
     "metadata": {},
     "output_type": "execute_result"
    }
   ],
   "source": [
    "# сводная таблица по актуальным данным с общими продажами в год\n",
    "\n",
    "df_new_sales_per_year = df_new.pivot_table(index='year_of_release', columns='platform', values='total_sales', aggfunc='sum')\n",
    "\n",
    "df_new_sales_per_year"
   ]
  },
  {
   "cell_type": "markdown",
   "metadata": {},
   "source": [
    "По данным таблицы можно сделать вывод, что платформы DS, PS2, PSP - уже можно считать не актуальными, так как по ним отсутствуют продажи в последних нескольких или последнем наблюдаемом периоде.\n",
    "\n",
    "Также, тенденция к спаду продаж заметна на платформах, у которых жизненный цикл подходит к концу - это PS3, PSV, Wii, X360. Продажи в 2016 у указанных платформ уже в значительной степени ниже их пиковых значений, продавать игры для данных консолей не лучшее решение.\n",
    "\n",
    "Платформа WiiU существует 5 лет, если исходить из среднего срока жизни платформ, то играм на данную консоль осталось продаваться еще 1-2 года. Портативная приставка нинтендо 3DS, несмотря на уже длительный срок жизни и заметное снижение продаж, по сравнению с пиковыми значениями в 2011-2013 годах, имеет высокие объемы продаж за 2016 год, которые в 3 раза выше другой приставки данного производителя WiiU.\n",
    "\n",
    "**Вывод**\n",
    "\n",
    "Наиболее перспективными платформами являются PS4 и XOne, также стоит отметить, что PC, как платформа, не подвержен устареванию и будет актуален всегда, несмотря на более низкие объемы продаж, чем у специализированных игровых платформ.\n",
    "____\n",
    "Построим графики boxplot по глобальным продажам игр в разбивке по платформам и рассмотрим их."
   ]
  },
  {
   "cell_type": "code",
   "execution_count": 24,
   "metadata": {},
   "outputs": [
    {
     "data": {
      "image/png": "[encoded data removed]",
      "text/plain": [
       "<Figure size 1296x720 with 1 Axes>"
      ]
     },
     "metadata": {
      "needs_background": "light"
     },
     "output_type": "display_data"
    }
   ],
   "source": [
    "# отключение ошибки VisibleDeprecationWarning\n",
    "\n",
    "np.warnings.filterwarnings('ignore', category=np.VisibleDeprecationWarning)\n",
    "\n",
    "# построение \"ящиков с усами\" по количеству проданных игр на платформы по актуальным данным\n",
    "\n",
    "df_new.boxplot(column = 'total_sales',\n",
    "              by = 'platform',\n",
    "              figsize=(18,10))\n",
    "plt.ylim(0,2)\n",
    "plt.xlabel('Платформа')\n",
    "plt.ylabel('Количество проданных копий (млн.шт.)')\n",
    "plt.title('Распределение проданных игр по платформам')\n",
    "plt.show()"
   ]
  },
  {
   "cell_type": "markdown",
   "metadata": {},
   "source": [
    "Медианные продажи игр на всех платформах не превышают 250 тысяч копий, кроме платформы X360, на которой среднее количество продаж по играм чуть больше 250 тысяч.\n",
    "\n",
    "По графикам видно, что наименьший размах и общие продажи игр у платформ с истекшим сроком актуальности - PSP, PSV, PS2, DS - медианные продажи по актуальным годам не более 100 тысяч копий.\n",
    "\n",
    "Широкий размах у PS4 - несмотря на то, что медиана количества продаж на данную платформу ниже, чем у консоли предыдущего поколения PS3, верхний ус находится близко к 1,75 млн. копий, в то же время у PS3 чуть выше 1,5.\n",
    "\n",
    "Самый широкий размах и медианное значение проданных копий у X360, при этом, более новая платформа XOne имеет медианное значение немного ниже и не такой широкий размах. Диапазон значений платформы WiiU - от 0 до 1,2 млн без учета игр с аномально высокими продажами, данная платформа имеет более высокие показатели (медиана, размах значений), чем Wii, что логично, так как она вышла позже, а Wii, несмотря на медианное значение проданных копий игры в 2016 году имеет низкие показатели общих продаж.\n",
    "\n",
    "**Вывод**\n",
    "\n",
    "Таким образом, самые высокие медианные продажи у Xbox360, за ней идет PS3 и WiiU. Это может быть связано с выходом определенных эксклюзивов на данные платформы, имеющих высокий спрос. Следом за ними идут платформы текущего поколения - PS4 и Xbox One, их медианные значения продаж не сильно ниже и сопоставимы с предыдущим поколением. Wii также имеет высокое медианное значение и достаточно широкий размах, но по общим продажам ранее мы сделали вывод, что платформа к 2016 году уже устарела."
   ]
  },
  {
   "cell_type": "markdown",
   "metadata": {},
   "source": [
    "_____"
   ]
  },
  {
   "cell_type": "markdown",
   "metadata": {},
   "source": [
    "Далее рассмотрим популярные платформы и как на продажи влияют отзывы пользователей и критиков. Возьмем платформы с самыми высокими общими продажами (PS3, X360,3DS,Wii) а также актуальные, более новые платформы (PS4, Xbox One)."
   ]
  },
  {
   "cell_type": "code",
   "execution_count": 25,
   "metadata": {},
   "outputs": [],
   "source": [
    "# список платформ из актуального списка с самыми высокими продажами\n",
    "\n",
    "platforms_list = df_new.pivot_table(index='platform', values='total_sales',aggfunc='sum').sort_values(by='total_sales',ascending=False).head(6).index"
   ]
  },
  {
   "cell_type": "markdown",
   "metadata": {},
   "source": [
    "Построим для полученных топ-популярных платформ диаграммы рассеяния и посчитаем корреляцию между отзывами и продажами."
   ]
  },
  {
   "cell_type": "code",
   "execution_count": 26,
   "metadata": {},
   "outputs": [
    {
     "data": {
      "text/html": [
       "<div>\n",
       "<style scoped>\n",
       "    .dataframe tbody tr th:only-of-type {\n",
       "        vertical-align: middle;\n",
       "    }\n",
       "\n",
       "    .dataframe tbody tr th {\n",
       "        vertical-align: top;\n",
       "    }\n",
       "\n",
       "    .dataframe thead th {\n",
       "        text-align: right;\n",
       "    }\n",
       "</style>\n",
       "<table border=\"1\" class=\"dataframe\">\n",
       "  <thead>\n",
       "    <tr style=\"text-align: right;\">\n",
       "      <th></th>\n",
       "      <th></th>\n",
       "      <th>total_sales</th>\n",
       "      <th>user_score</th>\n",
       "      <th>critic_score</th>\n",
       "    </tr>\n",
       "    <tr>\n",
       "      <th>platform</th>\n",
       "      <th></th>\n",
       "      <th></th>\n",
       "      <th></th>\n",
       "      <th></th>\n",
       "    </tr>\n",
       "  </thead>\n",
       "  <tbody>\n",
       "    <tr>\n",
       "      <td rowspan=\"3\" valign=\"top\">3DS</td>\n",
       "      <td>total_sales</td>\n",
       "      <td>1.000000</td>\n",
       "      <td>0.222078</td>\n",
       "      <td>0.348740</td>\n",
       "    </tr>\n",
       "    <tr>\n",
       "      <td>user_score</td>\n",
       "      <td>0.222078</td>\n",
       "      <td>1.000000</td>\n",
       "      <td>0.745222</td>\n",
       "    </tr>\n",
       "    <tr>\n",
       "      <td>critic_score</td>\n",
       "      <td>0.348740</td>\n",
       "      <td>0.745222</td>\n",
       "      <td>1.000000</td>\n",
       "    </tr>\n",
       "    <tr>\n",
       "      <td rowspan=\"3\" valign=\"top\">PS3</td>\n",
       "      <td>total_sales</td>\n",
       "      <td>1.000000</td>\n",
       "      <td>0.065092</td>\n",
       "      <td>0.400594</td>\n",
       "    </tr>\n",
       "    <tr>\n",
       "      <td>user_score</td>\n",
       "      <td>0.065092</td>\n",
       "      <td>1.000000</td>\n",
       "      <td>0.595259</td>\n",
       "    </tr>\n",
       "    <tr>\n",
       "      <td>critic_score</td>\n",
       "      <td>0.400594</td>\n",
       "      <td>0.595259</td>\n",
       "      <td>1.000000</td>\n",
       "    </tr>\n",
       "    <tr>\n",
       "      <td rowspan=\"3\" valign=\"top\">PS4</td>\n",
       "      <td>total_sales</td>\n",
       "      <td>1.000000</td>\n",
       "      <td>-0.031957</td>\n",
       "      <td>0.406568</td>\n",
       "    </tr>\n",
       "    <tr>\n",
       "      <td>user_score</td>\n",
       "      <td>-0.031957</td>\n",
       "      <td>1.000000</td>\n",
       "      <td>0.557654</td>\n",
       "    </tr>\n",
       "    <tr>\n",
       "      <td>critic_score</td>\n",
       "      <td>0.406568</td>\n",
       "      <td>0.557654</td>\n",
       "      <td>1.000000</td>\n",
       "    </tr>\n",
       "    <tr>\n",
       "      <td rowspan=\"3\" valign=\"top\">Wii</td>\n",
       "      <td>total_sales</td>\n",
       "      <td>1.000000</td>\n",
       "      <td>0.147160</td>\n",
       "      <td>0.310588</td>\n",
       "    </tr>\n",
       "    <tr>\n",
       "      <td>user_score</td>\n",
       "      <td>0.147160</td>\n",
       "      <td>1.000000</td>\n",
       "      <td>0.471698</td>\n",
       "    </tr>\n",
       "    <tr>\n",
       "      <td>critic_score</td>\n",
       "      <td>0.310588</td>\n",
       "      <td>0.471698</td>\n",
       "      <td>1.000000</td>\n",
       "    </tr>\n",
       "    <tr>\n",
       "      <td rowspan=\"3\" valign=\"top\">X360</td>\n",
       "      <td>total_sales</td>\n",
       "      <td>1.000000</td>\n",
       "      <td>0.066035</td>\n",
       "      <td>0.340064</td>\n",
       "    </tr>\n",
       "    <tr>\n",
       "      <td>user_score</td>\n",
       "      <td>0.066035</td>\n",
       "      <td>1.000000</td>\n",
       "      <td>0.597552</td>\n",
       "    </tr>\n",
       "    <tr>\n",
       "      <td>critic_score</td>\n",
       "      <td>0.340064</td>\n",
       "      <td>0.597552</td>\n",
       "      <td>1.000000</td>\n",
       "    </tr>\n",
       "    <tr>\n",
       "      <td rowspan=\"3\" valign=\"top\">XOne</td>\n",
       "      <td>total_sales</td>\n",
       "      <td>1.000000</td>\n",
       "      <td>-0.068925</td>\n",
       "      <td>0.416998</td>\n",
       "    </tr>\n",
       "    <tr>\n",
       "      <td>user_score</td>\n",
       "      <td>-0.068925</td>\n",
       "      <td>1.000000</td>\n",
       "      <td>0.472462</td>\n",
       "    </tr>\n",
       "    <tr>\n",
       "      <td>critic_score</td>\n",
       "      <td>0.416998</td>\n",
       "      <td>0.472462</td>\n",
       "      <td>1.000000</td>\n",
       "    </tr>\n",
       "  </tbody>\n",
       "</table>\n",
       "</div>"
      ],
      "text/plain": [
       "                       total_sales  user_score  critic_score\n",
       "platform                                                    \n",
       "3DS      total_sales      1.000000    0.222078      0.348740\n",
       "         user_score       0.222078    1.000000      0.745222\n",
       "         critic_score     0.348740    0.745222      1.000000\n",
       "PS3      total_sales      1.000000    0.065092      0.400594\n",
       "         user_score       0.065092    1.000000      0.595259\n",
       "         critic_score     0.400594    0.595259      1.000000\n",
       "PS4      total_sales      1.000000   -0.031957      0.406568\n",
       "         user_score      -0.031957    1.000000      0.557654\n",
       "         critic_score     0.406568    0.557654      1.000000\n",
       "Wii      total_sales      1.000000    0.147160      0.310588\n",
       "         user_score       0.147160    1.000000      0.471698\n",
       "         critic_score     0.310588    0.471698      1.000000\n",
       "X360     total_sales      1.000000    0.066035      0.340064\n",
       "         user_score       0.066035    1.000000      0.597552\n",
       "         critic_score     0.340064    0.597552      1.000000\n",
       "XOne     total_sales      1.000000   -0.068925      0.416998\n",
       "         user_score      -0.068925    1.000000      0.472462\n",
       "         critic_score     0.416998    0.472462      1.000000"
      ]
     },
     "execution_count": 26,
     "metadata": {},
     "output_type": "execute_result"
    }
   ],
   "source": [
    "# создание среза по списку платформ с высокими продажами\n",
    "\n",
    "df_top_platforms = df_new.query('platform in @platforms_list')\n",
    "\n",
    "# расчет корреляции между рейтингами и общими продажами\n",
    "\n",
    "df_top_platforms.groupby('platform')['total_sales', 'user_score', 'critic_score'].corr()"
   ]
  },
  {
   "cell_type": "markdown",
   "metadata": {},
   "source": [
    "Для всех платформ коэффициенты корреляции Пирсона до 0.5 и положительные, за исключением корреляции между продажами и оценками пользователей на платформах PS4 и XOne, где коэффициенты отрицательные, но близкие к нулевому значению.\n",
    "\n",
    "По платформам с высокими продажами можно сделать вывод, что корреляция между общими продажами игр и оценками пользователей или критиков слабая.\n",
    "\n",
    "Построим диаграммы для того, чтобы удостовериться в выводах по коэффициентам корреляции Пирсона."
   ]
  },
  {
   "cell_type": "code",
   "execution_count": 27,
   "metadata": {},
   "outputs": [
    {
     "data": {
      "image/png": "[encoded data removed]",
      "text/plain": [
       "<Figure size 432x288 with 1 Axes>"
      ]
     },
     "metadata": {
      "needs_background": "light"
     },
     "output_type": "display_data"
    },
    {
     "data": {
      "image/png": "[encoded data removed]",
      "text/plain": [
       "<Figure size 432x288 with 1 Axes>"
      ]
     },
     "metadata": {
      "needs_background": "light"
     },
     "output_type": "display_data"
    },
    {
     "data": {
      "image/png": "[encoded data removed]",
      "text/plain": [
       "<Figure size 432x288 with 1 Axes>"
      ]
     },
     "metadata": {
      "needs_background": "light"
     },
     "output_type": "display_data"
    },
    {
     "data": {
      "image/png": "[encoded data removed]",
      "text/plain": [
       "<Figure size 432x288 with 1 Axes>"
      ]
     },
     "metadata": {
      "needs_background": "light"
     },
     "output_type": "display_data"
    },
    {
     "data": {
      "image/png": "[encoded data removed]",
      "text/plain": [
       "<Figure size 432x288 with 1 Axes>"
      ]
     },
     "metadata": {
      "needs_background": "light"
     },
     "output_type": "display_data"
    },
    {
     "data": {
      "image/png": "[encoded data removed]",
      "text/plain": [
       "<Figure size 432x288 with 1 Axes>"
      ]
     },
     "metadata": {
      "needs_background": "light"
     },
     "output_type": "display_data"
    }
   ],
   "source": [
    "for platform in df_top_platforms['platform'].unique():\n",
    "    df_top_platforms.loc[df_top_platforms['platform'] == platform].plot(kind='scatter', x='total_sales', y='user_score', title=platform)\n",
    "    plt.xlim(0,10)\n",
    "    plt.xlabel('Общие продажи игр (млн. копий)')\n",
    "    plt.ylabel('Оценка пользователей (от 0 до 10)')\n",
    "    plt.show()"
   ]
  },
  {
   "cell_type": "markdown",
   "metadata": {},
   "source": [
    "Представленные графики подтверждают вывод по коэффициентам корреляции между оценками пользователей и количеством проданных копий игр. На графиках мы определили порог общих продаж в 10 млн. копий, чтобы более наглядно видеть распределение на диаграмме среднестатистических игр с продажами до 2 млн. копий.\n",
    "\n",
    "На диаграммах рассеяния заметно небольшое смещение практически на всех графиках, кроме PS4. У игр с большим количеством проданных копий высокие оценки, но это не ярко выражено, что позволяет нам подтвердить вывод о слабой корреляции между оценками пользователей и количеством проданных копий игр на \"топовых\" платформах.\n",
    "\n",
    "Рассмотрим диаграммы между оценками критиков и числом проданных копий по платформам."
   ]
  },
  {
   "cell_type": "code",
   "execution_count": 28,
   "metadata": {},
   "outputs": [
    {
     "data": {
      "image/png": "[encoded data removed]",
      "text/plain": [
       "<Figure size 432x288 with 1 Axes>"
      ]
     },
     "metadata": {
      "needs_background": "light"
     },
     "output_type": "display_data"
    },
    {
     "data": {
      "image/png": "[encoded data removed]",
      "text/plain": [
       "<Figure size 432x288 with 1 Axes>"
      ]
     },
     "metadata": {
      "needs_background": "light"
     },
     "output_type": "display_data"
    },
    {
     "data": {
      "image/png": "[encoded data removed]",
      "text/plain": [
       "<Figure size 432x288 with 1 Axes>"
      ]
     },
     "metadata": {
      "needs_background": "light"
     },
     "output_type": "display_data"
    },
    {
     "data": {
      "image/png": "[encoded data removed]",
      "text/plain": [
       "<Figure size 432x288 with 1 Axes>"
      ]
     },
     "metadata": {
      "needs_background": "light"
     },
     "output_type": "display_data"
    },
    {
     "data": {
      "image/png": "[encoded data removed]",
      "text/plain": [
       "<Figure size 432x288 with 1 Axes>"
      ]
     },
     "metadata": {
      "needs_background": "light"
     },
     "output_type": "display_data"
    },
    {
     "data": {
      "image/png": "[encoded data removed]",
      "text/plain": [
       "<Figure size 432x288 with 1 Axes>"
      ]
     },
     "metadata": {
      "needs_background": "light"
     },
     "output_type": "display_data"
    }
   ],
   "source": [
    "for platform in df_top_platforms['platform'].unique():\n",
    "    df_top_platforms.loc[df_top_platforms['platform'] == platform].plot(kind='scatter', x='total_sales', y='critic_score', title=platform)\n",
    "    plt.xlim(0,10)\n",
    "    plt.xlabel('Общие продажи игр (млн. копий)')\n",
    "    plt.ylabel('Оценка критиков (от 0 до 100)')\n",
    "    plt.show()"
   ]
  },
  {
   "cell_type": "markdown",
   "metadata": {},
   "source": [
    "**Вывод**\n",
    "\n",
    "Таким образом, по коэффициентам корреляции можем говорить о том, что рейтинги игроков и критиков имеют слабую зависимость с общими продажами игр, оценки критиков и пользователей между собой также имеют относительно слабую зависимость, но на некоторых платформах ближе к средней (X360, PS3, 3DS).\n",
    "\n",
    "По диаграммам также можно сказать, что зависимость общих продаж от оценки критиков невысокая, однако можно заметить, что игры с самыми высокими продажами по всем платформам имеют рейтинг выше 70%, что говорит о наличии связи между оценками критиков и продажами. В то же время, большинство игр имеют продажи до 2 миллионов копий и расположены размашисто по всей оси от 40% до 90% рейтинга.\n",
    "____"
   ]
  },
  {
   "cell_type": "markdown",
   "metadata": {},
   "source": [
    "Рассмотрим, как распределены игры по жанрам и выявим самые прибыльные, а также какие жанры выделяются сильнее других в положительную и отрицательную стороны."
   ]
  },
  {
   "cell_type": "code",
   "execution_count": 29,
   "metadata": {},
   "outputs": [
    {
     "data": {
      "text/html": [
       "<div>\n",
       "<style scoped>\n",
       "    .dataframe tbody tr th:only-of-type {\n",
       "        vertical-align: middle;\n",
       "    }\n",
       "\n",
       "    .dataframe tbody tr th {\n",
       "        vertical-align: top;\n",
       "    }\n",
       "\n",
       "    .dataframe thead th {\n",
       "        text-align: right;\n",
       "    }\n",
       "</style>\n",
       "<table border=\"1\" class=\"dataframe\">\n",
       "  <thead>\n",
       "    <tr style=\"text-align: right;\">\n",
       "      <th></th>\n",
       "      <th>name</th>\n",
       "    </tr>\n",
       "    <tr>\n",
       "      <th>genre</th>\n",
       "      <th></th>\n",
       "    </tr>\n",
       "  </thead>\n",
       "  <tbody>\n",
       "    <tr>\n",
       "      <td>Action</td>\n",
       "      <td>1495</td>\n",
       "    </tr>\n",
       "    <tr>\n",
       "      <td>Misc</td>\n",
       "      <td>576</td>\n",
       "    </tr>\n",
       "    <tr>\n",
       "      <td>Sports</td>\n",
       "      <td>575</td>\n",
       "    </tr>\n",
       "    <tr>\n",
       "      <td>Role-Playing</td>\n",
       "      <td>568</td>\n",
       "    </tr>\n",
       "    <tr>\n",
       "      <td>Adventure</td>\n",
       "      <td>563</td>\n",
       "    </tr>\n",
       "    <tr>\n",
       "      <td>Shooter</td>\n",
       "      <td>410</td>\n",
       "    </tr>\n",
       "    <tr>\n",
       "      <td>Racing</td>\n",
       "      <td>237</td>\n",
       "    </tr>\n",
       "    <tr>\n",
       "      <td>Simulation</td>\n",
       "      <td>217</td>\n",
       "    </tr>\n",
       "    <tr>\n",
       "      <td>Fighting</td>\n",
       "      <td>199</td>\n",
       "    </tr>\n",
       "    <tr>\n",
       "      <td>Strategy</td>\n",
       "      <td>170</td>\n",
       "    </tr>\n",
       "    <tr>\n",
       "      <td>Platform</td>\n",
       "      <td>153</td>\n",
       "    </tr>\n",
       "    <tr>\n",
       "      <td>Puzzle</td>\n",
       "      <td>114</td>\n",
       "    </tr>\n",
       "  </tbody>\n",
       "</table>\n",
       "</div>"
      ],
      "text/plain": [
       "              name\n",
       "genre             \n",
       "Action        1495\n",
       "Misc           576\n",
       "Sports         575\n",
       "Role-Playing   568\n",
       "Adventure      563\n",
       "Shooter        410\n",
       "Racing         237\n",
       "Simulation     217\n",
       "Fighting       199\n",
       "Strategy       170\n",
       "Platform       153\n",
       "Puzzle         114"
      ]
     },
     "execution_count": 29,
     "metadata": {},
     "output_type": "execute_result"
    }
   ],
   "source": [
    "# распределение игр по жанрам на актуальных платформах\n",
    "\n",
    "df_games_by_genre = df_new.pivot_table(index='genre', values='name', aggfunc='count')\n",
    "df_games_by_genre.sort_values(by='name', ascending=False)"
   ]
  },
  {
   "cell_type": "markdown",
   "metadata": {},
   "source": [
    "Наибольшее число игр в выборке в жанре action, их количество почти в 3 раза превышает количество игр следующих по популярности жанров - misc, sports, role-playing, adventure. При этом количество указанных жанров игр практически одинаковое, на 150 позиций меньше игр в актуальном периоде жанра shooter, остальные жанры (racing, simulation, fighting, strategy, platform, puzzle) имеют в своих категориях от 114 до 237 наблюдений в датасете."
   ]
  },
  {
   "cell_type": "markdown",
   "metadata": {},
   "source": [
    "Рассмотрим средние и медианные продажи игр с группировкой по жанрам."
   ]
  },
  {
   "cell_type": "code",
   "execution_count": 30,
   "metadata": {},
   "outputs": [
    {
     "data": {
      "text/html": [
       "<div>\n",
       "<style scoped>\n",
       "    .dataframe tbody tr th:only-of-type {\n",
       "        vertical-align: middle;\n",
       "    }\n",
       "\n",
       "    .dataframe tbody tr th {\n",
       "        vertical-align: top;\n",
       "    }\n",
       "\n",
       "    .dataframe thead tr th {\n",
       "        text-align: left;\n",
       "    }\n",
       "\n",
       "    .dataframe thead tr:last-of-type th {\n",
       "        text-align: right;\n",
       "    }\n",
       "</style>\n",
       "<table border=\"1\" class=\"dataframe\">\n",
       "  <thead>\n",
       "    <tr>\n",
       "      <th></th>\n",
       "      <th>mean</th>\n",
       "      <th>median</th>\n",
       "    </tr>\n",
       "    <tr>\n",
       "      <th></th>\n",
       "      <th>total_sales</th>\n",
       "      <th>total_sales</th>\n",
       "    </tr>\n",
       "    <tr>\n",
       "      <th>genre</th>\n",
       "      <th></th>\n",
       "      <th></th>\n",
       "    </tr>\n",
       "  </thead>\n",
       "  <tbody>\n",
       "    <tr>\n",
       "      <td>Shooter</td>\n",
       "      <td>1.170098</td>\n",
       "      <td>0.385</td>\n",
       "    </tr>\n",
       "    <tr>\n",
       "      <td>Platform</td>\n",
       "      <td>0.782484</td>\n",
       "      <td>0.210</td>\n",
       "    </tr>\n",
       "    <tr>\n",
       "      <td>Sports</td>\n",
       "      <td>0.571113</td>\n",
       "      <td>0.200</td>\n",
       "    </tr>\n",
       "    <tr>\n",
       "      <td>Fighting</td>\n",
       "      <td>0.410000</td>\n",
       "      <td>0.180</td>\n",
       "    </tr>\n",
       "    <tr>\n",
       "      <td>Racing</td>\n",
       "      <td>0.517637</td>\n",
       "      <td>0.170</td>\n",
       "    </tr>\n",
       "    <tr>\n",
       "      <td>Role-Playing</td>\n",
       "      <td>0.555070</td>\n",
       "      <td>0.150</td>\n",
       "    </tr>\n",
       "    <tr>\n",
       "      <td>Action</td>\n",
       "      <td>0.450227</td>\n",
       "      <td>0.140</td>\n",
       "    </tr>\n",
       "    <tr>\n",
       "      <td>Misc</td>\n",
       "      <td>0.407222</td>\n",
       "      <td>0.130</td>\n",
       "    </tr>\n",
       "    <tr>\n",
       "      <td>Simulation</td>\n",
       "      <td>0.330645</td>\n",
       "      <td>0.100</td>\n",
       "    </tr>\n",
       "    <tr>\n",
       "      <td>Strategy</td>\n",
       "      <td>0.210824</td>\n",
       "      <td>0.080</td>\n",
       "    </tr>\n",
       "    <tr>\n",
       "      <td>Puzzle</td>\n",
       "      <td>0.180702</td>\n",
       "      <td>0.070</td>\n",
       "    </tr>\n",
       "    <tr>\n",
       "      <td>Adventure</td>\n",
       "      <td>0.108348</td>\n",
       "      <td>0.030</td>\n",
       "    </tr>\n",
       "  </tbody>\n",
       "</table>\n",
       "</div>"
      ],
      "text/plain": [
       "                    mean      median\n",
       "             total_sales total_sales\n",
       "genre                               \n",
       "Shooter         1.170098       0.385\n",
       "Platform        0.782484       0.210\n",
       "Sports          0.571113       0.200\n",
       "Fighting        0.410000       0.180\n",
       "Racing          0.517637       0.170\n",
       "Role-Playing    0.555070       0.150\n",
       "Action          0.450227       0.140\n",
       "Misc            0.407222       0.130\n",
       "Simulation      0.330645       0.100\n",
       "Strategy        0.210824       0.080\n",
       "Puzzle          0.180702       0.070\n",
       "Adventure       0.108348       0.030"
      ]
     },
     "execution_count": 30,
     "metadata": {},
     "output_type": "execute_result"
    }
   ],
   "source": [
    "df_sales_by_genre = df_new.pivot_table(index='genre', values='total_sales', aggfunc=['mean','median'])\n",
    "df_sales_by_genre.sort_values(by=('median', 'total_sales'), ascending=False)"
   ]
  },
  {
   "cell_type": "markdown",
   "metadata": {},
   "source": [
    "Жанр Shooter имеет самое высокое значение средних общих продаж, а также медианное значение проданных копий игр, что говорит о самой высокой прибыльности среди игровых жанров.\n",
    "На втором месте по средним и медианным продажам жанр платформеры, на третьем - спортивные игры.\n",
    "Файтинги занимают по медианным продажам 4 често, а по среднему числу проданных копий конкретной игры они ниже ролевых игр, гонок и экшенов.\n",
    "\n",
    "При этом, самым плохо продаваемым жанром можно считать адвентуры с самыми низкими показателями и средних и медианных общих продаж среди всех жанров, а также пазлы, которые располагаются на 2 месте с конца. Стратегии - на 3 месте с конца."
   ]
  },
  {
   "cell_type": "code",
   "execution_count": 31,
   "metadata": {},
   "outputs": [
    {
     "data": {
      "image/png": "[encoded data removed]",
      "text/plain": [
       "<Figure size 936x576 with 1 Axes>"
      ]
     },
     "metadata": {
      "needs_background": "light"
     },
     "output_type": "display_data"
    }
   ],
   "source": [
    "# визуальное представление прибыльности жанров игр\n",
    "df_sales_by_genre.plot(kind='barh', figsize=(13,8))\n",
    "plt.legend([\"Средние продажи\", \"Медианные продажи\"])\n",
    "plt.xlabel('Количество проданных игр (млн.копий)')\n",
    "plt.ylabel('Жанр')\n",
    "plt.title('Оценка прибыльности игровых жанров')\n",
    "plt.show()"
   ]
  },
  {
   "cell_type": "markdown",
   "metadata": {},
   "source": [
    "**Вывод**\n",
    "\n",
    "Таким образом, самым популярным жанром по количеству выпускаемых игр можно считать Action. За ним следуют адвентуры, спортивные игры, ролевые игры и игры жанра Misc (к данной категории относятся игры, которые нельзя определить другими жанрами).\n",
    "\n",
    "Наименее популярными по количеству тайтлов являются игры жанров пазлы, стратегии, платформеры и файтинги.\n",
    "\n",
    "Средние и медианным продажи по жанрам свидетельствуют о том, что самым прибыльным жанром является шутер, так как в среднем он имеет самый высокий показатель количества проданных копий, также и медианное значение в данном жанре самое высокое.\n",
    "\n",
    "На втором месте - платформеры, что может быть связано с популярностью определенных тайтлов на портативных консолях, так как по количеству игр данный жанр оказался внизу списка. На третьем месте - спортивные игры, они имеют также высокий показатель количества выпущенных игр.\n",
    "\n",
    "Внизу списка по прибыльности находятся жанры: адвентуры, пазлы, стратегии. По количеству тайтлов они также внизу списка. Невысокую популярность и низкую среднюю прибыльность данных жанров можно связать с более высоким порогом вхождения и отсутствием \"развлекательности\" в данных жанрах, они требуют напряженной работы мозга и не предполагают расслабление и отдых от мыслительных процессов.\n",
    "___"
   ]
  },
  {
   "cell_type": "markdown",
   "metadata": {},
   "source": [
    "**Общий вывод по исследовательскому анализу**\n",
    "\n",
    "- Актуальными платформами на 2017 год будут PS4 и Xbox One, также актуальной является PC, так как жизненный цикл персональных компьютеров не зависит от выхода новых игровых платформ;\n",
    "- Несмотря на высокие продажи в исторических данных, платформы PS3 Xbox360 Nintendo Wii и WiiU являются \"умирающими\", что позволяет сделать вывод о резком снижении продаж на игры на указанные платформы;\n",
    "- Среди портативных платформ - самые высокие продажи у Nintendo 3DS, однако учитывая жизненный цикл платформ продажи на игры будут уменьшаться при выходе новых портативных платформ;\n",
    "- Рейтинги игроков и критиков имеют слабую зависимость с общими продажами игр, оценки критиков и пользователей между собой также имеют низкий коэффициент корреляции. На некоторых платформах ближе к средней (X360, PS3, 3DS).\n",
    "- Игры с самыми высокими продажами по всем платформам имеют рейтинг выше 70%, что говорит о наличии связи между оценками критиков и продажами. В то же время, большинство игр имеют продажи до 2 миллионов копий и расположены размашисто по всей оси от 40% до 90% рейтинга.\n",
    "- Самыми прибыльными жанрами по показателям средних и медианных продаж являются шутеры, платформеры, спортивные игры. Не прибыльными по показателям являются адвентуры, пазлы и стратегии. По количеству выпущенных игр самый популярный жанр экшн, на втором месте адвентуры, меньше всего игр выпущено в жанрах платформеры, файтинги, стратегии и пазлы. Так как файтинги и платформеры являются достаточно прибыльными жанрами по показателям средних продаж, то можно сделать вывод, что в указанных жанрах имеются определенные популярные серии игр, которые способствуют высокой прибыльности жанров."
   ]
  },
  {
   "cell_type": "markdown",
   "metadata": {},
   "source": [
    "## Портрет пользователей рассматриваемых регионов ##"
   ]
  },
  {
   "cell_type": "markdown",
   "metadata": {},
   "source": [
    "В датасете имеется разделение продаж по трем регионам: Северная Америка, Европа, Япония.\n",
    "\n",
    "Чтобы эффективнее планировать рекламную кампанию на следующий год, необходимо учитывать пользовательские привычки и особенности, в том числе влияние возрастного рейтинга на продажу игр, популярность различных жанров и платформ.\n",
    "\n",
    "Определим для пользователей каждого региона:\n",
    "\n",
    "- Самые популярные платформы (топ-5).\n",
    "- Самые популярные жанры (топ-5).\n",
    "- Влияние возрастного рейтинга ESRB на продажи в отдельных регионах."
   ]
  },
  {
   "cell_type": "code",
   "execution_count": 32,
   "metadata": {},
   "outputs": [],
   "source": [
    "# список популярных платформ по количеству проданных игр по регионам\n",
    "\n",
    "platform_sales_by_region = df_new.pivot_table(index='platform', values=['eu_sales', 'jp_sales', 'na_sales'], aggfunc='sum')\n",
    "eu_top_platforms = platform_sales_by_region.sort_values(by='eu_sales',ascending=False)['eu_sales'].head(5)\n",
    "na_top_platforms = platform_sales_by_region.sort_values(by='na_sales',ascending=False)['na_sales'].head(5)\n",
    "jp_top_platforms = platform_sales_by_region.sort_values(by='jp_sales',ascending=False)['jp_sales'].head(5)"
   ]
  },
  {
   "cell_type": "code",
   "execution_count": 33,
   "metadata": {},
   "outputs": [
    {
     "data": {
      "image/png": "[encoded data removed]",
      "text/plain": [
       "<Figure size 1440x504 with 3 Axes>"
      ]
     },
     "metadata": {
      "needs_background": "light"
     },
     "output_type": "display_data"
    }
   ],
   "source": [
    "fig, axes = plt.subplots(1,3, figsize=(20,7))\n",
    "eu_top_platforms.plot(kind='barh', ax=axes[0], subplots=True, legend=False, color='green')\n",
    "na_top_platforms.plot(kind='barh',ax=axes[1], subplots=True, legend=False, color='blue')\n",
    "jp_top_platforms.plot(kind='barh',ax=axes[2], subplots=True, legend=False, color='red')\n",
    "axes[0].set_title('Популярность платформ в Европе')\n",
    "axes[1].set_title('Популярность платформ в Америке')\n",
    "axes[2].set_title('Популярность платформ в Японии')\n",
    "\n",
    "axes[0].set_ylabel('')\n",
    "axes[1].set_ylabel('')\n",
    "axes[2].set_ylabel('')\n",
    "\n",
    "plt.show()"
   ]
  },
  {
   "cell_type": "markdown",
   "metadata": {},
   "source": [
    "На столбцовых диаграммах представлены топ-5 платформ по количеству проданных игр за актуальный период в каждом из рассматриваемых регионов:\n",
    "\n",
    "* В Европе: PS3 - Xbox360 - PS4 - PC - Nintendo Wii\n",
    "* В Америке: Xbox360 - PS3 - Nintendo Wii - PS4 - Xbox One\n",
    "* В Японии: Nintendo 3DS - PS3 - PSP - DS - PSV"
   ]
  },
  {
   "cell_type": "markdown",
   "metadata": {},
   "source": [
    "Можно сделать вывод, что в Европе и Америке популярнее игры на консоли и платформы стационарные, которые используются дома и подключаются к телевизору/монитору. В Японии в топе продаж игры на портативные платформы, причем весь список платформ от Японских производителей (Sony и Nintendo), платформы компании Microsoft не пользуются популярностью Японии."
   ]
  },
  {
   "cell_type": "markdown",
   "metadata": {},
   "source": [
    "Рассмотрим популярность проданных игр по жанрам в разных регионах."
   ]
  },
  {
   "cell_type": "code",
   "execution_count": 34,
   "metadata": {},
   "outputs": [],
   "source": [
    "# списки популярных жанров по регионам\n",
    "\n",
    "top_genre_eu = df_new.pivot_table(index='genre', values='eu_sales', aggfunc='sum').sort_values(by='eu_sales', ascending=False).head(5)\n",
    "top_genre_na = df_new.pivot_table(index='genre', values='na_sales', aggfunc='sum').sort_values(by='na_sales', ascending=False).head(5)\n",
    "top_genre_jp = df_new.pivot_table(index='genre', values='jp_sales', aggfunc='sum').sort_values(by='jp_sales', ascending=False).head(5)"
   ]
  },
  {
   "cell_type": "code",
   "execution_count": 35,
   "metadata": {},
   "outputs": [
    {
     "data": {
      "image/png": "[encoded data removed]",
      "text/plain": [
       "<Figure size 1440x504 with 3 Axes>"
      ]
     },
     "metadata": {},
     "output_type": "display_data"
    }
   ],
   "source": [
    "fig, axes = plt.subplots(1,3, figsize=(20,7))\n",
    "top_genre_eu.plot(kind='pie', ax=axes[0], subplots=True, legend=False)\n",
    "top_genre_na.plot(kind='pie',ax=axes[1], subplots=True, legend=False)\n",
    "top_genre_jp.plot(kind='pie',ax=axes[2], subplots=True, legend=False)\n",
    "axes[0].set_title('Топ-5 игровых жанров в Европе')\n",
    "axes[1].set_title('Топ-5 игровых жанров в Америке')\n",
    "axes[2].set_title('Топ-5 игровых жанров в Японии')\n",
    "\n",
    "axes[0].set_ylabel('')\n",
    "axes[1].set_ylabel('')\n",
    "axes[2].set_ylabel('')\n",
    "\n",
    "plt.show()"
   ]
  },
  {
   "cell_type": "markdown",
   "metadata": {},
   "source": [
    "Популярные жанры в Европе и Америке идентичны, в топе находятся экшены, шутеры, спортивные игры. Жанры Misc и ролевые игры занимают 4 и 5 строчки со схожей долей, при этом в Европе ролевые игры немного популярнее, а в Америке игры жанра Misc.\n",
    "\n",
    "В Японии также в топе присутствует жанр Action, однако он на втором месте после ролевых игр. Можно предположить, что популярность жанра ролевых игр связана с наличием большого количества тайтлов на 3DS в жанре JRPG (japan role-playing game), к которым относятся такие серии игр, как покемоны, dragon quest, SMT, FF и т.п., жанр платформеров не популярен на Западе, но занимает 4 строчку в Японии, что также связано с популярностью портативных консолей, на которых больше тайтлов данного жанра и в них комфортно играть в дороге."
   ]
  },
  {
   "cell_type": "markdown",
   "metadata": {},
   "source": [
    "Рассмотрим, как влияет возрастной рейтинг на продажи игр в разных регионах, напомним себе значения букв в рейтингах:\n",
    "\n",
    "- EC (Early childhood) - \"для детей младшего возраста (от 3 лет)\"\n",
    "- E (Everyone) - \"для всех (от 6 лет)\"\n",
    "- E10+ (Everyone 10 and older) - \"для всех от 10 лет и старше\"\n",
    "- T (Teen) - \"для подростков (от 13 лет)\"\n",
    "- M (Mature) - \"для взрослых (от 17 лет)\"\n",
    "- AO (Adults only) - \"только для взрослых (от 18 лет)\"\n",
    "- RP (Rating Pending) - \"рейтинг ожидается\" (ожидает присвоения рейтинга)"
   ]
  },
  {
   "cell_type": "markdown",
   "metadata": {},
   "source": [
    "Заполним пропуски игр с пропущенным рейтингом на \"нет рейтинга\""
   ]
  },
  {
   "cell_type": "code",
   "execution_count": 50,
   "metadata": {},
   "outputs": [],
   "source": [
    "# заполнение пропусков в рейтинге\n",
    "\n",
    "df_filled_rating = df_new\n",
    "df_filled_rating.loc[df_filled_rating['rating'].isna(), 'rating'] = 'нет рейтинга'"
   ]
  },
  {
   "cell_type": "code",
   "execution_count": 51,
   "metadata": {},
   "outputs": [
    {
     "data": {
      "text/html": [
       "<div>\n",
       "<style scoped>\n",
       "    .dataframe tbody tr th:only-of-type {\n",
       "        vertical-align: middle;\n",
       "    }\n",
       "\n",
       "    .dataframe tbody tr th {\n",
       "        vertical-align: top;\n",
       "    }\n",
       "\n",
       "    .dataframe thead th {\n",
       "        text-align: right;\n",
       "    }\n",
       "</style>\n",
       "<table border=\"1\" class=\"dataframe\">\n",
       "  <thead>\n",
       "    <tr style=\"text-align: right;\">\n",
       "      <th></th>\n",
       "      <th>eu_sales</th>\n",
       "      <th>jp_sales</th>\n",
       "      <th>na_sales</th>\n",
       "    </tr>\n",
       "    <tr>\n",
       "      <th>rating</th>\n",
       "      <th></th>\n",
       "      <th></th>\n",
       "      <th></th>\n",
       "    </tr>\n",
       "  </thead>\n",
       "  <tbody>\n",
       "    <tr>\n",
       "      <td>E</td>\n",
       "      <td>197.34</td>\n",
       "      <td>47.87</td>\n",
       "      <td>271.15</td>\n",
       "    </tr>\n",
       "    <tr>\n",
       "      <td>E10+</td>\n",
       "      <td>99.28</td>\n",
       "      <td>13.22</td>\n",
       "      <td>159.38</td>\n",
       "    </tr>\n",
       "    <tr>\n",
       "      <td>EC</td>\n",
       "      <td>0.00</td>\n",
       "      <td>0.00</td>\n",
       "      <td>1.13</td>\n",
       "    </tr>\n",
       "    <tr>\n",
       "      <td>M</td>\n",
       "      <td>292.04</td>\n",
       "      <td>30.45</td>\n",
       "      <td>382.22</td>\n",
       "    </tr>\n",
       "    <tr>\n",
       "      <td>RP</td>\n",
       "      <td>0.03</td>\n",
       "      <td>0.00</td>\n",
       "      <td>0.00</td>\n",
       "    </tr>\n",
       "    <tr>\n",
       "      <td>T</td>\n",
       "      <td>113.08</td>\n",
       "      <td>42.11</td>\n",
       "      <td>160.81</td>\n",
       "    </tr>\n",
       "    <tr>\n",
       "      <td>нет рейтинга</td>\n",
       "      <td>139.44</td>\n",
       "      <td>171.49</td>\n",
       "      <td>155.72</td>\n",
       "    </tr>\n",
       "  </tbody>\n",
       "</table>\n",
       "</div>"
      ],
      "text/plain": [
       "              eu_sales  jp_sales  na_sales\n",
       "rating                                    \n",
       "E               197.34     47.87    271.15\n",
       "E10+             99.28     13.22    159.38\n",
       "EC                0.00      0.00      1.13\n",
       "M               292.04     30.45    382.22\n",
       "RP                0.03      0.00      0.00\n",
       "T               113.08     42.11    160.81\n",
       "нет рейтинга    139.44    171.49    155.72"
      ]
     },
     "execution_count": 51,
     "metadata": {},
     "output_type": "execute_result"
    }
   ],
   "source": [
    "# Общие продажи в регионах по рейтингам\n",
    "\n",
    "df_filled_rating.pivot_table(index='rating', values=['eu_sales','na_sales','jp_sales'], aggfunc='sum')"
   ]
  },
  {
   "cell_type": "markdown",
   "metadata": {},
   "source": [
    "По таблице мы видим, что игры без определенного рейтинга имеют достаточно высокие продажи, в сумме соизмеримые с играми с указанным рейтингом."
   ]
  },
  {
   "cell_type": "markdown",
   "metadata": {},
   "source": [
    "Рассмотрим игры с рейтингом EC и RP, так как игры с указанными рейтингами имеют аномально низкие продажи"
   ]
  },
  {
   "cell_type": "code",
   "execution_count": 53,
   "metadata": {
    "scrolled": false
   },
   "outputs": [
    {
     "data": {
      "text/html": [
       "<div>\n",
       "<style scoped>\n",
       "    .dataframe tbody tr th:only-of-type {\n",
       "        vertical-align: middle;\n",
       "    }\n",
       "\n",
       "    .dataframe tbody tr th {\n",
       "        vertical-align: top;\n",
       "    }\n",
       "\n",
       "    .dataframe thead th {\n",
       "        text-align: right;\n",
       "    }\n",
       "</style>\n",
       "<table border=\"1\" class=\"dataframe\">\n",
       "  <thead>\n",
       "    <tr style=\"text-align: right;\">\n",
       "      <th></th>\n",
       "      <th>name</th>\n",
       "      <th>platform</th>\n",
       "      <th>year_of_release</th>\n",
       "      <th>genre</th>\n",
       "      <th>na_sales</th>\n",
       "      <th>eu_sales</th>\n",
       "      <th>jp_sales</th>\n",
       "      <th>other_sales</th>\n",
       "      <th>critic_score</th>\n",
       "      <th>user_score</th>\n",
       "      <th>rating</th>\n",
       "      <th>total_sales</th>\n",
       "    </tr>\n",
       "  </thead>\n",
       "  <tbody>\n",
       "    <tr>\n",
       "      <td>4297</td>\n",
       "      <td>Nickelodeon Team Umizoomi</td>\n",
       "      <td>DS</td>\n",
       "      <td>2011</td>\n",
       "      <td>Action</td>\n",
       "      <td>0.42</td>\n",
       "      <td>0.00</td>\n",
       "      <td>0.0</td>\n",
       "      <td>0.03</td>\n",
       "      <td>NaN</td>\n",
       "      <td>NaN</td>\n",
       "      <td>EC</td>\n",
       "      <td>0.45</td>\n",
       "    </tr>\n",
       "    <tr>\n",
       "      <td>5034</td>\n",
       "      <td>Sesame Street: Elmo's A-to-Zoo Adventure</td>\n",
       "      <td>Wii</td>\n",
       "      <td>2010</td>\n",
       "      <td>Misc</td>\n",
       "      <td>0.35</td>\n",
       "      <td>0.00</td>\n",
       "      <td>0.0</td>\n",
       "      <td>0.02</td>\n",
       "      <td>NaN</td>\n",
       "      <td>NaN</td>\n",
       "      <td>EC</td>\n",
       "      <td>0.37</td>\n",
       "    </tr>\n",
       "    <tr>\n",
       "      <td>6046</td>\n",
       "      <td>Sesame Street: Cookie's Counting Carnival</td>\n",
       "      <td>Wii</td>\n",
       "      <td>2010</td>\n",
       "      <td>Misc</td>\n",
       "      <td>0.27</td>\n",
       "      <td>0.00</td>\n",
       "      <td>0.0</td>\n",
       "      <td>0.02</td>\n",
       "      <td>NaN</td>\n",
       "      <td>NaN</td>\n",
       "      <td>EC</td>\n",
       "      <td>0.29</td>\n",
       "    </tr>\n",
       "    <tr>\n",
       "      <td>13065</td>\n",
       "      <td>Sesame Street: Cookie's Counting Carnival</td>\n",
       "      <td>PC</td>\n",
       "      <td>2010</td>\n",
       "      <td>Misc</td>\n",
       "      <td>0.05</td>\n",
       "      <td>0.00</td>\n",
       "      <td>0.0</td>\n",
       "      <td>0.00</td>\n",
       "      <td>NaN</td>\n",
       "      <td>NaN</td>\n",
       "      <td>EC</td>\n",
       "      <td>0.05</td>\n",
       "    </tr>\n",
       "    <tr>\n",
       "      <td>13455</td>\n",
       "      <td>Sesame Street: Elmo's A-to-Zoo Adventure</td>\n",
       "      <td>PC</td>\n",
       "      <td>2010</td>\n",
       "      <td>Misc</td>\n",
       "      <td>0.04</td>\n",
       "      <td>0.00</td>\n",
       "      <td>0.0</td>\n",
       "      <td>0.00</td>\n",
       "      <td>NaN</td>\n",
       "      <td>NaN</td>\n",
       "      <td>EC</td>\n",
       "      <td>0.04</td>\n",
       "    </tr>\n",
       "    <tr>\n",
       "      <td>14270</td>\n",
       "      <td>Supreme Ruler: Cold War</td>\n",
       "      <td>PC</td>\n",
       "      <td>2011</td>\n",
       "      <td>Strategy</td>\n",
       "      <td>0.00</td>\n",
       "      <td>0.03</td>\n",
       "      <td>0.0</td>\n",
       "      <td>0.01</td>\n",
       "      <td>63.0</td>\n",
       "      <td>6.8</td>\n",
       "      <td>RP</td>\n",
       "      <td>0.04</td>\n",
       "    </tr>\n",
       "  </tbody>\n",
       "</table>\n",
       "</div>"
      ],
      "text/plain": [
       "                                            name platform  year_of_release  \\\n",
       "4297                   Nickelodeon Team Umizoomi       DS             2011   \n",
       "5034    Sesame Street: Elmo's A-to-Zoo Adventure      Wii             2010   \n",
       "6046   Sesame Street: Cookie's Counting Carnival      Wii             2010   \n",
       "13065  Sesame Street: Cookie's Counting Carnival       PC             2010   \n",
       "13455   Sesame Street: Elmo's A-to-Zoo Adventure       PC             2010   \n",
       "14270                    Supreme Ruler: Cold War       PC             2011   \n",
       "\n",
       "          genre  na_sales  eu_sales  jp_sales  other_sales  critic_score  \\\n",
       "4297     Action      0.42      0.00       0.0         0.03           NaN   \n",
       "5034       Misc      0.35      0.00       0.0         0.02           NaN   \n",
       "6046       Misc      0.27      0.00       0.0         0.02           NaN   \n",
       "13065      Misc      0.05      0.00       0.0         0.00           NaN   \n",
       "13455      Misc      0.04      0.00       0.0         0.00           NaN   \n",
       "14270  Strategy      0.00      0.03       0.0         0.01          63.0   \n",
       "\n",
       "       user_score rating  total_sales  \n",
       "4297          NaN     EC         0.45  \n",
       "5034          NaN     EC         0.37  \n",
       "6046          NaN     EC         0.29  \n",
       "13065         NaN     EC         0.05  \n",
       "13455         NaN     EC         0.04  \n",
       "14270         6.8     RP         0.04  "
      ]
     },
     "execution_count": 53,
     "metadata": {},
     "output_type": "execute_result"
    }
   ],
   "source": [
    "df_filled_rating.query('rating == \"EC\" or rating == \"RP\"')"
   ]
  },
  {
   "cell_type": "markdown",
   "metadata": {},
   "source": [
    "Игры с рейтингом EC (для детей младшего возраста) - это игры про улицу Сезам и одна игра от nickelodeon, они продаются только в Америке, в Европе и Японии их продажи равны нулю.\n",
    "\n",
    "С рейтингом RP только одна игра, стратегия 2011 года на PC. RP - означает, что рейтинг игре не присвоен."
   ]
  },
  {
   "cell_type": "markdown",
   "metadata": {},
   "source": [
    "Рассмотрим, какие игры без рейтинга имеют высокие продажи"
   ]
  },
  {
   "cell_type": "code",
   "execution_count": 66,
   "metadata": {},
   "outputs": [
    {
     "data": {
      "text/html": [
       "<div>\n",
       "<style scoped>\n",
       "    .dataframe tbody tr th:only-of-type {\n",
       "        vertical-align: middle;\n",
       "    }\n",
       "\n",
       "    .dataframe tbody tr th {\n",
       "        vertical-align: top;\n",
       "    }\n",
       "\n",
       "    .dataframe thead th {\n",
       "        text-align: right;\n",
       "    }\n",
       "</style>\n",
       "<table border=\"1\" class=\"dataframe\">\n",
       "  <thead>\n",
       "    <tr style=\"text-align: right;\">\n",
       "      <th></th>\n",
       "      <th>name</th>\n",
       "      <th>platform</th>\n",
       "      <th>year_of_release</th>\n",
       "      <th>genre</th>\n",
       "      <th>na_sales</th>\n",
       "      <th>eu_sales</th>\n",
       "      <th>jp_sales</th>\n",
       "      <th>other_sales</th>\n",
       "      <th>critic_score</th>\n",
       "      <th>user_score</th>\n",
       "      <th>rating</th>\n",
       "      <th>total_sales</th>\n",
       "    </tr>\n",
       "  </thead>\n",
       "  <tbody>\n",
       "    <tr>\n",
       "      <td>108</td>\n",
       "      <td>Pokemon Sun/Moon</td>\n",
       "      <td>3DS</td>\n",
       "      <td>2016</td>\n",
       "      <td>Role-Playing</td>\n",
       "      <td>2.98</td>\n",
       "      <td>1.45</td>\n",
       "      <td>2.26</td>\n",
       "      <td>0.45</td>\n",
       "      <td>NaN</td>\n",
       "      <td>NaN</td>\n",
       "      <td>нет рейтинга</td>\n",
       "      <td>7.14</td>\n",
       "    </tr>\n",
       "    <tr>\n",
       "      <td>523</td>\n",
       "      <td>Need for Speed: Most Wanted</td>\n",
       "      <td>PS3</td>\n",
       "      <td>2012</td>\n",
       "      <td>Racing</td>\n",
       "      <td>0.71</td>\n",
       "      <td>1.46</td>\n",
       "      <td>0.06</td>\n",
       "      <td>0.58</td>\n",
       "      <td>NaN</td>\n",
       "      <td>NaN</td>\n",
       "      <td>нет рейтинга</td>\n",
       "      <td>2.81</td>\n",
       "    </tr>\n",
       "    <tr>\n",
       "      <td>278</td>\n",
       "      <td>FIFA 12</td>\n",
       "      <td>X360</td>\n",
       "      <td>2011</td>\n",
       "      <td>Sports</td>\n",
       "      <td>0.84</td>\n",
       "      <td>2.78</td>\n",
       "      <td>0.02</td>\n",
       "      <td>0.53</td>\n",
       "      <td>NaN</td>\n",
       "      <td>NaN</td>\n",
       "      <td>нет рейтинга</td>\n",
       "      <td>4.17</td>\n",
       "    </tr>\n",
       "    <tr>\n",
       "      <td>1290</td>\n",
       "      <td>LEGO City Undercover</td>\n",
       "      <td>3DS</td>\n",
       "      <td>2013</td>\n",
       "      <td>Platform</td>\n",
       "      <td>0.52</td>\n",
       "      <td>0.77</td>\n",
       "      <td>0.07</td>\n",
       "      <td>0.11</td>\n",
       "      <td>NaN</td>\n",
       "      <td>NaN</td>\n",
       "      <td>нет рейтинга</td>\n",
       "      <td>1.47</td>\n",
       "    </tr>\n",
       "    <tr>\n",
       "      <td>31</td>\n",
       "      <td>Call of Duty: Black Ops 3</td>\n",
       "      <td>PS4</td>\n",
       "      <td>2015</td>\n",
       "      <td>Shooter</td>\n",
       "      <td>6.03</td>\n",
       "      <td>5.86</td>\n",
       "      <td>0.36</td>\n",
       "      <td>2.38</td>\n",
       "      <td>NaN</td>\n",
       "      <td>NaN</td>\n",
       "      <td>нет рейтинга</td>\n",
       "      <td>14.63</td>\n",
       "    </tr>\n",
       "    <tr>\n",
       "      <td>831</td>\n",
       "      <td>Toy Story 3: The Video Game</td>\n",
       "      <td>DS</td>\n",
       "      <td>2010</td>\n",
       "      <td>Action</td>\n",
       "      <td>0.89</td>\n",
       "      <td>0.94</td>\n",
       "      <td>0.02</td>\n",
       "      <td>0.21</td>\n",
       "      <td>NaN</td>\n",
       "      <td>NaN</td>\n",
       "      <td>нет рейтинга</td>\n",
       "      <td>2.06</td>\n",
       "    </tr>\n",
       "    <tr>\n",
       "      <td>563</td>\n",
       "      <td>Yokai Watch 2 Shinuchi</td>\n",
       "      <td>3DS</td>\n",
       "      <td>2014</td>\n",
       "      <td>Role-Playing</td>\n",
       "      <td>0.00</td>\n",
       "      <td>0.00</td>\n",
       "      <td>2.68</td>\n",
       "      <td>0.00</td>\n",
       "      <td>NaN</td>\n",
       "      <td>NaN</td>\n",
       "      <td>нет рейтинга</td>\n",
       "      <td>2.68</td>\n",
       "    </tr>\n",
       "    <tr>\n",
       "      <td>910</td>\n",
       "      <td>Tomb Raider (2013)</td>\n",
       "      <td>X360</td>\n",
       "      <td>2013</td>\n",
       "      <td>Action</td>\n",
       "      <td>0.86</td>\n",
       "      <td>0.84</td>\n",
       "      <td>0.01</td>\n",
       "      <td>0.17</td>\n",
       "      <td>NaN</td>\n",
       "      <td>NaN</td>\n",
       "      <td>нет рейтинга</td>\n",
       "      <td>1.88</td>\n",
       "    </tr>\n",
       "    <tr>\n",
       "      <td>1861</td>\n",
       "      <td>Omerta: City of Gangsters</td>\n",
       "      <td>PS3</td>\n",
       "      <td>2011</td>\n",
       "      <td>Simulation</td>\n",
       "      <td>0.52</td>\n",
       "      <td>0.42</td>\n",
       "      <td>0.00</td>\n",
       "      <td>0.15</td>\n",
       "      <td>NaN</td>\n",
       "      <td>NaN</td>\n",
       "      <td>нет рейтинга</td>\n",
       "      <td>1.09</td>\n",
       "    </tr>\n",
       "    <tr>\n",
       "      <td>180</td>\n",
       "      <td>Minecraft</td>\n",
       "      <td>PS3</td>\n",
       "      <td>2014</td>\n",
       "      <td>Misc</td>\n",
       "      <td>2.03</td>\n",
       "      <td>2.37</td>\n",
       "      <td>0.00</td>\n",
       "      <td>0.87</td>\n",
       "      <td>NaN</td>\n",
       "      <td>NaN</td>\n",
       "      <td>нет рейтинга</td>\n",
       "      <td>5.27</td>\n",
       "    </tr>\n",
       "  </tbody>\n",
       "</table>\n",
       "</div>"
      ],
      "text/plain": [
       "                             name platform  year_of_release         genre  \\\n",
       "108              Pokemon Sun/Moon      3DS             2016  Role-Playing   \n",
       "523   Need for Speed: Most Wanted      PS3             2012        Racing   \n",
       "278                       FIFA 12     X360             2011        Sports   \n",
       "1290         LEGO City Undercover      3DS             2013      Platform   \n",
       "31      Call of Duty: Black Ops 3      PS4             2015       Shooter   \n",
       "831   Toy Story 3: The Video Game       DS             2010        Action   \n",
       "563        Yokai Watch 2 Shinuchi      3DS             2014  Role-Playing   \n",
       "910            Tomb Raider (2013)     X360             2013        Action   \n",
       "1861    Omerta: City of Gangsters      PS3             2011    Simulation   \n",
       "180                     Minecraft      PS3             2014          Misc   \n",
       "\n",
       "      na_sales  eu_sales  jp_sales  other_sales  critic_score  user_score  \\\n",
       "108       2.98      1.45      2.26         0.45           NaN         NaN   \n",
       "523       0.71      1.46      0.06         0.58           NaN         NaN   \n",
       "278       0.84      2.78      0.02         0.53           NaN         NaN   \n",
       "1290      0.52      0.77      0.07         0.11           NaN         NaN   \n",
       "31        6.03      5.86      0.36         2.38           NaN         NaN   \n",
       "831       0.89      0.94      0.02         0.21           NaN         NaN   \n",
       "563       0.00      0.00      2.68         0.00           NaN         NaN   \n",
       "910       0.86      0.84      0.01         0.17           NaN         NaN   \n",
       "1861      0.52      0.42      0.00         0.15           NaN         NaN   \n",
       "180       2.03      2.37      0.00         0.87           NaN         NaN   \n",
       "\n",
       "            rating  total_sales  \n",
       "108   нет рейтинга         7.14  \n",
       "523   нет рейтинга         2.81  \n",
       "278   нет рейтинга         4.17  \n",
       "1290  нет рейтинга         1.47  \n",
       "31    нет рейтинга        14.63  \n",
       "831   нет рейтинга         2.06  \n",
       "563   нет рейтинга         2.68  \n",
       "910   нет рейтинга         1.88  \n",
       "1861  нет рейтинга         1.09  \n",
       "180   нет рейтинга         5.27  "
      ]
     },
     "execution_count": 66,
     "metadata": {},
     "output_type": "execute_result"
    }
   ],
   "source": [
    "# игры без рейтинга с высокими продажами\n",
    "\n",
    "df_filled_rating.query('rating == \"нет рейтинга\" & total_sales > 1').sample(10)"
   ]
  },
  {
   "cell_type": "code",
   "execution_count": 57,
   "metadata": {},
   "outputs": [
    {
     "data": {
      "image/png": "[encoded data removed]",
      "text/plain": [
       "<Figure size 864x360 with 1 Axes>"
      ]
     },
     "metadata": {
      "needs_background": "light"
     },
     "output_type": "display_data"
    }
   ],
   "source": [
    "# пострение диаграммы размаха по рейтингу для Европы\n",
    "\n",
    "df_filled_rating.boxplot('eu_sales', by='rating', figsize=(12,5))\n",
    "plt.ylim(-0.1,0.7)\n",
    "plt.xlabel('Возрастной рейтинг игр')\n",
    "plt.title('Продажи игр с различным возрастным рейтингом в Европе')\n",
    "plt.show()"
   ]
  },
  {
   "cell_type": "markdown",
   "metadata": {},
   "source": [
    "По диаграмме видно, что наибольший размах и медианное значение наблюдается в играх с рейтингом Mature (для взрослых). Можно сделать вывод, что в Европейской части преобладают взрослые игроки. Следом идут по размаху и медианным значениям игры с рейтингом от 10 лет, от 6 лет и для подростков (от 13 лет).\n",
    "\n",
    "Игры без рейтинга, несмотря на высокие совокупные продажи (139,4 млн. копий), имеют низкие средние продажи, так как по боксплоту видно, что у таких игр самый маленький размах значений и медиана, близкая к нулевому значению. При этом у игр без рейтинга широкая линия аномальных значений. Игры без рейтинга с высокими продажами - это популярные во всем мире тайтлы, по которым отсутствует информация о рейтинге. При этом в срез попадают как Японские игры, которые предположительно могли не оцениваться по системе ESRB (Покемоны), так и Американские и Европейские тайтлы (Lego, FIFA, Minecraft), в которых пропуски могли появится по техническим причинам, либо из-за отсутствия информации в первоначальном источнике.\n",
    "\n",
    "Таким образом, для пользователей из Европы ограничения по возрасту не уменьшают продажи игр, так как самыми продаваемыми являются игры с возврастным рейтингом от 17 лет."
   ]
  },
  {
   "cell_type": "code",
   "execution_count": 58,
   "metadata": {},
   "outputs": [
    {
     "data": {
      "image/png": "[encoded data removed]",
      "text/plain": [
       "<Figure size 864x360 with 1 Axes>"
      ]
     },
     "metadata": {
      "needs_background": "light"
     },
     "output_type": "display_data"
    }
   ],
   "source": [
    "# пострение диаграммы размаха по рейтингу для Америки\n",
    "\n",
    "df_filled_rating.boxplot('na_sales', by='rating', figsize=(12,5))\n",
    "plt.ylim(-0.1,0.7)\n",
    "plt.xlabel('Возрастной рейтинг игр')\n",
    "plt.title('Продажи игр с различным возрастным рейтингом в Северной Америке')\n",
    "plt.show()"
   ]
  },
  {
   "cell_type": "markdown",
   "metadata": {},
   "source": [
    "В Америке аналогично самый большой размах наблюдается у игр с рейтингом Mature. \n",
    "Самое большое медианное значение у игр с рейтингом для маленьких детей (от 3 лет), это рассмотренные выше игры об улице Сезам и 1 детская игра Nickelodeon, которые имеют относительно высокие продажи в Америке и не продаются в других регионах.\n",
    "\n",
    "В данном случае также сложно сказать о влиянии рейтинга на продажи, в связ с широким размахом у игр для взрослой аудитории и самым большим числом проданных копий из всех рейтинговых категорий.\n",
    "\n",
    "Можно предположить, что игры для тинейджеров и взрослой аудитории затрагивают более глубокие темы без ограничений в творческом представлении сюжетной тематики, поэтому такие тайтлы имеют наибольшие продажи.\n",
    "\n",
    "С играми без рейтинга аналогичная ситуация, как и в Европейском регионе. Медиана равна нулю, узкий размах значений и больше количество аномалий.\n",
    "\n",
    "Также, в Америке, в отличие от Европы, заметно выше общее число продаж по играм с рейтингами E и E10+ (для всех от 6 лет и для всех от 10 лет)."
   ]
  },
  {
   "cell_type": "code",
   "execution_count": 67,
   "metadata": {},
   "outputs": [
    {
     "data": {
      "image/png": "[encoded data removed]",
      "text/plain": [
       "<Figure size 864x360 with 1 Axes>"
      ]
     },
     "metadata": {
      "needs_background": "light"
     },
     "output_type": "display_data"
    }
   ],
   "source": [
    "# пострение диаграммы размаха по рейтингу для Японии\n",
    "\n",
    "df_filled_rating.boxplot('jp_sales', by='rating', figsize=(12,5))\n",
    "plt.ylim(-0.1,0.7)\n",
    "plt.xlabel('Возрастной рейтинг игр')\n",
    "plt.title('Продажи игр с различным возрастным рейтингом в Японии')\n",
    "plt.show()"
   ]
  },
  {
   "cell_type": "markdown",
   "metadata": {},
   "source": [
    "Несмотря на высокие продажи игр в Японии на платформы, которые мы определили ранее, значения продаж игр с различными рейтингами в сумме намного ниже, чем в Европе и Америке. Медианные значения по графику близки либо равны нулю.\n",
    "\n",
    "Можно сделать вывод, что тайтлы популярные в Европе и Америке не продаются в Японии, а на Японских тайтлах либо не указан возрастной рейтинг по используемой в датасете градации, либо используется другой рейтинг и поэтому данные по ним отсутствуют.\n",
    "\n",
    "В Японии игры без рейтинга имеют достаточно широкий размах и медианное значение. Здесь будет справедливым предположение, что популярные Японские игры не имеют оценки рейтинга по системе ESRB. Также, в Японии самые высокие совокупные продажи имеют игры без рейтинга (171,5 млн. копий), что в 3-5 раз превышает продажи в других категориях.\n",
    "\n",
    "Для Японского рынка можно говорить об отсутствии влияния возрастного рейтинга по системе ESRB на продажи игр. Здесь самой доходной категорией являются игры с отсутствующим рейтингом."
   ]
  },
  {
   "cell_type": "markdown",
   "metadata": {},
   "source": [
    "**Вывод**\n",
    "\n",
    "Пользователи в Европе и Америке схожи по своим предпочтениям - это приверженцы стационарных консолей (PS3, Xbox360, PS4, Wii). В Европе в топ-5 также входят игры на персональные компьютеры, в Америке Xbox One.\n",
    "\n",
    "По жанрам Европейские и Американские игроки имеют полное соответствие в предпочтениях, самые популярные жанры в обоих регионах это экшены, шутеры, спортивные игры, ролевые игры и игры прочих жанров (Miscellaneous games).\n",
    "\n",
    "В Японии предпочтения пользователей более специфичные, в связи с национальными особенностями люди предпочитают портативные консоли и консоли Японского производства, самой популярной платформой является Nintendo 3DS с большим отрывом и количеством проданных игр 100 млн. копий, на втором месте стационарная платформа PS3, остальные места в топе занимают также портативные консоли (по порядку): PSP (42 млн проданных игр), DS (старший \"брат\" 3DS, предыдущее поколение портативной консоли с 28 млн. копий, PSV (портативная версия консоли PS3 с 22 млн. копий).\n",
    "\n",
    "Среди популярных жанров в Японии на первом месте с большим отрывом ролевые игры и на втором месте экшены. Далее с меньшей долей жанры Misc, platformers, adventure games.\n",
    "_____"
   ]
  },
  {
   "cell_type": "markdown",
   "metadata": {},
   "source": [
    "## Проверка гипотез"
   ]
  },
  {
   "cell_type": "markdown",
   "metadata": {},
   "source": [
    "На данном этапе проверим следующие гипотезы:\n",
    "\n",
    "1. Средние пользовательские рейтинги платформ Xbox One и PC одинаковые;\n",
    "2. Средние пользовательские рейтинги жанров Action (англ. «действие», экшен-игры) и Sports (англ. «спортивные соревнования») разные."
   ]
  },
  {
   "cell_type": "markdown",
   "metadata": {},
   "source": [
    "### Гипотеза - \"Средние пользовательские рейтинги платформ Xbox One и PC одинаковые\""
   ]
  },
  {
   "cell_type": "markdown",
   "metadata": {},
   "source": [
    "Сформулируем нулевую и альтернативную статистические гипотезы для проверки:\n",
    "* Нулевая гипотеза - Средние пользовательские оценки Xbox One и PC равны\n",
    "* Альтернативная гипотеза - Средние пользовательские оценки Xbox One и PC различаются"
   ]
  },
  {
   "cell_type": "markdown",
   "metadata": {},
   "source": [
    "В этом случае проверку можно выполнить с помощью t-теста, так как он позволяет сравнивать средния значения двух несвязных между собой выборок и на основе результата теста сделать заключение о статистическом различии между ними.\n",
    "\n",
    "Прежде чем приступать к расчету p-значения и определения порогового уровня критерия значимости, необходимо очистить датасет от пропусков и разделить две выборки: оценки по играм для Xbox One и оценки по играм для PC"
   ]
  },
  {
   "cell_type": "code",
   "execution_count": 42,
   "metadata": {},
   "outputs": [],
   "source": [
    "# очистка датасета от пропусков\n",
    "\n",
    "df_hyp = df_new.dropna()\n",
    "\n",
    "# выборки для сравнения\n",
    "\n",
    "xone_scores = df_hyp.query('platform == \"XOne\"')['user_score']\n",
    "pc_scores = df_hyp.query('platform == \"PC\"')['user_score']"
   ]
  },
  {
   "cell_type": "markdown",
   "metadata": {},
   "source": [
    "Определим критический уровень значимости alpha, считаем целесообразным установить его на уровне 0.05 и проверим гипотезу при помощи t-теста"
   ]
  },
  {
   "cell_type": "code",
   "execution_count": 43,
   "metadata": {},
   "outputs": [
    {
     "name": "stdout",
     "output_type": "stream",
     "text": [
      "p-значение 0.9170685431405989\n",
      "Гипотеза не отвергнута\n"
     ]
    }
   ],
   "source": [
    "# проверка гипотезы\n",
    "alpha = .05\n",
    "result_one = st.ttest_ind(xone_scores, pc_scores, equal_var=True)\n",
    "\n",
    "print(f'p-значение {result_one.pvalue}')\n",
    "\n",
    "if result_one.pvalue < alpha:\n",
    "    print('Отвергаем нулевую гипотезу')\n",
    "else:\n",
    "    print('Гипотеза не отвергнута')"
   ]
  },
  {
   "cell_type": "markdown",
   "metadata": {},
   "source": [
    "По результатам теста, мы видим, что p-значение крайне высокое (98%), что позволяет сделать вывод о том, что нулевую гипотезу нельзя отвергнуть - средние пользовательские оценки xbox one и pc с высокой вероятностью равны.\n",
    "\n",
    "Игры для Xbox One и PC - это в основном мультиплатформенные продукты компании Microsoft и прочих студий, выпускающих игры преимущественно на PC и других основных стационарных платформах (PS4, Xbox One, Xbox 360, PS3), поэтому логично, что оценки на игры для сравниваемых платформ схожи."
   ]
  },
  {
   "cell_type": "markdown",
   "metadata": {},
   "source": [
    "### Гипотеза - \"Средние пользовательские рейтинги жанров Action и Sports разные\""
   ]
  },
  {
   "cell_type": "markdown",
   "metadata": {},
   "source": [
    "Определим нулевую и альтернативную гипотезу, в данном случае они будут звучать следующим образом:\n",
    "\n",
    "* Нулевая гипотеза - Средние пользовательские рейтинги жанра Action равны рейтингам жанра Sports\n",
    "* Альтернативная гипотеза - Средние пользовательские рейтинги жанра Action не равны рейтингам жанра Sports"
   ]
  },
  {
   "cell_type": "markdown",
   "metadata": {},
   "source": [
    "Здесь также сравниваются 2 разные выборки, в одной оценки на игры жанра Sports, в другой - оценки на игры жанра Action. Будем использовать те же методы, что и при проверке предыдущей гипотезы. Уровень значимости оставим 0.05"
   ]
  },
  {
   "cell_type": "code",
   "execution_count": 44,
   "metadata": {},
   "outputs": [],
   "source": [
    "# выборки для сравнения\n",
    "\n",
    "sport_scores = df_hyp.query('genre == \"Sports\"')['user_score']\n",
    "action_scores = df_hyp.query('genre == \"Action\"')['user_score']"
   ]
  },
  {
   "cell_type": "code",
   "execution_count": 45,
   "metadata": {},
   "outputs": [
    {
     "name": "stdout",
     "output_type": "stream",
     "text": [
      "p-значение 1.5044454579465404e-10\n",
      "Отвергаем нулевую гипотезу\n"
     ]
    }
   ],
   "source": [
    "# проверка гипотезы\n",
    "\n",
    "result_two = st.ttest_ind(sport_scores, action_scores, equal_var=True)\n",
    "\n",
    "print(f'p-значение {result_two.pvalue}')\n",
    "\n",
    "if result_two.pvalue < alpha:\n",
    "    print('Отвергаем нулевую гипотезу')\n",
    "else:\n",
    "    print('Гипотеза не отвергнута')"
   ]
  },
  {
   "cell_type": "markdown",
   "metadata": {},
   "source": [
    "p-значение практически равно нулю, поэтому мы предполагаем, что нулевая гипотеза не верна и говорим о том, что средние пользовательские оценки в жанрах Action и Sports возможно не равны, значит с большей вероятностью мы можем предположить верность альтернативной гипотезы - средние пользовательские оценки жанра Action не равны оценкам игр жанра Sports.\n",
    "\n",
    "Посмотрим, как различаются средние оценки по жанрам"
   ]
  },
  {
   "cell_type": "code",
   "execution_count": 46,
   "metadata": {},
   "outputs": [
    {
     "name": "stdout",
     "output_type": "stream",
     "text": [
      "Средняя оценка по спортивным играм: 6.175619834710743\n",
      "Средняя оценка по играм жанра экшн: 6.829777777777778\n"
     ]
    }
   ],
   "source": [
    "print('Средняя оценка по спортивным играм:', sport_scores.mean())\n",
    "print('Средняя оценка по играм жанра экшн:', action_scores.mean())"
   ]
  },
  {
   "cell_type": "markdown",
   "metadata": {},
   "source": [
    "По средней мы видим, что пользовательские оценки экшенов статистически выше, чем по играм жанра спорт."
   ]
  },
  {
   "cell_type": "markdown",
   "metadata": {},
   "source": [
    "## Вывод"
   ]
  },
  {
   "cell_type": "markdown",
   "metadata": {},
   "source": [
    "По результатам исследования были получены следующие выводы:\n",
    "\n",
    "- Актуальными платформами на 2017 год будут PS4 и Xbox One, также актуальной является PC, так как жизненный цикл персональных компьютеров не зависит от выхода новых игровых платформ;\n",
    "- Несмотря на высокие продажи в исторических данных, платформы PS3 Xbox360 Nintendo Wii и WiiU являются \"умирающими\", что позволяет сделать вывод о резком снижении продаж на игры на указанные платформы;\n",
    "- Среди портативных платформ - самые высокие продажи у Nintendo 3DS, однако учитывая жизненный цикл платформ продажи на игры будут уменьшаться при выходе новых портативных платформ;\n",
    "- У пользователей Японии предпочтения в жанрах и используемых платформах отличаются от пользователей Европы и Северной Америки, которые имеют схожие предпочтения;\n",
    "- Японские пользователи предпочитают Японские платформы, 4 из 5 топовых платформ по историческим данным относятся к портативным, кроме PS3. \n",
    "- Среди жанров, на Западе самым популярными является Action, shooter, sports. В Японии RPG и action.\n",
    "- При помощи статистической проверки была опровегнута гипотеза о равенстве пользовательских оценок на экшены и спортивные игры, оценки отличаются, у экшенов средняя оценка выше;\n",
    "- Xbox One и PC с большой вероятностью имеют одинаковые средние оценки на игры, что логично, так как на Xbox One и PC выпускаются схожие мультиплатформенные тайтлы.\n",
    "- Игры с высоким возрастным рейтингом или общим (от 6 лет) имеют более высокие средние продажи, чем игры для детей.\n",
    "- На продажи игр в Японии рейтинг ESRB не оказывает влияния, так как игры с пропусками в рейтингах в совокупности имеют в 3-5 раз больше проданных копий, чем игры других категорий."
   ]
  }
 ],
 "metadata": {
  "ExecuteTimeLog": [
   {
    "duration": 1093,
    "start_time": "2022-01-18T04:50:08.089Z"
   },
   {
    "duration": 3,
    "start_time": "2022-01-18T04:50:42.663Z"
   },
   {
    "duration": 4579,
    "start_time": "2022-01-18T05:30:24.354Z"
   },
   {
    "duration": 4656,
    "start_time": "2022-01-18T05:31:06.478Z"
   },
   {
    "duration": 49,
    "start_time": "2022-01-18T05:33:03.012Z"
   },
   {
    "duration": 47,
    "start_time": "2022-01-18T05:33:29.605Z"
   },
   {
    "duration": 43,
    "start_time": "2022-01-18T05:45:47.432Z"
   },
   {
    "duration": 44,
    "start_time": "2022-01-18T05:45:49.593Z"
   },
   {
    "duration": 9,
    "start_time": "2022-01-18T07:32:13.529Z"
   },
   {
    "duration": 5,
    "start_time": "2022-01-18T07:32:59.053Z"
   },
   {
    "duration": 4,
    "start_time": "2022-01-18T07:33:12.598Z"
   },
   {
    "duration": 8,
    "start_time": "2022-01-18T07:35:33.225Z"
   },
   {
    "duration": 5,
    "start_time": "2022-01-18T07:38:11.549Z"
   },
   {
    "duration": 5,
    "start_time": "2022-01-18T07:41:42.739Z"
   },
   {
    "duration": -1538,
    "start_time": "2022-01-18T07:48:29.094Z"
   },
   {
    "duration": 5,
    "start_time": "2022-01-18T07:48:30.558Z"
   },
   {
    "duration": 6,
    "start_time": "2022-01-18T09:52:56.199Z"
   },
   {
    "duration": 18,
    "start_time": "2022-01-18T09:53:00.640Z"
   },
   {
    "duration": 1131,
    "start_time": "2022-01-18T09:54:35.454Z"
   },
   {
    "duration": 47,
    "start_time": "2022-01-18T09:54:36.587Z"
   },
   {
    "duration": 8,
    "start_time": "2022-01-18T09:54:36.636Z"
   },
   {
    "duration": 5,
    "start_time": "2022-01-18T09:54:36.646Z"
   },
   {
    "duration": 4,
    "start_time": "2022-01-18T09:54:36.652Z"
   },
   {
    "duration": 16,
    "start_time": "2022-01-18T09:54:36.658Z"
   },
   {
    "duration": 20,
    "start_time": "2022-01-18T09:54:36.675Z"
   },
   {
    "duration": 433,
    "start_time": "2022-01-18T09:55:02.250Z"
   },
   {
    "duration": 4,
    "start_time": "2022-01-18T09:55:04.891Z"
   },
   {
    "duration": 20,
    "start_time": "2022-01-18T09:55:32.803Z"
   },
   {
    "duration": 529,
    "start_time": "2022-01-18T09:55:55.172Z"
   },
   {
    "duration": 1053,
    "start_time": "2022-01-18T09:56:05.001Z"
   },
   {
    "duration": 51,
    "start_time": "2022-01-18T09:56:06.056Z"
   },
   {
    "duration": 9,
    "start_time": "2022-01-18T09:56:06.110Z"
   },
   {
    "duration": 7,
    "start_time": "2022-01-18T09:56:06.121Z"
   },
   {
    "duration": 10,
    "start_time": "2022-01-18T09:56:06.129Z"
   },
   {
    "duration": 18,
    "start_time": "2022-01-18T09:56:06.141Z"
   },
   {
    "duration": 18,
    "start_time": "2022-01-18T09:56:06.160Z"
   },
   {
    "duration": 30,
    "start_time": "2022-01-18T09:56:06.180Z"
   },
   {
    "duration": 3,
    "start_time": "2022-01-18T09:56:22.932Z"
   },
   {
    "duration": 17,
    "start_time": "2022-01-18T09:56:25.604Z"
   },
   {
    "duration": 62,
    "start_time": "2022-01-18T10:12:30.176Z"
   },
   {
    "duration": 9,
    "start_time": "2022-01-18T10:12:35.360Z"
   },
   {
    "duration": 9,
    "start_time": "2022-01-18T10:12:38.176Z"
   },
   {
    "duration": 1224,
    "start_time": "2022-01-18T10:13:12.123Z"
   },
   {
    "duration": 47,
    "start_time": "2022-01-18T10:13:13.349Z"
   },
   {
    "duration": 9,
    "start_time": "2022-01-18T10:13:13.398Z"
   },
   {
    "duration": 15,
    "start_time": "2022-01-18T10:13:13.408Z"
   },
   {
    "duration": 20,
    "start_time": "2022-01-18T10:13:13.424Z"
   },
   {
    "duration": 18,
    "start_time": "2022-01-18T10:13:13.445Z"
   },
   {
    "duration": 15,
    "start_time": "2022-01-18T10:13:13.464Z"
   },
   {
    "duration": 62,
    "start_time": "2022-01-18T10:13:13.481Z"
   },
   {
    "duration": 9,
    "start_time": "2022-01-18T10:13:13.545Z"
   },
   {
    "duration": 1144,
    "start_time": "2022-01-18T10:13:23.247Z"
   },
   {
    "duration": 49,
    "start_time": "2022-01-18T10:13:24.392Z"
   },
   {
    "duration": 9,
    "start_time": "2022-01-18T10:13:24.443Z"
   },
   {
    "duration": 10,
    "start_time": "2022-01-18T10:13:24.454Z"
   },
   {
    "duration": 9,
    "start_time": "2022-01-18T10:13:24.465Z"
   },
   {
    "duration": 9,
    "start_time": "2022-01-18T10:13:24.475Z"
   },
   {
    "duration": 7,
    "start_time": "2022-01-18T10:13:24.486Z"
   },
   {
    "duration": 22,
    "start_time": "2022-01-18T10:14:58.596Z"
   },
   {
    "duration": 15,
    "start_time": "2022-01-18T10:15:03.844Z"
   },
   {
    "duration": 12,
    "start_time": "2022-01-18T10:16:43.990Z"
   },
   {
    "duration": 1077,
    "start_time": "2022-01-18T10:16:51.035Z"
   },
   {
    "duration": 48,
    "start_time": "2022-01-18T10:16:52.114Z"
   },
   {
    "duration": 9,
    "start_time": "2022-01-18T10:16:52.163Z"
   },
   {
    "duration": 4,
    "start_time": "2022-01-18T10:16:52.174Z"
   },
   {
    "duration": 5,
    "start_time": "2022-01-18T10:16:52.179Z"
   },
   {
    "duration": 5,
    "start_time": "2022-01-18T10:16:52.185Z"
   },
   {
    "duration": 10,
    "start_time": "2022-01-18T10:16:52.191Z"
   },
   {
    "duration": 11,
    "start_time": "2022-01-18T10:16:52.203Z"
   },
   {
    "duration": 1134,
    "start_time": "2022-01-18T10:17:18.574Z"
   },
   {
    "duration": 47,
    "start_time": "2022-01-18T10:17:19.709Z"
   },
   {
    "duration": 9,
    "start_time": "2022-01-18T10:17:19.758Z"
   },
   {
    "duration": 4,
    "start_time": "2022-01-18T10:17:19.769Z"
   },
   {
    "duration": 4,
    "start_time": "2022-01-18T10:17:19.774Z"
   },
   {
    "duration": 6,
    "start_time": "2022-01-18T10:17:19.779Z"
   },
   {
    "duration": 4,
    "start_time": "2022-01-18T10:17:19.786Z"
   },
   {
    "duration": 11,
    "start_time": "2022-01-18T10:17:19.792Z"
   },
   {
    "duration": 15,
    "start_time": "2022-01-18T10:20:01.453Z"
   },
   {
    "duration": 13,
    "start_time": "2022-01-18T10:20:13.317Z"
   },
   {
    "duration": 6,
    "start_time": "2022-01-18T10:21:11.422Z"
   },
   {
    "duration": 4,
    "start_time": "2022-01-18T10:21:28.143Z"
   },
   {
    "duration": 11,
    "start_time": "2022-01-18T10:21:33.551Z"
   },
   {
    "duration": 16,
    "start_time": "2022-01-18T10:21:38.040Z"
   },
   {
    "duration": 1223,
    "start_time": "2022-01-18T10:22:42.641Z"
   },
   {
    "duration": 4,
    "start_time": "2022-01-18T10:22:55.594Z"
   },
   {
    "duration": 6,
    "start_time": "2022-01-18T10:23:00.369Z"
   },
   {
    "duration": 373,
    "start_time": "2022-01-18T10:23:12.226Z"
   },
   {
    "duration": 366,
    "start_time": "2022-01-18T10:25:46.263Z"
   },
   {
    "duration": 414,
    "start_time": "2022-01-18T10:25:57.222Z"
   },
   {
    "duration": 5,
    "start_time": "2022-01-18T10:26:12.886Z"
   },
   {
    "duration": 325,
    "start_time": "2022-01-18T10:26:35.520Z"
   },
   {
    "duration": 311,
    "start_time": "2022-01-18T10:28:23.058Z"
   },
   {
    "duration": 424,
    "start_time": "2022-01-18T10:28:33.251Z"
   },
   {
    "duration": 296,
    "start_time": "2022-01-18T10:30:57.911Z"
   },
   {
    "duration": 301,
    "start_time": "2022-01-18T10:31:10.879Z"
   },
   {
    "duration": 4,
    "start_time": "2022-01-18T10:32:01.384Z"
   },
   {
    "duration": 16,
    "start_time": "2022-01-18T10:32:07.192Z"
   },
   {
    "duration": 9,
    "start_time": "2022-01-18T10:32:13.622Z"
   },
   {
    "duration": 6,
    "start_time": "2022-01-18T10:32:20.408Z"
   },
   {
    "duration": 9,
    "start_time": "2022-01-18T10:32:24.577Z"
   },
   {
    "duration": 2131,
    "start_time": "2022-01-18T10:32:41.969Z"
   },
   {
    "duration": 4,
    "start_time": "2022-01-18T10:33:07.953Z"
   },
   {
    "duration": 6,
    "start_time": "2022-01-18T10:33:24.146Z"
   },
   {
    "duration": 18,
    "start_time": "2022-01-18T10:33:59.563Z"
   },
   {
    "duration": 1379,
    "start_time": "2022-01-18T10:36:10.127Z"
   },
   {
    "duration": 51,
    "start_time": "2022-01-18T10:36:11.508Z"
   },
   {
    "duration": 9,
    "start_time": "2022-01-18T10:36:11.561Z"
   },
   {
    "duration": 4,
    "start_time": "2022-01-18T10:36:11.572Z"
   },
   {
    "duration": 6,
    "start_time": "2022-01-18T10:36:11.578Z"
   },
   {
    "duration": 8,
    "start_time": "2022-01-18T10:36:11.585Z"
   },
   {
    "duration": 619,
    "start_time": "2022-01-18T10:36:11.595Z"
   },
   {
    "duration": -1204,
    "start_time": "2022-01-18T10:36:13.420Z"
   },
   {
    "duration": -1272,
    "start_time": "2022-01-18T10:36:13.489Z"
   },
   {
    "duration": -1276,
    "start_time": "2022-01-18T10:36:13.494Z"
   },
   {
    "duration": -1278,
    "start_time": "2022-01-18T10:36:13.497Z"
   },
   {
    "duration": -1280,
    "start_time": "2022-01-18T10:36:13.500Z"
   },
   {
    "duration": -1282,
    "start_time": "2022-01-18T10:36:13.503Z"
   },
   {
    "duration": 7,
    "start_time": "2022-01-18T10:36:25.722Z"
   },
   {
    "duration": 6,
    "start_time": "2022-01-18T10:36:32.315Z"
   },
   {
    "duration": 7,
    "start_time": "2022-01-18T10:36:35.747Z"
   },
   {
    "duration": 7903,
    "start_time": "2022-01-18T13:03:09.464Z"
   },
   {
    "duration": 1134,
    "start_time": "2022-01-18T13:04:32.091Z"
   },
   {
    "duration": 49,
    "start_time": "2022-01-18T13:04:33.227Z"
   },
   {
    "duration": 9,
    "start_time": "2022-01-18T13:04:33.279Z"
   },
   {
    "duration": 4,
    "start_time": "2022-01-18T13:04:33.290Z"
   },
   {
    "duration": 6,
    "start_time": "2022-01-18T13:04:33.296Z"
   },
   {
    "duration": 8,
    "start_time": "2022-01-18T13:04:33.304Z"
   },
   {
    "duration": 15,
    "start_time": "2022-01-18T13:04:33.313Z"
   },
   {
    "duration": 8,
    "start_time": "2022-01-18T13:04:33.330Z"
   },
   {
    "duration": 14,
    "start_time": "2022-01-18T13:04:33.340Z"
   },
   {
    "duration": 17,
    "start_time": "2022-01-18T13:04:33.372Z"
   },
   {
    "duration": 3,
    "start_time": "2022-01-18T13:04:33.391Z"
   },
   {
    "duration": 7,
    "start_time": "2022-01-18T13:04:33.396Z"
   },
   {
    "duration": 10,
    "start_time": "2022-01-18T13:04:33.405Z"
   },
   {
    "duration": 7,
    "start_time": "2022-01-18T13:04:54.963Z"
   },
   {
    "duration": 396,
    "start_time": "2022-01-18T13:05:13.698Z"
   },
   {
    "duration": 9,
    "start_time": "2022-01-18T13:05:24.267Z"
   },
   {
    "duration": 6,
    "start_time": "2022-01-18T13:05:38.323Z"
   },
   {
    "duration": 738,
    "start_time": "2022-01-18T13:05:53.732Z"
   },
   {
    "duration": 10,
    "start_time": "2022-01-18T13:06:05.932Z"
   },
   {
    "duration": 8,
    "start_time": "2022-01-18T13:07:53.567Z"
   },
   {
    "duration": 10,
    "start_time": "2022-01-18T13:08:02.311Z"
   },
   {
    "duration": 2,
    "start_time": "2022-01-18T17:39:21.379Z"
   },
   {
    "duration": 11,
    "start_time": "2022-01-18T17:40:53.181Z"
   },
   {
    "duration": 1100,
    "start_time": "2022-01-18T17:41:50.285Z"
   },
   {
    "duration": 46,
    "start_time": "2022-01-18T17:41:51.387Z"
   },
   {
    "duration": 9,
    "start_time": "2022-01-18T17:41:51.437Z"
   },
   {
    "duration": 5,
    "start_time": "2022-01-18T17:41:51.447Z"
   },
   {
    "duration": 19,
    "start_time": "2022-01-18T17:41:51.454Z"
   },
   {
    "duration": 4,
    "start_time": "2022-01-18T17:41:51.474Z"
   },
   {
    "duration": 8,
    "start_time": "2022-01-18T17:41:51.480Z"
   },
   {
    "duration": 6,
    "start_time": "2022-01-18T17:41:51.490Z"
   },
   {
    "duration": 15,
    "start_time": "2022-01-18T17:41:51.497Z"
   },
   {
    "duration": 16,
    "start_time": "2022-01-18T17:41:51.514Z"
   },
   {
    "duration": 3,
    "start_time": "2022-01-18T17:41:51.532Z"
   },
   {
    "duration": 10,
    "start_time": "2022-01-18T17:41:51.537Z"
   },
   {
    "duration": 34,
    "start_time": "2022-01-18T17:41:51.549Z"
   },
   {
    "duration": 5,
    "start_time": "2022-01-18T17:42:08.150Z"
   },
   {
    "duration": 7,
    "start_time": "2022-01-18T17:46:58.750Z"
   },
   {
    "duration": 16,
    "start_time": "2022-01-18T17:47:35.999Z"
   },
   {
    "duration": 14,
    "start_time": "2022-01-18T17:50:34.010Z"
   },
   {
    "duration": 349,
    "start_time": "2022-01-19T06:42:03.207Z"
   },
   {
    "duration": 342,
    "start_time": "2022-01-19T06:42:29.417Z"
   },
   {
    "duration": 1528,
    "start_time": "2022-01-19T06:42:46.912Z"
   },
   {
    "duration": 66,
    "start_time": "2022-01-19T06:42:48.443Z"
   },
   {
    "duration": 24,
    "start_time": "2022-01-19T06:42:48.513Z"
   },
   {
    "duration": 10,
    "start_time": "2022-01-19T06:42:48.541Z"
   },
   {
    "duration": 5,
    "start_time": "2022-01-19T06:42:48.554Z"
   },
   {
    "duration": 6,
    "start_time": "2022-01-19T06:42:48.562Z"
   },
   {
    "duration": 54,
    "start_time": "2022-01-19T06:42:48.571Z"
   },
   {
    "duration": 11,
    "start_time": "2022-01-19T06:42:48.630Z"
   },
   {
    "duration": 17,
    "start_time": "2022-01-19T06:42:48.644Z"
   },
   {
    "duration": 20,
    "start_time": "2022-01-19T06:42:48.663Z"
   },
   {
    "duration": 7,
    "start_time": "2022-01-19T06:42:48.725Z"
   },
   {
    "duration": 21,
    "start_time": "2022-01-19T06:42:48.736Z"
   },
   {
    "duration": 16,
    "start_time": "2022-01-19T06:42:48.760Z"
   },
   {
    "duration": 11,
    "start_time": "2022-01-19T06:42:48.779Z"
   },
   {
    "duration": 63,
    "start_time": "2022-01-19T06:42:48.792Z"
   },
   {
    "duration": 11,
    "start_time": "2022-01-19T06:42:48.857Z"
   },
   {
    "duration": 31,
    "start_time": "2022-01-19T06:42:58.145Z"
   },
   {
    "duration": 12,
    "start_time": "2022-01-19T06:43:16.987Z"
   },
   {
    "duration": 250,
    "start_time": "2022-01-19T07:16:46.024Z"
   },
   {
    "duration": 359,
    "start_time": "2022-01-19T07:17:06.584Z"
   },
   {
    "duration": 439,
    "start_time": "2022-01-19T07:18:01.825Z"
   },
   {
    "duration": 426,
    "start_time": "2022-01-19T07:18:20.522Z"
   },
   {
    "duration": 7,
    "start_time": "2022-01-19T07:18:44.155Z"
   },
   {
    "duration": 784,
    "start_time": "2022-01-19T08:12:54.792Z"
   },
   {
    "duration": 907,
    "start_time": "2022-01-19T08:13:10.994Z"
   },
   {
    "duration": 714,
    "start_time": "2022-01-19T08:16:20.446Z"
   },
   {
    "duration": 626,
    "start_time": "2022-01-19T08:16:26.399Z"
   },
   {
    "duration": 565,
    "start_time": "2022-01-19T08:16:40.911Z"
   },
   {
    "duration": 11,
    "start_time": "2022-01-19T08:19:06.211Z"
   },
   {
    "duration": 11,
    "start_time": "2022-01-19T08:30:50.254Z"
   },
   {
    "duration": 10,
    "start_time": "2022-01-19T08:31:07.927Z"
   },
   {
    "duration": 11,
    "start_time": "2022-01-19T08:31:13.087Z"
   },
   {
    "duration": 8,
    "start_time": "2022-01-19T08:42:00.520Z"
   },
   {
    "duration": 6,
    "start_time": "2022-01-19T08:42:07.857Z"
   },
   {
    "duration": 13,
    "start_time": "2022-01-19T08:42:16.281Z"
   },
   {
    "duration": 25,
    "start_time": "2022-01-19T08:42:21.833Z"
   },
   {
    "duration": 74,
    "start_time": "2022-01-19T08:51:02.367Z"
   },
   {
    "duration": 19,
    "start_time": "2022-01-19T08:51:04.544Z"
   },
   {
    "duration": 10,
    "start_time": "2022-01-19T08:51:25.239Z"
   },
   {
    "duration": 20,
    "start_time": "2022-01-19T08:51:27.808Z"
   },
   {
    "duration": 73,
    "start_time": "2022-01-19T08:52:36.722Z"
   },
   {
    "duration": 23,
    "start_time": "2022-01-19T08:52:38.033Z"
   },
   {
    "duration": 11,
    "start_time": "2022-01-19T08:56:05.744Z"
   },
   {
    "duration": 10,
    "start_time": "2022-01-19T08:56:07.336Z"
   },
   {
    "duration": 7,
    "start_time": "2022-01-19T08:56:43.592Z"
   },
   {
    "duration": 7,
    "start_time": "2022-01-19T08:56:45.041Z"
   },
   {
    "duration": 23,
    "start_time": "2022-01-19T09:00:59.759Z"
   },
   {
    "duration": 47,
    "start_time": "2022-01-19T09:01:09.256Z"
   },
   {
    "duration": 715,
    "start_time": "2022-01-19T09:01:39.437Z"
   },
   {
    "duration": 442,
    "start_time": "2022-01-19T09:01:57.465Z"
   },
   {
    "duration": 5514,
    "start_time": "2022-01-19T09:02:07.032Z"
   },
   {
    "duration": 26,
    "start_time": "2022-01-19T09:17:42.499Z"
   },
   {
    "duration": 16,
    "start_time": "2022-01-19T09:18:12.440Z"
   },
   {
    "duration": 325,
    "start_time": "2022-01-19T09:18:38.788Z"
   },
   {
    "duration": 517,
    "start_time": "2022-01-19T09:18:49.700Z"
   },
   {
    "duration": 644,
    "start_time": "2022-01-19T09:19:08.164Z"
   },
   {
    "duration": 482,
    "start_time": "2022-01-19T09:19:47.102Z"
   },
   {
    "duration": -386,
    "start_time": "2022-01-19T09:20:31.742Z"
   },
   {
    "duration": 9,
    "start_time": "2022-01-19T09:23:26.771Z"
   },
   {
    "duration": 620,
    "start_time": "2022-01-19T09:26:16.488Z"
   },
   {
    "duration": 534,
    "start_time": "2022-01-19T09:26:52.305Z"
   },
   {
    "duration": 764,
    "start_time": "2022-01-19T09:27:18.890Z"
   },
   {
    "duration": 702,
    "start_time": "2022-01-19T09:27:29.706Z"
   },
   {
    "duration": 14,
    "start_time": "2022-01-19T10:04:19.126Z"
   },
   {
    "duration": 733,
    "start_time": "2022-01-19T10:04:44.055Z"
   },
   {
    "duration": 836,
    "start_time": "2022-01-19T10:04:56.455Z"
   },
   {
    "duration": 1549,
    "start_time": "2022-01-19T10:05:19.441Z"
   },
   {
    "duration": 70,
    "start_time": "2022-01-19T10:05:20.993Z"
   },
   {
    "duration": 15,
    "start_time": "2022-01-19T10:05:21.066Z"
   },
   {
    "duration": 7,
    "start_time": "2022-01-19T10:05:21.084Z"
   },
   {
    "duration": 35,
    "start_time": "2022-01-19T10:05:21.093Z"
   },
   {
    "duration": 23,
    "start_time": "2022-01-19T10:05:21.130Z"
   },
   {
    "duration": 14,
    "start_time": "2022-01-19T10:05:21.156Z"
   },
   {
    "duration": 5,
    "start_time": "2022-01-19T10:05:21.172Z"
   },
   {
    "duration": 47,
    "start_time": "2022-01-19T10:05:21.183Z"
   },
   {
    "duration": 27,
    "start_time": "2022-01-19T10:05:21.234Z"
   },
   {
    "duration": 5,
    "start_time": "2022-01-19T10:05:21.264Z"
   },
   {
    "duration": 17,
    "start_time": "2022-01-19T10:05:21.272Z"
   },
   {
    "duration": 49,
    "start_time": "2022-01-19T10:05:21.292Z"
   },
   {
    "duration": 17,
    "start_time": "2022-01-19T10:05:21.344Z"
   },
   {
    "duration": 26,
    "start_time": "2022-01-19T10:05:21.364Z"
   },
   {
    "duration": 692,
    "start_time": "2022-01-19T10:05:21.393Z"
   },
   {
    "duration": 535,
    "start_time": "2022-01-19T10:05:22.088Z"
   },
   {
    "duration": 612,
    "start_time": "2022-01-19T10:05:32.102Z"
   },
   {
    "duration": 743,
    "start_time": "2022-01-19T10:05:47.743Z"
   },
   {
    "duration": 705,
    "start_time": "2022-01-19T10:10:14.310Z"
   },
   {
    "duration": 634,
    "start_time": "2022-01-19T10:10:26.295Z"
   },
   {
    "duration": 637,
    "start_time": "2022-01-19T10:10:30.511Z"
   },
   {
    "duration": 919,
    "start_time": "2022-01-19T10:10:41.368Z"
   },
   {
    "duration": 645,
    "start_time": "2022-01-19T10:10:53.825Z"
   },
   {
    "duration": 722,
    "start_time": "2022-01-19T10:11:14.264Z"
   },
   {
    "duration": 802,
    "start_time": "2022-01-19T10:11:21.353Z"
   },
   {
    "duration": 836,
    "start_time": "2022-01-19T10:11:49.849Z"
   },
   {
    "duration": 748,
    "start_time": "2022-01-19T10:11:56.131Z"
   },
   {
    "duration": 663,
    "start_time": "2022-01-19T10:12:12.186Z"
   },
   {
    "duration": 14,
    "start_time": "2022-01-19T10:21:03.209Z"
   },
   {
    "duration": 367,
    "start_time": "2022-01-19T10:26:52.423Z"
   },
   {
    "duration": 306,
    "start_time": "2022-01-19T10:27:23.539Z"
   },
   {
    "duration": 14,
    "start_time": "2022-01-19T10:27:33.979Z"
   },
   {
    "duration": 12,
    "start_time": "2022-01-19T10:27:42.971Z"
   },
   {
    "duration": 14,
    "start_time": "2022-01-19T10:27:53.260Z"
   },
   {
    "duration": 16,
    "start_time": "2022-01-19T10:28:01.740Z"
   },
   {
    "duration": 12,
    "start_time": "2022-01-19T10:28:15.148Z"
   },
   {
    "duration": 14,
    "start_time": "2022-01-19T10:28:34.925Z"
   },
   {
    "duration": 304,
    "start_time": "2022-01-19T10:28:43.884Z"
   },
   {
    "duration": 8,
    "start_time": "2022-01-19T10:28:47.676Z"
   },
   {
    "duration": -278,
    "start_time": "2022-01-19T10:29:46.542Z"
   },
   {
    "duration": 7498,
    "start_time": "2022-01-19T10:29:47.798Z"
   },
   {
    "duration": 1485,
    "start_time": "2022-01-19T10:30:01.463Z"
   },
   {
    "duration": 66,
    "start_time": "2022-01-19T10:30:02.951Z"
   },
   {
    "duration": 20,
    "start_time": "2022-01-19T10:30:03.021Z"
   },
   {
    "duration": 501,
    "start_time": "2022-01-19T10:30:03.045Z"
   },
   {
    "duration": -216,
    "start_time": "2022-01-19T10:30:03.765Z"
   },
   {
    "duration": -217,
    "start_time": "2022-01-19T10:30:03.767Z"
   },
   {
    "duration": -261,
    "start_time": "2022-01-19T10:30:03.813Z"
   },
   {
    "duration": -260,
    "start_time": "2022-01-19T10:30:03.814Z"
   },
   {
    "duration": -260,
    "start_time": "2022-01-19T10:30:03.815Z"
   },
   {
    "duration": -259,
    "start_time": "2022-01-19T10:30:03.816Z"
   },
   {
    "duration": -258,
    "start_time": "2022-01-19T10:30:03.817Z"
   },
   {
    "duration": -258,
    "start_time": "2022-01-19T10:30:03.818Z"
   },
   {
    "duration": -257,
    "start_time": "2022-01-19T10:30:03.819Z"
   },
   {
    "duration": -257,
    "start_time": "2022-01-19T10:30:03.820Z"
   },
   {
    "duration": -258,
    "start_time": "2022-01-19T10:30:03.822Z"
   },
   {
    "duration": -257,
    "start_time": "2022-01-19T10:30:03.823Z"
   },
   {
    "duration": -257,
    "start_time": "2022-01-19T10:30:03.824Z"
   },
   {
    "duration": -256,
    "start_time": "2022-01-19T10:30:03.825Z"
   },
   {
    "duration": 1494,
    "start_time": "2022-01-19T10:30:24.017Z"
   },
   {
    "duration": 71,
    "start_time": "2022-01-19T10:30:25.514Z"
   },
   {
    "duration": 14,
    "start_time": "2022-01-19T10:30:25.588Z"
   },
   {
    "duration": 10,
    "start_time": "2022-01-19T10:30:25.624Z"
   },
   {
    "duration": 18,
    "start_time": "2022-01-19T10:30:25.636Z"
   },
   {
    "duration": 10,
    "start_time": "2022-01-19T10:30:25.656Z"
   },
   {
    "duration": 14,
    "start_time": "2022-01-19T10:30:25.669Z"
   },
   {
    "duration": 43,
    "start_time": "2022-01-19T10:30:25.688Z"
   },
   {
    "duration": 26,
    "start_time": "2022-01-19T10:30:25.734Z"
   },
   {
    "duration": 21,
    "start_time": "2022-01-19T10:30:25.762Z"
   },
   {
    "duration": 5,
    "start_time": "2022-01-19T10:30:25.786Z"
   },
   {
    "duration": 39,
    "start_time": "2022-01-19T10:30:25.793Z"
   },
   {
    "duration": 27,
    "start_time": "2022-01-19T10:30:25.835Z"
   },
   {
    "duration": 12,
    "start_time": "2022-01-19T10:30:25.864Z"
   },
   {
    "duration": 24,
    "start_time": "2022-01-19T10:30:25.878Z"
   },
   {
    "duration": 627,
    "start_time": "2022-01-19T10:30:25.904Z"
   },
   {
    "duration": 666,
    "start_time": "2022-01-19T10:30:26.534Z"
   },
   {
    "duration": 23,
    "start_time": "2022-01-19T10:30:27.203Z"
   },
   {
    "duration": 1534,
    "start_time": "2022-01-19T10:30:40.863Z"
   },
   {
    "duration": 70,
    "start_time": "2022-01-19T10:30:42.400Z"
   },
   {
    "duration": 15,
    "start_time": "2022-01-19T10:30:42.473Z"
   },
   {
    "duration": 32,
    "start_time": "2022-01-19T10:30:42.492Z"
   },
   {
    "duration": 7,
    "start_time": "2022-01-19T10:30:42.527Z"
   },
   {
    "duration": 21,
    "start_time": "2022-01-19T10:30:42.536Z"
   },
   {
    "duration": 17,
    "start_time": "2022-01-19T10:30:42.559Z"
   },
   {
    "duration": 15,
    "start_time": "2022-01-19T10:30:42.579Z"
   },
   {
    "duration": 38,
    "start_time": "2022-01-19T10:30:42.599Z"
   },
   {
    "duration": 37,
    "start_time": "2022-01-19T10:30:42.640Z"
   },
   {
    "duration": 6,
    "start_time": "2022-01-19T10:30:42.679Z"
   },
   {
    "duration": 36,
    "start_time": "2022-01-19T10:30:42.688Z"
   },
   {
    "duration": 21,
    "start_time": "2022-01-19T10:30:42.727Z"
   },
   {
    "duration": 27,
    "start_time": "2022-01-19T10:30:42.751Z"
   },
   {
    "duration": 22,
    "start_time": "2022-01-19T10:30:42.780Z"
   },
   {
    "duration": 725,
    "start_time": "2022-01-19T10:30:42.804Z"
   },
   {
    "duration": 651,
    "start_time": "2022-01-19T10:30:43.532Z"
   },
   {
    "duration": 8,
    "start_time": "2022-01-19T10:30:44.185Z"
   },
   {
    "duration": 5,
    "start_time": "2022-01-19T10:31:21.205Z"
   },
   {
    "duration": 110,
    "start_time": "2022-01-19T10:34:16.442Z"
   },
   {
    "duration": 105,
    "start_time": "2022-01-19T10:34:26.778Z"
   },
   {
    "duration": 102,
    "start_time": "2022-01-19T10:35:18.971Z"
   },
   {
    "duration": 42,
    "start_time": "2022-01-19T10:35:33.205Z"
   },
   {
    "duration": 36,
    "start_time": "2022-01-19T10:35:39.155Z"
   },
   {
    "duration": 25,
    "start_time": "2022-01-19T10:36:22.149Z"
   },
   {
    "duration": 36,
    "start_time": "2022-01-19T10:36:23.355Z"
   },
   {
    "duration": 11,
    "start_time": "2022-01-19T10:37:18.233Z"
   },
   {
    "duration": 26,
    "start_time": "2022-01-19T10:37:19.646Z"
   },
   {
    "duration": 37,
    "start_time": "2022-01-19T10:37:23.272Z"
   },
   {
    "duration": 27,
    "start_time": "2022-01-19T10:37:40.752Z"
   },
   {
    "duration": 49,
    "start_time": "2022-01-19T10:37:45.376Z"
   },
   {
    "duration": 542,
    "start_time": "2022-01-19T10:38:04.425Z"
   },
   {
    "duration": 10,
    "start_time": "2022-01-19T10:39:16.155Z"
   },
   {
    "duration": 4,
    "start_time": "2022-01-19T10:39:28.123Z"
   },
   {
    "duration": 29,
    "start_time": "2022-01-19T10:39:32.571Z"
   },
   {
    "duration": 434,
    "start_time": "2022-01-19T10:39:35.330Z"
   },
   {
    "duration": 1346,
    "start_time": "2022-01-19T10:40:28.349Z"
   },
   {
    "duration": 411,
    "start_time": "2022-01-19T10:40:40.245Z"
   },
   {
    "duration": 705,
    "start_time": "2022-01-19T10:40:53.397Z"
   },
   {
    "duration": 5,
    "start_time": "2022-01-19T10:45:35.681Z"
   },
   {
    "duration": 27,
    "start_time": "2022-01-19T10:45:37.069Z"
   },
   {
    "duration": 741,
    "start_time": "2022-01-19T10:45:57.549Z"
   },
   {
    "duration": 973,
    "start_time": "2022-01-19T10:46:12.142Z"
   },
   {
    "duration": 635,
    "start_time": "2022-01-19T10:57:28.557Z"
   },
   {
    "duration": 5,
    "start_time": "2022-01-19T10:58:08.248Z"
   },
   {
    "duration": 52,
    "start_time": "2022-01-19T10:58:09.697Z"
   },
   {
    "duration": 1070,
    "start_time": "2022-01-19T10:58:11.280Z"
   },
   {
    "duration": 862,
    "start_time": "2022-01-19T11:00:16.164Z"
   },
   {
    "duration": 867,
    "start_time": "2022-01-19T11:00:27.925Z"
   },
   {
    "duration": 761,
    "start_time": "2022-01-19T11:00:35.284Z"
   },
   {
    "duration": 1055,
    "start_time": "2022-01-19T11:00:50.501Z"
   },
   {
    "duration": 653,
    "start_time": "2022-01-19T11:01:02.741Z"
   },
   {
    "duration": 658,
    "start_time": "2022-01-19T11:01:15.422Z"
   },
   {
    "duration": 2120,
    "start_time": "2022-01-19T11:06:16.822Z"
   },
   {
    "duration": 678,
    "start_time": "2022-01-19T11:06:27.557Z"
   },
   {
    "duration": 5,
    "start_time": "2022-01-19T11:06:47.638Z"
   },
   {
    "duration": 24,
    "start_time": "2022-01-19T11:06:48.869Z"
   },
   {
    "duration": 808,
    "start_time": "2022-01-19T11:06:50.646Z"
   },
   {
    "duration": 7,
    "start_time": "2022-01-19T11:07:24.214Z"
   },
   {
    "duration": 1492,
    "start_time": "2022-01-19T11:07:42.245Z"
   },
   {
    "duration": 71,
    "start_time": "2022-01-19T11:07:43.740Z"
   },
   {
    "duration": 22,
    "start_time": "2022-01-19T11:07:43.813Z"
   },
   {
    "duration": 15,
    "start_time": "2022-01-19T11:07:43.838Z"
   },
   {
    "duration": 9,
    "start_time": "2022-01-19T11:07:43.855Z"
   },
   {
    "duration": 6,
    "start_time": "2022-01-19T11:07:43.867Z"
   },
   {
    "duration": 10,
    "start_time": "2022-01-19T11:07:43.875Z"
   },
   {
    "duration": 41,
    "start_time": "2022-01-19T11:07:43.888Z"
   },
   {
    "duration": 24,
    "start_time": "2022-01-19T11:07:43.934Z"
   },
   {
    "duration": 24,
    "start_time": "2022-01-19T11:07:43.962Z"
   },
   {
    "duration": 5,
    "start_time": "2022-01-19T11:07:43.988Z"
   },
   {
    "duration": 46,
    "start_time": "2022-01-19T11:07:43.995Z"
   },
   {
    "duration": 14,
    "start_time": "2022-01-19T11:07:44.044Z"
   },
   {
    "duration": 7,
    "start_time": "2022-01-19T11:07:44.061Z"
   },
   {
    "duration": 59,
    "start_time": "2022-01-19T11:07:44.070Z"
   },
   {
    "duration": 600,
    "start_time": "2022-01-19T11:07:44.131Z"
   },
   {
    "duration": 640,
    "start_time": "2022-01-19T11:07:44.734Z"
   },
   {
    "duration": 9,
    "start_time": "2022-01-19T11:07:45.377Z"
   },
   {
    "duration": 61,
    "start_time": "2022-01-19T11:07:45.389Z"
   },
   {
    "duration": 690,
    "start_time": "2022-01-19T11:07:45.452Z"
   },
   {
    "duration": 663,
    "start_time": "2022-01-19T11:08:04.005Z"
   },
   {
    "duration": 770,
    "start_time": "2022-01-19T11:08:12.773Z"
   },
   {
    "duration": 110,
    "start_time": "2022-01-19T15:49:02.911Z"
   },
   {
    "duration": 184,
    "start_time": "2022-01-19T15:49:22.304Z"
   },
   {
    "duration": 134,
    "start_time": "2022-01-19T15:50:08.393Z"
   },
   {
    "duration": 96,
    "start_time": "2022-01-19T15:50:52.035Z"
   },
   {
    "duration": 111,
    "start_time": "2022-01-19T15:51:36.348Z"
   },
   {
    "duration": 20,
    "start_time": "2022-01-19T15:52:14.476Z"
   },
   {
    "duration": 22,
    "start_time": "2022-01-19T15:52:32.053Z"
   },
   {
    "duration": 19,
    "start_time": "2022-01-19T15:52:36.093Z"
   },
   {
    "duration": 33,
    "start_time": "2022-01-19T15:52:42.678Z"
   },
   {
    "duration": 27,
    "start_time": "2022-01-19T15:53:09.238Z"
   },
   {
    "duration": 57,
    "start_time": "2022-01-19T15:54:16.728Z"
   },
   {
    "duration": 35,
    "start_time": "2022-01-19T15:54:43.438Z"
   },
   {
    "duration": 40,
    "start_time": "2022-01-19T15:55:36.059Z"
   },
   {
    "duration": 30,
    "start_time": "2022-01-19T15:58:04.997Z"
   },
   {
    "duration": 21,
    "start_time": "2022-01-19T15:58:16.206Z"
   },
   {
    "duration": 22,
    "start_time": "2022-01-19T15:59:13.449Z"
   },
   {
    "duration": 9640,
    "start_time": "2022-01-19T15:59:32.744Z"
   },
   {
    "duration": 20,
    "start_time": "2022-01-19T15:59:49.633Z"
   },
   {
    "duration": 356,
    "start_time": "2022-01-19T16:00:04.507Z"
   },
   {
    "duration": 19,
    "start_time": "2022-01-19T16:00:11.098Z"
   },
   {
    "duration": 316,
    "start_time": "2022-01-19T16:00:29.354Z"
   },
   {
    "duration": 23,
    "start_time": "2022-01-19T16:00:33.595Z"
   },
   {
    "duration": 20,
    "start_time": "2022-01-19T16:01:57.948Z"
   },
   {
    "duration": 724,
    "start_time": "2022-01-19T16:04:33.105Z"
   },
   {
    "duration": 647,
    "start_time": "2022-01-19T16:04:52.570Z"
   },
   {
    "duration": 1004,
    "start_time": "2022-01-19T16:12:09.757Z"
   },
   {
    "duration": 671,
    "start_time": "2022-01-19T16:13:56.032Z"
   },
   {
    "duration": 784,
    "start_time": "2022-01-19T16:14:21.944Z"
   },
   {
    "duration": 783,
    "start_time": "2022-01-19T16:14:56.256Z"
   },
   {
    "duration": 309,
    "start_time": "2022-01-19T16:15:04.401Z"
   },
   {
    "duration": 5821,
    "start_time": "2022-01-19T16:15:48.203Z"
   },
   {
    "duration": 792,
    "start_time": "2022-01-19T16:16:14.067Z"
   },
   {
    "duration": 693,
    "start_time": "2022-01-19T16:18:13.246Z"
   },
   {
    "duration": 638,
    "start_time": "2022-01-19T16:18:20.614Z"
   },
   {
    "duration": 689,
    "start_time": "2022-01-19T16:18:25.574Z"
   },
   {
    "duration": 16,
    "start_time": "2022-01-19T16:42:05.722Z"
   },
   {
    "duration": 17,
    "start_time": "2022-01-19T16:42:16.905Z"
   },
   {
    "duration": 14,
    "start_time": "2022-01-19T16:42:20.618Z"
   },
   {
    "duration": 17,
    "start_time": "2022-01-19T16:42:24.146Z"
   },
   {
    "duration": 308,
    "start_time": "2022-01-19T16:43:06.772Z"
   },
   {
    "duration": 307,
    "start_time": "2022-01-19T16:43:17.988Z"
   },
   {
    "duration": 290,
    "start_time": "2022-01-19T16:43:25.916Z"
   },
   {
    "duration": 302,
    "start_time": "2022-01-19T16:43:57.069Z"
   },
   {
    "duration": 10,
    "start_time": "2022-01-19T16:44:04.348Z"
   },
   {
    "duration": 9,
    "start_time": "2022-01-19T16:44:11.693Z"
   },
   {
    "duration": 7,
    "start_time": "2022-01-19T16:46:06.737Z"
   },
   {
    "duration": 25,
    "start_time": "2022-01-19T16:46:14.120Z"
   },
   {
    "duration": 590,
    "start_time": "2022-01-19T16:46:15.592Z"
   },
   {
    "duration": 563,
    "start_time": "2022-01-19T16:47:54.875Z"
   },
   {
    "duration": 591,
    "start_time": "2022-01-19T16:48:10.620Z"
   },
   {
    "duration": 609,
    "start_time": "2022-01-19T16:48:22.220Z"
   },
   {
    "duration": 590,
    "start_time": "2022-01-19T16:48:29.388Z"
   },
   {
    "duration": 607,
    "start_time": "2022-01-19T16:48:41.604Z"
   },
   {
    "duration": 566,
    "start_time": "2022-01-19T16:48:48.388Z"
   },
   {
    "duration": 673,
    "start_time": "2022-01-19T16:51:36.161Z"
   },
   {
    "duration": 546,
    "start_time": "2022-01-19T16:51:45.385Z"
   },
   {
    "duration": 565,
    "start_time": "2022-01-19T16:52:02.337Z"
   },
   {
    "duration": 545,
    "start_time": "2022-01-19T16:52:08.202Z"
   },
   {
    "duration": 696,
    "start_time": "2022-01-19T16:52:13.882Z"
   },
   {
    "duration": 833,
    "start_time": "2022-01-19T16:52:20.746Z"
   },
   {
    "duration": 555,
    "start_time": "2022-01-19T16:52:25.931Z"
   },
   {
    "duration": 551,
    "start_time": "2022-01-19T16:53:07.123Z"
   },
   {
    "duration": 12,
    "start_time": "2022-01-19T16:53:46.349Z"
   },
   {
    "duration": 10,
    "start_time": "2022-01-19T17:25:28.903Z"
   },
   {
    "duration": 16,
    "start_time": "2022-01-19T17:25:39.167Z"
   },
   {
    "duration": 16,
    "start_time": "2022-01-19T17:26:20.745Z"
   },
   {
    "duration": 16,
    "start_time": "2022-01-19T18:36:09.778Z"
   },
   {
    "duration": 404,
    "start_time": "2022-01-20T06:00:41.704Z"
   },
   {
    "duration": 1414,
    "start_time": "2022-01-20T06:01:14.028Z"
   },
   {
    "duration": 67,
    "start_time": "2022-01-20T06:01:15.445Z"
   },
   {
    "duration": 16,
    "start_time": "2022-01-20T06:01:15.515Z"
   },
   {
    "duration": 32,
    "start_time": "2022-01-20T06:01:15.534Z"
   },
   {
    "duration": 8,
    "start_time": "2022-01-20T06:01:15.569Z"
   },
   {
    "duration": 9,
    "start_time": "2022-01-20T06:01:15.580Z"
   },
   {
    "duration": 25,
    "start_time": "2022-01-20T06:01:15.592Z"
   },
   {
    "duration": 7,
    "start_time": "2022-01-20T06:01:15.620Z"
   },
   {
    "duration": 46,
    "start_time": "2022-01-20T06:01:15.631Z"
   },
   {
    "duration": 20,
    "start_time": "2022-01-20T06:01:15.680Z"
   },
   {
    "duration": 4,
    "start_time": "2022-01-20T06:01:15.703Z"
   },
   {
    "duration": 12,
    "start_time": "2022-01-20T06:01:15.709Z"
   },
   {
    "duration": 52,
    "start_time": "2022-01-20T06:01:15.723Z"
   },
   {
    "duration": 7,
    "start_time": "2022-01-20T06:01:15.778Z"
   },
   {
    "duration": 26,
    "start_time": "2022-01-20T06:01:15.787Z"
   },
   {
    "duration": 599,
    "start_time": "2022-01-20T06:01:15.815Z"
   },
   {
    "duration": 607,
    "start_time": "2022-01-20T06:01:16.417Z"
   },
   {
    "duration": 7,
    "start_time": "2022-01-20T06:01:17.027Z"
   },
   {
    "duration": 55,
    "start_time": "2022-01-20T06:01:17.036Z"
   },
   {
    "duration": 495,
    "start_time": "2022-01-20T06:01:17.093Z"
   },
   {
    "duration": 18,
    "start_time": "2022-01-20T06:01:17.591Z"
   },
   {
    "duration": 30,
    "start_time": "2022-01-20T06:01:17.611Z"
   },
   {
    "duration": 504,
    "start_time": "2022-01-20T06:01:17.644Z"
   },
   {
    "duration": 414,
    "start_time": "2022-01-20T06:01:50.233Z"
   },
   {
    "duration": 405,
    "start_time": "2022-01-20T08:31:25.737Z"
   },
   {
    "duration": 445,
    "start_time": "2022-01-20T08:32:00.994Z"
   },
   {
    "duration": 39,
    "start_time": "2022-01-20T08:32:29.379Z"
   },
   {
    "duration": 722,
    "start_time": "2022-01-20T08:35:44.953Z"
   },
   {
    "duration": 573,
    "start_time": "2022-01-20T09:20:17.435Z"
   },
   {
    "duration": 767,
    "start_time": "2022-01-20T09:21:06.607Z"
   },
   {
    "duration": 753,
    "start_time": "2022-01-20T09:21:23.750Z"
   },
   {
    "duration": 814,
    "start_time": "2022-01-20T09:21:33.907Z"
   },
   {
    "duration": 1155,
    "start_time": "2022-01-20T09:22:07.680Z"
   },
   {
    "duration": 469,
    "start_time": "2022-01-20T09:22:18.120Z"
   },
   {
    "duration": 933,
    "start_time": "2022-01-20T09:22:26.961Z"
   },
   {
    "duration": 664,
    "start_time": "2022-01-20T09:22:55.201Z"
   },
   {
    "duration": 35,
    "start_time": "2022-01-20T09:24:52.957Z"
   },
   {
    "duration": 859,
    "start_time": "2022-01-20T12:20:59.315Z"
   },
   {
    "duration": 925,
    "start_time": "2022-01-20T12:21:09.582Z"
   },
   {
    "duration": 842,
    "start_time": "2022-01-20T12:21:17.414Z"
   },
   {
    "duration": 1100,
    "start_time": "2022-01-20T12:21:41.567Z"
   },
   {
    "duration": 859,
    "start_time": "2022-01-20T12:25:25.109Z"
   },
   {
    "duration": 1127,
    "start_time": "2022-01-20T12:27:32.512Z"
   },
   {
    "duration": 297,
    "start_time": "2022-01-20T16:37:57.617Z"
   },
   {
    "duration": 20,
    "start_time": "2022-01-20T16:39:02.002Z"
   },
   {
    "duration": 32,
    "start_time": "2022-01-20T16:40:15.203Z"
   },
   {
    "duration": 21,
    "start_time": "2022-01-20T16:40:23.229Z"
   },
   {
    "duration": 21,
    "start_time": "2022-01-20T16:42:06.046Z"
   },
   {
    "duration": 22,
    "start_time": "2022-01-20T16:42:46.353Z"
   },
   {
    "duration": 21,
    "start_time": "2022-01-20T16:43:27.818Z"
   },
   {
    "duration": 20,
    "start_time": "2022-01-20T16:43:40.534Z"
   },
   {
    "duration": 1085,
    "start_time": "2022-01-21T04:44:37.661Z"
   },
   {
    "duration": 49,
    "start_time": "2022-01-21T04:44:38.748Z"
   },
   {
    "duration": 10,
    "start_time": "2022-01-21T04:44:38.799Z"
   },
   {
    "duration": 10,
    "start_time": "2022-01-21T04:44:38.811Z"
   },
   {
    "duration": 6,
    "start_time": "2022-01-21T04:44:38.823Z"
   },
   {
    "duration": 8,
    "start_time": "2022-01-21T04:44:38.831Z"
   },
   {
    "duration": 10,
    "start_time": "2022-01-21T04:44:38.840Z"
   },
   {
    "duration": 7,
    "start_time": "2022-01-21T04:44:38.853Z"
   },
   {
    "duration": 17,
    "start_time": "2022-01-21T04:44:38.862Z"
   },
   {
    "duration": 35,
    "start_time": "2022-01-21T04:44:38.881Z"
   },
   {
    "duration": 5,
    "start_time": "2022-01-21T04:44:38.918Z"
   },
   {
    "duration": 13,
    "start_time": "2022-01-21T04:44:38.925Z"
   },
   {
    "duration": 12,
    "start_time": "2022-01-21T04:44:38.940Z"
   },
   {
    "duration": 8,
    "start_time": "2022-01-21T04:44:38.953Z"
   },
   {
    "duration": 54,
    "start_time": "2022-01-21T04:44:38.963Z"
   },
   {
    "duration": 366,
    "start_time": "2022-01-21T04:44:39.019Z"
   },
   {
    "duration": 384,
    "start_time": "2022-01-21T04:44:39.386Z"
   },
   {
    "duration": 5,
    "start_time": "2022-01-21T04:44:39.772Z"
   },
   {
    "duration": 29,
    "start_time": "2022-01-21T04:44:39.779Z"
   },
   {
    "duration": 332,
    "start_time": "2022-01-21T04:44:39.810Z"
   },
   {
    "duration": 13,
    "start_time": "2022-01-21T04:44:40.144Z"
   },
   {
    "duration": 33,
    "start_time": "2022-01-21T04:44:40.159Z"
   },
   {
    "duration": 25,
    "start_time": "2022-01-21T04:44:40.196Z"
   },
   {
    "duration": 510,
    "start_time": "2022-01-21T04:44:40.222Z"
   },
   {
    "duration": 14,
    "start_time": "2022-01-21T04:44:40.734Z"
   },
   {
    "duration": 12,
    "start_time": "2022-01-21T06:58:22.373Z"
   },
   {
    "duration": 11,
    "start_time": "2022-01-21T07:03:00.940Z"
   },
   {
    "duration": 62,
    "start_time": "2022-01-21T07:03:18.573Z"
   },
   {
    "duration": 22,
    "start_time": "2022-01-21T07:03:30.637Z"
   },
   {
    "duration": 8,
    "start_time": "2022-01-21T07:04:34.293Z"
   },
   {
    "duration": 89,
    "start_time": "2022-01-21T07:04:47.631Z"
   },
   {
    "duration": 33,
    "start_time": "2022-01-21T07:05:05.383Z"
   },
   {
    "duration": 21,
    "start_time": "2022-01-21T07:07:07.659Z"
   },
   {
    "duration": 4178,
    "start_time": "2022-01-21T07:30:34.703Z"
   },
   {
    "duration": 1389,
    "start_time": "2022-01-21T07:33:19.770Z"
   },
   {
    "duration": 1465,
    "start_time": "2022-01-21T07:34:10.388Z"
   },
   {
    "duration": 1443,
    "start_time": "2022-01-21T07:35:00.670Z"
   },
   {
    "duration": 1141,
    "start_time": "2022-01-21T07:35:37.601Z"
   },
   {
    "duration": 50,
    "start_time": "2022-01-21T07:35:38.744Z"
   },
   {
    "duration": 10,
    "start_time": "2022-01-21T07:35:38.796Z"
   },
   {
    "duration": 8,
    "start_time": "2022-01-21T07:35:38.807Z"
   },
   {
    "duration": 9,
    "start_time": "2022-01-21T07:35:38.817Z"
   },
   {
    "duration": 12,
    "start_time": "2022-01-21T07:35:38.827Z"
   },
   {
    "duration": 10,
    "start_time": "2022-01-21T07:35:38.841Z"
   },
   {
    "duration": 4,
    "start_time": "2022-01-21T07:35:38.853Z"
   },
   {
    "duration": 13,
    "start_time": "2022-01-21T07:35:38.859Z"
   },
   {
    "duration": 35,
    "start_time": "2022-01-21T07:35:38.874Z"
   },
   {
    "duration": 4,
    "start_time": "2022-01-21T07:35:38.912Z"
   },
   {
    "duration": 13,
    "start_time": "2022-01-21T07:35:38.917Z"
   },
   {
    "duration": 12,
    "start_time": "2022-01-21T07:35:38.932Z"
   },
   {
    "duration": 8,
    "start_time": "2022-01-21T07:35:38.947Z"
   },
   {
    "duration": 47,
    "start_time": "2022-01-21T07:35:38.957Z"
   },
   {
    "duration": 381,
    "start_time": "2022-01-21T07:35:39.006Z"
   },
   {
    "duration": 386,
    "start_time": "2022-01-21T07:35:39.396Z"
   },
   {
    "duration": 5,
    "start_time": "2022-01-21T07:35:39.784Z"
   },
   {
    "duration": 43,
    "start_time": "2022-01-21T07:35:39.797Z"
   },
   {
    "duration": 375,
    "start_time": "2022-01-21T07:35:39.842Z"
   },
   {
    "duration": 14,
    "start_time": "2022-01-21T07:35:40.218Z"
   },
   {
    "duration": 33,
    "start_time": "2022-01-21T07:35:40.233Z"
   },
   {
    "duration": 36,
    "start_time": "2022-01-21T07:35:40.268Z"
   },
   {
    "duration": 509,
    "start_time": "2022-01-21T07:35:40.305Z"
   },
   {
    "duration": 10,
    "start_time": "2022-01-21T07:35:40.816Z"
   },
   {
    "duration": 40,
    "start_time": "2022-01-21T07:35:40.827Z"
   },
   {
    "duration": 1435,
    "start_time": "2022-01-21T07:35:40.869Z"
   },
   {
    "duration": 1337,
    "start_time": "2022-01-21T07:35:42.305Z"
   },
   {
    "duration": 19,
    "start_time": "2022-01-21T07:37:24.364Z"
   },
   {
    "duration": 7,
    "start_time": "2022-01-21T07:40:10.098Z"
   },
   {
    "duration": 1189,
    "start_time": "2022-01-21T07:40:58.774Z"
   },
   {
    "duration": 55,
    "start_time": "2022-01-21T07:40:59.965Z"
   },
   {
    "duration": 12,
    "start_time": "2022-01-21T07:41:00.023Z"
   },
   {
    "duration": 26,
    "start_time": "2022-01-21T07:41:00.037Z"
   },
   {
    "duration": 24,
    "start_time": "2022-01-21T07:41:00.065Z"
   },
   {
    "duration": 32,
    "start_time": "2022-01-21T07:41:00.092Z"
   },
   {
    "duration": 20,
    "start_time": "2022-01-21T07:41:00.126Z"
   },
   {
    "duration": 40,
    "start_time": "2022-01-21T07:41:00.147Z"
   },
   {
    "duration": 32,
    "start_time": "2022-01-21T07:41:00.190Z"
   },
   {
    "duration": 21,
    "start_time": "2022-01-21T07:41:00.225Z"
   },
   {
    "duration": 4,
    "start_time": "2022-01-21T07:41:00.247Z"
   },
   {
    "duration": 19,
    "start_time": "2022-01-21T07:41:00.252Z"
   },
   {
    "duration": 29,
    "start_time": "2022-01-21T07:41:00.273Z"
   },
   {
    "duration": 22,
    "start_time": "2022-01-21T07:41:00.303Z"
   },
   {
    "duration": 28,
    "start_time": "2022-01-21T07:41:00.327Z"
   },
   {
    "duration": 372,
    "start_time": "2022-01-21T07:41:00.357Z"
   },
   {
    "duration": 399,
    "start_time": "2022-01-21T07:41:00.731Z"
   },
   {
    "duration": 6,
    "start_time": "2022-01-21T07:41:01.131Z"
   },
   {
    "duration": 32,
    "start_time": "2022-01-21T07:41:01.139Z"
   },
   {
    "duration": 339,
    "start_time": "2022-01-21T07:41:01.173Z"
   },
   {
    "duration": 17,
    "start_time": "2022-01-21T07:41:01.514Z"
   },
   {
    "duration": 22,
    "start_time": "2022-01-21T07:41:01.533Z"
   },
   {
    "duration": 44,
    "start_time": "2022-01-21T07:41:01.557Z"
   },
   {
    "duration": 573,
    "start_time": "2022-01-21T07:41:01.603Z"
   },
   {
    "duration": 10,
    "start_time": "2022-01-21T07:41:02.178Z"
   },
   {
    "duration": 29,
    "start_time": "2022-01-21T07:41:02.198Z"
   },
   {
    "duration": 1414,
    "start_time": "2022-01-21T07:41:02.229Z"
   },
   {
    "duration": 8,
    "start_time": "2022-01-21T07:41:03.645Z"
   },
   {
    "duration": 1381,
    "start_time": "2022-01-21T07:41:03.655Z"
   },
   {
    "duration": 17,
    "start_time": "2022-01-21T07:41:05.038Z"
   },
   {
    "duration": 20,
    "start_time": "2022-01-21T07:41:05.057Z"
   },
   {
    "duration": 1103,
    "start_time": "2022-01-21T07:42:18.639Z"
   },
   {
    "duration": 52,
    "start_time": "2022-01-21T07:42:19.743Z"
   },
   {
    "duration": 9,
    "start_time": "2022-01-21T07:42:19.797Z"
   },
   {
    "duration": 34,
    "start_time": "2022-01-21T07:42:19.807Z"
   },
   {
    "duration": 22,
    "start_time": "2022-01-21T07:42:19.842Z"
   },
   {
    "duration": 43,
    "start_time": "2022-01-21T07:42:19.865Z"
   },
   {
    "duration": 31,
    "start_time": "2022-01-21T07:42:19.910Z"
   },
   {
    "duration": 33,
    "start_time": "2022-01-21T07:42:19.943Z"
   },
   {
    "duration": 39,
    "start_time": "2022-01-21T07:42:19.978Z"
   },
   {
    "duration": 44,
    "start_time": "2022-01-21T07:42:20.019Z"
   },
   {
    "duration": 13,
    "start_time": "2022-01-21T07:42:20.065Z"
   },
   {
    "duration": 29,
    "start_time": "2022-01-21T07:42:20.079Z"
   },
   {
    "duration": 27,
    "start_time": "2022-01-21T07:42:20.110Z"
   },
   {
    "duration": 28,
    "start_time": "2022-01-21T07:42:20.139Z"
   },
   {
    "duration": 32,
    "start_time": "2022-01-21T07:42:20.169Z"
   },
   {
    "duration": 372,
    "start_time": "2022-01-21T07:42:20.203Z"
   },
   {
    "duration": 385,
    "start_time": "2022-01-21T07:42:20.576Z"
   },
   {
    "duration": 6,
    "start_time": "2022-01-21T07:42:20.962Z"
   },
   {
    "duration": 42,
    "start_time": "2022-01-21T07:42:20.969Z"
   },
   {
    "duration": 355,
    "start_time": "2022-01-21T07:42:21.013Z"
   },
   {
    "duration": 29,
    "start_time": "2022-01-21T07:42:21.369Z"
   },
   {
    "duration": 13,
    "start_time": "2022-01-21T07:42:21.400Z"
   },
   {
    "duration": 76,
    "start_time": "2022-01-21T07:42:21.417Z"
   },
   {
    "duration": 530,
    "start_time": "2022-01-21T07:42:21.495Z"
   },
   {
    "duration": 10,
    "start_time": "2022-01-21T07:42:22.027Z"
   },
   {
    "duration": 62,
    "start_time": "2022-01-21T07:42:22.038Z"
   },
   {
    "duration": 1452,
    "start_time": "2022-01-21T07:42:22.102Z"
   },
   {
    "duration": 7,
    "start_time": "2022-01-21T07:42:23.556Z"
   },
   {
    "duration": 300,
    "start_time": "2022-01-21T07:42:23.564Z"
   },
   {
    "duration": -851,
    "start_time": "2022-01-21T07:42:24.717Z"
   },
   {
    "duration": -851,
    "start_time": "2022-01-21T07:42:24.718Z"
   },
   {
    "duration": 195,
    "start_time": "2022-01-21T07:43:16.077Z"
   },
   {
    "duration": 175,
    "start_time": "2022-01-21T07:44:39.321Z"
   },
   {
    "duration": 1145,
    "start_time": "2022-01-21T07:45:00.428Z"
   },
   {
    "duration": 55,
    "start_time": "2022-01-21T07:45:01.575Z"
   },
   {
    "duration": 11,
    "start_time": "2022-01-21T07:45:01.635Z"
   },
   {
    "duration": 56,
    "start_time": "2022-01-21T07:45:01.648Z"
   },
   {
    "duration": 19,
    "start_time": "2022-01-21T07:45:01.706Z"
   },
   {
    "duration": 14,
    "start_time": "2022-01-21T07:45:01.727Z"
   },
   {
    "duration": 23,
    "start_time": "2022-01-21T07:45:01.743Z"
   },
   {
    "duration": 12,
    "start_time": "2022-01-21T07:45:01.769Z"
   },
   {
    "duration": 22,
    "start_time": "2022-01-21T07:45:01.784Z"
   },
   {
    "duration": 26,
    "start_time": "2022-01-21T07:45:01.808Z"
   },
   {
    "duration": 4,
    "start_time": "2022-01-21T07:45:01.836Z"
   },
   {
    "duration": 12,
    "start_time": "2022-01-21T07:45:01.842Z"
   },
   {
    "duration": 15,
    "start_time": "2022-01-21T07:45:01.855Z"
   },
   {
    "duration": 8,
    "start_time": "2022-01-21T07:45:01.871Z"
   },
   {
    "duration": 18,
    "start_time": "2022-01-21T07:45:01.897Z"
   },
   {
    "duration": 398,
    "start_time": "2022-01-21T07:45:01.917Z"
   },
   {
    "duration": 400,
    "start_time": "2022-01-21T07:45:02.318Z"
   },
   {
    "duration": 6,
    "start_time": "2022-01-21T07:45:02.720Z"
   },
   {
    "duration": 49,
    "start_time": "2022-01-21T07:45:02.727Z"
   },
   {
    "duration": 348,
    "start_time": "2022-01-21T07:45:02.778Z"
   },
   {
    "duration": 15,
    "start_time": "2022-01-21T07:45:03.127Z"
   },
   {
    "duration": 75,
    "start_time": "2022-01-21T07:45:03.143Z"
   },
   {
    "duration": 58,
    "start_time": "2022-01-21T07:45:03.220Z"
   },
   {
    "duration": 539,
    "start_time": "2022-01-21T07:45:03.279Z"
   },
   {
    "duration": 11,
    "start_time": "2022-01-21T07:45:03.819Z"
   },
   {
    "duration": 58,
    "start_time": "2022-01-21T07:45:03.833Z"
   },
   {
    "duration": 1536,
    "start_time": "2022-01-21T07:45:03.894Z"
   },
   {
    "duration": 9,
    "start_time": "2022-01-21T07:45:05.432Z"
   },
   {
    "duration": 1412,
    "start_time": "2022-01-21T07:45:05.443Z"
   },
   {
    "duration": 17,
    "start_time": "2022-01-21T07:45:06.857Z"
   },
   {
    "duration": 21,
    "start_time": "2022-01-21T07:45:06.876Z"
   },
   {
    "duration": 22,
    "start_time": "2022-01-21T08:00:47.589Z"
   },
   {
    "duration": 1094,
    "start_time": "2022-01-21T08:01:07.366Z"
   },
   {
    "duration": 50,
    "start_time": "2022-01-21T08:01:08.462Z"
   },
   {
    "duration": 9,
    "start_time": "2022-01-21T08:01:08.514Z"
   },
   {
    "duration": 28,
    "start_time": "2022-01-21T08:01:08.525Z"
   },
   {
    "duration": 16,
    "start_time": "2022-01-21T08:01:08.554Z"
   },
   {
    "duration": 30,
    "start_time": "2022-01-21T08:01:08.571Z"
   },
   {
    "duration": 33,
    "start_time": "2022-01-21T08:01:08.603Z"
   },
   {
    "duration": 12,
    "start_time": "2022-01-21T08:01:08.639Z"
   },
   {
    "duration": 48,
    "start_time": "2022-01-21T08:01:08.653Z"
   },
   {
    "duration": 25,
    "start_time": "2022-01-21T08:01:08.702Z"
   },
   {
    "duration": 4,
    "start_time": "2022-01-21T08:01:08.728Z"
   },
   {
    "duration": 16,
    "start_time": "2022-01-21T08:01:08.734Z"
   },
   {
    "duration": 12,
    "start_time": "2022-01-21T08:01:08.752Z"
   },
   {
    "duration": 8,
    "start_time": "2022-01-21T08:01:08.766Z"
   },
   {
    "duration": 37,
    "start_time": "2022-01-21T08:01:08.775Z"
   },
   {
    "duration": 393,
    "start_time": "2022-01-21T08:01:08.814Z"
   },
   {
    "duration": 409,
    "start_time": "2022-01-21T08:01:09.210Z"
   },
   {
    "duration": 6,
    "start_time": "2022-01-21T08:01:09.621Z"
   },
   {
    "duration": 26,
    "start_time": "2022-01-21T08:01:09.629Z"
   },
   {
    "duration": 362,
    "start_time": "2022-01-21T08:01:09.657Z"
   },
   {
    "duration": 15,
    "start_time": "2022-01-21T08:01:10.022Z"
   },
   {
    "duration": 23,
    "start_time": "2022-01-21T08:01:10.039Z"
   },
   {
    "duration": 45,
    "start_time": "2022-01-21T08:01:10.065Z"
   },
   {
    "duration": 523,
    "start_time": "2022-01-21T08:01:10.112Z"
   },
   {
    "duration": 9,
    "start_time": "2022-01-21T08:01:10.637Z"
   },
   {
    "duration": 38,
    "start_time": "2022-01-21T08:01:10.648Z"
   },
   {
    "duration": 1453,
    "start_time": "2022-01-21T08:01:10.687Z"
   },
   {
    "duration": 291,
    "start_time": "2022-01-21T08:02:32.942Z"
   },
   {
    "duration": 229,
    "start_time": "2022-01-21T08:02:51.553Z"
   },
   {
    "duration": 23,
    "start_time": "2022-01-21T08:02:59.338Z"
   },
   {
    "duration": 30,
    "start_time": "2022-01-21T08:03:44.986Z"
   },
   {
    "duration": 23,
    "start_time": "2022-01-21T08:04:34.859Z"
   },
   {
    "duration": 22,
    "start_time": "2022-01-21T08:11:47.309Z"
   },
   {
    "duration": 1452,
    "start_time": "2022-01-21T09:01:44.348Z"
   },
   {
    "duration": 187,
    "start_time": "2022-01-21T09:03:17.251Z"
   },
   {
    "duration": 2591,
    "start_time": "2022-01-21T09:03:22.650Z"
   },
   {
    "duration": 2567,
    "start_time": "2022-01-21T09:03:50.971Z"
   },
   {
    "duration": 2755,
    "start_time": "2022-01-21T09:03:58.844Z"
   },
   {
    "duration": 300,
    "start_time": "2022-01-21T12:57:14.945Z"
   },
   {
    "duration": 1477,
    "start_time": "2022-01-21T12:57:48.925Z"
   },
   {
    "duration": 1828,
    "start_time": "2022-01-21T12:58:30.349Z"
   },
   {
    "duration": 1667,
    "start_time": "2022-01-21T12:58:47.422Z"
   },
   {
    "duration": 866,
    "start_time": "2022-01-21T12:59:03.831Z"
   },
   {
    "duration": 1562,
    "start_time": "2022-01-21T12:59:56.290Z"
   },
   {
    "duration": 10,
    "start_time": "2022-01-21T13:04:41.480Z"
   },
   {
    "duration": 206,
    "start_time": "2022-01-21T13:07:53.942Z"
   },
   {
    "duration": 362,
    "start_time": "2022-01-21T13:08:35.735Z"
   },
   {
    "duration": 217,
    "start_time": "2022-01-21T13:10:39.314Z"
   },
   {
    "duration": 9495,
    "start_time": "2022-01-21T13:11:27.843Z"
   },
   {
    "duration": 1762,
    "start_time": "2022-01-21T13:14:06.062Z"
   },
   {
    "duration": 1760,
    "start_time": "2022-01-21T13:14:32.162Z"
   },
   {
    "duration": 1963,
    "start_time": "2022-01-21T13:18:01.359Z"
   },
   {
    "duration": 1818,
    "start_time": "2022-01-21T13:20:25.243Z"
   },
   {
    "duration": 1771,
    "start_time": "2022-01-21T14:55:54.547Z"
   },
   {
    "duration": 1921,
    "start_time": "2022-01-21T17:03:59.406Z"
   },
   {
    "duration": 1451,
    "start_time": "2022-01-22T06:00:42.373Z"
   },
   {
    "duration": 68,
    "start_time": "2022-01-22T06:00:43.828Z"
   },
   {
    "duration": 14,
    "start_time": "2022-01-22T06:00:43.899Z"
   },
   {
    "duration": 6,
    "start_time": "2022-01-22T06:00:43.916Z"
   },
   {
    "duration": 6,
    "start_time": "2022-01-22T06:00:43.925Z"
   },
   {
    "duration": 7,
    "start_time": "2022-01-22T06:00:43.960Z"
   },
   {
    "duration": 12,
    "start_time": "2022-01-22T06:00:43.970Z"
   },
   {
    "duration": 5,
    "start_time": "2022-01-22T06:00:43.986Z"
   },
   {
    "duration": 18,
    "start_time": "2022-01-22T06:00:43.994Z"
   },
   {
    "duration": 65,
    "start_time": "2022-01-22T06:00:44.016Z"
   },
   {
    "duration": 6,
    "start_time": "2022-01-22T06:00:44.084Z"
   },
   {
    "duration": 13,
    "start_time": "2022-01-22T06:00:44.093Z"
   },
   {
    "duration": 61,
    "start_time": "2022-01-22T06:00:44.109Z"
   },
   {
    "duration": 15,
    "start_time": "2022-01-22T06:00:44.174Z"
   },
   {
    "duration": 26,
    "start_time": "2022-01-22T06:00:44.191Z"
   },
   {
    "duration": 591,
    "start_time": "2022-01-22T06:00:44.220Z"
   },
   {
    "duration": 622,
    "start_time": "2022-01-22T06:00:44.814Z"
   },
   {
    "duration": 7,
    "start_time": "2022-01-22T06:00:45.439Z"
   },
   {
    "duration": 26,
    "start_time": "2022-01-22T06:00:45.460Z"
   },
   {
    "duration": 519,
    "start_time": "2022-01-22T06:00:45.488Z"
   },
   {
    "duration": 21,
    "start_time": "2022-01-22T06:00:46.009Z"
   },
   {
    "duration": 41,
    "start_time": "2022-01-22T06:00:46.033Z"
   },
   {
    "duration": 39,
    "start_time": "2022-01-22T06:00:46.080Z"
   },
   {
    "duration": 870,
    "start_time": "2022-01-22T06:00:46.122Z"
   },
   {
    "duration": 15,
    "start_time": "2022-01-22T06:00:46.995Z"
   },
   {
    "duration": 51,
    "start_time": "2022-01-22T06:00:47.013Z"
   },
   {
    "duration": 2512,
    "start_time": "2022-01-22T06:00:47.067Z"
   },
   {
    "duration": 2388,
    "start_time": "2022-01-22T06:00:49.581Z"
   },
   {
    "duration": 22,
    "start_time": "2022-01-22T07:01:41.019Z"
   },
   {
    "duration": 9,
    "start_time": "2022-01-22T07:02:02.226Z"
   },
   {
    "duration": 508,
    "start_time": "2022-01-22T07:03:06.909Z"
   },
   {
    "duration": 546,
    "start_time": "2022-01-22T07:03:21.373Z"
   },
   {
    "duration": 34,
    "start_time": "2022-01-22T07:04:15.800Z"
   },
   {
    "duration": 15,
    "start_time": "2022-01-22T07:04:22.897Z"
   },
   {
    "duration": 378,
    "start_time": "2022-01-22T07:04:35.535Z"
   },
   {
    "duration": 382,
    "start_time": "2022-01-22T07:05:55.225Z"
   },
   {
    "duration": 21,
    "start_time": "2022-01-22T07:06:45.363Z"
   },
   {
    "duration": 11,
    "start_time": "2022-01-22T07:06:56.472Z"
   },
   {
    "duration": 365,
    "start_time": "2022-01-22T07:07:08.099Z"
   },
   {
    "duration": 12,
    "start_time": "2022-01-22T07:07:17.627Z"
   },
   {
    "duration": 12,
    "start_time": "2022-01-22T07:07:25.035Z"
   },
   {
    "duration": 153,
    "start_time": "2022-01-22T07:09:54.344Z"
   },
   {
    "duration": 10,
    "start_time": "2022-01-22T07:37:05.259Z"
   },
   {
    "duration": 234,
    "start_time": "2022-01-22T07:38:12.820Z"
   },
   {
    "duration": 150,
    "start_time": "2022-01-22T07:38:24.509Z"
   },
   {
    "duration": 612,
    "start_time": "2022-01-22T07:42:25.812Z"
   },
   {
    "duration": 635,
    "start_time": "2022-01-22T07:42:35.147Z"
   },
   {
    "duration": 604,
    "start_time": "2022-01-22T07:42:42.749Z"
   },
   {
    "duration": 149,
    "start_time": "2022-01-22T07:42:53.396Z"
   },
   {
    "duration": 155,
    "start_time": "2022-01-22T07:46:04.969Z"
   },
   {
    "duration": 210,
    "start_time": "2022-01-22T07:55:53.130Z"
   },
   {
    "duration": 228,
    "start_time": "2022-01-22T07:56:07.465Z"
   },
   {
    "duration": 290,
    "start_time": "2022-01-22T08:08:15.029Z"
   },
   {
    "duration": 20,
    "start_time": "2022-01-22T08:08:33.110Z"
   },
   {
    "duration": 627,
    "start_time": "2022-01-22T08:09:02.188Z"
   },
   {
    "duration": 21,
    "start_time": "2022-01-22T08:09:57.863Z"
   },
   {
    "duration": 22,
    "start_time": "2022-01-22T08:10:25.464Z"
   },
   {
    "duration": 22,
    "start_time": "2022-01-22T08:10:34.441Z"
   },
   {
    "duration": 20,
    "start_time": "2022-01-22T08:52:16.690Z"
   },
   {
    "duration": 394,
    "start_time": "2022-01-22T08:53:12.413Z"
   },
   {
    "duration": 18,
    "start_time": "2022-01-22T08:53:22.502Z"
   },
   {
    "duration": 825,
    "start_time": "2022-01-22T10:07:39.273Z"
   },
   {
    "duration": 487,
    "start_time": "2022-01-22T10:08:06.842Z"
   },
   {
    "duration": 632,
    "start_time": "2022-01-22T10:08:23.207Z"
   },
   {
    "duration": 453,
    "start_time": "2022-01-22T10:08:51.363Z"
   },
   {
    "duration": 23,
    "start_time": "2022-01-22T10:33:30.156Z"
   },
   {
    "duration": 1285,
    "start_time": "2022-01-22T10:41:53.895Z"
   },
   {
    "duration": 1010,
    "start_time": "2022-01-22T10:42:20.682Z"
   },
   {
    "duration": 1110,
    "start_time": "2022-01-22T10:42:50.851Z"
   },
   {
    "duration": 848,
    "start_time": "2022-01-22T10:43:26.379Z"
   },
   {
    "duration": 666,
    "start_time": "2022-01-22T10:43:53.796Z"
   },
   {
    "duration": 15,
    "start_time": "2022-01-22T10:44:40.150Z"
   },
   {
    "duration": 14,
    "start_time": "2022-01-22T10:44:42.749Z"
   },
   {
    "duration": 414,
    "start_time": "2022-01-22T10:45:18.982Z"
   },
   {
    "duration": 23,
    "start_time": "2022-01-22T10:45:30.647Z"
   },
   {
    "duration": 16,
    "start_time": "2022-01-22T10:46:14.149Z"
   },
   {
    "duration": 19,
    "start_time": "2022-01-22T10:46:21.616Z"
   },
   {
    "duration": 19,
    "start_time": "2022-01-22T10:49:52.494Z"
   },
   {
    "duration": 550,
    "start_time": "2022-01-22T10:50:38.175Z"
   },
   {
    "duration": 17,
    "start_time": "2022-01-22T10:51:15.433Z"
   },
   {
    "duration": 1145,
    "start_time": "2022-01-22T10:51:57.129Z"
   },
   {
    "duration": 517,
    "start_time": "2022-01-22T10:52:07.057Z"
   },
   {
    "duration": 643,
    "start_time": "2022-01-22T10:52:23.556Z"
   },
   {
    "duration": 683,
    "start_time": "2022-01-22T10:52:29.322Z"
   },
   {
    "duration": 1049,
    "start_time": "2022-01-22T10:53:11.515Z"
   },
   {
    "duration": 1061,
    "start_time": "2022-01-22T10:53:26.940Z"
   },
   {
    "duration": 1132,
    "start_time": "2022-01-22T10:53:35.212Z"
   },
   {
    "duration": 1390,
    "start_time": "2022-01-22T10:54:01.317Z"
   },
   {
    "duration": 820,
    "start_time": "2022-01-22T10:55:50.112Z"
   },
   {
    "duration": 631,
    "start_time": "2022-01-22T10:56:27.256Z"
   },
   {
    "duration": 19,
    "start_time": "2022-01-22T10:56:52.777Z"
   },
   {
    "duration": 625,
    "start_time": "2022-01-22T10:56:54.753Z"
   },
   {
    "duration": 638,
    "start_time": "2022-01-22T10:57:13.425Z"
   },
   {
    "duration": 858,
    "start_time": "2022-01-22T10:59:52.062Z"
   },
   {
    "duration": 983,
    "start_time": "2022-01-22T11:00:01.447Z"
   },
   {
    "duration": 678,
    "start_time": "2022-01-22T11:00:26.154Z"
   },
   {
    "duration": 816,
    "start_time": "2022-01-22T11:00:35.599Z"
   },
   {
    "duration": 453,
    "start_time": "2022-01-22T11:00:57.536Z"
   },
   {
    "duration": 450,
    "start_time": "2022-01-22T11:03:26.796Z"
   },
   {
    "duration": 581,
    "start_time": "2022-01-22T11:03:36.204Z"
   },
   {
    "duration": 1007,
    "start_time": "2022-01-22T11:03:43.556Z"
   },
   {
    "duration": 454,
    "start_time": "2022-01-22T11:03:47.596Z"
   },
   {
    "duration": 386,
    "start_time": "2022-01-22T11:04:44.367Z"
   },
   {
    "duration": 572,
    "start_time": "2022-01-22T11:05:05.870Z"
   },
   {
    "duration": 555,
    "start_time": "2022-01-22T11:05:12.822Z"
   },
   {
    "duration": 831,
    "start_time": "2022-01-22T11:08:30.236Z"
   },
   {
    "duration": 901,
    "start_time": "2022-01-22T11:08:39.092Z"
   },
   {
    "duration": 823,
    "start_time": "2022-01-22T11:08:58.357Z"
   },
   {
    "duration": 1844,
    "start_time": "2022-01-22T11:10:51.928Z"
   },
   {
    "duration": 460,
    "start_time": "2022-01-22T11:14:20.373Z"
   },
   {
    "duration": 578,
    "start_time": "2022-01-22T11:14:29.685Z"
   },
   {
    "duration": 591,
    "start_time": "2022-01-22T11:14:55.174Z"
   },
   {
    "duration": 594,
    "start_time": "2022-01-22T11:15:29.239Z"
   },
   {
    "duration": 11259,
    "start_time": "2022-01-22T11:16:06.440Z"
   },
   {
    "duration": 236,
    "start_time": "2022-01-22T11:17:56.877Z"
   },
   {
    "duration": 1468,
    "start_time": "2022-01-22T11:18:07.891Z"
   },
   {
    "duration": 601,
    "start_time": "2022-01-22T11:18:30.477Z"
   },
   {
    "duration": 1219,
    "start_time": "2022-01-22T11:19:51.471Z"
   },
   {
    "duration": 1210,
    "start_time": "2022-01-22T11:20:10.671Z"
   },
   {
    "duration": 1184,
    "start_time": "2022-01-22T11:20:54.968Z"
   },
   {
    "duration": 689,
    "start_time": "2022-01-22T11:21:27.273Z"
   },
   {
    "duration": 657,
    "start_time": "2022-01-22T11:21:39.889Z"
   },
   {
    "duration": 699,
    "start_time": "2022-01-22T11:21:46.753Z"
   },
   {
    "duration": 817,
    "start_time": "2022-01-22T11:21:50.857Z"
   },
   {
    "duration": 965,
    "start_time": "2022-01-22T11:21:55.353Z"
   },
   {
    "duration": 788,
    "start_time": "2022-01-22T11:21:59.554Z"
   },
   {
    "duration": 743,
    "start_time": "2022-01-22T11:22:12.594Z"
   },
   {
    "duration": 760,
    "start_time": "2022-01-22T11:24:52.302Z"
   },
   {
    "duration": 804,
    "start_time": "2022-01-22T11:25:14.751Z"
   },
   {
    "duration": 32,
    "start_time": "2022-01-22T12:13:27.717Z"
   },
   {
    "duration": 382,
    "start_time": "2022-01-22T12:14:24.509Z"
   },
   {
    "duration": 34,
    "start_time": "2022-01-22T12:14:56.878Z"
   },
   {
    "duration": 860,
    "start_time": "2022-01-22T12:15:26.159Z"
   },
   {
    "duration": 39,
    "start_time": "2022-01-22T12:16:20.016Z"
   },
   {
    "duration": 47,
    "start_time": "2022-01-22T12:16:46.431Z"
   },
   {
    "duration": 36,
    "start_time": "2022-01-22T12:16:49.608Z"
   },
   {
    "duration": 738,
    "start_time": "2022-01-22T12:16:51.441Z"
   },
   {
    "duration": 1142,
    "start_time": "2022-01-22T12:17:26.985Z"
   },
   {
    "duration": 454,
    "start_time": "2022-01-22T12:17:41.451Z"
   },
   {
    "duration": 459,
    "start_time": "2022-01-22T12:18:23.686Z"
   },
   {
    "duration": 846,
    "start_time": "2022-01-22T12:42:30.960Z"
   },
   {
    "duration": 6,
    "start_time": "2022-01-22T12:42:33.154Z"
   },
   {
    "duration": 383,
    "start_time": "2022-01-22T13:01:29.072Z"
   },
   {
    "duration": 342,
    "start_time": "2022-01-22T13:01:31.704Z"
   },
   {
    "duration": 431,
    "start_time": "2022-01-22T13:04:30.822Z"
   },
   {
    "duration": 787,
    "start_time": "2022-01-22T13:06:23.623Z"
   },
   {
    "duration": 1298,
    "start_time": "2022-01-22T13:06:29.696Z"
   },
   {
    "duration": 1097,
    "start_time": "2022-01-22T13:07:13.730Z"
   },
   {
    "duration": 801,
    "start_time": "2022-01-22T13:07:40.875Z"
   },
   {
    "duration": 430,
    "start_time": "2022-01-22T13:08:09.491Z"
   },
   {
    "duration": 424,
    "start_time": "2022-01-22T13:08:30.388Z"
   },
   {
    "duration": 435,
    "start_time": "2022-01-22T13:16:57.642Z"
   },
   {
    "duration": 460,
    "start_time": "2022-01-22T13:19:48.566Z"
   },
   {
    "duration": 293,
    "start_time": "2022-01-22T13:20:17.119Z"
   },
   {
    "duration": 462,
    "start_time": "2022-01-22T13:21:20.544Z"
   },
   {
    "duration": 80566,
    "start_time": "2022-01-22T13:24:36.918Z"
   },
   {
    "duration": 361,
    "start_time": "2022-01-22T13:26:10.928Z"
   },
   {
    "duration": 438,
    "start_time": "2022-01-22T13:26:32.713Z"
   },
   {
    "duration": 280,
    "start_time": "2022-01-22T13:27:23.747Z"
   },
   {
    "duration": 270,
    "start_time": "2022-01-22T13:27:51.555Z"
   },
   {
    "duration": 425,
    "start_time": "2022-01-22T13:28:07.116Z"
   },
   {
    "duration": 22,
    "start_time": "2022-01-22T14:17:38.171Z"
   },
   {
    "duration": 31,
    "start_time": "2022-01-22T14:17:51.106Z"
   },
   {
    "duration": 435,
    "start_time": "2022-01-22T14:25:35.416Z"
   },
   {
    "duration": 430,
    "start_time": "2022-01-22T14:25:52.225Z"
   },
   {
    "duration": 447,
    "start_time": "2022-01-22T14:25:56.393Z"
   },
   {
    "duration": 11,
    "start_time": "2022-01-22T14:26:52.146Z"
   },
   {
    "duration": 13,
    "start_time": "2022-01-22T14:33:16.589Z"
   },
   {
    "duration": 15,
    "start_time": "2022-01-22T14:47:54.733Z"
   },
   {
    "duration": 9,
    "start_time": "2022-01-22T14:48:07.989Z"
   },
   {
    "duration": 392,
    "start_time": "2022-01-22T14:51:21.499Z"
   },
   {
    "duration": 32,
    "start_time": "2022-01-22T14:51:51.259Z"
   },
   {
    "duration": 450,
    "start_time": "2022-01-22T14:52:21.764Z"
   },
   {
    "duration": 38,
    "start_time": "2022-01-22T14:52:36.804Z"
   },
   {
    "duration": 19,
    "start_time": "2022-01-22T14:52:52.837Z"
   },
   {
    "duration": 16,
    "start_time": "2022-01-22T14:53:25.245Z"
   },
   {
    "duration": 7,
    "start_time": "2022-01-22T14:58:18.590Z"
   },
   {
    "duration": 17,
    "start_time": "2022-01-22T15:04:37.527Z"
   },
   {
    "duration": 7,
    "start_time": "2022-01-22T15:04:39.143Z"
   },
   {
    "duration": 380,
    "start_time": "2022-01-22T15:05:39.392Z"
   },
   {
    "duration": 11,
    "start_time": "2022-01-22T15:05:51.450Z"
   },
   {
    "duration": 7,
    "start_time": "2022-01-22T15:06:28.011Z"
   },
   {
    "duration": 12,
    "start_time": "2022-01-22T15:07:31.052Z"
   },
   {
    "duration": 6,
    "start_time": "2022-01-22T15:07:46.949Z"
   },
   {
    "duration": 6,
    "start_time": "2022-01-22T15:07:56.045Z"
   },
   {
    "duration": 14,
    "start_time": "2022-01-22T15:07:58.717Z"
   },
   {
    "duration": 7,
    "start_time": "2022-01-22T15:08:00.013Z"
   },
   {
    "duration": 6,
    "start_time": "2022-01-22T15:08:01.670Z"
   },
   {
    "duration": 14,
    "start_time": "2022-01-22T15:08:14.365Z"
   },
   {
    "duration": 7,
    "start_time": "2022-01-22T15:08:17.085Z"
   },
   {
    "duration": 8,
    "start_time": "2022-01-22T15:08:49.014Z"
   },
   {
    "duration": 12,
    "start_time": "2022-01-22T15:08:52.150Z"
   },
   {
    "duration": 7,
    "start_time": "2022-01-22T15:08:53.503Z"
   },
   {
    "duration": 6,
    "start_time": "2022-01-22T15:13:15.790Z"
   },
   {
    "duration": 1028,
    "start_time": "2022-01-28T11:18:02.184Z"
   },
   {
    "duration": 47,
    "start_time": "2022-01-28T11:18:03.213Z"
   },
   {
    "duration": 8,
    "start_time": "2022-01-28T11:18:03.262Z"
   },
   {
    "duration": 5,
    "start_time": "2022-01-28T11:18:03.271Z"
   },
   {
    "duration": 6,
    "start_time": "2022-01-28T11:18:03.277Z"
   },
   {
    "duration": 6,
    "start_time": "2022-01-28T11:18:03.284Z"
   },
   {
    "duration": 10,
    "start_time": "2022-01-28T11:18:03.292Z"
   },
   {
    "duration": 25,
    "start_time": "2022-01-28T11:18:03.303Z"
   },
   {
    "duration": 13,
    "start_time": "2022-01-28T11:18:03.330Z"
   },
   {
    "duration": 13,
    "start_time": "2022-01-28T11:18:03.344Z"
   },
   {
    "duration": 3,
    "start_time": "2022-01-28T11:18:03.358Z"
   },
   {
    "duration": 10,
    "start_time": "2022-01-28T11:18:03.362Z"
   },
   {
    "duration": 15,
    "start_time": "2022-01-28T11:18:03.373Z"
   },
   {
    "duration": 14,
    "start_time": "2022-01-28T11:18:03.389Z"
   },
   {
    "duration": 30,
    "start_time": "2022-01-28T11:18:03.404Z"
   },
   {
    "duration": 322,
    "start_time": "2022-01-28T11:18:03.435Z"
   },
   {
    "duration": 342,
    "start_time": "2022-01-28T11:18:03.758Z"
   },
   {
    "duration": 5,
    "start_time": "2022-01-28T11:18:04.102Z"
   },
   {
    "duration": 37,
    "start_time": "2022-01-28T11:18:04.108Z"
   },
   {
    "duration": 290,
    "start_time": "2022-01-28T11:18:04.147Z"
   },
   {
    "duration": 12,
    "start_time": "2022-01-28T11:18:04.439Z"
   },
   {
    "duration": 8,
    "start_time": "2022-01-28T11:18:04.452Z"
   },
   {
    "duration": 21,
    "start_time": "2022-01-28T11:18:04.462Z"
   },
   {
    "duration": 505,
    "start_time": "2022-01-28T11:18:04.484Z"
   },
   {
    "duration": 9,
    "start_time": "2022-01-28T11:18:04.991Z"
   },
   {
    "duration": 35,
    "start_time": "2022-01-28T11:18:05.001Z"
   },
   {
    "duration": 1718,
    "start_time": "2022-01-28T11:18:05.039Z"
   },
   {
    "duration": 1584,
    "start_time": "2022-01-28T11:18:06.759Z"
   },
   {
    "duration": 11,
    "start_time": "2022-01-28T11:18:08.345Z"
   },
   {
    "duration": 11,
    "start_time": "2022-01-28T11:18:08.358Z"
   },
   {
    "duration": 280,
    "start_time": "2022-01-28T11:18:08.371Z"
   },
   {
    "duration": 11,
    "start_time": "2022-01-28T11:18:08.652Z"
   },
   {
    "duration": 599,
    "start_time": "2022-01-28T11:18:08.664Z"
   },
   {
    "duration": 20,
    "start_time": "2022-01-28T11:18:09.265Z"
   },
   {
    "duration": 261,
    "start_time": "2022-01-28T11:18:09.286Z"
   },
   {
    "duration": 14,
    "start_time": "2022-01-28T11:18:09.548Z"
   },
   {
    "duration": 250,
    "start_time": "2022-01-28T11:18:09.564Z"
   },
   {
    "duration": 239,
    "start_time": "2022-01-28T11:18:09.816Z"
   },
   {
    "duration": 241,
    "start_time": "2022-01-28T11:18:10.056Z"
   },
   {
    "duration": 10,
    "start_time": "2022-01-28T11:18:10.299Z"
   },
   {
    "duration": 4,
    "start_time": "2022-01-28T11:18:10.311Z"
   },
   {
    "duration": 7,
    "start_time": "2022-01-28T11:18:10.327Z"
   },
   {
    "duration": 7,
    "start_time": "2022-01-28T11:18:10.335Z"
   },
   {
    "duration": 9,
    "start_time": "2022-01-28T11:18:10.343Z"
   },
   {
    "duration": 561,
    "start_time": "2022-01-28T15:29:08.487Z"
   },
   {
    "duration": 1620,
    "start_time": "2022-01-28T15:29:24.723Z"
   },
   {
    "duration": 66,
    "start_time": "2022-01-28T15:29:26.346Z"
   },
   {
    "duration": 24,
    "start_time": "2022-01-28T15:29:26.415Z"
   },
   {
    "duration": 7,
    "start_time": "2022-01-28T15:29:26.443Z"
   },
   {
    "duration": 7,
    "start_time": "2022-01-28T15:29:26.453Z"
   },
   {
    "duration": 6,
    "start_time": "2022-01-28T15:29:26.463Z"
   },
   {
    "duration": 57,
    "start_time": "2022-01-28T15:29:26.472Z"
   },
   {
    "duration": 18,
    "start_time": "2022-01-28T15:29:26.534Z"
   },
   {
    "duration": 19,
    "start_time": "2022-01-28T15:29:26.555Z"
   },
   {
    "duration": 21,
    "start_time": "2022-01-28T15:29:26.576Z"
   },
   {
    "duration": 26,
    "start_time": "2022-01-28T15:29:26.600Z"
   },
   {
    "duration": 27,
    "start_time": "2022-01-28T15:29:26.629Z"
   },
   {
    "duration": 14,
    "start_time": "2022-01-28T15:29:26.658Z"
   },
   {
    "duration": 13,
    "start_time": "2022-01-28T15:29:26.675Z"
   },
   {
    "duration": 60,
    "start_time": "2022-01-28T15:29:26.691Z"
   },
   {
    "duration": 750,
    "start_time": "2022-01-28T15:29:26.764Z"
   },
   {
    "duration": 754,
    "start_time": "2022-01-28T15:29:27.516Z"
   },
   {
    "duration": 8,
    "start_time": "2022-01-28T15:29:28.277Z"
   },
   {
    "duration": 62,
    "start_time": "2022-01-28T15:29:28.288Z"
   },
   {
    "duration": 643,
    "start_time": "2022-01-28T15:29:28.353Z"
   },
   {
    "duration": 29,
    "start_time": "2022-01-28T15:29:28.999Z"
   },
   {
    "duration": 35,
    "start_time": "2022-01-28T15:29:29.031Z"
   },
   {
    "duration": 60,
    "start_time": "2022-01-28T15:29:29.073Z"
   },
   {
    "duration": 1031,
    "start_time": "2022-01-28T15:29:29.137Z"
   },
   {
    "duration": 20,
    "start_time": "2022-01-28T15:29:30.171Z"
   },
   {
    "duration": 74,
    "start_time": "2022-01-28T15:29:30.195Z"
   },
   {
    "duration": 3120,
    "start_time": "2022-01-28T15:29:30.272Z"
   },
   {
    "duration": 2895,
    "start_time": "2022-01-28T15:29:33.395Z"
   },
   {
    "duration": 39,
    "start_time": "2022-01-28T15:29:36.293Z"
   },
   {
    "duration": 53,
    "start_time": "2022-01-28T15:29:36.335Z"
   },
   {
    "duration": 814,
    "start_time": "2022-01-28T15:29:36.391Z"
   },
   {
    "duration": 25,
    "start_time": "2022-01-28T15:29:37.208Z"
   },
   {
    "duration": 918,
    "start_time": "2022-01-28T15:29:37.236Z"
   },
   {
    "duration": 52,
    "start_time": "2022-01-28T15:29:38.156Z"
   },
   {
    "duration": 538,
    "start_time": "2022-01-28T15:29:38.211Z"
   },
   {
    "duration": 29,
    "start_time": "2022-01-28T15:29:38.752Z"
   },
   {
    "duration": 575,
    "start_time": "2022-01-28T15:29:38.784Z"
   },
   {
    "duration": 489,
    "start_time": "2022-01-28T15:29:39.362Z"
   },
   {
    "duration": 453,
    "start_time": "2022-01-28T15:29:39.855Z"
   },
   {
    "duration": 28,
    "start_time": "2022-01-28T15:29:40.311Z"
   },
   {
    "duration": 18,
    "start_time": "2022-01-28T15:29:40.342Z"
   },
   {
    "duration": 10,
    "start_time": "2022-01-28T15:29:40.362Z"
   },
   {
    "duration": 12,
    "start_time": "2022-01-28T15:29:40.375Z"
   },
   {
    "duration": 36,
    "start_time": "2022-01-28T15:29:40.390Z"
   },
   {
    "duration": 796,
    "start_time": "2022-01-29T07:10:02.960Z"
   },
   {
    "duration": 1507,
    "start_time": "2022-01-29T07:10:11.637Z"
   },
   {
    "duration": 66,
    "start_time": "2022-01-29T07:10:13.147Z"
   },
   {
    "duration": 14,
    "start_time": "2022-01-29T07:10:13.217Z"
   },
   {
    "duration": 6,
    "start_time": "2022-01-29T07:10:13.234Z"
   },
   {
    "duration": 31,
    "start_time": "2022-01-29T07:10:13.242Z"
   },
   {
    "duration": 9,
    "start_time": "2022-01-29T07:10:13.276Z"
   },
   {
    "duration": 13,
    "start_time": "2022-01-29T07:10:13.288Z"
   },
   {
    "duration": 4,
    "start_time": "2022-01-29T07:10:13.307Z"
   },
   {
    "duration": 69,
    "start_time": "2022-01-29T07:10:13.315Z"
   },
   {
    "duration": 23,
    "start_time": "2022-01-29T07:10:13.387Z"
   },
   {
    "duration": 6,
    "start_time": "2022-01-29T07:10:13.413Z"
   },
   {
    "duration": 51,
    "start_time": "2022-01-29T07:10:13.422Z"
   },
   {
    "duration": 14,
    "start_time": "2022-01-29T07:10:13.475Z"
   },
   {
    "duration": 11,
    "start_time": "2022-01-29T07:10:13.492Z"
   },
   {
    "duration": 24,
    "start_time": "2022-01-29T07:10:13.505Z"
   },
   {
    "duration": 643,
    "start_time": "2022-01-29T07:10:13.531Z"
   },
   {
    "duration": 795,
    "start_time": "2022-01-29T07:10:14.176Z"
   },
   {
    "duration": 6,
    "start_time": "2022-01-29T07:10:14.974Z"
   },
   {
    "duration": 28,
    "start_time": "2022-01-29T07:10:14.983Z"
   },
   {
    "duration": 671,
    "start_time": "2022-01-29T07:10:15.014Z"
   },
   {
    "duration": 19,
    "start_time": "2022-01-29T07:10:15.688Z"
   },
   {
    "duration": 15,
    "start_time": "2022-01-29T07:10:15.709Z"
   },
   {
    "duration": 73,
    "start_time": "2022-01-29T07:10:15.730Z"
   },
   {
    "duration": 894,
    "start_time": "2022-01-29T07:10:15.807Z"
   },
   {
    "duration": 15,
    "start_time": "2022-01-29T07:10:16.703Z"
   },
   {
    "duration": 54,
    "start_time": "2022-01-29T07:10:16.721Z"
   },
   {
    "duration": 2486,
    "start_time": "2022-01-29T07:10:16.777Z"
   },
   {
    "duration": 2398,
    "start_time": "2022-01-29T07:10:19.269Z"
   },
   {
    "duration": 21,
    "start_time": "2022-01-29T07:10:21.669Z"
   },
   {
    "duration": 20,
    "start_time": "2022-01-29T07:10:21.692Z"
   },
   {
    "duration": 500,
    "start_time": "2022-01-29T07:10:21.714Z"
   },
   {
    "duration": 19,
    "start_time": "2022-01-29T07:10:22.216Z"
   },
   {
    "duration": 997,
    "start_time": "2022-01-29T07:10:22.237Z"
   },
   {
    "duration": 48,
    "start_time": "2022-01-29T07:10:23.237Z"
   },
   {
    "duration": 470,
    "start_time": "2022-01-29T07:10:23.287Z"
   },
   {
    "duration": 30,
    "start_time": "2022-01-29T07:10:23.759Z"
   },
   {
    "duration": 453,
    "start_time": "2022-01-29T07:10:23.791Z"
   },
   {
    "duration": 444,
    "start_time": "2022-01-29T07:10:24.247Z"
   },
   {
    "duration": 449,
    "start_time": "2022-01-29T07:10:24.693Z"
   },
   {
    "duration": 27,
    "start_time": "2022-01-29T07:10:25.145Z"
   },
   {
    "duration": 6,
    "start_time": "2022-01-29T07:10:25.174Z"
   },
   {
    "duration": 11,
    "start_time": "2022-01-29T07:10:25.182Z"
   },
   {
    "duration": 6,
    "start_time": "2022-01-29T07:10:25.195Z"
   },
   {
    "duration": 9,
    "start_time": "2022-01-29T07:10:25.204Z"
   },
   {
    "duration": 416,
    "start_time": "2022-01-29T11:48:45.959Z"
   },
   {
    "duration": 21,
    "start_time": "2022-01-29T11:48:53.343Z"
   },
   {
    "duration": 275,
    "start_time": "2022-01-29T11:48:57.534Z"
   },
   {
    "duration": 1631,
    "start_time": "2022-01-29T11:50:51.359Z"
   },
   {
    "duration": 69,
    "start_time": "2022-01-29T11:50:52.993Z"
   },
   {
    "duration": 16,
    "start_time": "2022-01-29T11:50:53.066Z"
   },
   {
    "duration": 5,
    "start_time": "2022-01-29T11:50:53.085Z"
   },
   {
    "duration": 6,
    "start_time": "2022-01-29T11:50:53.093Z"
   },
   {
    "duration": 8,
    "start_time": "2022-01-29T11:50:53.102Z"
   },
   {
    "duration": 60,
    "start_time": "2022-01-29T11:50:53.113Z"
   },
   {
    "duration": 5,
    "start_time": "2022-01-29T11:50:53.177Z"
   },
   {
    "duration": 18,
    "start_time": "2022-01-29T11:50:53.185Z"
   },
   {
    "duration": 23,
    "start_time": "2022-01-29T11:50:53.206Z"
   },
   {
    "duration": 6,
    "start_time": "2022-01-29T11:50:53.269Z"
   },
   {
    "duration": 13,
    "start_time": "2022-01-29T11:50:53.277Z"
   },
   {
    "duration": 18,
    "start_time": "2022-01-29T11:50:53.292Z"
   },
   {
    "duration": 12,
    "start_time": "2022-01-29T11:50:53.313Z"
   },
   {
    "duration": 26,
    "start_time": "2022-01-29T11:50:53.368Z"
   },
   {
    "duration": 609,
    "start_time": "2022-01-29T11:50:53.396Z"
   },
   {
    "duration": 633,
    "start_time": "2022-01-29T11:50:54.007Z"
   },
   {
    "duration": 7,
    "start_time": "2022-01-29T11:50:54.643Z"
   },
   {
    "duration": 35,
    "start_time": "2022-01-29T11:50:54.652Z"
   },
   {
    "duration": 762,
    "start_time": "2022-01-29T11:50:54.689Z"
   },
   {
    "duration": 32,
    "start_time": "2022-01-29T11:50:55.453Z"
   },
   {
    "duration": 17,
    "start_time": "2022-01-29T11:50:55.487Z"
   },
   {
    "duration": 82,
    "start_time": "2022-01-29T11:50:55.512Z"
   },
   {
    "duration": 875,
    "start_time": "2022-01-29T11:50:55.597Z"
   },
   {
    "duration": 17,
    "start_time": "2022-01-29T11:50:56.476Z"
   },
   {
    "duration": 32,
    "start_time": "2022-01-29T11:50:56.496Z"
   },
   {
    "duration": 2565,
    "start_time": "2022-01-29T11:50:56.532Z"
   },
   {
    "duration": 2492,
    "start_time": "2022-01-29T11:50:59.099Z"
   },
   {
    "duration": 28,
    "start_time": "2022-01-29T11:51:01.595Z"
   },
   {
    "duration": 556,
    "start_time": "2022-01-29T11:51:01.626Z"
   },
   {
    "duration": -2923,
    "start_time": "2022-01-29T11:51:05.108Z"
   },
   {
    "duration": -2923,
    "start_time": "2022-01-29T11:51:05.110Z"
   },
   {
    "duration": -2923,
    "start_time": "2022-01-29T11:51:05.112Z"
   },
   {
    "duration": -2923,
    "start_time": "2022-01-29T11:51:05.114Z"
   },
   {
    "duration": -2923,
    "start_time": "2022-01-29T11:51:05.116Z"
   },
   {
    "duration": -2924,
    "start_time": "2022-01-29T11:51:05.118Z"
   },
   {
    "duration": -2924,
    "start_time": "2022-01-29T11:51:05.120Z"
   },
   {
    "duration": -2925,
    "start_time": "2022-01-29T11:51:05.122Z"
   },
   {
    "duration": -2925,
    "start_time": "2022-01-29T11:51:05.124Z"
   },
   {
    "duration": -2926,
    "start_time": "2022-01-29T11:51:05.126Z"
   },
   {
    "duration": -2927,
    "start_time": "2022-01-29T11:51:05.128Z"
   },
   {
    "duration": -2926,
    "start_time": "2022-01-29T11:51:05.129Z"
   },
   {
    "duration": -2927,
    "start_time": "2022-01-29T11:51:05.131Z"
   },
   {
    "duration": -2928,
    "start_time": "2022-01-29T11:51:05.134Z"
   },
   {
    "duration": 31,
    "start_time": "2022-01-29T11:52:03.964Z"
   },
   {
    "duration": 362,
    "start_time": "2022-01-29T11:52:35.053Z"
   },
   {
    "duration": 266,
    "start_time": "2022-01-29T11:52:42.597Z"
   },
   {
    "duration": 25,
    "start_time": "2022-01-29T11:52:50.565Z"
   },
   {
    "duration": 27,
    "start_time": "2022-01-29T11:52:57.525Z"
   },
   {
    "duration": 34,
    "start_time": "2022-01-29T11:53:20.007Z"
   },
   {
    "duration": 36,
    "start_time": "2022-01-29T11:53:37.206Z"
   },
   {
    "duration": 34,
    "start_time": "2022-01-29T11:54:02.071Z"
   },
   {
    "duration": 700,
    "start_time": "2022-01-29T11:58:48.319Z"
   },
   {
    "duration": 85,
    "start_time": "2022-01-29T12:00:46.199Z"
   },
   {
    "duration": 90,
    "start_time": "2022-01-29T12:00:51.278Z"
   },
   {
    "duration": 8718,
    "start_time": "2022-01-29T12:00:59.474Z"
   },
   {
    "duration": 298,
    "start_time": "2022-01-29T12:01:38.203Z"
   },
   {
    "duration": 399,
    "start_time": "2022-01-29T12:01:48.987Z"
   },
   {
    "duration": 399,
    "start_time": "2022-01-29T12:01:56.987Z"
   },
   {
    "duration": 654,
    "start_time": "2022-01-29T12:02:24.148Z"
   },
   {
    "duration": 642,
    "start_time": "2022-01-29T12:02:31.482Z"
   },
   {
    "duration": 779,
    "start_time": "2022-01-29T12:29:27.512Z"
   },
   {
    "duration": 732,
    "start_time": "2022-01-29T12:29:48.945Z"
   },
   {
    "duration": 719,
    "start_time": "2022-01-29T12:30:53.650Z"
   },
   {
    "duration": 724,
    "start_time": "2022-01-29T12:31:09.954Z"
   },
   {
    "duration": 1508,
    "start_time": "2022-01-30T06:03:55.549Z"
   },
   {
    "duration": 69,
    "start_time": "2022-01-30T06:03:57.060Z"
   },
   {
    "duration": 14,
    "start_time": "2022-01-30T06:03:57.132Z"
   },
   {
    "duration": 23,
    "start_time": "2022-01-30T06:03:57.149Z"
   },
   {
    "duration": 6,
    "start_time": "2022-01-30T06:03:57.175Z"
   },
   {
    "duration": 7,
    "start_time": "2022-01-30T06:03:57.184Z"
   },
   {
    "duration": 12,
    "start_time": "2022-01-30T06:03:57.194Z"
   },
   {
    "duration": 5,
    "start_time": "2022-01-30T06:03:57.210Z"
   },
   {
    "duration": 59,
    "start_time": "2022-01-30T06:03:57.218Z"
   },
   {
    "duration": 21,
    "start_time": "2022-01-30T06:03:57.279Z"
   },
   {
    "duration": 5,
    "start_time": "2022-01-30T06:03:57.302Z"
   },
   {
    "duration": 15,
    "start_time": "2022-01-30T06:03:57.309Z"
   },
   {
    "duration": 45,
    "start_time": "2022-01-30T06:03:57.326Z"
   },
   {
    "duration": 9,
    "start_time": "2022-01-30T06:03:57.373Z"
   },
   {
    "duration": 30,
    "start_time": "2022-01-30T06:03:57.384Z"
   },
   {
    "duration": 607,
    "start_time": "2022-01-30T06:03:57.416Z"
   },
   {
    "duration": 627,
    "start_time": "2022-01-30T06:03:58.026Z"
   },
   {
    "duration": 14,
    "start_time": "2022-01-30T06:03:58.656Z"
   },
   {
    "duration": 26,
    "start_time": "2022-01-30T06:03:58.672Z"
   },
   {
    "duration": 535,
    "start_time": "2022-01-30T06:03:58.700Z"
   },
   {
    "duration": 32,
    "start_time": "2022-01-30T06:03:59.237Z"
   },
   {
    "duration": 15,
    "start_time": "2022-01-30T06:03:59.271Z"
   },
   {
    "duration": 38,
    "start_time": "2022-01-30T06:03:59.291Z"
   },
   {
    "duration": 888,
    "start_time": "2022-01-30T06:03:59.332Z"
   },
   {
    "duration": 14,
    "start_time": "2022-01-30T06:04:00.222Z"
   },
   {
    "duration": 49,
    "start_time": "2022-01-30T06:04:00.239Z"
   },
   {
    "duration": 2598,
    "start_time": "2022-01-30T06:04:00.290Z"
   },
   {
    "duration": 2400,
    "start_time": "2022-01-30T06:04:02.891Z"
   },
   {
    "duration": 20,
    "start_time": "2022-01-30T06:04:05.293Z"
   },
   {
    "duration": 58,
    "start_time": "2022-01-30T06:04:05.315Z"
   },
   {
    "duration": 536,
    "start_time": "2022-01-30T06:04:05.375Z"
   },
   {
    "duration": 18,
    "start_time": "2022-01-30T06:04:05.914Z"
   },
   {
    "duration": 880,
    "start_time": "2022-01-30T06:04:05.935Z"
   },
   {
    "duration": 51,
    "start_time": "2022-01-30T06:04:06.818Z"
   },
   {
    "duration": 469,
    "start_time": "2022-01-30T06:04:06.871Z"
   },
   {
    "duration": 36,
    "start_time": "2022-01-30T06:04:07.342Z"
   },
   {
    "duration": 450,
    "start_time": "2022-01-30T06:04:07.380Z"
   },
   {
    "duration": 452,
    "start_time": "2022-01-30T06:04:07.833Z"
   },
   {
    "duration": 439,
    "start_time": "2022-01-30T06:04:08.288Z"
   },
   {
    "duration": 17,
    "start_time": "2022-01-30T06:04:08.729Z"
   },
   {
    "duration": 23,
    "start_time": "2022-01-30T06:04:08.748Z"
   },
   {
    "duration": 13,
    "start_time": "2022-01-30T06:04:08.774Z"
   },
   {
    "duration": 9,
    "start_time": "2022-01-30T06:04:08.789Z"
   },
   {
    "duration": 7,
    "start_time": "2022-01-30T06:04:08.800Z"
   },
   {
    "duration": 422,
    "start_time": "2022-01-30T07:09:39.974Z"
   },
   {
    "duration": 1489,
    "start_time": "2022-01-30T07:09:57.457Z"
   },
   {
    "duration": 67,
    "start_time": "2022-01-30T07:09:58.948Z"
   },
   {
    "duration": 13,
    "start_time": "2022-01-30T07:09:59.018Z"
   },
   {
    "duration": 8,
    "start_time": "2022-01-30T07:09:59.033Z"
   },
   {
    "duration": 29,
    "start_time": "2022-01-30T07:09:59.043Z"
   },
   {
    "duration": 6,
    "start_time": "2022-01-30T07:09:59.074Z"
   },
   {
    "duration": 11,
    "start_time": "2022-01-30T07:09:59.083Z"
   },
   {
    "duration": 4,
    "start_time": "2022-01-30T07:09:59.098Z"
   },
   {
    "duration": 18,
    "start_time": "2022-01-30T07:09:59.105Z"
   },
   {
    "duration": 64,
    "start_time": "2022-01-30T07:09:59.125Z"
   },
   {
    "duration": 5,
    "start_time": "2022-01-30T07:09:59.191Z"
   },
   {
    "duration": 11,
    "start_time": "2022-01-30T07:09:59.199Z"
   },
   {
    "duration": 17,
    "start_time": "2022-01-30T07:09:59.213Z"
   },
   {
    "duration": 43,
    "start_time": "2022-01-30T07:09:59.232Z"
   },
   {
    "duration": 26,
    "start_time": "2022-01-30T07:09:59.278Z"
   },
   {
    "duration": 623,
    "start_time": "2022-01-30T07:09:59.306Z"
   },
   {
    "duration": 622,
    "start_time": "2022-01-30T07:09:59.932Z"
   },
   {
    "duration": 13,
    "start_time": "2022-01-30T07:10:00.557Z"
   },
   {
    "duration": 26,
    "start_time": "2022-01-30T07:10:00.572Z"
   },
   {
    "duration": 572,
    "start_time": "2022-01-30T07:10:00.600Z"
   },
   {
    "duration": 19,
    "start_time": "2022-01-30T07:10:01.174Z"
   },
   {
    "duration": 15,
    "start_time": "2022-01-30T07:10:01.196Z"
   },
   {
    "duration": 70,
    "start_time": "2022-01-30T07:10:01.217Z"
   },
   {
    "duration": 867,
    "start_time": "2022-01-30T07:10:01.290Z"
   },
   {
    "duration": 24,
    "start_time": "2022-01-30T07:10:02.159Z"
   },
   {
    "duration": 36,
    "start_time": "2022-01-30T07:10:02.185Z"
   },
   {
    "duration": 3194,
    "start_time": "2022-01-30T07:10:02.223Z"
   },
   {
    "duration": 3148,
    "start_time": "2022-01-30T07:10:05.420Z"
   },
   {
    "duration": 19,
    "start_time": "2022-01-30T07:10:08.570Z"
   },
   {
    "duration": 34,
    "start_time": "2022-01-30T07:10:08.592Z"
   },
   {
    "duration": 609,
    "start_time": "2022-01-30T07:10:08.629Z"
   },
   {
    "duration": -345,
    "start_time": "2022-01-30T07:10:09.586Z"
   },
   {
    "duration": -346,
    "start_time": "2022-01-30T07:10:09.588Z"
   },
   {
    "duration": -382,
    "start_time": "2022-01-30T07:10:09.626Z"
   },
   {
    "duration": -382,
    "start_time": "2022-01-30T07:10:09.628Z"
   },
   {
    "duration": -383,
    "start_time": "2022-01-30T07:10:09.630Z"
   },
   {
    "duration": -383,
    "start_time": "2022-01-30T07:10:09.632Z"
   },
   {
    "duration": -383,
    "start_time": "2022-01-30T07:10:09.634Z"
   },
   {
    "duration": -384,
    "start_time": "2022-01-30T07:10:09.636Z"
   },
   {
    "duration": -384,
    "start_time": "2022-01-30T07:10:09.638Z"
   },
   {
    "duration": -385,
    "start_time": "2022-01-30T07:10:09.640Z"
   },
   {
    "duration": -386,
    "start_time": "2022-01-30T07:10:09.643Z"
   },
   {
    "duration": -386,
    "start_time": "2022-01-30T07:10:09.645Z"
   },
   {
    "duration": -387,
    "start_time": "2022-01-30T07:10:09.647Z"
   },
   {
    "duration": 266,
    "start_time": "2022-01-30T07:11:08.888Z"
   },
   {
    "duration": 504,
    "start_time": "2022-01-30T07:11:18.080Z"
   },
   {
    "duration": 591,
    "start_time": "2022-01-30T07:11:58.730Z"
   },
   {
    "duration": 626,
    "start_time": "2022-01-30T07:12:29.193Z"
   },
   {
    "duration": 19,
    "start_time": "2022-01-30T07:36:28.057Z"
   },
   {
    "duration": 776,
    "start_time": "2022-01-30T07:36:32.776Z"
   },
   {
    "duration": 34,
    "start_time": "2022-01-30T07:37:26.499Z"
   },
   {
    "duration": 457,
    "start_time": "2022-01-30T07:37:28.322Z"
   },
   {
    "duration": 25,
    "start_time": "2022-01-30T07:38:22.636Z"
   },
   {
    "duration": 449,
    "start_time": "2022-01-30T07:38:39.868Z"
   },
   {
    "duration": 440,
    "start_time": "2022-01-30T07:38:56.333Z"
   },
   {
    "duration": 439,
    "start_time": "2022-01-30T07:39:00.390Z"
   },
   {
    "duration": 284,
    "start_time": "2022-01-30T07:40:07.094Z"
   },
   {
    "duration": 30,
    "start_time": "2022-01-30T07:40:18.928Z"
   },
   {
    "duration": 22,
    "start_time": "2022-01-30T07:40:34.238Z"
   },
   {
    "duration": 88,
    "start_time": "2022-01-30T09:01:52.467Z"
   },
   {
    "duration": 25,
    "start_time": "2022-01-30T09:03:00.059Z"
   },
   {
    "duration": 441,
    "start_time": "2022-01-30T09:37:11.654Z"
   },
   {
    "duration": 441,
    "start_time": "2022-01-30T09:37:48.511Z"
   },
   {
    "duration": 1437,
    "start_time": "2022-01-30T09:47:16.599Z"
   },
   {
    "duration": 66,
    "start_time": "2022-01-30T09:47:18.039Z"
   },
   {
    "duration": 14,
    "start_time": "2022-01-30T09:47:18.108Z"
   },
   {
    "duration": 8,
    "start_time": "2022-01-30T09:47:18.125Z"
   },
   {
    "duration": 6,
    "start_time": "2022-01-30T09:47:18.135Z"
   },
   {
    "duration": 6,
    "start_time": "2022-01-30T09:47:18.169Z"
   },
   {
    "duration": 11,
    "start_time": "2022-01-30T09:47:18.177Z"
   },
   {
    "duration": 4,
    "start_time": "2022-01-30T09:47:18.192Z"
   },
   {
    "duration": 20,
    "start_time": "2022-01-30T09:47:18.198Z"
   },
   {
    "duration": 65,
    "start_time": "2022-01-30T09:47:18.220Z"
   },
   {
    "duration": 6,
    "start_time": "2022-01-30T09:47:18.288Z"
   },
   {
    "duration": 14,
    "start_time": "2022-01-30T09:47:18.297Z"
   },
   {
    "duration": 14,
    "start_time": "2022-01-30T09:47:18.314Z"
   },
   {
    "duration": 10,
    "start_time": "2022-01-30T09:47:18.370Z"
   },
   {
    "duration": 25,
    "start_time": "2022-01-30T09:47:18.382Z"
   },
   {
    "duration": 660,
    "start_time": "2022-01-30T09:47:18.409Z"
   },
   {
    "duration": 728,
    "start_time": "2022-01-30T09:47:19.071Z"
   },
   {
    "duration": 8,
    "start_time": "2022-01-30T09:47:19.801Z"
   },
   {
    "duration": 34,
    "start_time": "2022-01-30T09:47:19.812Z"
   },
   {
    "duration": 729,
    "start_time": "2022-01-30T09:47:19.849Z"
   },
   {
    "duration": 19,
    "start_time": "2022-01-30T09:47:20.581Z"
   },
   {
    "duration": 13,
    "start_time": "2022-01-30T09:47:20.602Z"
   },
   {
    "duration": 70,
    "start_time": "2022-01-30T09:47:20.621Z"
   },
   {
    "duration": 878,
    "start_time": "2022-01-30T09:47:20.694Z"
   },
   {
    "duration": 15,
    "start_time": "2022-01-30T09:47:21.575Z"
   },
   {
    "duration": 36,
    "start_time": "2022-01-30T09:47:21.594Z"
   },
   {
    "duration": 2533,
    "start_time": "2022-01-30T09:47:21.633Z"
   },
   {
    "duration": 2400,
    "start_time": "2022-01-30T09:47:24.169Z"
   },
   {
    "duration": 20,
    "start_time": "2022-01-30T09:47:26.571Z"
   },
   {
    "duration": 32,
    "start_time": "2022-01-30T09:47:26.594Z"
   },
   {
    "duration": 557,
    "start_time": "2022-01-30T09:47:26.628Z"
   },
   {
    "duration": 18,
    "start_time": "2022-01-30T09:47:27.188Z"
   },
   {
    "duration": 967,
    "start_time": "2022-01-30T09:47:27.208Z"
   },
   {
    "duration": 35,
    "start_time": "2022-01-30T09:47:28.177Z"
   },
   {
    "duration": 483,
    "start_time": "2022-01-30T09:47:28.215Z"
   },
   {
    "duration": 22,
    "start_time": "2022-01-30T09:47:28.701Z"
   },
   {
    "duration": 47,
    "start_time": "2022-01-30T09:47:28.725Z"
   },
   {
    "duration": 446,
    "start_time": "2022-01-30T09:47:28.774Z"
   },
   {
    "duration": 460,
    "start_time": "2022-01-30T09:47:29.222Z"
   },
   {
    "duration": 480,
    "start_time": "2022-01-30T09:47:29.684Z"
   },
   {
    "duration": 15,
    "start_time": "2022-01-30T09:47:30.170Z"
   },
   {
    "duration": 7,
    "start_time": "2022-01-30T09:47:30.187Z"
   },
   {
    "duration": 15,
    "start_time": "2022-01-30T09:47:30.196Z"
   },
   {
    "duration": 11,
    "start_time": "2022-01-30T09:47:30.213Z"
   },
   {
    "duration": 19,
    "start_time": "2022-01-30T09:47:30.226Z"
   },
   {
    "duration": 305,
    "start_time": "2022-01-31T03:57:17.319Z"
   },
   {
    "duration": 1215,
    "start_time": "2022-01-31T03:57:25.854Z"
   },
   {
    "duration": 54,
    "start_time": "2022-01-31T03:57:27.071Z"
   },
   {
    "duration": 11,
    "start_time": "2022-01-31T03:57:27.128Z"
   },
   {
    "duration": 7,
    "start_time": "2022-01-31T03:57:27.141Z"
   },
   {
    "duration": 6,
    "start_time": "2022-01-31T03:57:27.150Z"
   },
   {
    "duration": 9,
    "start_time": "2022-01-31T03:57:27.157Z"
   },
   {
    "duration": 32,
    "start_time": "2022-01-31T03:57:27.168Z"
   },
   {
    "duration": 3,
    "start_time": "2022-01-31T03:57:27.202Z"
   },
   {
    "duration": 25,
    "start_time": "2022-01-31T03:57:27.207Z"
   },
   {
    "duration": 20,
    "start_time": "2022-01-31T03:57:27.234Z"
   },
   {
    "duration": 4,
    "start_time": "2022-01-31T03:57:27.256Z"
   },
   {
    "duration": 22,
    "start_time": "2022-01-31T03:57:27.261Z"
   },
   {
    "duration": 22,
    "start_time": "2022-01-31T03:57:27.285Z"
   },
   {
    "duration": 19,
    "start_time": "2022-01-31T03:57:27.308Z"
   },
   {
    "duration": 27,
    "start_time": "2022-01-31T03:57:27.329Z"
   },
   {
    "duration": 406,
    "start_time": "2022-01-31T03:57:27.358Z"
   },
   {
    "duration": 439,
    "start_time": "2022-01-31T03:57:27.766Z"
   },
   {
    "duration": 6,
    "start_time": "2022-01-31T03:57:28.207Z"
   },
   {
    "duration": 29,
    "start_time": "2022-01-31T03:57:28.215Z"
   },
   {
    "duration": 366,
    "start_time": "2022-01-31T03:57:28.246Z"
   },
   {
    "duration": 15,
    "start_time": "2022-01-31T03:57:28.614Z"
   },
   {
    "duration": 11,
    "start_time": "2022-01-31T03:57:28.631Z"
   },
   {
    "duration": 54,
    "start_time": "2022-01-31T03:57:28.645Z"
   },
   {
    "duration": 591,
    "start_time": "2022-01-31T03:57:28.702Z"
   },
   {
    "duration": 12,
    "start_time": "2022-01-31T03:57:29.294Z"
   },
   {
    "duration": 42,
    "start_time": "2022-01-31T03:57:29.308Z"
   },
   {
    "duration": 1882,
    "start_time": "2022-01-31T03:57:29.352Z"
   },
   {
    "duration": 1783,
    "start_time": "2022-01-31T03:57:31.235Z"
   },
   {
    "duration": 13,
    "start_time": "2022-01-31T03:57:33.020Z"
   },
   {
    "duration": 21,
    "start_time": "2022-01-31T03:57:33.035Z"
   },
   {
    "duration": 376,
    "start_time": "2022-01-31T03:57:33.058Z"
   },
   {
    "duration": 12,
    "start_time": "2022-01-31T03:57:33.435Z"
   },
   {
    "duration": 629,
    "start_time": "2022-01-31T03:57:33.449Z"
   },
   {
    "duration": 32,
    "start_time": "2022-01-31T03:57:34.080Z"
   },
   {
    "duration": 325,
    "start_time": "2022-01-31T03:57:34.114Z"
   },
   {
    "duration": 16,
    "start_time": "2022-01-31T03:57:34.441Z"
   },
   {
    "duration": 5,
    "start_time": "2022-01-31T03:57:34.459Z"
   },
   {
    "duration": 35,
    "start_time": "2022-01-31T03:57:34.466Z"
   },
   {
    "duration": 311,
    "start_time": "2022-01-31T03:57:34.503Z"
   },
   {
    "duration": 310,
    "start_time": "2022-01-31T03:57:34.816Z"
   },
   {
    "duration": 307,
    "start_time": "2022-01-31T03:57:35.128Z"
   },
   {
    "duration": 10,
    "start_time": "2022-01-31T03:57:35.437Z"
   },
   {
    "duration": 4,
    "start_time": "2022-01-31T03:57:35.449Z"
   },
   {
    "duration": 12,
    "start_time": "2022-01-31T03:57:35.455Z"
   },
   {
    "duration": 7,
    "start_time": "2022-01-31T03:57:35.469Z"
   },
   {
    "duration": 6,
    "start_time": "2022-01-31T03:57:35.498Z"
   },
   {
    "duration": 359,
    "start_time": "2022-01-31T03:58:33.921Z"
   },
   {
    "duration": 671,
    "start_time": "2022-01-31T04:01:42.546Z"
   },
   {
    "duration": 5,
    "start_time": "2022-01-31T04:03:32.906Z"
   },
   {
    "duration": 5,
    "start_time": "2022-01-31T04:03:43.711Z"
   },
   {
    "duration": 1202,
    "start_time": "2022-01-31T04:04:02.984Z"
   },
   {
    "duration": 58,
    "start_time": "2022-01-31T04:04:04.188Z"
   },
   {
    "duration": 12,
    "start_time": "2022-01-31T04:04:04.249Z"
   },
   {
    "duration": 14,
    "start_time": "2022-01-31T04:04:04.264Z"
   },
   {
    "duration": 18,
    "start_time": "2022-01-31T04:04:04.280Z"
   },
   {
    "duration": 7,
    "start_time": "2022-01-31T04:04:04.300Z"
   },
   {
    "duration": 10,
    "start_time": "2022-01-31T04:04:04.309Z"
   },
   {
    "duration": 5,
    "start_time": "2022-01-31T04:04:04.321Z"
   },
   {
    "duration": 18,
    "start_time": "2022-01-31T04:04:04.328Z"
   },
   {
    "duration": 17,
    "start_time": "2022-01-31T04:04:04.347Z"
   },
   {
    "duration": 35,
    "start_time": "2022-01-31T04:04:04.366Z"
   },
   {
    "duration": 14,
    "start_time": "2022-01-31T04:04:04.403Z"
   },
   {
    "duration": 14,
    "start_time": "2022-01-31T04:04:04.419Z"
   },
   {
    "duration": 9,
    "start_time": "2022-01-31T04:04:04.435Z"
   },
   {
    "duration": 18,
    "start_time": "2022-01-31T04:04:04.446Z"
   },
   {
    "duration": 438,
    "start_time": "2022-01-31T04:04:04.466Z"
   },
   {
    "duration": 456,
    "start_time": "2022-01-31T04:04:04.906Z"
   },
   {
    "duration": 5,
    "start_time": "2022-01-31T04:04:05.364Z"
   },
   {
    "duration": 35,
    "start_time": "2022-01-31T04:04:05.371Z"
   },
   {
    "duration": 375,
    "start_time": "2022-01-31T04:04:05.408Z"
   },
   {
    "duration": 20,
    "start_time": "2022-01-31T04:04:05.784Z"
   },
   {
    "duration": 10,
    "start_time": "2022-01-31T04:04:05.806Z"
   },
   {
    "duration": 27,
    "start_time": "2022-01-31T04:04:05.820Z"
   },
   {
    "duration": 615,
    "start_time": "2022-01-31T04:04:05.850Z"
   },
   {
    "duration": 11,
    "start_time": "2022-01-31T04:04:06.467Z"
   },
   {
    "duration": 35,
    "start_time": "2022-01-31T04:04:06.479Z"
   },
   {
    "duration": 1905,
    "start_time": "2022-01-31T04:04:06.516Z"
   },
   {
    "duration": 1809,
    "start_time": "2022-01-31T04:04:08.423Z"
   },
   {
    "duration": 14,
    "start_time": "2022-01-31T04:04:10.234Z"
   },
   {
    "duration": 34,
    "start_time": "2022-01-31T04:04:10.249Z"
   },
   {
    "duration": 365,
    "start_time": "2022-01-31T04:04:10.285Z"
   },
   {
    "duration": 13,
    "start_time": "2022-01-31T04:04:10.652Z"
   },
   {
    "duration": 656,
    "start_time": "2022-01-31T04:04:10.667Z"
   },
   {
    "duration": 23,
    "start_time": "2022-01-31T04:04:11.325Z"
   },
   {
    "duration": 315,
    "start_time": "2022-01-31T04:04:11.350Z"
   },
   {
    "duration": 4,
    "start_time": "2022-01-31T04:04:11.667Z"
   },
   {
    "duration": 26,
    "start_time": "2022-01-31T04:04:11.673Z"
   },
   {
    "duration": 17,
    "start_time": "2022-01-31T04:04:11.701Z"
   },
   {
    "duration": 334,
    "start_time": "2022-01-31T04:04:11.720Z"
   },
   {
    "duration": 332,
    "start_time": "2022-01-31T04:04:12.056Z"
   },
   {
    "duration": 340,
    "start_time": "2022-01-31T04:04:12.390Z"
   },
   {
    "duration": 11,
    "start_time": "2022-01-31T04:04:12.732Z"
   },
   {
    "duration": 5,
    "start_time": "2022-01-31T04:04:12.745Z"
   },
   {
    "duration": 22,
    "start_time": "2022-01-31T04:04:12.752Z"
   },
   {
    "duration": 12,
    "start_time": "2022-01-31T04:04:12.776Z"
   },
   {
    "duration": 20,
    "start_time": "2022-01-31T04:04:12.790Z"
   },
   {
    "duration": 7,
    "start_time": "2022-01-31T04:08:10.407Z"
   },
   {
    "duration": 17,
    "start_time": "2022-01-31T04:08:26.618Z"
   },
   {
    "duration": 5,
    "start_time": "2022-01-31T04:08:30.649Z"
   },
   {
    "duration": 6,
    "start_time": "2022-01-31T04:08:33.065Z"
   },
   {
    "duration": 17,
    "start_time": "2022-01-31T04:08:34.322Z"
   },
   {
    "duration": 345,
    "start_time": "2022-01-31T04:08:59.799Z"
   },
   {
    "duration": 18,
    "start_time": "2022-01-31T04:09:35.852Z"
   },
   {
    "duration": 324,
    "start_time": "2022-01-31T04:09:54.152Z"
   },
   {
    "duration": 346,
    "start_time": "2022-01-31T04:10:03.119Z"
   },
   {
    "duration": 339,
    "start_time": "2022-01-31T04:10:35.402Z"
   },
   {
    "duration": 337,
    "start_time": "2022-01-31T04:11:11.646Z"
   },
   {
    "duration": 440,
    "start_time": "2022-01-31T04:11:18.722Z"
   },
   {
    "duration": 334,
    "start_time": "2022-01-31T04:11:22.482Z"
   },
   {
    "duration": 24,
    "start_time": "2022-01-31T04:14:33.000Z"
   },
   {
    "duration": 396,
    "start_time": "2022-01-31T04:19:02.746Z"
   },
   {
    "duration": 11,
    "start_time": "2022-01-31T04:19:32.662Z"
   },
   {
    "duration": 24,
    "start_time": "2022-01-31T04:19:46.685Z"
   },
   {
    "duration": 25,
    "start_time": "2022-01-31T04:20:10.185Z"
   },
   {
    "duration": 23,
    "start_time": "2022-01-31T04:22:47.432Z"
   },
   {
    "duration": 18,
    "start_time": "2022-01-31T04:23:28.469Z"
   },
   {
    "duration": 333,
    "start_time": "2022-01-31T04:27:46.615Z"
   }
  ],
  "kernelspec": {
   "display_name": "Python 3 (ipykernel)",
   "language": "python",
   "name": "python3"
  },
  "language_info": {
   "codemirror_mode": {
    "name": "ipython",
    "version": 3
   },
   "file_extension": ".py",
   "mimetype": "text/x-python",
   "name": "python",
   "nbconvert_exporter": "python",
   "pygments_lexer": "ipython3",
   "version": "3.9.12"
  },
  "toc": {
   "base_numbering": 1,
   "nav_menu": {
    "height": "131px",
    "width": "160px"
   },
   "number_sections": true,
   "sideBar": true,
   "skip_h1_title": true,
   "title_cell": "Table of Contents",
   "title_sidebar": "Contents",
   "toc_cell": false,
   "toc_position": {
    "height": "calc(100% - 180px)",
    "left": "10px",
    "top": "150px",
    "width": "253.188px"
   },
   "toc_section_display": true,
   "toc_window_display": true
  }
 },
 "nbformat": 4,
 "nbformat_minor": 2
}
