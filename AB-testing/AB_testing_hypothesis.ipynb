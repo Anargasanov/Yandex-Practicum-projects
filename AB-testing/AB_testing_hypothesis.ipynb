{
 "cells": [
  {
   "cell_type": "markdown",
   "metadata": {},
   "source": [
    "# Приоритизация гипотез и анализ A/B-теста интернет-магазина"
   ]
  },
  {
   "cell_type": "markdown",
   "metadata": {},
   "source": [
    "Исходные данные:\n",
    "\n",
    "/datasets/hypothesis.csv\n",
    "* Hypothesis — краткое описание гипотезы;\n",
    "* Reach — охват пользователей по 10-балльной шкале;\n",
    "* Impact — влияние на пользователей по 10-балльной шкале;\n",
    "* Confidence — уверенность в гипотезе по 10-балльной шкале;\n",
    "* Efforts — затраты ресурсов на проверку гипотезы по 10-балльной шкале. Чем больше значение Efforts, тем дороже проверка гипотезы.\n",
    "\n",
    "/datasets/orders.csv\n",
    "* transactionId — идентификатор заказа;\n",
    "* visitorId — идентификатор пользователя, совершившего заказ;\n",
    "* date — дата, когда был совершён заказ;\n",
    "* revenue — выручка заказа;\n",
    "* group — группа A/B-теста, в которую попал заказ.\n",
    "\n",
    "/datasets/visitors.csv\n",
    "* date — дата;\n",
    "* group — группа A/B-теста;\n",
    "* visitors — количество пользователей в указанную дату в указанной группе A/B-теста"
   ]
  },
  {
   "cell_type": "markdown",
   "metadata": {},
   "source": [
    "## Приоритизация гипотез"
   ]
  },
  {
   "cell_type": "markdown",
   "metadata": {},
   "source": [
    "В датасете /datasets/hypothesis.csv представлено 9 гипотез по увеличению выручки интернет-магазина. Нам требуется определить приоритетные гипотезы для проверки.\n",
    "\n",
    "Для начала рассмотрим данные."
   ]
  },
  {
   "cell_type": "code",
   "execution_count": 1,
   "metadata": {},
   "outputs": [],
   "source": [
    "# импорт библиотек для работы с данными\n",
    "\n",
    "import pandas as pd\n",
    "import numpy as np\n",
    "import datetime as dt\n",
    "\n",
    "# импорт библиотек для визуализации\n",
    "\n",
    "import matplotlib.pyplot as plt\n",
    "import seaborn as sns\n",
    "from pandas.plotting import register_matplotlib_converters\n",
    "\n",
    "# импорт библиотек для статистических вычислений\n",
    "\n",
    "from scipy import stats as st"
   ]
  },
  {
   "cell_type": "code",
   "execution_count": 2,
   "metadata": {},
   "outputs": [
    {
     "data": {
      "text/html": [
       "<div>\n",
       "<style scoped>\n",
       "    .dataframe tbody tr th:only-of-type {\n",
       "        vertical-align: middle;\n",
       "    }\n",
       "\n",
       "    .dataframe tbody tr th {\n",
       "        vertical-align: top;\n",
       "    }\n",
       "\n",
       "    .dataframe thead th {\n",
       "        text-align: right;\n",
       "    }\n",
       "</style>\n",
       "<table border=\"1\" class=\"dataframe\">\n",
       "  <thead>\n",
       "    <tr style=\"text-align: right;\">\n",
       "      <th></th>\n",
       "      <th>Hypothesis</th>\n",
       "      <th>Reach</th>\n",
       "      <th>Impact</th>\n",
       "      <th>Confidence</th>\n",
       "      <th>Efforts</th>\n",
       "    </tr>\n",
       "  </thead>\n",
       "  <tbody>\n",
       "    <tr>\n",
       "      <th>0</th>\n",
       "      <td>Добавить два новых канала привлечения трафика, что позволит привлекать на 30% больше пользователей</td>\n",
       "      <td>3</td>\n",
       "      <td>10</td>\n",
       "      <td>8</td>\n",
       "      <td>6</td>\n",
       "    </tr>\n",
       "    <tr>\n",
       "      <th>1</th>\n",
       "      <td>Запустить собственную службу доставки, что сократит срок доставки заказов</td>\n",
       "      <td>2</td>\n",
       "      <td>5</td>\n",
       "      <td>4</td>\n",
       "      <td>10</td>\n",
       "    </tr>\n",
       "    <tr>\n",
       "      <th>2</th>\n",
       "      <td>Добавить блоки рекомендаций товаров на сайт интернет магазина, чтобы повысить конверсию и средни...</td>\n",
       "      <td>8</td>\n",
       "      <td>3</td>\n",
       "      <td>7</td>\n",
       "      <td>3</td>\n",
       "    </tr>\n",
       "    <tr>\n",
       "      <th>3</th>\n",
       "      <td>Изменить структура категорий, что увеличит конверсию, т.к. пользователи быстрее найдут нужный товар</td>\n",
       "      <td>8</td>\n",
       "      <td>3</td>\n",
       "      <td>3</td>\n",
       "      <td>8</td>\n",
       "    </tr>\n",
       "    <tr>\n",
       "      <th>4</th>\n",
       "      <td>Изменить цвет фона главной страницы, чтобы увеличить вовлеченность пользователей</td>\n",
       "      <td>3</td>\n",
       "      <td>1</td>\n",
       "      <td>1</td>\n",
       "      <td>1</td>\n",
       "    </tr>\n",
       "    <tr>\n",
       "      <th>5</th>\n",
       "      <td>Добавить страницу отзывов клиентов о магазине, что позволит увеличить количество заказов</td>\n",
       "      <td>3</td>\n",
       "      <td>2</td>\n",
       "      <td>2</td>\n",
       "      <td>3</td>\n",
       "    </tr>\n",
       "    <tr>\n",
       "      <th>6</th>\n",
       "      <td>Показать на главной странице баннеры с актуальными акциями и распродажами, чтобы увеличить конве...</td>\n",
       "      <td>5</td>\n",
       "      <td>3</td>\n",
       "      <td>8</td>\n",
       "      <td>3</td>\n",
       "    </tr>\n",
       "    <tr>\n",
       "      <th>7</th>\n",
       "      <td>Добавить форму подписки на все основные страницы, чтобы собрать базу клиентов для email-рассылок</td>\n",
       "      <td>10</td>\n",
       "      <td>7</td>\n",
       "      <td>8</td>\n",
       "      <td>5</td>\n",
       "    </tr>\n",
       "    <tr>\n",
       "      <th>8</th>\n",
       "      <td>Запустить акцию, дающую скидку на товар в день рождения</td>\n",
       "      <td>1</td>\n",
       "      <td>9</td>\n",
       "      <td>9</td>\n",
       "      <td>5</td>\n",
       "    </tr>\n",
       "  </tbody>\n",
       "</table>\n",
       "</div>"
      ],
      "text/plain": [
       "                                                                                            Hypothesis  \\\n",
       "0   Добавить два новых канала привлечения трафика, что позволит привлекать на 30% больше пользователей   \n",
       "1                            Запустить собственную службу доставки, что сократит срок доставки заказов   \n",
       "2  Добавить блоки рекомендаций товаров на сайт интернет магазина, чтобы повысить конверсию и средни...   \n",
       "3  Изменить структура категорий, что увеличит конверсию, т.к. пользователи быстрее найдут нужный товар   \n",
       "4                     Изменить цвет фона главной страницы, чтобы увеличить вовлеченность пользователей   \n",
       "5             Добавить страницу отзывов клиентов о магазине, что позволит увеличить количество заказов   \n",
       "6  Показать на главной странице баннеры с актуальными акциями и распродажами, чтобы увеличить конве...   \n",
       "7     Добавить форму подписки на все основные страницы, чтобы собрать базу клиентов для email-рассылок   \n",
       "8                                              Запустить акцию, дающую скидку на товар в день рождения   \n",
       "\n",
       "   Reach  Impact  Confidence  Efforts  \n",
       "0      3      10           8        6  \n",
       "1      2       5           4       10  \n",
       "2      8       3           7        3  \n",
       "3      8       3           3        8  \n",
       "4      3       1           1        1  \n",
       "5      3       2           2        3  \n",
       "6      5       3           8        3  \n",
       "7     10       7           8        5  \n",
       "8      1       9           9        5  "
      ]
     },
     "execution_count": 2,
     "metadata": {},
     "output_type": "execute_result"
    }
   ],
   "source": [
    "# создание переменной с датасетом\n",
    "pd.set_option('max_colwidth', 100)\n",
    "\n",
    "try:\n",
    "    hypothesis = pd.read_csv('hypothesis.csv')\n",
    "except FileNotFoundError:\n",
    "    hypothesis = pd.read_csv('/datasets/hypothesis.csv')\n",
    "    \n",
    "hypothesis"
   ]
  },
  {
   "cell_type": "markdown",
   "metadata": {},
   "source": [
    "Всего представлено 9 гипотез, параметры оценки в 10-бальной шкале. Применим методы ICE и RICE для приоритизации.\n",
    "\n",
    "Сначала посчитаем оценку ICE, где \n",
    "\\begin{equation}\n",
    "ICE = \\frac{impact * confidence}\n",
    "{efforts} \n",
    "\\end{equation} и отсортируем гипотезы по приоритету"
   ]
  },
  {
   "cell_type": "code",
   "execution_count": 3,
   "metadata": {},
   "outputs": [
    {
     "data": {
      "text/html": [
       "<div>\n",
       "<style scoped>\n",
       "    .dataframe tbody tr th:only-of-type {\n",
       "        vertical-align: middle;\n",
       "    }\n",
       "\n",
       "    .dataframe tbody tr th {\n",
       "        vertical-align: top;\n",
       "    }\n",
       "\n",
       "    .dataframe thead th {\n",
       "        text-align: right;\n",
       "    }\n",
       "</style>\n",
       "<table border=\"1\" class=\"dataframe\">\n",
       "  <thead>\n",
       "    <tr style=\"text-align: right;\">\n",
       "      <th></th>\n",
       "      <th>Hypothesis</th>\n",
       "      <th>ICE</th>\n",
       "    </tr>\n",
       "  </thead>\n",
       "  <tbody>\n",
       "    <tr>\n",
       "      <th>8</th>\n",
       "      <td>Запустить акцию, дающую скидку на товар в день рождения</td>\n",
       "      <td>16.200000</td>\n",
       "    </tr>\n",
       "    <tr>\n",
       "      <th>0</th>\n",
       "      <td>Добавить два новых канала привлечения трафика, что позволит привлекать на 30% больше пользователей</td>\n",
       "      <td>13.333333</td>\n",
       "    </tr>\n",
       "    <tr>\n",
       "      <th>7</th>\n",
       "      <td>Добавить форму подписки на все основные страницы, чтобы собрать базу клиентов для email-рассылок</td>\n",
       "      <td>11.200000</td>\n",
       "    </tr>\n",
       "    <tr>\n",
       "      <th>6</th>\n",
       "      <td>Показать на главной странице баннеры с актуальными акциями и распродажами, чтобы увеличить конве...</td>\n",
       "      <td>8.000000</td>\n",
       "    </tr>\n",
       "    <tr>\n",
       "      <th>2</th>\n",
       "      <td>Добавить блоки рекомендаций товаров на сайт интернет магазина, чтобы повысить конверсию и средни...</td>\n",
       "      <td>7.000000</td>\n",
       "    </tr>\n",
       "    <tr>\n",
       "      <th>1</th>\n",
       "      <td>Запустить собственную службу доставки, что сократит срок доставки заказов</td>\n",
       "      <td>2.000000</td>\n",
       "    </tr>\n",
       "    <tr>\n",
       "      <th>5</th>\n",
       "      <td>Добавить страницу отзывов клиентов о магазине, что позволит увеличить количество заказов</td>\n",
       "      <td>1.333333</td>\n",
       "    </tr>\n",
       "    <tr>\n",
       "      <th>3</th>\n",
       "      <td>Изменить структура категорий, что увеличит конверсию, т.к. пользователи быстрее найдут нужный товар</td>\n",
       "      <td>1.125000</td>\n",
       "    </tr>\n",
       "    <tr>\n",
       "      <th>4</th>\n",
       "      <td>Изменить цвет фона главной страницы, чтобы увеличить вовлеченность пользователей</td>\n",
       "      <td>1.000000</td>\n",
       "    </tr>\n",
       "  </tbody>\n",
       "</table>\n",
       "</div>"
      ],
      "text/plain": [
       "                                                                                            Hypothesis  \\\n",
       "8                                              Запустить акцию, дающую скидку на товар в день рождения   \n",
       "0   Добавить два новых канала привлечения трафика, что позволит привлекать на 30% больше пользователей   \n",
       "7     Добавить форму подписки на все основные страницы, чтобы собрать базу клиентов для email-рассылок   \n",
       "6  Показать на главной странице баннеры с актуальными акциями и распродажами, чтобы увеличить конве...   \n",
       "2  Добавить блоки рекомендаций товаров на сайт интернет магазина, чтобы повысить конверсию и средни...   \n",
       "1                            Запустить собственную службу доставки, что сократит срок доставки заказов   \n",
       "5             Добавить страницу отзывов клиентов о магазине, что позволит увеличить количество заказов   \n",
       "3  Изменить структура категорий, что увеличит конверсию, т.к. пользователи быстрее найдут нужный товар   \n",
       "4                     Изменить цвет фона главной страницы, чтобы увеличить вовлеченность пользователей   \n",
       "\n",
       "         ICE  \n",
       "8  16.200000  \n",
       "0  13.333333  \n",
       "7  11.200000  \n",
       "6   8.000000  \n",
       "2   7.000000  \n",
       "1   2.000000  \n",
       "5   1.333333  \n",
       "3   1.125000  \n",
       "4   1.000000  "
      ]
     },
     "execution_count": 3,
     "metadata": {},
     "output_type": "execute_result"
    }
   ],
   "source": [
    "hypothesis['ICE'] = hypothesis['Impact']*hypothesis['Confidence'] / hypothesis['Efforts']\n",
    "hypothesis[['Hypothesis', 'ICE']].sort_values(by='ICE', ascending=False)"
   ]
  },
  {
   "cell_type": "markdown",
   "metadata": {},
   "source": [
    "С оценкой 16,2 на первом месте по приоритетности гипотеза - \"запустить акцию, дающую скидку на товар в день рождения\", самая низкая по приоритету - \"имзенить цвет фона главной страницы, чтобы увеличить вовлеченность пользователей\".\n",
    "\n",
    "Теперь рассмотрим приоритет гипотез по методу RICE, где добавляется еще один параметр оценки - reach (охват), то есть на какое количество людей повлияет указанное в гипотезе изменение:\n",
    "\n",
    "\\begin{equation}\n",
    "RICE = \\frac{rearch * impact * confidence}{efforts}\n",
    "\\end{equation}"
   ]
  },
  {
   "cell_type": "code",
   "execution_count": 4,
   "metadata": {},
   "outputs": [
    {
     "data": {
      "text/html": [
       "<div>\n",
       "<style scoped>\n",
       "    .dataframe tbody tr th:only-of-type {\n",
       "        vertical-align: middle;\n",
       "    }\n",
       "\n",
       "    .dataframe tbody tr th {\n",
       "        vertical-align: top;\n",
       "    }\n",
       "\n",
       "    .dataframe thead th {\n",
       "        text-align: right;\n",
       "    }\n",
       "</style>\n",
       "<table border=\"1\" class=\"dataframe\">\n",
       "  <thead>\n",
       "    <tr style=\"text-align: right;\">\n",
       "      <th></th>\n",
       "      <th>Hypothesis</th>\n",
       "      <th>ICE</th>\n",
       "      <th>RICE</th>\n",
       "    </tr>\n",
       "  </thead>\n",
       "  <tbody>\n",
       "    <tr>\n",
       "      <th>7</th>\n",
       "      <td>Добавить форму подписки на все основные страницы, чтобы собрать базу клиентов для email-рассылок</td>\n",
       "      <td>11.200000</td>\n",
       "      <td>112.0</td>\n",
       "    </tr>\n",
       "    <tr>\n",
       "      <th>2</th>\n",
       "      <td>Добавить блоки рекомендаций товаров на сайт интернет магазина, чтобы повысить конверсию и средни...</td>\n",
       "      <td>7.000000</td>\n",
       "      <td>56.0</td>\n",
       "    </tr>\n",
       "    <tr>\n",
       "      <th>0</th>\n",
       "      <td>Добавить два новых канала привлечения трафика, что позволит привлекать на 30% больше пользователей</td>\n",
       "      <td>13.333333</td>\n",
       "      <td>40.0</td>\n",
       "    </tr>\n",
       "    <tr>\n",
       "      <th>6</th>\n",
       "      <td>Показать на главной странице баннеры с актуальными акциями и распродажами, чтобы увеличить конве...</td>\n",
       "      <td>8.000000</td>\n",
       "      <td>40.0</td>\n",
       "    </tr>\n",
       "    <tr>\n",
       "      <th>8</th>\n",
       "      <td>Запустить акцию, дающую скидку на товар в день рождения</td>\n",
       "      <td>16.200000</td>\n",
       "      <td>16.2</td>\n",
       "    </tr>\n",
       "    <tr>\n",
       "      <th>3</th>\n",
       "      <td>Изменить структура категорий, что увеличит конверсию, т.к. пользователи быстрее найдут нужный товар</td>\n",
       "      <td>1.125000</td>\n",
       "      <td>9.0</td>\n",
       "    </tr>\n",
       "    <tr>\n",
       "      <th>1</th>\n",
       "      <td>Запустить собственную службу доставки, что сократит срок доставки заказов</td>\n",
       "      <td>2.000000</td>\n",
       "      <td>4.0</td>\n",
       "    </tr>\n",
       "    <tr>\n",
       "      <th>5</th>\n",
       "      <td>Добавить страницу отзывов клиентов о магазине, что позволит увеличить количество заказов</td>\n",
       "      <td>1.333333</td>\n",
       "      <td>4.0</td>\n",
       "    </tr>\n",
       "    <tr>\n",
       "      <th>4</th>\n",
       "      <td>Изменить цвет фона главной страницы, чтобы увеличить вовлеченность пользователей</td>\n",
       "      <td>1.000000</td>\n",
       "      <td>3.0</td>\n",
       "    </tr>\n",
       "  </tbody>\n",
       "</table>\n",
       "</div>"
      ],
      "text/plain": [
       "                                                                                            Hypothesis  \\\n",
       "7     Добавить форму подписки на все основные страницы, чтобы собрать базу клиентов для email-рассылок   \n",
       "2  Добавить блоки рекомендаций товаров на сайт интернет магазина, чтобы повысить конверсию и средни...   \n",
       "0   Добавить два новых канала привлечения трафика, что позволит привлекать на 30% больше пользователей   \n",
       "6  Показать на главной странице баннеры с актуальными акциями и распродажами, чтобы увеличить конве...   \n",
       "8                                              Запустить акцию, дающую скидку на товар в день рождения   \n",
       "3  Изменить структура категорий, что увеличит конверсию, т.к. пользователи быстрее найдут нужный товар   \n",
       "1                            Запустить собственную службу доставки, что сократит срок доставки заказов   \n",
       "5             Добавить страницу отзывов клиентов о магазине, что позволит увеличить количество заказов   \n",
       "4                     Изменить цвет фона главной страницы, чтобы увеличить вовлеченность пользователей   \n",
       "\n",
       "         ICE   RICE  \n",
       "7  11.200000  112.0  \n",
       "2   7.000000   56.0  \n",
       "0  13.333333   40.0  \n",
       "6   8.000000   40.0  \n",
       "8  16.200000   16.2  \n",
       "3   1.125000    9.0  \n",
       "1   2.000000    4.0  \n",
       "5   1.333333    4.0  \n",
       "4   1.000000    3.0  "
      ]
     },
     "execution_count": 4,
     "metadata": {},
     "output_type": "execute_result"
    }
   ],
   "source": [
    "hypothesis['RICE'] = hypothesis['Reach']*hypothesis['Impact']*hypothesis['Confidence'] / hypothesis['Efforts']\n",
    "hypothesis[['Hypothesis', 'ICE', 'RICE']].sort_values(by=['RICE','ICE'], ascending=[False, False])"
   ]
  },
  {
   "cell_type": "markdown",
   "metadata": {},
   "source": [
    "Визуализируем изменения при помощи slope graph."
   ]
  },
  {
   "cell_type": "code",
   "execution_count": 5,
   "metadata": {
    "scrolled": false
   },
   "outputs": [
    {
     "data": {
      "image/png": "[encoded data removed]",
      "text/plain": [
       "<Figure size 360x720 with 1 Axes>"
      ]
     },
     "metadata": {
      "needs_background": "light"
     },
     "output_type": "display_data"
    }
   ],
   "source": [
    "# создание датасета для визуализации\n",
    "\n",
    "ice = hypothesis[['Hypothesis', 'ICE']].set_index('Hypothesis')\n",
    "ice.columns = ['Score']\n",
    "ice_dict = ice.to_dict(orient='index')\n",
    "hypothesis_one = pd.DataFrame(ice_dict).T\n",
    "hypothesis_one['Framework'] = 'ICE'\n",
    "\n",
    "rice = hypothesis[['Hypothesis', 'RICE']].set_index('Hypothesis')\n",
    "rice.columns = ['Score']\n",
    "rice_dict = rice.to_dict(orient='index')\n",
    "hypothesis_two = pd.DataFrame(rice_dict).T\n",
    "hypothesis_two['Framework'] = 'RICE'\n",
    "\n",
    "hypothesis_visual = pd.concat([hypothesis_one, hypothesis_two]).reset_index().rename(columns={'index':'Hypothesis'})\n",
    "\n",
    "# построение slope graph\n",
    "hypothesis_list = hypothesis['Hypothesis'].tolist()\n",
    "\n",
    "fig, ax = plt.subplots(1, figsize=(5,10))\n",
    "for i in hypothesis_list:\n",
    "    temp = hypothesis_visual[hypothesis_visual['Hypothesis'] == i]\n",
    "    plt.plot(temp.Framework, temp.Score, marker='o', label = i)\n",
    "\n",
    "plt.xticks(['ICE','RICE'])\n",
    "plt.xlabel('Фреймворк')\n",
    "plt.ylabel('Оценка')\n",
    "plt.legend(bbox_to_anchor=(1, 1))\n",
    "plt.show()"
   ]
  },
  {
   "cell_type": "markdown",
   "metadata": {},
   "source": [
    "По методу RICE приоритет гипотез изменился, на первом месте с большим отрывом по оценке - гипотеза \"добавить форму подписки на все основные страницы, чтобы собрать базу клиентов для email-рассылок\", при этом по методу ICE она была на 3 месте. Гипотеза №2 стала второй, а по методу ICE она была в середине списка - пятая.\n",
    "\n",
    "Мы можем отсеять гипотезы №№ 1,3,4,5 , так как в обоих оценках они находятся в конце списка по приоритету с низкими RICE и ICE scores.\n",
    "\n",
    "Приоритет гипотез в начале списка разный, так как при оценке RICE появился новый параметр reach, умножение на который увеличивает оценку ICE в 1 - 10 раз, в зависимости от оценки по данному параметру. На примере гипотезы №7 и №2 мы видим, что высокая оценка reach позволила стать им самыми приоритетными, а гипотезе №8 с охватом, оцененным в 1 балл, не приумножить имеющуюся оценку по ICE и поэтому занять место в середине списка по методу RICE."
   ]
  },
  {
   "cell_type": "markdown",
   "metadata": {},
   "source": [
    "## Анализ A/B теста"
   ]
  },
  {
   "cell_type": "markdown",
   "metadata": {},
   "source": [
    "### Предобработка данных"
   ]
  },
  {
   "cell_type": "markdown",
   "metadata": {},
   "source": [
    "Интернет-магазин провел A/B-тест для подтверждения одной из выбранных гипотез. После проведения теста нам переданы следующие данные:\n",
    "- /datasets/orders.csv\n",
    "- /datasets/visitors.csv\n",
    "\n",
    "Изучим данные и проанализируем проведенный A/B-тест."
   ]
  },
  {
   "cell_type": "code",
   "execution_count": 6,
   "metadata": {},
   "outputs": [
    {
     "data": {
      "text/html": [
       "<div>\n",
       "<style scoped>\n",
       "    .dataframe tbody tr th:only-of-type {\n",
       "        vertical-align: middle;\n",
       "    }\n",
       "\n",
       "    .dataframe tbody tr th {\n",
       "        vertical-align: top;\n",
       "    }\n",
       "\n",
       "    .dataframe thead th {\n",
       "        text-align: right;\n",
       "    }\n",
       "</style>\n",
       "<table border=\"1\" class=\"dataframe\">\n",
       "  <thead>\n",
       "    <tr style=\"text-align: right;\">\n",
       "      <th></th>\n",
       "      <th>transactionId</th>\n",
       "      <th>visitorId</th>\n",
       "      <th>date</th>\n",
       "      <th>revenue</th>\n",
       "      <th>group</th>\n",
       "    </tr>\n",
       "  </thead>\n",
       "  <tbody>\n",
       "    <tr>\n",
       "      <th>437</th>\n",
       "      <td>2291372207</td>\n",
       "      <td>2968526225</td>\n",
       "      <td>2019-08-28</td>\n",
       "      <td>2000</td>\n",
       "      <td>B</td>\n",
       "    </tr>\n",
       "    <tr>\n",
       "      <th>989</th>\n",
       "      <td>4035028498</td>\n",
       "      <td>721509856</td>\n",
       "      <td>2019-08-28</td>\n",
       "      <td>190</td>\n",
       "      <td>A</td>\n",
       "    </tr>\n",
       "    <tr>\n",
       "      <th>395</th>\n",
       "      <td>2552819381</td>\n",
       "      <td>678354126</td>\n",
       "      <td>2019-08-28</td>\n",
       "      <td>880</td>\n",
       "      <td>A</td>\n",
       "    </tr>\n",
       "    <tr>\n",
       "      <th>36</th>\n",
       "      <td>2165344951</td>\n",
       "      <td>2805132315</td>\n",
       "      <td>2019-08-15</td>\n",
       "      <td>2470</td>\n",
       "      <td>B</td>\n",
       "    </tr>\n",
       "    <tr>\n",
       "      <th>1157</th>\n",
       "      <td>3716304192</td>\n",
       "      <td>2695379936</td>\n",
       "      <td>2019-08-14</td>\n",
       "      <td>590</td>\n",
       "      <td>A</td>\n",
       "    </tr>\n",
       "  </tbody>\n",
       "</table>\n",
       "</div>"
      ],
      "text/plain": [
       "      transactionId   visitorId        date  revenue group\n",
       "437      2291372207  2968526225  2019-08-28     2000     B\n",
       "989      4035028498   721509856  2019-08-28      190     A\n",
       "395      2552819381   678354126  2019-08-28      880     A\n",
       "36       2165344951  2805132315  2019-08-15     2470     B\n",
       "1157     3716304192  2695379936  2019-08-14      590     A"
      ]
     },
     "metadata": {},
     "output_type": "display_data"
    },
    {
     "data": {
      "text/html": [
       "<div>\n",
       "<style scoped>\n",
       "    .dataframe tbody tr th:only-of-type {\n",
       "        vertical-align: middle;\n",
       "    }\n",
       "\n",
       "    .dataframe tbody tr th {\n",
       "        vertical-align: top;\n",
       "    }\n",
       "\n",
       "    .dataframe thead th {\n",
       "        text-align: right;\n",
       "    }\n",
       "</style>\n",
       "<table border=\"1\" class=\"dataframe\">\n",
       "  <thead>\n",
       "    <tr style=\"text-align: right;\">\n",
       "      <th></th>\n",
       "      <th>date</th>\n",
       "      <th>group</th>\n",
       "      <th>visitors</th>\n",
       "    </tr>\n",
       "  </thead>\n",
       "  <tbody>\n",
       "    <tr>\n",
       "      <th>3</th>\n",
       "      <td>2019-08-04</td>\n",
       "      <td>A</td>\n",
       "      <td>717</td>\n",
       "    </tr>\n",
       "    <tr>\n",
       "      <th>48</th>\n",
       "      <td>2019-08-18</td>\n",
       "      <td>B</td>\n",
       "      <td>737</td>\n",
       "    </tr>\n",
       "    <tr>\n",
       "      <th>14</th>\n",
       "      <td>2019-08-15</td>\n",
       "      <td>A</td>\n",
       "      <td>628</td>\n",
       "    </tr>\n",
       "    <tr>\n",
       "      <th>10</th>\n",
       "      <td>2019-08-11</td>\n",
       "      <td>A</td>\n",
       "      <td>718</td>\n",
       "    </tr>\n",
       "    <tr>\n",
       "      <th>25</th>\n",
       "      <td>2019-08-26</td>\n",
       "      <td>A</td>\n",
       "      <td>722</td>\n",
       "    </tr>\n",
       "  </tbody>\n",
       "</table>\n",
       "</div>"
      ],
      "text/plain": [
       "          date group  visitors\n",
       "3   2019-08-04     A       717\n",
       "48  2019-08-18     B       737\n",
       "14  2019-08-15     A       628\n",
       "10  2019-08-11     A       718\n",
       "25  2019-08-26     A       722"
      ]
     },
     "metadata": {},
     "output_type": "display_data"
    }
   ],
   "source": [
    "# загрузка данных в переменные и просмотр таблиц\n",
    "try:\n",
    "    orders = pd.read_csv('/datasets/orders.csv')\n",
    "    visitors = pd.read_csv('/datasets/visitors.csv')\n",
    "    display(orders.sample(5))\n",
    "    display(visitors.sample(5))\n",
    "except FileNotFoundError:\n",
    "    orders = pd.read_csv('orders.csv')\n",
    "    visitors = pd.read_csv('visitors.csv')\n",
    "    display(orders.sample(5))\n",
    "    display(visitors.sample(5))"
   ]
  },
  {
   "cell_type": "markdown",
   "metadata": {},
   "source": [
    "В таблице orders информация о совершенных заказах за определенный период времени, столбец transactionId содержит уникальные идентификаторы заказов, visitorId - уникальные идентификаторы пользователей, совершивших заказ, date - дата совершения заказа, revenue - выручка с данного заказа, group - принадлежность к группе теста (A или B).\n",
    "\n",
    "В таблице visitors представлена информация о количестве пользователей в конкретную дату, где столбец date - дата, group - принадлежность к группе теста (A или B), visitors - общее количество пользователей в указанную дату, относящихся к опредленной группе A/B-теста."
   ]
  },
  {
   "cell_type": "markdown",
   "metadata": {},
   "source": [
    "Проведем предобработку данных, в датасетах посмотрим количество дубликатов и пропусков"
   ]
  },
  {
   "cell_type": "code",
   "execution_count": 7,
   "metadata": {},
   "outputs": [
    {
     "name": "stdout",
     "output_type": "stream",
     "text": [
      "transactionId    0\n",
      "visitorId        0\n",
      "date             0\n",
      "revenue          0\n",
      "group            0\n",
      "dtype: int64\n",
      "date        0\n",
      "group       0\n",
      "visitors    0\n",
      "dtype: int64\n"
     ]
    }
   ],
   "source": [
    "# поиск пропусков в исходных данных\n",
    "\n",
    "print(orders.isna().sum())\n",
    "print(visitors.isna().sum())"
   ]
  },
  {
   "cell_type": "markdown",
   "metadata": {},
   "source": [
    "Пропуски отсутствуют. Проверим дубликаты"
   ]
  },
  {
   "cell_type": "code",
   "execution_count": 8,
   "metadata": {},
   "outputs": [
    {
     "name": "stdout",
     "output_type": "stream",
     "text": [
      "Количество дубликатов в таблице заказов: 0\n",
      "Количество дубликатов в таблице количества пользователей по датам: 0\n"
     ]
    }
   ],
   "source": [
    "# поиск явных дубликатов\n",
    "\n",
    "print('Количество дубликатов в таблице заказов: {}'.format(orders.duplicated().sum()))\n",
    "print('Количество дубликатов в таблице количества пользователей по датам: {}'.format(visitors.duplicated().sum()))"
   ]
  },
  {
   "cell_type": "code",
   "execution_count": 9,
   "metadata": {},
   "outputs": [
    {
     "name": "stdout",
     "output_type": "stream",
     "text": [
      "58\n"
     ]
    }
   ],
   "source": [
    "# поиск пользователей, попавших в обе группы\n",
    "\n",
    "duplicated_users = orders.groupby('visitorId').agg({'group':['nunique']})\n",
    "duplicated_users.columns = ['groups']\n",
    "duplicated_users = duplicated_users.query('groups > 1')\n",
    "print(len(duplicated_users))\n",
    "\n",
    "# очистка таблицы от пользователей, попавших в обе группы\n",
    "\n",
    "orders = orders.query('visitorId not in @duplicated_users.index')"
   ]
  },
  {
   "cell_type": "markdown",
   "metadata": {},
   "source": [
    "Изменим формат дат в таблицах для удобства"
   ]
  },
  {
   "cell_type": "code",
   "execution_count": 10,
   "metadata": {},
   "outputs": [],
   "source": [
    "# преобразование строк в столбце date в формат datetime64\n",
    "\n",
    "orders['date'] = orders['date'].map(lambda x: dt.datetime.strptime(x, '%Y-%m-%d'))\n",
    "visitors['date'] = visitors['date'].map(lambda x: dt.datetime.strptime(x, '%Y-%m-%d'))"
   ]
  },
  {
   "cell_type": "markdown",
   "metadata": {},
   "source": [
    "### Аналитическая оценка данных A/B-теста"
   ]
  },
  {
   "cell_type": "markdown",
   "metadata": {},
   "source": [
    "#### Сбор кумулятивных данных"
   ]
  },
  {
   "cell_type": "markdown",
   "metadata": {},
   "source": [
    "Подготовив исходные данные мы можем приступить к анализу результатов A/B-теста, рассмотрим следующие метрики и их изменение в для исключения проблемы подсматривания:\n",
    "- куммулятивную выручку по группам;\n",
    "- куммулятивный средний чек по группам и его относительное изменение;\n",
    "- куммулятивную конверсию по группам и ее относительное изменение;\n",
    "- количество заказов по пользователям;\n",
    "- стоимость заказов."
   ]
  },
  {
   "cell_type": "markdown",
   "metadata": {},
   "source": [
    "Соберем накопленные метрики в одну таблицу, где каждая строка будет соответствовать дню и группе, имеющей представленные в таблице метрики: выручку, количество заказов, покупателей, посетителей интернет-магазина, средний чек и конверсию."
   ]
  },
  {
   "cell_type": "code",
   "execution_count": 11,
   "metadata": {},
   "outputs": [],
   "source": [
    "# создание таблицы с датой и группой теста\n",
    "\n",
    "dates_groups = orders[['date', 'group']].drop_duplicates().sort_values(by='date')\n",
    "dates_groups\n",
    "\n",
    "# агрегируем данные по количеству транзакций, покупателей и выручке накопительно от первой до конечной даты\n",
    "\n",
    "orders_aggregated = dates_groups.apply(\n",
    "    lambda x: orders[np.logical_and(orders['date'] <= x['date'], orders['group'] == x['group'])].agg(\n",
    "    {'date':'max', 'group':'max', 'transactionId':'nunique', 'visitorId':'nunique', 'revenue':'sum'}\n",
    "    ), axis = 1).sort_values(by=['date','group'])\n",
    "\n",
    "# агрегируем данные по количеству посетителей\n",
    "\n",
    "visitors_aggregated = dates_groups.apply(\n",
    "    lambda x: visitors[np.logical_and(visitors['date'] <= x['date'], visitors['group'] == x['group'])].agg(\n",
    "    {'date':'max', 'group':'max', 'visitors':'sum'}\n",
    "    ), axis=1).sort_values(by=['date','group'])"
   ]
  },
  {
   "cell_type": "markdown",
   "metadata": {},
   "source": [
    "Мы собрали кумулятивные данные о количестве покупок, пользователей, выручке и количеству посетителей. Полученные данные объединяем в единый датафрейм по дате и группе, а также дополним данные столбцами со средним чеком и конверсией"
   ]
  },
  {
   "cell_type": "code",
   "execution_count": 12,
   "metadata": {},
   "outputs": [
    {
     "data": {
      "text/html": [
       "<div>\n",
       "<style scoped>\n",
       "    .dataframe tbody tr th:only-of-type {\n",
       "        vertical-align: middle;\n",
       "    }\n",
       "\n",
       "    .dataframe tbody tr th {\n",
       "        vertical-align: top;\n",
       "    }\n",
       "\n",
       "    .dataframe thead th {\n",
       "        text-align: right;\n",
       "    }\n",
       "</style>\n",
       "<table border=\"1\" class=\"dataframe\">\n",
       "  <thead>\n",
       "    <tr style=\"text-align: right;\">\n",
       "      <th></th>\n",
       "      <th>date</th>\n",
       "      <th>group</th>\n",
       "      <th>orders</th>\n",
       "      <th>buyers</th>\n",
       "      <th>revenue</th>\n",
       "      <th>visitors</th>\n",
       "      <th>conversion</th>\n",
       "    </tr>\n",
       "  </thead>\n",
       "  <tbody>\n",
       "    <tr>\n",
       "      <th>0</th>\n",
       "      <td>2019-08-01</td>\n",
       "      <td>A</td>\n",
       "      <td>23</td>\n",
       "      <td>19</td>\n",
       "      <td>142779</td>\n",
       "      <td>719</td>\n",
       "      <td>0.0264</td>\n",
       "    </tr>\n",
       "    <tr>\n",
       "      <th>1</th>\n",
       "      <td>2019-08-01</td>\n",
       "      <td>B</td>\n",
       "      <td>17</td>\n",
       "      <td>17</td>\n",
       "      <td>59758</td>\n",
       "      <td>713</td>\n",
       "      <td>0.0238</td>\n",
       "    </tr>\n",
       "    <tr>\n",
       "      <th>2</th>\n",
       "      <td>2019-08-02</td>\n",
       "      <td>A</td>\n",
       "      <td>42</td>\n",
       "      <td>36</td>\n",
       "      <td>234381</td>\n",
       "      <td>1338</td>\n",
       "      <td>0.0269</td>\n",
       "    </tr>\n",
       "    <tr>\n",
       "      <th>3</th>\n",
       "      <td>2019-08-02</td>\n",
       "      <td>B</td>\n",
       "      <td>40</td>\n",
       "      <td>39</td>\n",
       "      <td>221801</td>\n",
       "      <td>1294</td>\n",
       "      <td>0.0301</td>\n",
       "    </tr>\n",
       "    <tr>\n",
       "      <th>4</th>\n",
       "      <td>2019-08-03</td>\n",
       "      <td>A</td>\n",
       "      <td>66</td>\n",
       "      <td>60</td>\n",
       "      <td>346854</td>\n",
       "      <td>1845</td>\n",
       "      <td>0.0325</td>\n",
       "    </tr>\n",
       "    <tr>\n",
       "      <th>...</th>\n",
       "      <td>...</td>\n",
       "      <td>...</td>\n",
       "      <td>...</td>\n",
       "      <td>...</td>\n",
       "      <td>...</td>\n",
       "      <td>...</td>\n",
       "      <td>...</td>\n",
       "    </tr>\n",
       "    <tr>\n",
       "      <th>57</th>\n",
       "      <td>2019-08-29</td>\n",
       "      <td>B</td>\n",
       "      <td>510</td>\n",
       "      <td>490</td>\n",
       "      <td>4746610</td>\n",
       "      <td>17708</td>\n",
       "      <td>0.0277</td>\n",
       "    </tr>\n",
       "    <tr>\n",
       "      <th>58</th>\n",
       "      <td>2019-08-30</td>\n",
       "      <td>A</td>\n",
       "      <td>460</td>\n",
       "      <td>437</td>\n",
       "      <td>3311413</td>\n",
       "      <td>18037</td>\n",
       "      <td>0.0242</td>\n",
       "    </tr>\n",
       "    <tr>\n",
       "      <th>59</th>\n",
       "      <td>2019-08-30</td>\n",
       "      <td>B</td>\n",
       "      <td>531</td>\n",
       "      <td>511</td>\n",
       "      <td>4955833</td>\n",
       "      <td>18198</td>\n",
       "      <td>0.0281</td>\n",
       "    </tr>\n",
       "    <tr>\n",
       "      <th>60</th>\n",
       "      <td>2019-08-31</td>\n",
       "      <td>A</td>\n",
       "      <td>468</td>\n",
       "      <td>445</td>\n",
       "      <td>3364656</td>\n",
       "      <td>18736</td>\n",
       "      <td>0.0238</td>\n",
       "    </tr>\n",
       "    <tr>\n",
       "      <th>61</th>\n",
       "      <td>2019-08-31</td>\n",
       "      <td>B</td>\n",
       "      <td>548</td>\n",
       "      <td>528</td>\n",
       "      <td>5068972</td>\n",
       "      <td>18916</td>\n",
       "      <td>0.0279</td>\n",
       "    </tr>\n",
       "  </tbody>\n",
       "</table>\n",
       "<p>62 rows × 7 columns</p>\n",
       "</div>"
      ],
      "text/plain": [
       "         date group  orders  buyers  revenue  visitors  conversion\n",
       "0  2019-08-01     A      23      19   142779       719      0.0264\n",
       "1  2019-08-01     B      17      17    59758       713      0.0238\n",
       "2  2019-08-02     A      42      36   234381      1338      0.0269\n",
       "3  2019-08-02     B      40      39   221801      1294      0.0301\n",
       "4  2019-08-03     A      66      60   346854      1845      0.0325\n",
       "..        ...   ...     ...     ...      ...       ...         ...\n",
       "57 2019-08-29     B     510     490  4746610     17708      0.0277\n",
       "58 2019-08-30     A     460     437  3311413     18037      0.0242\n",
       "59 2019-08-30     B     531     511  4955833     18198      0.0281\n",
       "60 2019-08-31     A     468     445  3364656     18736      0.0238\n",
       "61 2019-08-31     B     548     528  5068972     18916      0.0279\n",
       "\n",
       "[62 rows x 7 columns]"
      ]
     },
     "execution_count": 12,
     "metadata": {},
     "output_type": "execute_result"
    }
   ],
   "source": [
    "# объединение полученных кумулятивных данных, добавление значения конверсии\n",
    "\n",
    "cumulative_data = orders_aggregated.merge(visitors_aggregated, how='left', on=['date', 'group'])\n",
    "cumulative_data.columns = ['date', 'group', 'orders', 'buyers', 'revenue', 'visitors']\n",
    "cumulative_data['conversion'] = round((cumulative_data['buyers'] / cumulative_data['visitors']), 4)\n",
    "\n",
    "cumulative_data"
   ]
  },
  {
   "cell_type": "markdown",
   "metadata": {},
   "source": [
    "Данные получены, перейдем к построению графиков и анализу результатов"
   ]
  },
  {
   "cell_type": "markdown",
   "metadata": {},
   "source": [
    "#### Анализ графиков накопленных метрик"
   ]
  },
  {
   "cell_type": "code",
   "execution_count": 13,
   "metadata": {},
   "outputs": [
    {
     "data": {
      "image/png": "[encoded data removed]",
      "text/plain": [
       "<Figure size 720x360 with 1 Axes>"
      ]
     },
     "metadata": {
      "needs_background": "light"
     },
     "output_type": "display_data"
    }
   ],
   "source": [
    "# отключение ошибки\n",
    "import warnings\n",
    "warnings.filterwarnings(\"ignore\")\n",
    "\n",
    "# создание датафреймов для каждой группы\n",
    "\n",
    "cumulative_A = cumulative_data[cumulative_data['group'] == 'A']\n",
    "cumulative_B = cumulative_data[cumulative_data['group'] == 'B']\n",
    "\n",
    "# графики выручки\n",
    "plt.figure(figsize=(10,5))\n",
    "plt.plot(cumulative_A['date'], cumulative_A['revenue'], label = 'A')\n",
    "plt.plot(cumulative_B['date'], cumulative_B['revenue'], label = 'B')\n",
    "plt.legend()\n",
    "plt.title('График кумулятивной выручки')\n",
    "plt.xlabel('Дата')\n",
    "plt.ylabel('Сумма накопленной выручки (усл. единиц)')\n",
    "plt.show()"
   ]
  },
  {
   "cell_type": "markdown",
   "metadata": {},
   "source": [
    "Выручка растет равномерно до середины месяца, график группы B имеет резкий рост в середине месяца, что может сигнализировать о всплеске числа заказов, либо о появлении аномально дорогих заказов в данный период, так как после всплеска рост обоих графиков симметричен."
   ]
  },
  {
   "cell_type": "code",
   "execution_count": 14,
   "metadata": {},
   "outputs": [
    {
     "data": {
      "image/png": "[encoded data removed]",
      "text/plain": [
       "<Figure size 720x360 with 1 Axes>"
      ]
     },
     "metadata": {
      "needs_background": "light"
     },
     "output_type": "display_data"
    }
   ],
   "source": [
    "# график среднего чека по группам\n",
    "\n",
    "plt.figure(figsize=(10,5))\n",
    "plt.plot(cumulative_A['date'], cumulative_A['revenue']/cumulative_A['orders'], label = 'A')\n",
    "plt.plot(cumulative_B['date'], cumulative_B['revenue']/cumulative_B['orders'], label = 'B')\n",
    "plt.legend()\n",
    "plt.title('График среднего чека')\n",
    "plt.xlabel('Дата')\n",
    "plt.ylabel('Цена среднего чека (усл. единиц)')\n",
    "plt.show()"
   ]
  },
  {
   "cell_type": "markdown",
   "metadata": {},
   "source": [
    "Средний чек группы B также имеет резкий рост в ту же дату, что и на графике кумулятивной выручки, и затем идет равномерно вниз, что подтверждает присутствие заказов с аномально высокой стоимостью у группы B. Также, мы видим, что рост не равномерный и говорить о том, что средний чек группы B до очистки данных от аномалий не можем."
   ]
  },
  {
   "cell_type": "markdown",
   "metadata": {},
   "source": [
    "Рассмотрим график относительного изменения кумулятивного среднего чека группы B к группе A"
   ]
  },
  {
   "cell_type": "code",
   "execution_count": 15,
   "metadata": {},
   "outputs": [
    {
     "data": {
      "image/png": "[encoded data removed]",
      "text/plain": [
       "<Figure size 720x360 with 1 Axes>"
      ]
     },
     "metadata": {
      "needs_background": "light"
     },
     "output_type": "display_data"
    }
   ],
   "source": [
    "# график относительного изменения среднего чека B к A\n",
    "\n",
    "merged_cumulative_revenue = cumulative_A.merge(cumulative_B, how='left', on='date', suffixes=['_A', '_B'])\n",
    "\n",
    "plt.figure(figsize=(10,5))\n",
    "plt.plot(merged_cumulative_revenue['date'], \n",
    "         (merged_cumulative_revenue['revenue_B']/merged_cumulative_revenue['orders_B']/(merged_cumulative_revenue['revenue_A']/merged_cumulative_revenue['orders_A']))-1)\n",
    "plt.axhline(y=0, color='green', linestyle='--')\n",
    "plt.title('График относительного изменения среднего чека')\n",
    "plt.xlabel('Дата')\n",
    "plt.ylabel('Относительное изменение (доля)')\n",
    "plt.show()"
   ]
  },
  {
   "cell_type": "markdown",
   "metadata": {},
   "source": [
    "В первую дату средний чек группы B был ниже, затем мы видим уверенный рост и уменьшение разницы, начиная с 5 августа, 18-19 августа были сделаны покупки на большие суммы и разница увеличилась, что сделало отношение среднего чека B к A на уровне 0,5 и далее идет плавный спад разницы в значениях."
   ]
  },
  {
   "cell_type": "markdown",
   "metadata": {},
   "source": [
    "Аналогичным образом рассмотрим график кумулятивной конверсии и относительного различия кумулятивных конверсий."
   ]
  },
  {
   "cell_type": "code",
   "execution_count": 16,
   "metadata": {},
   "outputs": [
    {
     "data": {
      "image/png": "[encoded data removed]",
      "text/plain": [
       "<Figure size 1080x720 with 2 Axes>"
      ]
     },
     "metadata": {
      "needs_background": "light"
     },
     "output_type": "display_data"
    }
   ],
   "source": [
    "# график кумулятивной конверсии и относительного изменения конверсии\n",
    "merged_cumulative_conv = cumulative_A[['date','conversion']].merge(cumulative_B[['date','conversion']], how='left', on='date', suffixes=['_A','_B'])\n",
    "\n",
    "fig, ax = plt.subplots(2,1, figsize=(15,10))\n",
    "ax[0].plot(cumulative_A['date'], cumulative_A['conversion'], label='A')\n",
    "ax[0].plot(cumulative_B['date'], cumulative_B['conversion'], label='B')\n",
    "ax[0].set_title('График кумулятивной конверсии')\n",
    "ax[0].set_xlabel('Дата')\n",
    "ax[0].set_ylabel('Конверсия')\n",
    "ax[0].legend()\n",
    "\n",
    "ax[1].plot(merged_cumulative_conv['date'], merged_cumulative_conv['conversion_B']/merged_cumulative_conv['conversion_A']-1)\n",
    "ax[1].set_title('Относительный прирост конверсии группы B относительно A')\n",
    "ax[1].set_xlabel('Дата')\n",
    "ax[1].set_ylabel('Прирост конверсии')\n",
    "ax[1].axhline(y=0, color='black', linestyle='--')\n",
    "\n",
    "plt.show()"
   ]
  },
  {
   "cell_type": "markdown",
   "metadata": {},
   "source": [
    "По графику кумулятивной конверсии мы видим, что группа B, после стабилизации показателей, начиная с 6 августа, имеет конверсию выше, чем группа А. Оба графика колебались в начале тестирования, но затем конверсия группы B вышла вперед, а группы A уменьшилась и оба графика зафиксировались.\n",
    "\n",
    "На графике относительного различия кумулятивных конверсий видим, что группа B проигрывала группе A в начале тестирования и после роста опять просела на небольшой период, затем ее конверсия только росла, причем значительно, установив прирост в 0.2 единицы к концу периода.\n",
    "\n",
    "Рассмотрим количество заказов по пользователям и стоимость заказов."
   ]
  },
  {
   "cell_type": "code",
   "execution_count": 17,
   "metadata": {},
   "outputs": [
    {
     "data": {
      "text/html": [
       "<div>\n",
       "<style scoped>\n",
       "    .dataframe tbody tr th:only-of-type {\n",
       "        vertical-align: middle;\n",
       "    }\n",
       "\n",
       "    .dataframe tbody tr th {\n",
       "        vertical-align: top;\n",
       "    }\n",
       "\n",
       "    .dataframe thead th {\n",
       "        text-align: right;\n",
       "    }\n",
       "</style>\n",
       "<table border=\"1\" class=\"dataframe\">\n",
       "  <thead>\n",
       "    <tr style=\"text-align: right;\">\n",
       "      <th></th>\n",
       "      <th>visitorId</th>\n",
       "      <th>orders</th>\n",
       "    </tr>\n",
       "  </thead>\n",
       "  <tbody>\n",
       "    <tr>\n",
       "      <th>908</th>\n",
       "      <td>3967698036</td>\n",
       "      <td>3</td>\n",
       "    </tr>\n",
       "    <tr>\n",
       "      <th>55</th>\n",
       "      <td>249864742</td>\n",
       "      <td>3</td>\n",
       "    </tr>\n",
       "    <tr>\n",
       "      <th>478</th>\n",
       "      <td>2108163459</td>\n",
       "      <td>3</td>\n",
       "    </tr>\n",
       "    <tr>\n",
       "      <th>687</th>\n",
       "      <td>2988190573</td>\n",
       "      <td>3</td>\n",
       "    </tr>\n",
       "    <tr>\n",
       "      <th>890</th>\n",
       "      <td>3908431265</td>\n",
       "      <td>3</td>\n",
       "    </tr>\n",
       "    <tr>\n",
       "      <th>138</th>\n",
       "      <td>611059232</td>\n",
       "      <td>3</td>\n",
       "    </tr>\n",
       "    <tr>\n",
       "      <th>632</th>\n",
       "      <td>2742574263</td>\n",
       "      <td>3</td>\n",
       "    </tr>\n",
       "    <tr>\n",
       "      <th>157</th>\n",
       "      <td>678354126</td>\n",
       "      <td>2</td>\n",
       "    </tr>\n",
       "    <tr>\n",
       "      <th>323</th>\n",
       "      <td>1404560065</td>\n",
       "      <td>2</td>\n",
       "    </tr>\n",
       "    <tr>\n",
       "      <th>452</th>\n",
       "      <td>1985475298</td>\n",
       "      <td>2</td>\n",
       "    </tr>\n",
       "  </tbody>\n",
       "</table>\n",
       "</div>"
      ],
      "text/plain": [
       "      visitorId  orders\n",
       "908  3967698036       3\n",
       "55    249864742       3\n",
       "478  2108163459       3\n",
       "687  2988190573       3\n",
       "890  3908431265       3\n",
       "138   611059232       3\n",
       "632  2742574263       3\n",
       "157   678354126       2\n",
       "323  1404560065       2\n",
       "452  1985475298       2"
      ]
     },
     "execution_count": 17,
     "metadata": {},
     "output_type": "execute_result"
    }
   ],
   "source": [
    "# подсчет количества заказов по пользователям\n",
    "\n",
    "orders_by_user = (\n",
    "    orders.groupby('visitorId', as_index=False)\n",
    "    .agg({'transactionId': pd.Series.nunique})\n",
    ")\n",
    "\n",
    "orders_by_user.columns = ['visitorId', 'orders']\n",
    "orders_by_user.sort_values(by='orders', ascending=False).head(10)"
   ]
  },
  {
   "cell_type": "markdown",
   "metadata": {},
   "source": [
    "По сводной таблице мы видим, что максимальное количество заказов на пользователя - 3, рассмотрим на гистограмме распределение количества заказов на одного пользователя."
   ]
  },
  {
   "cell_type": "code",
   "execution_count": 18,
   "metadata": {},
   "outputs": [
    {
     "data": {
      "image/png": "[encoded data removed]",
      "text/plain": [
       "<Figure size 504x360 with 1 Axes>"
      ]
     },
     "metadata": {
      "needs_background": "light"
     },
     "output_type": "display_data"
    }
   ],
   "source": [
    "# гистограмма распределения количества заказов на 1 пользователя \n",
    "plt.figure(figsize=(7,5))\n",
    "plt.hist(orders_by_user['orders'], bins=3)\n",
    "plt.title('Гистограмма распределения количества заказов на 1 пользователя')\n",
    "plt.xlabel('Количество заказов')\n",
    "plt.ylabel('Количество пользователей')\n",
    "plt.show()"
   ]
  },
  {
   "cell_type": "markdown",
   "metadata": {},
   "source": [
    "Большинство покупателей делали только 1 заказ, также, относительно небольшое количество покупателей сделало 2 заказа, покупатели с 3 заказами скорее исключения. Построим точечную диаграмму."
   ]
  },
  {
   "cell_type": "code",
   "execution_count": 19,
   "metadata": {},
   "outputs": [
    {
     "data": {
      "image/png": "[encoded data removed]",
      "text/plain": [
       "<Figure size 432x288 with 1 Axes>"
      ]
     },
     "metadata": {
      "needs_background": "light"
     },
     "output_type": "display_data"
    }
   ],
   "source": [
    "# точечная диаграмма числа заказов на пользователя\n",
    "x_ticks = pd.Series(range(0, len(orders_by_user)))\n",
    "plt.scatter(x_ticks, orders_by_user['orders'])\n",
    "plt.title('Диаграмма числа заказов на пользователя')\n",
    "plt.xlabel('Пользователи')\n",
    "plt.ylabel('Количество заказов')\n",
    "plt.show()"
   ]
  },
  {
   "cell_type": "markdown",
   "metadata": {},
   "source": [
    "Также, как и на гистограмме, большое количество пользователей с 1 заказом. Чтобы понять, сколько заказов считать аномалиями посчитаем выоборочные перцентили количества заказов на одного пользователя."
   ]
  },
  {
   "cell_type": "code",
   "execution_count": 20,
   "metadata": {},
   "outputs": [
    {
     "data": {
      "text/plain": [
       "array([1., 1., 2.])"
      ]
     },
     "execution_count": 20,
     "metadata": {},
     "output_type": "execute_result"
    }
   ],
   "source": [
    "# подсчет выборочных перцентелей по числу заказов\n",
    "\n",
    "np.percentile(orders_by_user['orders'], [90,95,99])"
   ]
  },
  {
   "cell_type": "markdown",
   "metadata": {},
   "source": [
    "Не более 5% пользователей оформляли больше одного заказа и только 1% пользователей совершили больше 2 заказов. Чтобы уменьшить влияние аномалий на конверсию, определим границей нормальных значений количество заказов в 2 единицы. \n",
    "\n",
    "Рассмотрим стоимости совершенных заказов и определим аномальные заказы по стоимости, что должно дать более значимые результаты, так как по построенным ранее графикам мы видели, что у группы B происходит резкий рост метрик, завязанных на выручке, 19 августа.  "
   ]
  },
  {
   "cell_type": "code",
   "execution_count": 21,
   "metadata": {},
   "outputs": [
    {
     "data": {
      "image/png": "[encoded data removed]",
      "text/plain": [
       "<Figure size 432x288 with 1 Axes>"
      ]
     },
     "metadata": {
      "needs_background": "light"
     },
     "output_type": "display_data"
    }
   ],
   "source": [
    "# точечная диаграмма распределения стоимостей заказов\n",
    "x_ticks = pd.Series(range(0, len(orders['revenue'])))\n",
    "plt.scatter(x_ticks, orders['revenue'])\n",
    "plt.title('Диаграмма распределения стоимостей заказов')\n",
    "plt.ylabel('Стоимость заказа')\n",
    "plt.xlabel('Пользователи')\n",
    "plt.show()"
   ]
  },
  {
   "cell_type": "markdown",
   "metadata": {},
   "source": [
    "По точечной диаграмме заметно выделяется один заказ на сумму свыше 1 200 000 усл. единиц и один заказ немногим выше 200 000 усл. единиц, при том что все остальные заказы имеют стоимость значительно ниже."
   ]
  },
  {
   "cell_type": "code",
   "execution_count": 22,
   "metadata": {},
   "outputs": [
    {
     "data": {
      "text/html": [
       "<div>\n",
       "<style scoped>\n",
       "    .dataframe tbody tr th:only-of-type {\n",
       "        vertical-align: middle;\n",
       "    }\n",
       "\n",
       "    .dataframe tbody tr th {\n",
       "        vertical-align: top;\n",
       "    }\n",
       "\n",
       "    .dataframe thead th {\n",
       "        text-align: right;\n",
       "    }\n",
       "</style>\n",
       "<table border=\"1\" class=\"dataframe\">\n",
       "  <thead>\n",
       "    <tr style=\"text-align: right;\">\n",
       "      <th></th>\n",
       "      <th>transactionId</th>\n",
       "      <th>visitorId</th>\n",
       "      <th>date</th>\n",
       "      <th>revenue</th>\n",
       "      <th>group</th>\n",
       "    </tr>\n",
       "  </thead>\n",
       "  <tbody>\n",
       "    <tr>\n",
       "      <th>425</th>\n",
       "      <td>590470918</td>\n",
       "      <td>1920142716</td>\n",
       "      <td>2019-08-19</td>\n",
       "      <td>1294500</td>\n",
       "      <td>B</td>\n",
       "    </tr>\n",
       "    <tr>\n",
       "      <th>1196</th>\n",
       "      <td>3936777065</td>\n",
       "      <td>2108080724</td>\n",
       "      <td>2019-08-15</td>\n",
       "      <td>202740</td>\n",
       "      <td>B</td>\n",
       "    </tr>\n",
       "  </tbody>\n",
       "</table>\n",
       "</div>"
      ],
      "text/plain": [
       "      transactionId   visitorId       date  revenue group\n",
       "425       590470918  1920142716 2019-08-19  1294500     B\n",
       "1196     3936777065  2108080724 2019-08-15   202740     B"
      ]
     },
     "execution_count": 22,
     "metadata": {},
     "output_type": "execute_result"
    }
   ],
   "source": [
    "orders.query('revenue >= 200000')"
   ]
  },
  {
   "cell_type": "markdown",
   "metadata": {},
   "source": [
    "Заказ на сумму 1 294 500, как и предполагалось, искажает графики, так как он в несколько раз превышает стоимость любого другого заказа, совершенного во время проведения A/B теста, поэтому группа B имеет резкий скачок всех метрик, основанных на выручке, 19 августа.\n",
    "\n",
    "Также, при помощи расчета перцентелей, определим границу нормальных значений суммы заказа."
   ]
  },
  {
   "cell_type": "code",
   "execution_count": 23,
   "metadata": {},
   "outputs": [
    {
     "data": {
      "text/plain": [
       "array([17990., 26785., 53904.])"
      ]
     },
     "execution_count": 23,
     "metadata": {},
     "output_type": "execute_result"
    }
   ],
   "source": [
    "# расчет перцентелей среднего чека\n",
    "\n",
    "np.percentile(orders['revenue'], [90,95,99])"
   ]
  },
  {
   "cell_type": "markdown",
   "metadata": {},
   "source": [
    "Не более 5% пользователей совершали заказ на сумму свыше 26 785 усл. единиц, и не более 1% - на сумму выше 53 904 усл. ед.\n",
    "\n",
    "Расчет перцентелей позволяет сделать вывод, что на итоговые результаты сравнения метрик группы B и A повлияли заказы с аномально высокой ценой, которые мы увидели на диаграмме. Так как мы не располагаем данными об асортименте интернет-магазина, предположить с чем может быть связана значительно повышенная стоимость чека у 1% заказов мы не можем."
   ]
  },
  {
   "cell_type": "markdown",
   "metadata": {},
   "source": [
    "**Вывод**\n",
    "\n",
    "Проанализировав графики накопленных метрик мы получили следующие выводы:\n",
    "- Выручка растет равномерно до 19.08, график группы B имеет резкий рост в указанную дату, что может сигнализировать о всплеске числа заказов, либо о появлении аномально дорогих заказов в данный период, так как после всплеска рост обоих графиков симметричен.\n",
    "- Средний чек группы B также имеет резкий рост 19.08, и затем идет равномерно вниз, что подтверждает присутствие заказов с аномально высокой стоимостью у группы B. Также, мы видим, что рост не равномерный и говорить о том, что средний чек группы B до очистки данных от аномалий не можем.\n",
    "- В первую дату средний чек группы B был ниже, затем мы видим уверенный рост и уменьшение разницы, начиная с 5 августа, 119 августа были сделаны покупки на большие суммы и разница увеличилась, что сделало отношение среднего чека B к A на уровне 0,5 и далее идет плавный спад разницы в значениях.\n",
    "- По графику кумулятивной конверсии мы видим, что группа B, после стабилизации показателей, начиная с 6 августа, имеет конверсию выше, чем группа А. Оба графика колебались в начале тестирования, но затем конверсия группы B вышла вперед, а группы A уменьшилась и оба графика зафиксировались.\n",
    "- На графике относительного различия кумулятивных конверсий видим, что группа B проигрывала группе A в начале тестирования и после роста опять просела на небольшой период, затем ее конверсия только росла, причем значительно, установив прирост в 0.2 единицы к концу периода.\n",
    "- Не более 5% пользователей оформляли больше одного заказа и только 1% пользователей совершили больше 2 заказов.\n",
    "- Не более 5% пользователей совершали заказ на сумму свыше 26 785 усл. единиц, и не более 1% - на сумму выше 53 904 усл. ед."
   ]
  },
  {
   "cell_type": "markdown",
   "metadata": {},
   "source": [
    "Мы определили, что \"аномальными\" пользователями считаются те, кто сделал больше 2 заказов и чья сумма заказа была выше 53 904 усл. единиц.\n",
    "Следующим этапом - посчитаем статистическую значимость различий в расчитанных метриках между группами по \"сырым\" и \"очищенным\" данным и сделаем выводы по результатам теста."
   ]
  },
  {
   "cell_type": "markdown",
   "metadata": {},
   "source": [
    "#### Расчет статистической значимости различий в метриках по группам A/B-теста (не очищенные данные)"
   ]
  },
  {
   "cell_type": "markdown",
   "metadata": {},
   "source": [
    "Расчитаем статистическую значимость различий в конверсии и среднем чеке между группами по \"сырым\" данным - то есть, без удаления аномальных пользователей, определенных в предыдущем этапе исследования.\n",
    "\n",
    "Соберем для расчета статистики сырые данные в общую таблицу"
   ]
  },
  {
   "cell_type": "code",
   "execution_count": 24,
   "metadata": {
    "scrolled": true
   },
   "outputs": [
    {
     "data": {
      "text/html": [
       "<div>\n",
       "<style scoped>\n",
       "    .dataframe tbody tr th:only-of-type {\n",
       "        vertical-align: middle;\n",
       "    }\n",
       "\n",
       "    .dataframe tbody tr th {\n",
       "        vertical-align: top;\n",
       "    }\n",
       "\n",
       "    .dataframe thead th {\n",
       "        text-align: right;\n",
       "    }\n",
       "</style>\n",
       "<table border=\"1\" class=\"dataframe\">\n",
       "  <thead>\n",
       "    <tr style=\"text-align: right;\">\n",
       "      <th></th>\n",
       "      <th>date</th>\n",
       "      <th>orders_per_date_A</th>\n",
       "      <th>revenue_per_date_A</th>\n",
       "      <th>orders_per_date_B</th>\n",
       "      <th>revenue_per_date_B</th>\n",
       "      <th>orders_cumulative_A</th>\n",
       "      <th>revenue_cumulative_A</th>\n",
       "      <th>orders_cumulative_B</th>\n",
       "      <th>revenue_cumulative_B</th>\n",
       "      <th>visitors_per_date_A</th>\n",
       "      <th>visitors_per_date_B</th>\n",
       "      <th>visitors_cumulative_A</th>\n",
       "      <th>visitors_cumulative_B</th>\n",
       "    </tr>\n",
       "  </thead>\n",
       "  <tbody>\n",
       "    <tr>\n",
       "      <th>0</th>\n",
       "      <td>2019-08-01</td>\n",
       "      <td>23</td>\n",
       "      <td>142779</td>\n",
       "      <td>17</td>\n",
       "      <td>59758</td>\n",
       "      <td>23</td>\n",
       "      <td>142779</td>\n",
       "      <td>17</td>\n",
       "      <td>59758</td>\n",
       "      <td>719</td>\n",
       "      <td>713</td>\n",
       "      <td>719</td>\n",
       "      <td>713</td>\n",
       "    </tr>\n",
       "    <tr>\n",
       "      <th>1</th>\n",
       "      <td>2019-08-02</td>\n",
       "      <td>19</td>\n",
       "      <td>91602</td>\n",
       "      <td>23</td>\n",
       "      <td>162043</td>\n",
       "      <td>42</td>\n",
       "      <td>234381</td>\n",
       "      <td>40</td>\n",
       "      <td>221801</td>\n",
       "      <td>619</td>\n",
       "      <td>581</td>\n",
       "      <td>1338</td>\n",
       "      <td>1294</td>\n",
       "    </tr>\n",
       "    <tr>\n",
       "      <th>2</th>\n",
       "      <td>2019-08-03</td>\n",
       "      <td>24</td>\n",
       "      <td>112473</td>\n",
       "      <td>14</td>\n",
       "      <td>67049</td>\n",
       "      <td>66</td>\n",
       "      <td>346854</td>\n",
       "      <td>54</td>\n",
       "      <td>288850</td>\n",
       "      <td>507</td>\n",
       "      <td>509</td>\n",
       "      <td>1845</td>\n",
       "      <td>1803</td>\n",
       "    </tr>\n",
       "    <tr>\n",
       "      <th>3</th>\n",
       "      <td>2019-08-04</td>\n",
       "      <td>11</td>\n",
       "      <td>41176</td>\n",
       "      <td>14</td>\n",
       "      <td>96890</td>\n",
       "      <td>77</td>\n",
       "      <td>388030</td>\n",
       "      <td>68</td>\n",
       "      <td>385740</td>\n",
       "      <td>717</td>\n",
       "      <td>770</td>\n",
       "      <td>2562</td>\n",
       "      <td>2573</td>\n",
       "    </tr>\n",
       "    <tr>\n",
       "      <th>4</th>\n",
       "      <td>2019-08-05</td>\n",
       "      <td>22</td>\n",
       "      <td>86383</td>\n",
       "      <td>21</td>\n",
       "      <td>89908</td>\n",
       "      <td>99</td>\n",
       "      <td>474413</td>\n",
       "      <td>89</td>\n",
       "      <td>475648</td>\n",
       "      <td>756</td>\n",
       "      <td>707</td>\n",
       "      <td>3318</td>\n",
       "      <td>3280</td>\n",
       "    </tr>\n",
       "  </tbody>\n",
       "</table>\n",
       "</div>"
      ],
      "text/plain": [
       "        date  orders_per_date_A  revenue_per_date_A  orders_per_date_B  \\\n",
       "0 2019-08-01                 23              142779                 17   \n",
       "1 2019-08-02                 19               91602                 23   \n",
       "2 2019-08-03                 24              112473                 14   \n",
       "3 2019-08-04                 11               41176                 14   \n",
       "4 2019-08-05                 22               86383                 21   \n",
       "\n",
       "   revenue_per_date_B  orders_cumulative_A  revenue_cumulative_A  \\\n",
       "0               59758                   23                142779   \n",
       "1              162043                   42                234381   \n",
       "2               67049                   66                346854   \n",
       "3               96890                   77                388030   \n",
       "4               89908                   99                474413   \n",
       "\n",
       "   orders_cumulative_B  revenue_cumulative_B  visitors_per_date_A  \\\n",
       "0                   17                 59758                  719   \n",
       "1                   40                221801                  619   \n",
       "2                   54                288850                  507   \n",
       "3                   68                385740                  717   \n",
       "4                   89                475648                  756   \n",
       "\n",
       "   visitors_per_date_B  visitors_cumulative_A  visitors_cumulative_B  \n",
       "0                  713                    719                    713  \n",
       "1                  581                   1338                   1294  \n",
       "2                  509                   1845                   1803  \n",
       "3                  770                   2562                   2573  \n",
       "4                  707                   3318                   3280  "
      ]
     },
     "execution_count": 24,
     "metadata": {},
     "output_type": "execute_result"
    }
   ],
   "source": [
    "# подготовка таблиц для статистических тестов\n",
    "\n",
    "#количество пользователей по датам - группа А\n",
    "visitors_A_daily = visitors[visitors['group'] == 'A'][['date','visitors']]\n",
    "visitors_A_daily.columns = ['date', 'visitors_per_date_A']\n",
    "visitors_A_cumulative = visitors_A_daily.apply(lambda x: visitors_A_daily[visitors_A_daily['date'] <= x['date']].agg({'date':'max', 'visitors_per_date_A':'sum'}), axis = 1)\n",
    "visitors_A_cumulative.columns = ['date', 'visitors_cumulative_A']\n",
    "\n",
    "#количество пользователей по датам - группа В\n",
    "visitors_B_daily = visitors[visitors['group'] == 'B'][['date','visitors']]\n",
    "visitors_B_daily.columns = ['date', 'visitors_per_date_B']\n",
    "visitors_B_cumulative = visitors_B_daily.apply(lambda x: visitors_B_daily[visitors_B_daily['date'] <= x['date']].agg({'date':'max', 'visitors_per_date_B':'sum'}), axis = 1)\n",
    "visitors_B_cumulative.columns = ['date', 'visitors_cumulative_B']\n",
    "\n",
    "#количество и сумма заказов по датам - группа А\n",
    "orders_A_daily = orders[orders['group'] == 'A'][['date', 'transactionId', 'visitorId','revenue']].groupby('date', as_index=False).agg({'transactionId': pd.Series.nunique, 'revenue':'sum'})\n",
    "orders_A_daily.columns = ['date', 'orders_per_date_A', 'revenue_per_date_A']\n",
    "orders_A_cumulative = orders_A_daily.apply(\n",
    "    lambda x: orders_A_daily[orders_A_daily['date'] <= x['date']].agg({'date':'max', 'orders_per_date_A':'sum', 'revenue_per_date_A':'sum'}), axis = 1\n",
    ").sort_values(by=['date'])\n",
    "orders_A_cumulative.columns = ['date','orders_cumulative_A','revenue_cumulative_A']\n",
    "\n",
    "#количество и сумма заказов по датам - группа В\n",
    "orders_B_daily = orders[orders['group'] == 'B'][['date', 'transactionId', 'visitorId','revenue']].groupby('date', as_index=False).agg({'transactionId':pd.Series.nunique, 'revenue':'sum'})\n",
    "orders_B_daily.columns = ['date', 'orders_per_date_B', 'revenue_per_date_B']\n",
    "orders_B_cumulative = orders_B_daily.apply(\n",
    "    lambda x: orders_B_daily[orders_B_daily['date'] <= x['date']].agg({'date':'max', 'orders_per_date_B':'sum', 'revenue_per_date_B':'sum'}), axis = 1\n",
    ").sort_values(by=['date'])\n",
    "orders_B_cumulative.columns = ['date','orders_cumulative_B','revenue_cumulative_B']\n",
    "\n",
    "#общая таблица сырых данных\n",
    "data = (\n",
    "    orders_A_daily.merge(\n",
    "    orders_B_daily, how='left', on='date')\n",
    "    .merge(orders_A_cumulative, how='left', on='date')\n",
    "    .merge(orders_B_cumulative, how='left', on='date')\n",
    "    .merge(visitors_A_daily, how='left', on='date')\n",
    "    .merge(visitors_B_daily, how='left', on='date')\n",
    "    .merge(visitors_A_cumulative, how='left', on='date')\n",
    "    .merge(visitors_B_cumulative, how='left', on='date')\n",
    ")\n",
    "data.head(5)"
   ]
  },
  {
   "cell_type": "markdown",
   "metadata": {},
   "source": [
    "Сырые данные собраны, посчитаем статистическую значимость различия в конверсии между группами А и В."
   ]
  },
  {
   "cell_type": "code",
   "execution_count": 25,
   "metadata": {},
   "outputs": [],
   "source": [
    "# таблицы пользователей, совершивших хотя бы один заказ с количеством совершенных заказов\n",
    "\n",
    "orders_by_A = orders[orders['group'] == 'A'].groupby('visitorId', as_index=False).agg({'transactionId': pd.Series.nunique})\n",
    "orders_by_A.columns = ['visitorId', 'orders']\n",
    "\n",
    "orders_by_B = orders[orders['group'] == 'B'].groupby('visitorId', as_index=False).agg({'transactionId': pd.Series.nunique})\n",
    "orders_by_B.columns = ['visitorId', 'orders']\n",
    "\n",
    "# переменные с пользователями по каждой группе и количеству совершенных ими заказов\n",
    "\n",
    "sample_A = pd.concat([orders_by_A['orders'], pd.Series(0, index=np.arange(data['visitors_per_date_A'].sum() - len(orders_by_A['orders'])), name='orders')], axis=0)\n",
    "sample_B = pd.concat([orders_by_B['orders'], pd.Series(0, index=np.arange(data['visitors_per_date_B'].sum() - len(orders_by_B['orders'])), name='orders')], axis=0)"
   ]
  },
  {
   "cell_type": "markdown",
   "metadata": {},
   "source": [
    "<font color='#000080'>**Нулевая гипотеза: H0 - Статистически значимых различий в конверсии между группами A и B нет;**\n",
    "\n",
    "**Альтернативная гипотеза: H1 - Статистически значимые различия в конверсии между группами есть.**</font>\n",
    "\n",
    "Проверять гипотезы будем критерием Манна-Уитни, так как его условия применения соответствуют нашей ситуации:\n",
    "1. Сравниваемые значения не составляют пару коррелирующих значений;\n",
    "2. Распределение признаков в каждой выборке (А и В) может не соответствовать нормальному распределению.\n",
    "\n",
    "Возьмем для проверки стандартный уровень значимости, равный 0.05"
   ]
  },
  {
   "cell_type": "code",
   "execution_count": 26,
   "metadata": {},
   "outputs": [
    {
     "name": "stdout",
     "output_type": "stream",
     "text": [
      "p_value = 0.0110\n",
      "относительный прирост конверсии группы В: 0.1598\n",
      "Отвергаем нулевую гипотезу, статистически значимые различия в конверсии между группами есть\n"
     ]
    }
   ],
   "source": [
    "alpha = 0.05\n",
    "print(\"p_value = {0:.4f}\".format(st.mannwhitneyu(sample_A, sample_B, alternative = 'two-sided')[1]))\n",
    "print(\"относительный прирост конверсии группы В: {0:.4f}\".format(sample_B.mean() / sample_A.mean() - 1))\n",
    "\n",
    "if st.mannwhitneyu(sample_A, sample_B, alternative = 'two-sided')[1] > alpha:\n",
    "    print('Статистически значимых различий в конверсии между группами нет, гипотезу не отвергаем')\n",
    "else:\n",
    "    print('Отвергаем нулевую гипотезу, статистически значимые различия в конверсии между группами есть')"
   ]
  },
  {
   "cell_type": "markdown",
   "metadata": {},
   "source": [
    "Таким образом, по критерию Манна-Уитни, мы можем говорить о наличии статистически значимых различий в конверсии между группами, также это подтверждается относительным приростом конверсии группы В по сырым данным, который составляет почти 16%. "
   ]
  },
  {
   "cell_type": "markdown",
   "metadata": {},
   "source": [
    "Проверим аналогичные гипотезы о различии в среднем чеке между исследуемыми группами:\n",
    "\n",
    "<font color='#000080'>**Нулевая гипотеза: H0 - Статистически значимых различий в стоимости среднего чека между группами A и B нет;**\n",
    "    \n",
    "**Альтернативная гипотеза: H1 - Статистически значимые различия в стоимости среднего чека между группами есть.**\n",
    "</font>"
   ]
  },
  {
   "cell_type": "code",
   "execution_count": 27,
   "metadata": {},
   "outputs": [
    {
     "name": "stdout",
     "output_type": "stream",
     "text": [
      "p_value = 0.8295\n",
      "относительный прирост размера среднего чека В: 0.2866\n",
      "Статистически значимых различий в среднем чеке между группами нет, гипотезу не отвергаем\n"
     ]
    }
   ],
   "source": [
    "print(\"p_value = {0:.4f}\".format(st.mannwhitneyu(orders[orders['group'] == 'A']['revenue'], orders[orders['group'] == 'B']['revenue'], alternative = 'two-sided')[1]))\n",
    "print(\"относительный прирост размера среднего чека В: {0:.4f}\".format(orders[orders['group']=='B']['revenue'].mean()/orders[orders['group']=='A']['revenue'].mean()-1))\n",
    "\n",
    "if st.mannwhitneyu(orders[orders['group'] == 'A']['revenue'], orders[orders['group'] == 'B']['revenue'], alternative = 'two-sided')[1] > alpha:\n",
    "    print('Статистически значимых различий в среднем чеке между группами нет, гипотезу не отвергаем')\n",
    "else:\n",
    "    print('Отвергаем нулевую гипотезу, статистически значимые различия в среднем чеке между группами есть')"
   ]
  },
  {
   "cell_type": "markdown",
   "metadata": {},
   "source": [
    "P_value значительно выше уровня значимости, поэтому причин отвергать нулевую гипотезу и считать, что в среднем чеке пользователей есть различия, нет.\n",
    "\n",
    "Но по метрике относительного прироста размера среднего чека мы видим, что средний чек в группе B значительно выше, чем в группе A, на целых 28,7%. В данном случае мы помним, что в группе B имеются аномально высокие средние чеки по сделанным покупкам, превышающие средний чек большинства пользователей в несколько раз, поэтому в следующем этапе исследования мы выполним проверку уже с очищенными данными."
   ]
  },
  {
   "cell_type": "markdown",
   "metadata": {},
   "source": [
    "#### Расчет статистической значимости различий в метриках по группам A/B-теста (очищенные данные)"
   ]
  },
  {
   "cell_type": "markdown",
   "metadata": {},
   "source": [
    "Принимая за аномалии тех пользователей, которые совершили более 2 заказов, мы уберем 1% пользователей с наибольшим числом заказов.\n",
    "\n",
    "Если считать аномалиями пользователей с суммой чека более 53 904 усл. ед., данные будут очищены от 1% аномально дорогих заказов.\n",
    "\n",
    "Комбинируя оба условия, получим срезы аномальных пользователей."
   ]
  },
  {
   "cell_type": "code",
   "execution_count": 28,
   "metadata": {},
   "outputs": [
    {
     "data": {
      "text/plain": [
       "1099     148427295\n",
       "33       249864742\n",
       "58       611059232\n",
       "949      887908475\n",
       "744      888512513\n",
       "1103    1164614297\n",
       "1136    1307669133\n",
       "425     1920142716\n",
       "1196    2108080724\n",
       "211     2108163459\n",
       "347     2742574263\n",
       "310     2988190573\n",
       "409     3908431265\n",
       "416     3967698036\n",
       "940     4003628586\n",
       "743     4133034833\n",
       "Name: visitorId, dtype: int64"
      ]
     },
     "metadata": {},
     "output_type": "display_data"
    },
    {
     "data": {
      "text/plain": [
       "(16,)"
      ]
     },
     "execution_count": 28,
     "metadata": {},
     "output_type": "execute_result"
    }
   ],
   "source": [
    "# получение среза аномальных пользователей\n",
    "\n",
    "abn_orders = pd.concat(\n",
    "    [orders_by_A[orders_by_A['orders'] > 2]['visitorId'],\n",
    "    orders_by_B[orders_by_B['orders'] > 2]['visitorId']\n",
    "    ], axis = 0\n",
    ")\n",
    "\n",
    "abn_revenue = orders[orders['revenue'] > 53904]['visitorId']\n",
    "abn_users = (\n",
    "    pd.concat([abn_orders, abn_revenue], axis=0).drop_duplicates().sort_values()\n",
    ")\n",
    "display(abn_users)\n",
    "abn_users.shape"
   ]
  },
  {
   "cell_type": "markdown",
   "metadata": {},
   "source": [
    "Таким образом, мы получили 16 аномальных пользователей. Теперь расчитаем статистическую значимость различий в конверсии между группами А/B теста по очищенным данным."
   ]
  },
  {
   "cell_type": "code",
   "execution_count": 29,
   "metadata": {},
   "outputs": [],
   "source": [
    "# очистка данных по количеству заказов\n",
    "sample_A_filtered = pd.concat([orders_by_A[np.logical_not(orders_by_A['visitorId'].isin(abn_users))]['orders'], pd.Series(0, index=np.arange(data['visitors_per_date_A'].sum() - len(orders_by_A['orders'])), name='orders')], axis=0)\n",
    "sample_B_filtered = pd.concat([orders_by_B[np.logical_not(orders_by_B['visitorId'].isin(abn_users))]['orders'], pd.Series(0, index=np.arange(data['visitors_per_date_B'].sum() - len(orders_by_B['orders'])), name='orders')], axis=0)"
   ]
  },
  {
   "cell_type": "markdown",
   "metadata": {},
   "source": [
    "По очищенным данным проверим нулевую гипотезу:\n",
    "\n",
    "<font color='#000080'>**Нулевая гипотеза: H0 - Статистически значимых различий в конверсии между группами A и B по очищенным данным без учета пользователей с аномально высоким количеством заказов нет;**\n",
    "\n",
    "**Альтернативная гипотеза: H1 - Статистически значимые различия в конверсии между группами по очищенным данным без учета пользователей с аномально высоким количеством заказов есть.**</font>"
   ]
  },
  {
   "cell_type": "code",
   "execution_count": 30,
   "metadata": {},
   "outputs": [
    {
     "name": "stdout",
     "output_type": "stream",
     "text": [
      "p_value = 0.0070\n",
      "относительный прирост конверсии группы В: 0.1892\n",
      "Отвергаем нулевую гипотезу, статистически значимые различия в конверсии между группами есть\n"
     ]
    }
   ],
   "source": [
    "# применение критерия к очищенным данным\n",
    "\n",
    "print(\"p_value = {0:.4f}\".format(st.mannwhitneyu(sample_A_filtered, sample_B_filtered, alternative = 'two-sided')[1]))\n",
    "print(\"относительный прирост конверсии группы В: {0:.4f}\".format(sample_B_filtered.mean() / sample_A_filtered.mean() - 1))\n",
    "\n",
    "if st.mannwhitneyu(sample_A_filtered, sample_B_filtered)[1] > alpha:\n",
    "    print('Статистически значимых различий в конверсии между группами нет, гипотезу не отвергаем')\n",
    "else:\n",
    "    print('Отвергаем нулевую гипотезу, статистически значимые различия в конверсии между группами есть')"
   ]
  },
  {
   "cell_type": "markdown",
   "metadata": {},
   "source": [
    "Результаты теста с очищенными данными также подтверждают наличие различий в конверсии между группами. Хотя общий вывод по результатам теста не изменился, мы видим относительный прирост конверсии у группы B еще выше, с 16% он вырос почти до 19%.\n",
    "\n",
    "Проведем тест с очищенными данными по среднему чеку:\n",
    "\n",
    "<font color='#000080'>**Нулевая гипотеза: H0 - Статистически значимых различий в стоимости среднего чека между группами A и B по очищенным от аномально дорогих заказов данным нет;**\n",
    "    \n",
    "**Альтернативная гипотеза: H1 - Статистически значимые различия в стоимости среднего чека между группами по очищенным от аномально дорогих заказов данным есть.**\n",
    "</font>"
   ]
  },
  {
   "cell_type": "code",
   "execution_count": 31,
   "metadata": {},
   "outputs": [
    {
     "name": "stdout",
     "output_type": "stream",
     "text": [
      "p_value = 0.7877\n",
      "относительный прирост размера среднего чека В: -0.0323\n",
      "Статистически значимых различий в среднем чеке между группами нет, гипотезу не отвергаем\n"
     ]
    }
   ],
   "source": [
    "# очищенные данные для теста по различию среднего чека\n",
    "\n",
    "bill_A = orders[np.logical_and(orders['group'] == 'A', np.logical_not(orders['visitorId'].isin(abn_users)))]['revenue']\n",
    "bill_B = orders[np.logical_and(orders['group'] == 'B', np.logical_not(orders['visitorId'].isin(abn_users)))]['revenue']\n",
    "\n",
    "# применение критерия для определения различий в среднем чеке по очищенным данным \n",
    "print(\"p_value = {0:.4f}\".format(st.mannwhitneyu(bill_A, bill_B, alternative = 'two-sided')[1]))\n",
    "print(\"относительный прирост размера среднего чека В: {0:.4f}\".format(bill_B.mean()/bill_A.mean()-1))\n",
    "\n",
    "if st.mannwhitneyu(bill_A, bill_B, alternative = 'two-sided')[1] > alpha:\n",
    "    print('Статистически значимых различий в среднем чеке между группами нет, гипотезу не отвергаем')\n",
    "else:\n",
    "    print('Отвергаем нулевую гипотезу, статистически значимые различия в среднем чеке между группами есть')"
   ]
  },
  {
   "cell_type": "markdown",
   "metadata": {},
   "source": [
    "Результат теста не изменился, статистически значимых различий в среднем чеке между группами A и B нету, однако теперь мы видим, как сильно влияли на метрики аномально дорогие единичные заказы. В очищенных данных относительный прирост размера среднего чека группы B -3,2% - что свидетельствует о том, что средний чек у группы B меньше, чем у группы A."
   ]
  },
  {
   "cell_type": "markdown",
   "metadata": {},
   "source": [
    "### Выводы по анализу A/B-теста"
   ]
  },
  {
   "cell_type": "markdown",
   "metadata": {},
   "source": [
    "- Есть статистически значимое различие по конверсии между группами, как по сырым, так и по очищенным данным; Конверсия у группы B выше на 18,9%, что подтверждает успешность нововведений в части увеличения конверсии;\n",
    "- Статистически значимых различий по среднему чеку нет как в сырых, так и в очищенных от аномалий данных; При этом, в очищенных данных относительный прирост размера среднего чека группы B -3,2%, что свидетельствует о том, что нововведения, которые тестировались на группе B, не привели к росту среднего чека покупателей.\n",
    "\n",
    "Таким образом, можно остановить тест и признать его успешным, так как по конверсии мы видим, что группа B стастистически значимо лучше группы A, а по показателю среднего чека мы видим, что исследуемые в A/B-тестировании изменения не увеличивают размер среднего чека покупателей и статистически значимых различий в среднем чеке между группами нет."
   ]
  }
 ],
 "metadata": {
  "ExecuteTimeLog": [
   {
    "duration": 1368,
    "start_time": "2022-03-03T08:40:00.979Z"
   },
   {
    "duration": 27,
    "start_time": "2022-03-03T08:40:39.303Z"
   },
   {
    "duration": 6,
    "start_time": "2022-03-03T08:42:02.130Z"
   },
   {
    "duration": 5,
    "start_time": "2022-03-03T08:42:07.577Z"
   },
   {
    "duration": 4,
    "start_time": "2022-03-03T08:45:43.133Z"
   },
   {
    "duration": 25,
    "start_time": "2022-03-03T08:45:45.829Z"
   },
   {
    "duration": 4,
    "start_time": "2022-03-03T08:47:39.858Z"
   },
   {
    "duration": 20,
    "start_time": "2022-03-03T08:47:42.067Z"
   },
   {
    "duration": 3,
    "start_time": "2022-03-03T08:48:01.124Z"
   },
   {
    "duration": 22,
    "start_time": "2022-03-03T08:48:03.740Z"
   },
   {
    "duration": 32,
    "start_time": "2022-03-03T09:48:36.883Z"
   },
   {
    "duration": 4,
    "start_time": "2022-03-03T09:48:55.691Z"
   },
   {
    "duration": 21,
    "start_time": "2022-03-03T09:48:58.603Z"
   },
   {
    "duration": 38,
    "start_time": "2022-03-03T10:06:10.024Z"
   },
   {
    "duration": 22,
    "start_time": "2022-03-03T10:06:14.759Z"
   },
   {
    "duration": 22,
    "start_time": "2022-03-03T10:06:20.248Z"
   },
   {
    "duration": 21,
    "start_time": "2022-03-03T10:06:26.407Z"
   },
   {
    "duration": 18,
    "start_time": "2022-03-03T10:41:39.070Z"
   },
   {
    "duration": 287,
    "start_time": "2022-03-04T05:21:18.321Z"
   },
   {
    "duration": 1399,
    "start_time": "2022-03-04T05:21:30.738Z"
   },
   {
    "duration": 33,
    "start_time": "2022-03-04T05:21:32.140Z"
   },
   {
    "duration": 16,
    "start_time": "2022-03-04T05:21:32.181Z"
   },
   {
    "duration": 364,
    "start_time": "2022-03-04T05:21:32.199Z"
   },
   {
    "duration": 15,
    "start_time": "2022-03-04T05:21:47.384Z"
   },
   {
    "duration": 29,
    "start_time": "2022-03-04T05:32:18.512Z"
   },
   {
    "duration": 48,
    "start_time": "2022-03-04T05:32:47.741Z"
   },
   {
    "duration": 48,
    "start_time": "2022-03-04T08:54:16.534Z"
   },
   {
    "duration": 8,
    "start_time": "2022-03-04T12:33:39.668Z"
   },
   {
    "duration": 10,
    "start_time": "2022-03-04T12:34:00.101Z"
   },
   {
    "duration": 9,
    "start_time": "2022-03-04T12:34:22.421Z"
   },
   {
    "duration": 10,
    "start_time": "2022-03-04T12:34:41.662Z"
   },
   {
    "duration": 9,
    "start_time": "2022-03-04T12:34:48.838Z"
   },
   {
    "duration": 12,
    "start_time": "2022-03-04T12:35:01.558Z"
   },
   {
    "duration": 11,
    "start_time": "2022-03-04T12:35:11.159Z"
   },
   {
    "duration": 52,
    "start_time": "2022-03-04T13:04:45.788Z"
   },
   {
    "duration": 10,
    "start_time": "2022-03-04T13:10:00.725Z"
   },
   {
    "duration": 1388,
    "start_time": "2022-03-05T04:28:14.974Z"
   },
   {
    "duration": 29,
    "start_time": "2022-03-05T04:28:16.365Z"
   },
   {
    "duration": 18,
    "start_time": "2022-03-05T04:28:16.397Z"
   },
   {
    "duration": 14,
    "start_time": "2022-03-05T04:28:16.418Z"
   },
   {
    "duration": 55,
    "start_time": "2022-03-05T04:28:16.435Z"
   },
   {
    "duration": 8,
    "start_time": "2022-03-05T04:28:16.492Z"
   },
   {
    "duration": 11,
    "start_time": "2022-03-05T04:28:16.502Z"
   },
   {
    "duration": 366,
    "start_time": "2022-03-05T05:22:13.332Z"
   },
   {
    "duration": 1142,
    "start_time": "2022-03-05T05:22:21.389Z"
   },
   {
    "duration": 13,
    "start_time": "2022-03-05T05:27:32.509Z"
   },
   {
    "duration": 9,
    "start_time": "2022-03-05T05:27:38.542Z"
   },
   {
    "duration": 1150,
    "start_time": "2022-03-05T05:28:29.583Z"
   },
   {
    "duration": 43,
    "start_time": "2022-03-05T05:28:44.677Z"
   },
   {
    "duration": 9,
    "start_time": "2022-03-05T05:28:47.727Z"
   },
   {
    "duration": 10,
    "start_time": "2022-03-05T05:28:50.919Z"
   },
   {
    "duration": 1150,
    "start_time": "2022-03-05T05:30:19.685Z"
   },
   {
    "duration": 19,
    "start_time": "2022-03-05T05:30:29.306Z"
   },
   {
    "duration": 17,
    "start_time": "2022-03-05T05:30:45.754Z"
   },
   {
    "duration": 10,
    "start_time": "2022-03-05T05:30:49.946Z"
   },
   {
    "duration": 8,
    "start_time": "2022-03-05T05:30:57.738Z"
   },
   {
    "duration": 1105,
    "start_time": "2022-03-05T05:31:40.780Z"
   },
   {
    "duration": 1379,
    "start_time": "2022-03-05T05:31:51.829Z"
   },
   {
    "duration": 24,
    "start_time": "2022-03-05T05:31:53.210Z"
   },
   {
    "duration": 31,
    "start_time": "2022-03-05T05:31:53.237Z"
   },
   {
    "duration": 16,
    "start_time": "2022-03-05T05:31:53.272Z"
   },
   {
    "duration": 46,
    "start_time": "2022-03-05T05:31:53.291Z"
   },
   {
    "duration": 8,
    "start_time": "2022-03-05T05:31:53.339Z"
   },
   {
    "duration": 15,
    "start_time": "2022-03-05T05:31:53.350Z"
   },
   {
    "duration": 21,
    "start_time": "2022-03-05T05:31:53.367Z"
   },
   {
    "duration": 9,
    "start_time": "2022-03-05T05:33:11.446Z"
   },
   {
    "duration": 19,
    "start_time": "2022-03-05T06:37:35.655Z"
   },
   {
    "duration": 18,
    "start_time": "2022-03-05T06:39:01.055Z"
   },
   {
    "duration": 24,
    "start_time": "2022-03-05T06:39:33.954Z"
   },
   {
    "duration": 78,
    "start_time": "2022-03-05T06:40:42.207Z"
   },
   {
    "duration": 21,
    "start_time": "2022-03-05T06:40:46.463Z"
   },
   {
    "duration": 361,
    "start_time": "2022-03-05T06:53:54.126Z"
   },
   {
    "duration": 23,
    "start_time": "2022-03-05T06:54:12.853Z"
   },
   {
    "duration": 27,
    "start_time": "2022-03-05T06:54:18.980Z"
   },
   {
    "duration": 22,
    "start_time": "2022-03-05T06:54:29.476Z"
   },
   {
    "duration": 320,
    "start_time": "2022-03-05T07:20:31.717Z"
   },
   {
    "duration": 305,
    "start_time": "2022-03-05T07:21:24.600Z"
   },
   {
    "duration": 321,
    "start_time": "2022-03-05T07:22:36.002Z"
   },
   {
    "duration": 334,
    "start_time": "2022-03-05T07:23:22.378Z"
   },
   {
    "duration": 563,
    "start_time": "2022-03-05T09:03:51.999Z"
   },
   {
    "duration": 265,
    "start_time": "2022-03-05T09:04:00.931Z"
   },
   {
    "duration": 24,
    "start_time": "2022-03-05T09:07:09.229Z"
   },
   {
    "duration": 25,
    "start_time": "2022-03-05T09:59:24.204Z"
   },
   {
    "duration": 7,
    "start_time": "2022-03-05T10:45:25.166Z"
   },
   {
    "duration": 527,
    "start_time": "2022-03-05T11:13:24.508Z"
   },
   {
    "duration": 30,
    "start_time": "2022-03-05T11:14:15.295Z"
   },
   {
    "duration": 35,
    "start_time": "2022-03-05T11:19:19.760Z"
   },
   {
    "duration": 35,
    "start_time": "2022-03-05T11:19:47.648Z"
   },
   {
    "duration": 522,
    "start_time": "2022-03-05T11:27:42.226Z"
   },
   {
    "duration": 33,
    "start_time": "2022-03-05T11:27:44.093Z"
   },
   {
    "duration": 9,
    "start_time": "2022-03-05T11:29:14.183Z"
   },
   {
    "duration": 315,
    "start_time": "2022-03-05T11:30:29.650Z"
   },
   {
    "duration": 21,
    "start_time": "2022-03-05T11:30:44.008Z"
   },
   {
    "duration": 34,
    "start_time": "2022-03-05T11:30:56.530Z"
   },
   {
    "duration": 294,
    "start_time": "2022-03-05T11:31:51.139Z"
   },
   {
    "duration": 296,
    "start_time": "2022-03-05T11:32:08.364Z"
   },
   {
    "duration": 518,
    "start_time": "2022-03-05T11:32:35.764Z"
   },
   {
    "duration": 393,
    "start_time": "2022-03-05T11:32:50.965Z"
   },
   {
    "duration": 523,
    "start_time": "2022-03-05T11:32:59.813Z"
   },
   {
    "duration": 419,
    "start_time": "2022-03-05T11:33:05.270Z"
   },
   {
    "duration": 436,
    "start_time": "2022-03-05T11:33:29.526Z"
   },
   {
    "duration": 485,
    "start_time": "2022-03-05T11:34:00.839Z"
   },
   {
    "duration": 456,
    "start_time": "2022-03-05T11:34:27.848Z"
   },
   {
    "duration": 456,
    "start_time": "2022-03-05T11:35:05.913Z"
   },
   {
    "duration": 363,
    "start_time": "2022-03-05T11:35:11.753Z"
   },
   {
    "duration": 1269,
    "start_time": "2022-03-05T11:52:28.586Z"
   },
   {
    "duration": 686,
    "start_time": "2022-03-05T12:49:14.607Z"
   },
   {
    "duration": 31,
    "start_time": "2022-03-05T12:50:11.230Z"
   },
   {
    "duration": 370,
    "start_time": "2022-03-05T12:50:19.680Z"
   },
   {
    "duration": 238,
    "start_time": "2022-03-05T13:14:36.556Z"
   },
   {
    "duration": 331,
    "start_time": "2022-03-05T13:14:44.939Z"
   },
   {
    "duration": 19,
    "start_time": "2022-03-05T13:15:00.524Z"
   },
   {
    "duration": 17,
    "start_time": "2022-03-05T13:15:28.917Z"
   },
   {
    "duration": 95,
    "start_time": "2022-03-05T13:15:54.302Z"
   },
   {
    "duration": 29,
    "start_time": "2022-03-05T13:16:52.270Z"
   },
   {
    "duration": 15,
    "start_time": "2022-03-05T13:17:00.344Z"
   },
   {
    "duration": 1217,
    "start_time": "2022-03-05T13:17:02.271Z"
   },
   {
    "duration": 1404,
    "start_time": "2022-03-05T13:17:10.053Z"
   },
   {
    "duration": 34,
    "start_time": "2022-03-05T13:17:11.460Z"
   },
   {
    "duration": 37,
    "start_time": "2022-03-05T13:17:11.498Z"
   },
   {
    "duration": 24,
    "start_time": "2022-03-05T13:17:11.538Z"
   },
   {
    "duration": 58,
    "start_time": "2022-03-05T13:17:11.564Z"
   },
   {
    "duration": 8,
    "start_time": "2022-03-05T13:17:11.625Z"
   },
   {
    "duration": 22,
    "start_time": "2022-03-05T13:17:11.635Z"
   },
   {
    "duration": 25,
    "start_time": "2022-03-05T13:17:11.659Z"
   },
   {
    "duration": 30,
    "start_time": "2022-03-05T13:17:11.688Z"
   },
   {
    "duration": 544,
    "start_time": "2022-03-05T13:17:11.721Z"
   },
   {
    "duration": 35,
    "start_time": "2022-03-05T13:17:12.268Z"
   },
   {
    "duration": 392,
    "start_time": "2022-03-05T13:17:12.306Z"
   },
   {
    "duration": 385,
    "start_time": "2022-03-05T13:17:12.700Z"
   },
   {
    "duration": 10,
    "start_time": "2022-03-05T13:22:28.119Z"
   },
   {
    "duration": 32,
    "start_time": "2022-03-05T13:22:34.855Z"
   },
   {
    "duration": 35,
    "start_time": "2022-03-05T13:24:04.495Z"
   },
   {
    "duration": 359,
    "start_time": "2022-03-05T13:27:47.694Z"
   },
   {
    "duration": 464,
    "start_time": "2022-03-05T13:28:49.250Z"
   },
   {
    "duration": 699,
    "start_time": "2022-03-05T15:46:00.201Z"
   },
   {
    "duration": 711,
    "start_time": "2022-03-05T15:46:07.778Z"
   },
   {
    "duration": 1021,
    "start_time": "2022-03-05T15:46:14.137Z"
   },
   {
    "duration": 753,
    "start_time": "2022-03-05T15:46:23.178Z"
   },
   {
    "duration": 669,
    "start_time": "2022-03-05T15:46:27.330Z"
   },
   {
    "duration": 829,
    "start_time": "2022-03-05T15:46:32.338Z"
   },
   {
    "duration": 896,
    "start_time": "2022-03-05T15:49:41.592Z"
   },
   {
    "duration": 774,
    "start_time": "2022-03-05T15:49:53.279Z"
   },
   {
    "duration": 798,
    "start_time": "2022-03-05T15:50:04.288Z"
   },
   {
    "duration": 773,
    "start_time": "2022-03-05T15:50:18.409Z"
   },
   {
    "duration": 997,
    "start_time": "2022-03-05T15:52:59.942Z"
   },
   {
    "duration": 924,
    "start_time": "2022-03-05T15:53:32.838Z"
   },
   {
    "duration": 860,
    "start_time": "2022-03-05T15:55:29.125Z"
   },
   {
    "duration": 870,
    "start_time": "2022-03-05T15:55:44.012Z"
   },
   {
    "duration": 1119,
    "start_time": "2022-03-05T15:55:53.236Z"
   },
   {
    "duration": 779,
    "start_time": "2022-03-05T15:57:02.179Z"
   },
   {
    "duration": 1258,
    "start_time": "2022-03-05T15:57:24.139Z"
   },
   {
    "duration": 1153,
    "start_time": "2022-03-05T15:57:31.988Z"
   },
   {
    "duration": 747,
    "start_time": "2022-03-05T15:58:42.910Z"
   },
   {
    "duration": 753,
    "start_time": "2022-03-05T15:59:04.006Z"
   },
   {
    "duration": 770,
    "start_time": "2022-03-05T15:59:12.855Z"
   },
   {
    "duration": 774,
    "start_time": "2022-03-05T15:59:42.352Z"
   },
   {
    "duration": 241,
    "start_time": "2022-03-05T16:00:09.840Z"
   },
   {
    "duration": 310,
    "start_time": "2022-03-05T16:00:49.538Z"
   },
   {
    "duration": 328,
    "start_time": "2022-03-05T16:00:54.113Z"
   },
   {
    "duration": 458,
    "start_time": "2022-03-05T16:01:19.394Z"
   },
   {
    "duration": 308,
    "start_time": "2022-03-05T16:01:54.739Z"
   },
   {
    "duration": 295,
    "start_time": "2022-03-05T16:01:59.235Z"
   },
   {
    "duration": 21,
    "start_time": "2022-03-05T16:02:26.003Z"
   },
   {
    "duration": 495,
    "start_time": "2022-03-05T16:02:56.877Z"
   },
   {
    "duration": 380,
    "start_time": "2022-03-05T16:03:00.205Z"
   },
   {
    "duration": 623,
    "start_time": "2022-03-05T16:03:02.851Z"
   },
   {
    "duration": 456,
    "start_time": "2022-03-05T16:03:05.693Z"
   },
   {
    "duration": 21,
    "start_time": "2022-03-05T16:03:07.546Z"
   },
   {
    "duration": 365,
    "start_time": "2022-03-05T16:03:54.102Z"
   },
   {
    "duration": 364,
    "start_time": "2022-03-05T16:03:56.118Z"
   },
   {
    "duration": 453,
    "start_time": "2022-03-05T16:03:57.598Z"
   },
   {
    "duration": 300,
    "start_time": "2022-03-05T16:03:59.406Z"
   },
   {
    "duration": 18,
    "start_time": "2022-03-05T16:04:01.174Z"
   },
   {
    "duration": 456,
    "start_time": "2022-03-05T16:04:09.686Z"
   },
   {
    "duration": 10,
    "start_time": "2022-03-05T16:08:06.053Z"
   },
   {
    "duration": 299,
    "start_time": "2022-03-05T16:09:17.847Z"
   },
   {
    "duration": 215,
    "start_time": "2022-03-06T06:09:02.684Z"
   },
   {
    "duration": 1032,
    "start_time": "2022-03-06T06:09:09.169Z"
   },
   {
    "duration": 24,
    "start_time": "2022-03-06T06:09:10.202Z"
   },
   {
    "duration": 11,
    "start_time": "2022-03-06T06:09:10.228Z"
   },
   {
    "duration": 11,
    "start_time": "2022-03-06T06:09:10.241Z"
   },
   {
    "duration": 38,
    "start_time": "2022-03-06T06:09:10.254Z"
   },
   {
    "duration": 5,
    "start_time": "2022-03-06T06:09:10.294Z"
   },
   {
    "duration": 9,
    "start_time": "2022-03-06T06:09:10.300Z"
   },
   {
    "duration": 16,
    "start_time": "2022-03-06T06:09:10.311Z"
   },
   {
    "duration": 14,
    "start_time": "2022-03-06T06:09:10.329Z"
   },
   {
    "duration": 316,
    "start_time": "2022-03-06T06:09:10.344Z"
   },
   {
    "duration": 20,
    "start_time": "2022-03-06T06:09:10.661Z"
   },
   {
    "duration": 235,
    "start_time": "2022-03-06T06:09:10.682Z"
   },
   {
    "duration": 234,
    "start_time": "2022-03-06T06:09:10.919Z"
   },
   {
    "duration": 301,
    "start_time": "2022-03-06T06:09:11.156Z"
   },
   {
    "duration": 179,
    "start_time": "2022-03-06T06:09:11.459Z"
   },
   {
    "duration": 12,
    "start_time": "2022-03-06T06:09:11.639Z"
   },
   {
    "duration": 153,
    "start_time": "2022-03-06T06:10:00.580Z"
   },
   {
    "duration": 253,
    "start_time": "2022-03-06T06:10:26.749Z"
   },
   {
    "duration": 11,
    "start_time": "2022-03-06T06:11:17.792Z"
   },
   {
    "duration": 255,
    "start_time": "2022-03-06T06:11:31.597Z"
   },
   {
    "duration": 7,
    "start_time": "2022-03-06T06:13:19.537Z"
   },
   {
    "duration": 225,
    "start_time": "2022-03-06T06:14:16.802Z"
   },
   {
    "duration": 216,
    "start_time": "2022-03-06T06:15:08.931Z"
   },
   {
    "duration": 184,
    "start_time": "2022-03-06T06:15:20.789Z"
   },
   {
    "duration": 290,
    "start_time": "2022-03-06T06:17:27.976Z"
   },
   {
    "duration": 20,
    "start_time": "2022-03-06T06:19:39.396Z"
   },
   {
    "duration": 290,
    "start_time": "2022-03-06T06:19:46.915Z"
   },
   {
    "duration": 21,
    "start_time": "2022-03-06T06:20:06.428Z"
   },
   {
    "duration": 5,
    "start_time": "2022-03-06T06:20:17.452Z"
   },
   {
    "duration": 4,
    "start_time": "2022-03-06T06:20:26.644Z"
   },
   {
    "duration": 3,
    "start_time": "2022-03-06T06:44:09.562Z"
   },
   {
    "duration": 61,
    "start_time": "2022-03-06T06:44:30.147Z"
   },
   {
    "duration": 63,
    "start_time": "2022-03-06T06:44:38.626Z"
   },
   {
    "duration": 56,
    "start_time": "2022-03-06T06:45:07.892Z"
   },
   {
    "duration": 298,
    "start_time": "2022-03-06T06:45:16.188Z"
   },
   {
    "duration": 299,
    "start_time": "2022-03-06T06:45:23.412Z"
   },
   {
    "duration": 294,
    "start_time": "2022-03-06T06:45:34.044Z"
   },
   {
    "duration": 289,
    "start_time": "2022-03-06T06:46:25.998Z"
   },
   {
    "duration": 289,
    "start_time": "2022-03-06T06:46:40.070Z"
   },
   {
    "duration": 293,
    "start_time": "2022-03-06T06:50:28.171Z"
   },
   {
    "duration": 556,
    "start_time": "2022-03-06T06:51:03.205Z"
   },
   {
    "duration": 196,
    "start_time": "2022-03-06T06:51:48.886Z"
   },
   {
    "duration": 204,
    "start_time": "2022-03-06T06:51:59.903Z"
   },
   {
    "duration": 295,
    "start_time": "2022-03-06T06:56:12.269Z"
   },
   {
    "duration": 289,
    "start_time": "2022-03-06T07:11:45.469Z"
   },
   {
    "duration": 12,
    "start_time": "2022-03-06T07:16:15.302Z"
   },
   {
    "duration": 11,
    "start_time": "2022-03-06T07:16:31.771Z"
   },
   {
    "duration": 14,
    "start_time": "2022-03-06T07:22:22.573Z"
   },
   {
    "duration": 12,
    "start_time": "2022-03-06T07:23:32.543Z"
   },
   {
    "duration": 11,
    "start_time": "2022-03-06T07:23:55.057Z"
   },
   {
    "duration": 17,
    "start_time": "2022-03-06T07:24:38.322Z"
   },
   {
    "duration": 1026,
    "start_time": "2022-03-06T07:24:44.959Z"
   },
   {
    "duration": 18,
    "start_time": "2022-03-06T07:24:45.987Z"
   },
   {
    "duration": 11,
    "start_time": "2022-03-06T07:24:46.007Z"
   },
   {
    "duration": 10,
    "start_time": "2022-03-06T07:24:46.032Z"
   },
   {
    "duration": 44,
    "start_time": "2022-03-06T07:24:46.044Z"
   },
   {
    "duration": 6,
    "start_time": "2022-03-06T07:24:46.089Z"
   },
   {
    "duration": 15,
    "start_time": "2022-03-06T07:24:46.096Z"
   },
   {
    "duration": 17,
    "start_time": "2022-03-06T07:24:46.112Z"
   },
   {
    "duration": 11,
    "start_time": "2022-03-06T07:24:46.131Z"
   },
   {
    "duration": 306,
    "start_time": "2022-03-06T07:24:46.144Z"
   },
   {
    "duration": 18,
    "start_time": "2022-03-06T07:24:46.452Z"
   },
   {
    "duration": 241,
    "start_time": "2022-03-06T07:24:46.471Z"
   },
   {
    "duration": 223,
    "start_time": "2022-03-06T07:24:46.714Z"
   },
   {
    "duration": 342,
    "start_time": "2022-03-06T07:24:46.939Z"
   },
   {
    "duration": 290,
    "start_time": "2022-03-06T07:24:47.282Z"
   },
   {
    "duration": 13,
    "start_time": "2022-03-06T07:24:47.574Z"
   },
   {
    "duration": 1031,
    "start_time": "2022-03-06T07:26:35.142Z"
   },
   {
    "duration": 19,
    "start_time": "2022-03-06T07:26:36.174Z"
   },
   {
    "duration": 10,
    "start_time": "2022-03-06T07:26:36.196Z"
   },
   {
    "duration": 26,
    "start_time": "2022-03-06T07:26:36.208Z"
   },
   {
    "duration": 43,
    "start_time": "2022-03-06T07:26:36.236Z"
   },
   {
    "duration": 6,
    "start_time": "2022-03-06T07:26:36.281Z"
   },
   {
    "duration": 7,
    "start_time": "2022-03-06T07:26:36.288Z"
   },
   {
    "duration": 14,
    "start_time": "2022-03-06T07:26:36.296Z"
   },
   {
    "duration": 13,
    "start_time": "2022-03-06T07:26:36.312Z"
   },
   {
    "duration": 324,
    "start_time": "2022-03-06T07:26:36.326Z"
   },
   {
    "duration": 19,
    "start_time": "2022-03-06T07:26:36.652Z"
   },
   {
    "duration": 240,
    "start_time": "2022-03-06T07:26:36.673Z"
   },
   {
    "duration": 226,
    "start_time": "2022-03-06T07:26:36.915Z"
   },
   {
    "duration": 317,
    "start_time": "2022-03-06T07:26:37.143Z"
   },
   {
    "duration": 355,
    "start_time": "2022-03-06T07:26:37.461Z"
   },
   {
    "duration": 985,
    "start_time": "2022-03-06T07:28:26.597Z"
   },
   {
    "duration": 22,
    "start_time": "2022-03-06T07:28:27.584Z"
   },
   {
    "duration": 12,
    "start_time": "2022-03-06T07:28:27.608Z"
   },
   {
    "duration": 15,
    "start_time": "2022-03-06T07:28:27.624Z"
   },
   {
    "duration": 37,
    "start_time": "2022-03-06T07:28:27.641Z"
   },
   {
    "duration": 5,
    "start_time": "2022-03-06T07:28:27.680Z"
   },
   {
    "duration": 10,
    "start_time": "2022-03-06T07:28:27.686Z"
   },
   {
    "duration": 12,
    "start_time": "2022-03-06T07:28:27.697Z"
   },
   {
    "duration": 12,
    "start_time": "2022-03-06T07:28:27.710Z"
   },
   {
    "duration": 328,
    "start_time": "2022-03-06T07:28:27.733Z"
   },
   {
    "duration": 20,
    "start_time": "2022-03-06T07:28:28.062Z"
   },
   {
    "duration": 251,
    "start_time": "2022-03-06T07:28:28.084Z"
   },
   {
    "duration": 224,
    "start_time": "2022-03-06T07:28:28.337Z"
   },
   {
    "duration": 322,
    "start_time": "2022-03-06T07:28:28.564Z"
   },
   {
    "duration": 304,
    "start_time": "2022-03-06T07:28:28.889Z"
   },
   {
    "duration": 10,
    "start_time": "2022-03-06T07:29:59.106Z"
   },
   {
    "duration": 297,
    "start_time": "2022-03-06T07:30:45.204Z"
   },
   {
    "duration": 42,
    "start_time": "2022-03-06T07:31:21.444Z"
   },
   {
    "duration": 41,
    "start_time": "2022-03-06T07:31:47.845Z"
   },
   {
    "duration": 17,
    "start_time": "2022-03-06T07:32:43.599Z"
   },
   {
    "duration": 245,
    "start_time": "2022-03-06T07:32:55.070Z"
   },
   {
    "duration": 1075,
    "start_time": "2022-03-06T07:34:29.398Z"
   },
   {
    "duration": 24,
    "start_time": "2022-03-06T07:34:30.475Z"
   },
   {
    "duration": 14,
    "start_time": "2022-03-06T07:34:30.501Z"
   },
   {
    "duration": 10,
    "start_time": "2022-03-06T07:34:30.517Z"
   },
   {
    "duration": 40,
    "start_time": "2022-03-06T07:34:30.533Z"
   },
   {
    "duration": 6,
    "start_time": "2022-03-06T07:34:30.574Z"
   },
   {
    "duration": 12,
    "start_time": "2022-03-06T07:34:30.582Z"
   },
   {
    "duration": 10,
    "start_time": "2022-03-06T07:34:30.597Z"
   },
   {
    "duration": 24,
    "start_time": "2022-03-06T07:34:30.609Z"
   },
   {
    "duration": 320,
    "start_time": "2022-03-06T07:34:30.635Z"
   },
   {
    "duration": 16,
    "start_time": "2022-03-06T07:34:30.957Z"
   },
   {
    "duration": 240,
    "start_time": "2022-03-06T07:34:30.975Z"
   },
   {
    "duration": 230,
    "start_time": "2022-03-06T07:34:31.217Z"
   },
   {
    "duration": 311,
    "start_time": "2022-03-06T07:34:31.449Z"
   },
   {
    "duration": 185,
    "start_time": "2022-03-06T07:34:31.762Z"
   },
   {
    "duration": 200,
    "start_time": "2022-03-06T07:44:13.298Z"
   },
   {
    "duration": 245,
    "start_time": "2022-03-06T07:45:22.174Z"
   },
   {
    "duration": 561,
    "start_time": "2022-03-06T07:49:08.801Z"
   },
   {
    "duration": 479,
    "start_time": "2022-03-06T07:49:43.173Z"
   },
   {
    "duration": 234,
    "start_time": "2022-03-06T07:50:33.454Z"
   },
   {
    "duration": 61,
    "start_time": "2022-03-06T07:51:02.471Z"
   },
   {
    "duration": 61,
    "start_time": "2022-03-06T07:51:26.343Z"
   },
   {
    "duration": 12,
    "start_time": "2022-03-06T07:51:41.007Z"
   },
   {
    "duration": 4356,
    "start_time": "2022-03-06T07:51:47.761Z"
   },
   {
    "duration": 6,
    "start_time": "2022-03-06T07:51:53.960Z"
   },
   {
    "duration": 373,
    "start_time": "2022-03-06T08:23:57.365Z"
   },
   {
    "duration": 4585,
    "start_time": "2022-03-06T08:24:24.661Z"
   },
   {
    "duration": 330,
    "start_time": "2022-03-06T08:24:46.485Z"
   },
   {
    "duration": 335,
    "start_time": "2022-03-06T08:25:05.526Z"
   },
   {
    "duration": 499,
    "start_time": "2022-03-06T08:26:23.720Z"
   },
   {
    "duration": 426,
    "start_time": "2022-03-06T08:26:38.264Z"
   },
   {
    "duration": 526,
    "start_time": "2022-03-06T08:26:57.033Z"
   },
   {
    "duration": 358,
    "start_time": "2022-03-06T08:27:06.290Z"
   },
   {
    "duration": 508,
    "start_time": "2022-03-06T08:27:36.842Z"
   },
   {
    "duration": 359,
    "start_time": "2022-03-06T08:28:30.093Z"
   },
   {
    "duration": 363,
    "start_time": "2022-03-06T08:29:49.478Z"
   },
   {
    "duration": 61,
    "start_time": "2022-03-06T08:34:19.718Z"
   },
   {
    "duration": 65,
    "start_time": "2022-03-06T08:34:38.174Z"
   },
   {
    "duration": 517,
    "start_time": "2022-03-06T08:34:44.878Z"
   },
   {
    "duration": 528,
    "start_time": "2022-03-06T08:35:06.062Z"
   },
   {
    "duration": 548,
    "start_time": "2022-03-06T08:36:12.393Z"
   },
   {
    "duration": 564,
    "start_time": "2022-03-06T08:36:30.011Z"
   },
   {
    "duration": 1362,
    "start_time": "2022-03-07T06:16:08.979Z"
   },
   {
    "duration": 33,
    "start_time": "2022-03-07T06:16:10.343Z"
   },
   {
    "duration": 23,
    "start_time": "2022-03-07T06:16:10.379Z"
   },
   {
    "duration": 14,
    "start_time": "2022-03-07T06:16:10.405Z"
   },
   {
    "duration": 54,
    "start_time": "2022-03-07T06:16:10.422Z"
   },
   {
    "duration": 8,
    "start_time": "2022-03-07T06:16:10.478Z"
   },
   {
    "duration": 23,
    "start_time": "2022-03-07T06:16:10.488Z"
   },
   {
    "duration": 17,
    "start_time": "2022-03-07T06:16:10.514Z"
   },
   {
    "duration": 19,
    "start_time": "2022-03-07T06:16:10.534Z"
   },
   {
    "duration": 562,
    "start_time": "2022-03-07T06:16:10.555Z"
   },
   {
    "duration": 28,
    "start_time": "2022-03-07T06:16:11.120Z"
   },
   {
    "duration": 434,
    "start_time": "2022-03-07T06:16:11.150Z"
   },
   {
    "duration": 416,
    "start_time": "2022-03-07T06:16:11.588Z"
   },
   {
    "duration": 455,
    "start_time": "2022-03-07T06:16:12.008Z"
   },
   {
    "duration": 865,
    "start_time": "2022-03-07T06:16:12.466Z"
   },
   {
    "duration": 270,
    "start_time": "2022-03-07T06:42:22.900Z"
   },
   {
    "duration": 396,
    "start_time": "2022-03-07T06:43:19.659Z"
   },
   {
    "duration": 199,
    "start_time": "2022-03-07T06:48:22.595Z"
   },
   {
    "duration": 361,
    "start_time": "2022-03-07T06:50:35.385Z"
   },
   {
    "duration": 276,
    "start_time": "2022-03-07T06:50:47.567Z"
   },
   {
    "duration": 290,
    "start_time": "2022-03-07T06:51:33.619Z"
   },
   {
    "duration": 777,
    "start_time": "2022-03-07T06:51:49.372Z"
   },
   {
    "duration": 332,
    "start_time": "2022-03-07T06:53:23.774Z"
   },
   {
    "duration": 335,
    "start_time": "2022-03-07T09:24:29.863Z"
   },
   {
    "duration": 295,
    "start_time": "2022-03-07T09:24:38.657Z"
   },
   {
    "duration": 376,
    "start_time": "2022-03-07T09:25:03.011Z"
   },
   {
    "duration": 366,
    "start_time": "2022-03-07T09:26:52.421Z"
   },
   {
    "duration": 426,
    "start_time": "2022-03-07T09:29:19.151Z"
   },
   {
    "duration": 335,
    "start_time": "2022-03-07T09:29:29.777Z"
   },
   {
    "duration": 466,
    "start_time": "2022-03-07T09:29:34.946Z"
   },
   {
    "duration": 7,
    "start_time": "2022-03-07T09:31:48.077Z"
   },
   {
    "duration": 296,
    "start_time": "2022-03-07T09:41:33.686Z"
   },
   {
    "duration": 369,
    "start_time": "2022-03-07T09:43:53.113Z"
   },
   {
    "duration": 384,
    "start_time": "2022-03-07T09:44:05.601Z"
   },
   {
    "duration": 402,
    "start_time": "2022-03-07T09:44:16.993Z"
   },
   {
    "duration": 17,
    "start_time": "2022-03-07T09:46:22.677Z"
   },
   {
    "duration": 7,
    "start_time": "2022-03-07T09:51:32.556Z"
   },
   {
    "duration": 377,
    "start_time": "2022-03-07T09:53:26.438Z"
   },
   {
    "duration": 130,
    "start_time": "2022-03-07T11:01:37.992Z"
   },
   {
    "duration": 123,
    "start_time": "2022-03-07T11:01:50.869Z"
   },
   {
    "duration": 199,
    "start_time": "2022-03-07T11:02:52.483Z"
   },
   {
    "duration": 7,
    "start_time": "2022-03-07T11:12:17.913Z"
   },
   {
    "duration": 10,
    "start_time": "2022-03-07T11:13:02.643Z"
   },
   {
    "duration": 11,
    "start_time": "2022-03-07T11:14:15.708Z"
   },
   {
    "duration": 12,
    "start_time": "2022-03-07T11:14:19.580Z"
   },
   {
    "duration": 3470,
    "start_time": "2022-03-07T11:39:22.002Z"
   },
   {
    "duration": 203,
    "start_time": "2022-03-07T11:42:33.631Z"
   },
   {
    "duration": 192,
    "start_time": "2022-03-07T11:42:37.855Z"
   },
   {
    "duration": 203,
    "start_time": "2022-03-07T11:42:43.554Z"
   },
   {
    "duration": 463,
    "start_time": "2022-03-07T11:42:46.722Z"
   },
   {
    "duration": 188,
    "start_time": "2022-03-07T11:42:50.149Z"
   },
   {
    "duration": 3750,
    "start_time": "2022-03-07T11:44:20.676Z"
   },
   {
    "duration": 19,
    "start_time": "2022-03-07T11:45:00.228Z"
   },
   {
    "duration": 222,
    "start_time": "2022-03-07T11:47:11.775Z"
   },
   {
    "duration": 3520,
    "start_time": "2022-03-07T11:49:14.691Z"
   },
   {
    "duration": 3419,
    "start_time": "2022-03-07T11:50:21.838Z"
   },
   {
    "duration": 12,
    "start_time": "2022-03-07T11:52:15.776Z"
   },
   {
    "duration": 341,
    "start_time": "2022-03-07T11:54:41.708Z"
   },
   {
    "duration": 324,
    "start_time": "2022-03-07T11:55:47.060Z"
   },
   {
    "duration": 447,
    "start_time": "2022-03-07T11:57:02.944Z"
   },
   {
    "duration": 489,
    "start_time": "2022-03-07T11:57:13.480Z"
   },
   {
    "duration": 449,
    "start_time": "2022-03-07T11:57:27.801Z"
   },
   {
    "duration": 466,
    "start_time": "2022-03-07T11:57:32.834Z"
   },
   {
    "duration": 216,
    "start_time": "2022-03-07T12:40:30.060Z"
   },
   {
    "duration": 199,
    "start_time": "2022-03-07T12:41:37.038Z"
   },
   {
    "duration": 239,
    "start_time": "2022-03-07T12:48:31.753Z"
   },
   {
    "duration": 11,
    "start_time": "2022-03-07T12:48:50.199Z"
   },
   {
    "duration": 9,
    "start_time": "2022-03-07T12:50:31.356Z"
   },
   {
    "duration": 15,
    "start_time": "2022-03-07T12:53:13.704Z"
   },
   {
    "duration": 19,
    "start_time": "2022-03-07T12:59:44.227Z"
   },
   {
    "duration": 21,
    "start_time": "2022-03-07T13:01:07.331Z"
   },
   {
    "duration": 17,
    "start_time": "2022-03-07T13:36:16.717Z"
   },
   {
    "duration": 272,
    "start_time": "2022-03-07T13:41:34.134Z"
   },
   {
    "duration": 7,
    "start_time": "2022-03-07T13:44:56.803Z"
   },
   {
    "duration": 3359,
    "start_time": "2022-03-07T13:47:30.463Z"
   },
   {
    "duration": 12,
    "start_time": "2022-03-07T13:47:57.023Z"
   },
   {
    "duration": 13,
    "start_time": "2022-03-07T13:48:52.794Z"
   },
   {
    "duration": 8,
    "start_time": "2022-03-07T13:48:59.505Z"
   },
   {
    "duration": 14,
    "start_time": "2022-03-07T13:52:49.168Z"
   },
   {
    "duration": 12,
    "start_time": "2022-03-07T14:34:46.323Z"
   },
   {
    "duration": 17,
    "start_time": "2022-03-07T14:38:17.056Z"
   },
   {
    "duration": 13,
    "start_time": "2022-03-07T14:39:09.345Z"
   },
   {
    "duration": 13,
    "start_time": "2022-03-07T14:39:26.058Z"
   },
   {
    "duration": 15,
    "start_time": "2022-03-07T14:39:32.994Z"
   },
   {
    "duration": 19,
    "start_time": "2022-03-07T14:39:42.090Z"
   },
   {
    "duration": 18,
    "start_time": "2022-03-07T14:40:13.877Z"
   },
   {
    "duration": 15,
    "start_time": "2022-03-07T14:41:02.004Z"
   },
   {
    "duration": 21,
    "start_time": "2022-03-07T14:41:06.980Z"
   },
   {
    "duration": 13,
    "start_time": "2022-03-07T14:41:15.165Z"
   },
   {
    "duration": 16,
    "start_time": "2022-03-07T14:41:20.470Z"
   },
   {
    "duration": 1468,
    "start_time": "2022-03-07T14:56:28.672Z"
   },
   {
    "duration": 27,
    "start_time": "2022-03-07T14:56:30.142Z"
   },
   {
    "duration": 24,
    "start_time": "2022-03-07T14:56:30.172Z"
   },
   {
    "duration": 16,
    "start_time": "2022-03-07T14:56:30.199Z"
   },
   {
    "duration": 45,
    "start_time": "2022-03-07T14:56:30.218Z"
   },
   {
    "duration": 21,
    "start_time": "2022-03-07T14:56:30.265Z"
   },
   {
    "duration": 16,
    "start_time": "2022-03-07T14:56:30.288Z"
   },
   {
    "duration": 28,
    "start_time": "2022-03-07T14:56:30.306Z"
   },
   {
    "duration": 45,
    "start_time": "2022-03-07T14:56:30.338Z"
   },
   {
    "duration": 572,
    "start_time": "2022-03-07T14:56:30.387Z"
   },
   {
    "duration": 37,
    "start_time": "2022-03-07T14:56:30.962Z"
   },
   {
    "duration": 392,
    "start_time": "2022-03-07T14:56:31.001Z"
   },
   {
    "duration": 380,
    "start_time": "2022-03-07T14:56:31.396Z"
   },
   {
    "duration": 441,
    "start_time": "2022-03-07T14:56:31.783Z"
   },
   {
    "duration": 897,
    "start_time": "2022-03-07T14:56:32.226Z"
   },
   {
    "duration": 228,
    "start_time": "2022-03-07T14:56:33.125Z"
   },
   {
    "duration": 316,
    "start_time": "2022-03-07T14:56:33.355Z"
   },
   {
    "duration": 412,
    "start_time": "2022-03-07T14:56:33.682Z"
   },
   {
    "duration": 8,
    "start_time": "2022-03-07T14:56:34.097Z"
   },
   {
    "duration": 637,
    "start_time": "2022-03-07T14:56:34.108Z"
   },
   {
    "duration": 13,
    "start_time": "2022-03-07T14:56:34.748Z"
   },
   {
    "duration": 20,
    "start_time": "2022-03-07T14:56:34.764Z"
   },
   {
    "duration": 468,
    "start_time": "2022-03-07T14:56:34.786Z"
   },
   {
    "duration": 212,
    "start_time": "2022-03-07T14:56:35.258Z"
   },
   {
    "duration": 22,
    "start_time": "2022-03-07T14:56:35.472Z"
   },
   {
    "duration": 18,
    "start_time": "2022-03-07T14:56:35.496Z"
   },
   {
    "duration": 15,
    "start_time": "2022-03-07T14:56:35.519Z"
   },
   {
    "duration": 48,
    "start_time": "2022-03-07T14:56:35.536Z"
   },
   {
    "duration": 13,
    "start_time": "2022-03-07T14:56:35.586Z"
   },
   {
    "duration": 14,
    "start_time": "2022-03-07T14:56:35.602Z"
   },
   {
    "duration": 7,
    "start_time": "2022-03-07T14:58:54.730Z"
   },
   {
    "duration": 7,
    "start_time": "2022-03-07T14:58:57.302Z"
   },
   {
    "duration": 5,
    "start_time": "2022-03-07T14:59:01.707Z"
   },
   {
    "duration": 6,
    "start_time": "2022-03-07T14:59:05.939Z"
   },
   {
    "duration": 5,
    "start_time": "2022-03-07T14:59:11.763Z"
   },
   {
    "duration": 354,
    "start_time": "2022-03-07T15:00:57.046Z"
   },
   {
    "duration": 1515,
    "start_time": "2022-03-07T15:01:06.540Z"
   },
   {
    "duration": 26,
    "start_time": "2022-03-07T15:01:08.058Z"
   },
   {
    "duration": 19,
    "start_time": "2022-03-07T15:01:08.087Z"
   },
   {
    "duration": 15,
    "start_time": "2022-03-07T15:01:08.109Z"
   },
   {
    "duration": 56,
    "start_time": "2022-03-07T15:01:08.127Z"
   },
   {
    "duration": 9,
    "start_time": "2022-03-07T15:01:08.186Z"
   },
   {
    "duration": 21,
    "start_time": "2022-03-07T15:01:08.197Z"
   },
   {
    "duration": 19,
    "start_time": "2022-03-07T15:01:08.220Z"
   },
   {
    "duration": 47,
    "start_time": "2022-03-07T15:01:08.243Z"
   },
   {
    "duration": 540,
    "start_time": "2022-03-07T15:01:08.293Z"
   },
   {
    "duration": 48,
    "start_time": "2022-03-07T15:01:08.836Z"
   },
   {
    "duration": 371,
    "start_time": "2022-03-07T15:01:08.886Z"
   },
   {
    "duration": 376,
    "start_time": "2022-03-07T15:01:09.259Z"
   },
   {
    "duration": 477,
    "start_time": "2022-03-07T15:01:09.638Z"
   },
   {
    "duration": 882,
    "start_time": "2022-03-07T15:01:10.117Z"
   },
   {
    "duration": 187,
    "start_time": "2022-03-07T15:01:11.001Z"
   },
   {
    "duration": 329,
    "start_time": "2022-03-07T15:01:11.190Z"
   },
   {
    "duration": 388,
    "start_time": "2022-03-07T15:01:11.521Z"
   },
   {
    "duration": 8,
    "start_time": "2022-03-07T15:01:11.913Z"
   },
   {
    "duration": 473,
    "start_time": "2022-03-07T15:01:11.924Z"
   },
   {
    "duration": 14,
    "start_time": "2022-03-07T15:01:12.400Z"
   },
   {
    "duration": 27,
    "start_time": "2022-03-07T15:01:12.416Z"
   },
   {
    "duration": 458,
    "start_time": "2022-03-07T15:01:12.446Z"
   },
   {
    "duration": 220,
    "start_time": "2022-03-07T15:01:12.907Z"
   },
   {
    "duration": 16,
    "start_time": "2022-03-07T15:01:13.130Z"
   },
   {
    "duration": 42,
    "start_time": "2022-03-07T15:01:13.149Z"
   },
   {
    "duration": 18,
    "start_time": "2022-03-07T15:01:13.197Z"
   },
   {
    "duration": 14,
    "start_time": "2022-03-07T15:01:13.218Z"
   },
   {
    "duration": 48,
    "start_time": "2022-03-07T15:01:13.234Z"
   },
   {
    "duration": 19,
    "start_time": "2022-03-07T15:01:13.285Z"
   },
   {
    "duration": 1047,
    "start_time": "2022-03-07T17:54:00.680Z"
   },
   {
    "duration": 25,
    "start_time": "2022-03-07T17:54:01.729Z"
   },
   {
    "duration": 11,
    "start_time": "2022-03-07T17:54:01.756Z"
   },
   {
    "duration": 9,
    "start_time": "2022-03-07T17:54:01.769Z"
   },
   {
    "duration": 65,
    "start_time": "2022-03-07T17:54:01.779Z"
   },
   {
    "duration": 5,
    "start_time": "2022-03-07T17:54:01.845Z"
   },
   {
    "duration": 16,
    "start_time": "2022-03-07T17:54:01.852Z"
   },
   {
    "duration": 11,
    "start_time": "2022-03-07T17:54:01.870Z"
   },
   {
    "duration": 11,
    "start_time": "2022-03-07T17:54:01.883Z"
   },
   {
    "duration": 288,
    "start_time": "2022-03-07T17:54:01.895Z"
   },
   {
    "duration": 25,
    "start_time": "2022-03-07T17:54:02.184Z"
   },
   {
    "duration": 211,
    "start_time": "2022-03-07T17:54:02.210Z"
   },
   {
    "duration": 197,
    "start_time": "2022-03-07T17:54:02.422Z"
   },
   {
    "duration": 296,
    "start_time": "2022-03-07T17:54:02.620Z"
   },
   {
    "duration": 540,
    "start_time": "2022-03-07T17:54:02.918Z"
   },
   {
    "duration": 93,
    "start_time": "2022-03-07T17:54:03.460Z"
   },
   {
    "duration": 181,
    "start_time": "2022-03-07T17:54:03.554Z"
   },
   {
    "duration": 279,
    "start_time": "2022-03-07T17:54:03.736Z"
   },
   {
    "duration": 3,
    "start_time": "2022-03-07T17:54:04.017Z"
   },
   {
    "duration": 339,
    "start_time": "2022-03-07T17:54:04.021Z"
   },
   {
    "duration": 8,
    "start_time": "2022-03-07T17:54:04.362Z"
   },
   {
    "duration": 7,
    "start_time": "2022-03-07T17:54:04.372Z"
   },
   {
    "duration": 243,
    "start_time": "2022-03-07T17:54:04.382Z"
   },
   {
    "duration": 110,
    "start_time": "2022-03-07T17:54:04.627Z"
   },
   {
    "duration": 9,
    "start_time": "2022-03-07T17:54:04.739Z"
   },
   {
    "duration": 13,
    "start_time": "2022-03-07T17:54:04.749Z"
   },
   {
    "duration": 9,
    "start_time": "2022-03-07T17:54:04.764Z"
   },
   {
    "duration": 31,
    "start_time": "2022-03-07T17:54:04.774Z"
   },
   {
    "duration": 9,
    "start_time": "2022-03-07T17:54:04.806Z"
   },
   {
    "duration": 8,
    "start_time": "2022-03-07T17:54:04.816Z"
   },
   {
    "duration": 415,
    "start_time": "2022-03-08T06:54:45.390Z"
   },
   {
    "duration": 1011,
    "start_time": "2022-03-08T06:54:51.414Z"
   },
   {
    "duration": 211,
    "start_time": "2022-03-08T06:54:52.427Z"
   },
   {
    "duration": 11,
    "start_time": "2022-03-08T06:54:52.640Z"
   },
   {
    "duration": 11,
    "start_time": "2022-03-08T06:54:52.653Z"
   },
   {
    "duration": 62,
    "start_time": "2022-03-08T06:54:52.665Z"
   },
   {
    "duration": 5,
    "start_time": "2022-03-08T06:54:52.729Z"
   },
   {
    "duration": 10,
    "start_time": "2022-03-08T06:54:52.735Z"
   },
   {
    "duration": 11,
    "start_time": "2022-03-08T06:54:52.748Z"
   },
   {
    "duration": 11,
    "start_time": "2022-03-08T06:54:52.760Z"
   },
   {
    "duration": 298,
    "start_time": "2022-03-08T06:54:52.773Z"
   },
   {
    "duration": 15,
    "start_time": "2022-03-08T06:54:53.073Z"
   },
   {
    "duration": 217,
    "start_time": "2022-03-08T06:54:53.090Z"
   },
   {
    "duration": 203,
    "start_time": "2022-03-08T06:54:53.308Z"
   },
   {
    "duration": 302,
    "start_time": "2022-03-08T06:54:53.513Z"
   },
   {
    "duration": 511,
    "start_time": "2022-03-08T06:54:53.817Z"
   },
   {
    "duration": 111,
    "start_time": "2022-03-08T06:54:54.330Z"
   },
   {
    "duration": 184,
    "start_time": "2022-03-08T06:54:54.443Z"
   },
   {
    "duration": 265,
    "start_time": "2022-03-08T06:54:54.629Z"
   },
   {
    "duration": 13,
    "start_time": "2022-03-08T06:54:54.895Z"
   },
   {
    "duration": 308,
    "start_time": "2022-03-08T06:54:54.910Z"
   },
   {
    "duration": 10,
    "start_time": "2022-03-08T06:54:55.220Z"
   },
   {
    "duration": 6,
    "start_time": "2022-03-08T06:54:55.231Z"
   },
   {
    "duration": 253,
    "start_time": "2022-03-08T06:54:55.240Z"
   },
   {
    "duration": 92,
    "start_time": "2022-03-08T06:54:55.494Z"
   },
   {
    "duration": 21,
    "start_time": "2022-03-08T06:54:55.587Z"
   },
   {
    "duration": 10,
    "start_time": "2022-03-08T06:54:55.610Z"
   },
   {
    "duration": 9,
    "start_time": "2022-03-08T06:54:55.621Z"
   },
   {
    "duration": 6,
    "start_time": "2022-03-08T06:54:55.632Z"
   },
   {
    "duration": 11,
    "start_time": "2022-03-08T06:54:55.639Z"
   },
   {
    "duration": 8,
    "start_time": "2022-03-08T06:54:55.652Z"
   },
   {
    "duration": 4216,
    "start_time": "2022-03-08T07:02:00.409Z"
   },
   {
    "duration": 3795,
    "start_time": "2022-03-08T07:03:34.491Z"
   },
   {
    "duration": 3791,
    "start_time": "2022-03-08T07:04:12.134Z"
   },
   {
    "duration": 3772,
    "start_time": "2022-03-08T07:06:19.322Z"
   },
   {
    "duration": 3914,
    "start_time": "2022-03-08T07:06:57.491Z"
   },
   {
    "duration": 1008,
    "start_time": "2022-03-08T07:07:11.633Z"
   },
   {
    "duration": 217,
    "start_time": "2022-03-08T07:07:12.643Z"
   },
   {
    "duration": 11,
    "start_time": "2022-03-08T07:07:12.862Z"
   },
   {
    "duration": 12,
    "start_time": "2022-03-08T07:07:12.875Z"
   },
   {
    "duration": 232,
    "start_time": "2022-03-08T07:07:12.889Z"
   },
   {
    "duration": 123,
    "start_time": "2022-03-08T07:07:13.123Z"
   },
   {
    "duration": 6,
    "start_time": "2022-03-08T07:07:13.247Z"
   },
   {
    "duration": 8,
    "start_time": "2022-03-08T07:07:13.256Z"
   },
   {
    "duration": 16,
    "start_time": "2022-03-08T07:07:13.266Z"
   },
   {
    "duration": 11,
    "start_time": "2022-03-08T07:07:13.284Z"
   },
   {
    "duration": 313,
    "start_time": "2022-03-08T07:07:13.297Z"
   },
   {
    "duration": 16,
    "start_time": "2022-03-08T07:07:13.612Z"
   },
   {
    "duration": 224,
    "start_time": "2022-03-08T07:07:13.629Z"
   },
   {
    "duration": 221,
    "start_time": "2022-03-08T07:07:13.854Z"
   },
   {
    "duration": 355,
    "start_time": "2022-03-08T07:07:14.076Z"
   },
   {
    "duration": 622,
    "start_time": "2022-03-08T07:07:14.432Z"
   },
   {
    "duration": 105,
    "start_time": "2022-03-08T07:07:15.055Z"
   },
   {
    "duration": 188,
    "start_time": "2022-03-08T07:07:15.161Z"
   },
   {
    "duration": 363,
    "start_time": "2022-03-08T07:07:15.351Z"
   },
   {
    "duration": 3,
    "start_time": "2022-03-08T07:07:15.716Z"
   },
   {
    "duration": 292,
    "start_time": "2022-03-08T07:07:15.721Z"
   },
   {
    "duration": 9,
    "start_time": "2022-03-08T07:07:16.014Z"
   },
   {
    "duration": 6,
    "start_time": "2022-03-08T07:07:16.025Z"
   },
   {
    "duration": 260,
    "start_time": "2022-03-08T07:07:16.032Z"
   },
   {
    "duration": 145,
    "start_time": "2022-03-08T07:07:16.294Z"
   },
   {
    "duration": 9,
    "start_time": "2022-03-08T07:07:16.441Z"
   },
   {
    "duration": 12,
    "start_time": "2022-03-08T07:07:16.451Z"
   },
   {
    "duration": 9,
    "start_time": "2022-03-08T07:07:16.465Z"
   },
   {
    "duration": 9,
    "start_time": "2022-03-08T07:07:16.475Z"
   },
   {
    "duration": 27,
    "start_time": "2022-03-08T07:07:16.485Z"
   },
   {
    "duration": 9,
    "start_time": "2022-03-08T07:07:16.513Z"
   },
   {
    "duration": 8,
    "start_time": "2022-03-08T07:12:29.459Z"
   },
   {
    "duration": 15,
    "start_time": "2022-03-08T07:17:29.437Z"
   },
   {
    "duration": 454,
    "start_time": "2022-03-08T07:18:26.736Z"
   },
   {
    "duration": 9,
    "start_time": "2022-03-08T07:22:10.750Z"
   },
   {
    "duration": 5,
    "start_time": "2022-03-08T07:22:22.549Z"
   },
   {
    "duration": 287,
    "start_time": "2022-03-08T07:22:59.760Z"
   },
   {
    "duration": 4,
    "start_time": "2022-03-08T07:23:26.384Z"
   },
   {
    "duration": 4,
    "start_time": "2022-03-08T07:23:29.551Z"
   },
   {
    "duration": 4,
    "start_time": "2022-03-08T07:23:31.360Z"
   },
   {
    "duration": 8,
    "start_time": "2022-03-08T07:23:44.728Z"
   },
   {
    "duration": 6,
    "start_time": "2022-03-08T07:23:55.001Z"
   },
   {
    "duration": 7,
    "start_time": "2022-03-08T07:24:22.889Z"
   },
   {
    "duration": 7,
    "start_time": "2022-03-08T07:25:40.492Z"
   },
   {
    "duration": 291,
    "start_time": "2022-03-08T07:27:15.862Z"
   },
   {
    "duration": 13,
    "start_time": "2022-03-08T07:27:32.262Z"
   },
   {
    "duration": 9,
    "start_time": "2022-03-08T07:27:53.527Z"
   },
   {
    "duration": 9,
    "start_time": "2022-03-08T07:28:58.953Z"
   },
   {
    "duration": 8,
    "start_time": "2022-03-08T07:29:21.248Z"
   },
   {
    "duration": 12,
    "start_time": "2022-03-08T07:29:27.465Z"
   },
   {
    "duration": 16,
    "start_time": "2022-03-08T07:32:00.922Z"
   },
   {
    "duration": 16,
    "start_time": "2022-03-08T07:32:44.176Z"
   },
   {
    "duration": 15,
    "start_time": "2022-03-08T07:34:09.361Z"
   },
   {
    "duration": 17,
    "start_time": "2022-03-08T07:34:22.224Z"
   },
   {
    "duration": 17,
    "start_time": "2022-03-08T07:34:28.857Z"
   },
   {
    "duration": 20,
    "start_time": "2022-03-08T07:35:46.074Z"
   },
   {
    "duration": 93,
    "start_time": "2022-03-08T07:44:07.909Z"
   },
   {
    "duration": 18,
    "start_time": "2022-03-08T07:45:19.034Z"
   },
   {
    "duration": 14,
    "start_time": "2022-03-08T07:46:11.860Z"
   },
   {
    "duration": 222,
    "start_time": "2022-03-08T07:48:04.567Z"
   },
   {
    "duration": 209,
    "start_time": "2022-03-08T07:55:39.875Z"
   },
   {
    "duration": 974,
    "start_time": "2022-03-08T07:56:27.849Z"
   },
   {
    "duration": 210,
    "start_time": "2022-03-08T07:56:28.825Z"
   },
   {
    "duration": 10,
    "start_time": "2022-03-08T07:56:29.037Z"
   },
   {
    "duration": 10,
    "start_time": "2022-03-08T07:56:29.049Z"
   },
   {
    "duration": 420,
    "start_time": "2022-03-08T07:56:29.060Z"
   },
   {
    "duration": -1500,
    "start_time": "2022-03-08T07:56:30.982Z"
   },
   {
    "duration": -1502,
    "start_time": "2022-03-08T07:56:30.985Z"
   },
   {
    "duration": -1509,
    "start_time": "2022-03-08T07:56:30.993Z"
   },
   {
    "duration": -1510,
    "start_time": "2022-03-08T07:56:30.994Z"
   },
   {
    "duration": -1511,
    "start_time": "2022-03-08T07:56:30.996Z"
   },
   {
    "duration": -1511,
    "start_time": "2022-03-08T07:56:30.997Z"
   },
   {
    "duration": -1512,
    "start_time": "2022-03-08T07:56:30.999Z"
   },
   {
    "duration": -1512,
    "start_time": "2022-03-08T07:56:31.000Z"
   },
   {
    "duration": -1513,
    "start_time": "2022-03-08T07:56:31.002Z"
   },
   {
    "duration": -1527,
    "start_time": "2022-03-08T07:56:31.017Z"
   },
   {
    "duration": -1529,
    "start_time": "2022-03-08T07:56:31.020Z"
   },
   {
    "duration": -1533,
    "start_time": "2022-03-08T07:56:31.025Z"
   },
   {
    "duration": -1534,
    "start_time": "2022-03-08T07:56:31.027Z"
   },
   {
    "duration": -1534,
    "start_time": "2022-03-08T07:56:31.028Z"
   },
   {
    "duration": -1535,
    "start_time": "2022-03-08T07:56:31.030Z"
   },
   {
    "duration": -1537,
    "start_time": "2022-03-08T07:56:31.032Z"
   },
   {
    "duration": -1538,
    "start_time": "2022-03-08T07:56:31.034Z"
   },
   {
    "duration": -1539,
    "start_time": "2022-03-08T07:56:31.036Z"
   },
   {
    "duration": -1543,
    "start_time": "2022-03-08T07:56:31.042Z"
   },
   {
    "duration": -1544,
    "start_time": "2022-03-08T07:56:31.044Z"
   },
   {
    "duration": -1544,
    "start_time": "2022-03-08T07:56:31.045Z"
   },
   {
    "duration": -1545,
    "start_time": "2022-03-08T07:56:31.047Z"
   },
   {
    "duration": -1545,
    "start_time": "2022-03-08T07:56:31.048Z"
   },
   {
    "duration": -1546,
    "start_time": "2022-03-08T07:56:31.050Z"
   },
   {
    "duration": -1548,
    "start_time": "2022-03-08T07:56:31.053Z"
   },
   {
    "duration": -1552,
    "start_time": "2022-03-08T07:56:31.058Z"
   },
   {
    "duration": 223,
    "start_time": "2022-03-08T07:56:54.620Z"
   },
   {
    "duration": 223,
    "start_time": "2022-03-08T07:57:05.533Z"
   },
   {
    "duration": 231,
    "start_time": "2022-03-08T07:57:47.903Z"
   },
   {
    "duration": 325,
    "start_time": "2022-03-08T08:00:29.803Z"
   },
   {
    "duration": 352,
    "start_time": "2022-03-08T08:03:11.114Z"
   },
   {
    "duration": 358,
    "start_time": "2022-03-08T08:03:17.407Z"
   },
   {
    "duration": 311,
    "start_time": "2022-03-08T08:03:30.704Z"
   },
   {
    "duration": 400,
    "start_time": "2022-03-08T08:03:59.296Z"
   },
   {
    "duration": 301,
    "start_time": "2022-03-08T08:25:01.818Z"
   },
   {
    "duration": 1434,
    "start_time": "2022-03-08T08:36:19.012Z"
   },
   {
    "duration": 1059,
    "start_time": "2022-03-08T08:36:34.707Z"
   },
   {
    "duration": 292,
    "start_time": "2022-03-08T08:36:35.768Z"
   },
   {
    "duration": 10,
    "start_time": "2022-03-08T08:36:36.061Z"
   },
   {
    "duration": 11,
    "start_time": "2022-03-08T08:36:36.072Z"
   },
   {
    "duration": 324,
    "start_time": "2022-03-08T08:36:36.085Z"
   },
   {
    "duration": 61,
    "start_time": "2022-03-08T08:36:36.410Z"
   },
   {
    "duration": 6,
    "start_time": "2022-03-08T08:36:36.473Z"
   },
   {
    "duration": 6,
    "start_time": "2022-03-08T08:36:36.482Z"
   },
   {
    "duration": 13,
    "start_time": "2022-03-08T08:36:36.491Z"
   },
   {
    "duration": 12,
    "start_time": "2022-03-08T08:36:36.506Z"
   },
   {
    "duration": 310,
    "start_time": "2022-03-08T08:36:36.520Z"
   },
   {
    "duration": 16,
    "start_time": "2022-03-08T08:36:36.832Z"
   },
   {
    "duration": 214,
    "start_time": "2022-03-08T08:36:36.849Z"
   },
   {
    "duration": 207,
    "start_time": "2022-03-08T08:36:37.064Z"
   },
   {
    "duration": 295,
    "start_time": "2022-03-08T08:36:37.272Z"
   },
   {
    "duration": 542,
    "start_time": "2022-03-08T08:36:37.568Z"
   },
   {
    "duration": 110,
    "start_time": "2022-03-08T08:36:38.111Z"
   },
   {
    "duration": 178,
    "start_time": "2022-03-08T08:36:38.223Z"
   },
   {
    "duration": 315,
    "start_time": "2022-03-08T08:36:38.405Z"
   },
   {
    "duration": 3,
    "start_time": "2022-03-08T08:36:38.722Z"
   },
   {
    "duration": 280,
    "start_time": "2022-03-08T08:36:38.727Z"
   },
   {
    "duration": 9,
    "start_time": "2022-03-08T08:36:39.008Z"
   },
   {
    "duration": 6,
    "start_time": "2022-03-08T08:36:39.019Z"
   },
   {
    "duration": 247,
    "start_time": "2022-03-08T08:36:39.026Z"
   },
   {
    "duration": 2,
    "start_time": "2022-03-08T08:36:39.274Z"
   },
   {
    "duration": 96,
    "start_time": "2022-03-08T08:36:39.277Z"
   },
   {
    "duration": 9,
    "start_time": "2022-03-08T08:36:39.374Z"
   },
   {
    "duration": 24,
    "start_time": "2022-03-08T08:36:39.385Z"
   },
   {
    "duration": 8,
    "start_time": "2022-03-08T08:36:39.411Z"
   },
   {
    "duration": 6,
    "start_time": "2022-03-08T08:36:39.421Z"
   },
   {
    "duration": 18,
    "start_time": "2022-03-08T08:36:39.429Z"
   },
   {
    "duration": 10,
    "start_time": "2022-03-08T08:36:39.448Z"
   },
   {
    "duration": 408,
    "start_time": "2022-03-08T08:37:22.704Z"
   },
   {
    "duration": 4,
    "start_time": "2022-03-08T08:37:29.344Z"
   },
   {
    "duration": 4,
    "start_time": "2022-03-08T08:37:38.096Z"
   },
   {
    "duration": 6,
    "start_time": "2022-03-08T08:37:47.144Z"
   },
   {
    "duration": 7,
    "start_time": "2022-03-08T08:38:01.465Z"
   },
   {
    "duration": 482,
    "start_time": "2022-03-08T08:38:39.398Z"
   },
   {
    "duration": 4,
    "start_time": "2022-03-08T08:39:01.499Z"
   },
   {
    "duration": 4,
    "start_time": "2022-03-08T08:39:13.066Z"
   },
   {
    "duration": 96,
    "start_time": "2022-03-08T09:11:47.344Z"
   },
   {
    "duration": 5,
    "start_time": "2022-03-08T09:11:57.920Z"
   },
   {
    "duration": 7344,
    "start_time": "2022-03-08T09:12:43.809Z"
   },
   {
    "duration": 1096,
    "start_time": "2022-03-08T09:14:00.541Z"
   },
   {
    "duration": 237,
    "start_time": "2022-03-08T09:14:01.639Z"
   },
   {
    "duration": 9,
    "start_time": "2022-03-08T09:14:01.878Z"
   },
   {
    "duration": 12,
    "start_time": "2022-03-08T09:14:01.888Z"
   },
   {
    "duration": 323,
    "start_time": "2022-03-08T09:14:01.901Z"
   },
   {
    "duration": 59,
    "start_time": "2022-03-08T09:14:02.226Z"
   },
   {
    "duration": 5,
    "start_time": "2022-03-08T09:14:02.287Z"
   },
   {
    "duration": 7,
    "start_time": "2022-03-08T09:14:02.295Z"
   },
   {
    "duration": 11,
    "start_time": "2022-03-08T09:14:02.304Z"
   },
   {
    "duration": 12,
    "start_time": "2022-03-08T09:14:02.317Z"
   },
   {
    "duration": 301,
    "start_time": "2022-03-08T09:14:02.331Z"
   },
   {
    "duration": 15,
    "start_time": "2022-03-08T09:14:02.634Z"
   },
   {
    "duration": 214,
    "start_time": "2022-03-08T09:14:02.651Z"
   },
   {
    "duration": 216,
    "start_time": "2022-03-08T09:14:02.866Z"
   },
   {
    "duration": 327,
    "start_time": "2022-03-08T09:14:03.084Z"
   },
   {
    "duration": 638,
    "start_time": "2022-03-08T09:14:03.413Z"
   },
   {
    "duration": 114,
    "start_time": "2022-03-08T09:14:04.054Z"
   },
   {
    "duration": 207,
    "start_time": "2022-03-08T09:14:04.170Z"
   },
   {
    "duration": 348,
    "start_time": "2022-03-08T09:14:04.379Z"
   },
   {
    "duration": 6,
    "start_time": "2022-03-08T09:14:04.729Z"
   },
   {
    "duration": 292,
    "start_time": "2022-03-08T09:14:04.737Z"
   },
   {
    "duration": 11,
    "start_time": "2022-03-08T09:14:05.031Z"
   },
   {
    "duration": 4,
    "start_time": "2022-03-08T09:14:05.045Z"
   },
   {
    "duration": 304,
    "start_time": "2022-03-08T09:14:05.051Z"
   },
   {
    "duration": 181,
    "start_time": "2022-03-08T09:14:05.356Z"
   },
   {
    "duration": 11,
    "start_time": "2022-03-08T09:14:05.538Z"
   },
   {
    "duration": 13,
    "start_time": "2022-03-08T09:14:05.550Z"
   },
   {
    "duration": 13,
    "start_time": "2022-03-08T09:14:05.564Z"
   },
   {
    "duration": 34,
    "start_time": "2022-03-08T09:14:05.578Z"
   },
   {
    "duration": 21,
    "start_time": "2022-03-08T09:14:05.614Z"
   },
   {
    "duration": 12,
    "start_time": "2022-03-08T09:14:05.637Z"
   },
   {
    "duration": 1161,
    "start_time": "2022-03-08T09:40:59.684Z"
   },
   {
    "duration": 237,
    "start_time": "2022-03-08T09:41:00.846Z"
   },
   {
    "duration": 12,
    "start_time": "2022-03-08T09:41:01.086Z"
   },
   {
    "duration": 19,
    "start_time": "2022-03-08T09:41:01.099Z"
   },
   {
    "duration": 346,
    "start_time": "2022-03-08T09:41:01.119Z"
   },
   {
    "duration": 65,
    "start_time": "2022-03-08T09:41:01.467Z"
   },
   {
    "duration": 6,
    "start_time": "2022-03-08T09:41:01.533Z"
   },
   {
    "duration": 12,
    "start_time": "2022-03-08T09:41:01.540Z"
   },
   {
    "duration": 12,
    "start_time": "2022-03-08T09:41:01.555Z"
   },
   {
    "duration": 14,
    "start_time": "2022-03-08T09:41:01.569Z"
   },
   {
    "duration": 409,
    "start_time": "2022-03-08T09:41:01.585Z"
   },
   {
    "duration": 21,
    "start_time": "2022-03-08T09:41:01.996Z"
   },
   {
    "duration": 215,
    "start_time": "2022-03-08T09:41:02.019Z"
   },
   {
    "duration": 223,
    "start_time": "2022-03-08T09:41:02.236Z"
   },
   {
    "duration": 315,
    "start_time": "2022-03-08T09:41:02.460Z"
   },
   {
    "duration": 547,
    "start_time": "2022-03-08T09:41:02.776Z"
   },
   {
    "duration": 119,
    "start_time": "2022-03-08T09:41:03.324Z"
   },
   {
    "duration": 192,
    "start_time": "2022-03-08T09:41:03.445Z"
   },
   {
    "duration": 345,
    "start_time": "2022-03-08T09:41:03.638Z"
   },
   {
    "duration": 4,
    "start_time": "2022-03-08T09:41:03.984Z"
   },
   {
    "duration": 307,
    "start_time": "2022-03-08T09:41:04.001Z"
   },
   {
    "duration": 9,
    "start_time": "2022-03-08T09:41:04.309Z"
   },
   {
    "duration": 5,
    "start_time": "2022-03-08T09:41:04.319Z"
   },
   {
    "duration": 262,
    "start_time": "2022-03-08T09:41:04.325Z"
   },
   {
    "duration": 118,
    "start_time": "2022-03-08T09:41:04.589Z"
   },
   {
    "duration": 11,
    "start_time": "2022-03-08T09:41:04.709Z"
   },
   {
    "duration": 12,
    "start_time": "2022-03-08T09:41:04.724Z"
   },
   {
    "duration": 11,
    "start_time": "2022-03-08T09:41:04.738Z"
   },
   {
    "duration": 7,
    "start_time": "2022-03-08T09:41:04.750Z"
   },
   {
    "duration": 46,
    "start_time": "2022-03-08T09:41:04.759Z"
   },
   {
    "duration": 10,
    "start_time": "2022-03-08T09:41:04.806Z"
   }
  ],
  "kernelspec": {
   "display_name": "Python 3 (ipykernel)",
   "language": "python",
   "name": "python3"
  },
  "language_info": {
   "codemirror_mode": {
    "name": "ipython",
    "version": 3
   },
   "file_extension": ".py",
   "mimetype": "text/x-python",
   "name": "python",
   "nbconvert_exporter": "python",
   "pygments_lexer": "ipython3",
   "version": "3.9.12"
  },
  "toc": {
   "base_numbering": 1,
   "nav_menu": {},
   "number_sections": true,
   "sideBar": true,
   "skip_h1_title": true,
   "title_cell": "Table of Contents",
   "title_sidebar": "Contents",
   "toc_cell": false,
   "toc_position": {
    "height": "calc(100% - 180px)",
    "left": "10px",
    "top": "150px",
    "width": "290.391px"
   },
   "toc_section_display": true,
   "toc_window_display": true
  }
 },
 "nbformat": 4,
 "nbformat_minor": 2
}
